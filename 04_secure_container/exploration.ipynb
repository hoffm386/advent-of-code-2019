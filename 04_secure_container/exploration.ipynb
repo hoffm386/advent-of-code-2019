{
 "cells": [
  {
   "cell_type": "markdown",
   "metadata": {},
   "source": [
    "# Part 1 Prompt"
   ]
  },
  {
   "cell_type": "raw",
   "metadata": {},
   "source": [
    "--- Day 4: Secure Container ---\n",
    "You arrive at the Venus fuel depot only to discover it's protected by a password. The Elves had written the password on a sticky note, but someone threw it out.\n",
    "\n",
    "However, they do remember a few key facts about the password:\n",
    "\n",
    "It is a six-digit number.\n",
    "The value is within the range given in your puzzle input.\n",
    "Two adjacent digits are the same (like 22 in 122345).\n",
    "Going from left to right, the digits never decrease; they only ever increase or stay the same (like 111123 or 135679).\n",
    "Other than the range rule, the following are true:\n",
    "\n",
    "111111 meets these criteria (double 11, never decreases).\n",
    "223450 does not meet these criteria (decreasing pair of digits 50).\n",
    "123789 does not meet these criteria (no double).\n",
    "How many different passwords within the range given in your puzzle input meet these criteria?"
   ]
  },
  {
   "cell_type": "raw",
   "metadata": {},
   "source": [
    "Your puzzle input is 254032-789860"
   ]
  },
  {
   "cell_type": "markdown",
   "metadata": {},
   "source": [
    "Again, I'm looking at this and wondering if there is an elegant/mathematical solution, but the easiest approach seems to be brute force.  We're talking about 500k numbers, doing pairwise comparisons of 6 digits each, that's loops in the millions, which is going to take a bit of time but not an impossible amount"
   ]
  },
  {
   "cell_type": "markdown",
   "metadata": {},
   "source": [
    "Let's do a test of a smaller range:"
   ]
  },
  {
   "cell_type": "code",
   "execution_count": 2,
   "metadata": {},
   "outputs": [],
   "source": [
    "valid_numbers = []\n",
    "for number in range(254032, 254042):\n",
    "    # I don't think leading zeroes are a thing, so we can do this hack\n",
    "    digits = [int(digit) for digit in str(number)]\n",
    "    \n",
    "    found_double = False\n",
    "    found_decrease = False\n",
    "    \n",
    "    for index, digit in enumerate(digits):\n",
    "        # if not at the end, compare with the one after it\n",
    "        if index != 5:\n",
    "            next_digit = digits[index + 1]\n",
    "            if digit == next_digit:\n",
    "                found_double = True\n",
    "            elif digit > next_digit:\n",
    "                found_decrease = True\n",
    "                # no need to keep going, this is already invalid\n",
    "                break\n",
    "                \n",
    "    if found_double and not found_decrease:\n",
    "        valid_numbers.append(number)"
   ]
  },
  {
   "cell_type": "code",
   "execution_count": 3,
   "metadata": {},
   "outputs": [
    {
     "data": {
      "text/plain": [
       "[]"
      ]
     },
     "execution_count": 3,
     "metadata": {},
     "output_type": "execute_result"
    }
   ],
   "source": [
    "valid_numbers"
   ]
  },
  {
   "cell_type": "markdown",
   "metadata": {},
   "source": [
    "Good, they all started with 254, which violates the non-decreasing rule"
   ]
  },
  {
   "cell_type": "code",
   "execution_count": 4,
   "metadata": {},
   "outputs": [],
   "source": [
    "def is_number_valid(number):\n",
    "    # I don't think leading zeroes are a thing, so we can do this hack\n",
    "    digits = [int(digit) for digit in str(number)]\n",
    "    \n",
    "    found_double = False\n",
    "    found_decrease = False\n",
    "    \n",
    "    for index, digit in enumerate(digits):\n",
    "        # if not at the end, compare with the one after it\n",
    "        if index != 5:\n",
    "            next_digit = digits[index + 1]\n",
    "            if digit == next_digit:\n",
    "                found_double = True\n",
    "            elif digit > next_digit:\n",
    "                found_decrease = True\n",
    "                # no need to keep going, this is already invalid\n",
    "                break\n",
    "                \n",
    "    return found_double and not found_decrease"
   ]
  },
  {
   "cell_type": "code",
   "execution_count": 5,
   "metadata": {},
   "outputs": [
    {
     "data": {
      "text/plain": [
       "True"
      ]
     },
     "execution_count": 5,
     "metadata": {},
     "output_type": "execute_result"
    }
   ],
   "source": [
    "is_number_valid(111111)"
   ]
  },
  {
   "cell_type": "code",
   "execution_count": 6,
   "metadata": {},
   "outputs": [
    {
     "data": {
      "text/plain": [
       "False"
      ]
     },
     "execution_count": 6,
     "metadata": {},
     "output_type": "execute_result"
    }
   ],
   "source": [
    "is_number_valid(223450)"
   ]
  },
  {
   "cell_type": "code",
   "execution_count": 7,
   "metadata": {},
   "outputs": [
    {
     "data": {
      "text/plain": [
       "False"
      ]
     },
     "execution_count": 7,
     "metadata": {},
     "output_type": "execute_result"
    }
   ],
   "source": [
    "is_number_valid(123789)"
   ]
  },
  {
   "cell_type": "markdown",
   "metadata": {},
   "source": [
    "Ok let's do it"
   ]
  },
  {
   "cell_type": "code",
   "execution_count": 8,
   "metadata": {},
   "outputs": [],
   "source": [
    "counter = 0\n",
    "for number in range(254032, 789860):\n",
    "    if is_number_valid(number):\n",
    "        counter += 1"
   ]
  },
  {
   "cell_type": "code",
   "execution_count": 9,
   "metadata": {},
   "outputs": [
    {
     "data": {
      "text/plain": [
       "1033"
      ]
     },
     "execution_count": 9,
     "metadata": {},
     "output_type": "execute_result"
    }
   ],
   "source": [
    "counter"
   ]
  },
  {
   "cell_type": "markdown",
   "metadata": {},
   "source": [
    "That worked!"
   ]
  },
  {
   "cell_type": "markdown",
   "metadata": {},
   "source": [
    "# Part 2 Prompt"
   ]
  },
  {
   "cell_type": "raw",
   "metadata": {},
   "source": [
    "--- Part Two ---\n",
    "An Elf just remembered one more important detail: the two adjacent matching digits are not part of a larger group of matching digits.\n",
    "\n",
    "Given this additional criterion, but still ignoring the range rule, the following are now true:\n",
    "\n",
    "112233 meets these criteria because the digits never decrease and all repeated digits are exactly two digits long.\n",
    "123444 no longer meets the criteria (the repeated 44 is part of a larger group of 444).\n",
    "111122 meets the criteria (even though 1 is repeated more than twice, it still contains a double 22).\n",
    "How many different passwords within the range given in your puzzle input meet all of the criteria?"
   ]
  },
  {
   "cell_type": "markdown",
   "metadata": {},
   "source": [
    "I'm skeptical because this seems too easy compared to yesterday?  Just need to check in front of and behind the doubled digit, to make sure it is only a double and not a triple"
   ]
  },
  {
   "cell_type": "code",
   "execution_count": 16,
   "metadata": {},
   "outputs": [],
   "source": [
    "def is_number_valid_new_rules(number):\n",
    "    # I don't think leading zeroes are a thing, so we can do this hack\n",
    "    digits = [int(digit) for digit in str(number)]\n",
    "    \n",
    "    found_double = False\n",
    "    found_decrease = False\n",
    "    \n",
    "    for index, digit in enumerate(digits):\n",
    "        # if not at the end, compare with the one after it\n",
    "        if index != 5:\n",
    "            next_digit = digits[index + 1]\n",
    "            if digit == next_digit:\n",
    "                \n",
    "                # now a double only counts if it's not part of a triple\n",
    "                longer_than_double = False\n",
    "                # check in front if we're not at the beginning\n",
    "                if index > 0:\n",
    "                    previous_digit = digits[index - 1]\n",
    "                    if digit == previous_digit:\n",
    "                        longer_than_double = True\n",
    "                # check after if we're not at the end\n",
    "                if index < 4:\n",
    "                    next_next_digit = digits[index + 2]\n",
    "                    if digit == next_next_digit:\n",
    "                        longer_than_double = True\n",
    "                \n",
    "                if not longer_than_double:\n",
    "                    found_double = True\n",
    "            elif digit > next_digit:\n",
    "                found_decrease = True\n",
    "                # no need to keep going, this is already invalid\n",
    "                break\n",
    "                \n",
    "    return found_double and not found_decrease"
   ]
  },
  {
   "cell_type": "code",
   "execution_count": 11,
   "metadata": {},
   "outputs": [
    {
     "data": {
      "text/plain": [
       "True"
      ]
     },
     "execution_count": 11,
     "metadata": {},
     "output_type": "execute_result"
    }
   ],
   "source": [
    "is_number_valid_new_rules(112233)"
   ]
  },
  {
   "cell_type": "code",
   "execution_count": 12,
   "metadata": {},
   "outputs": [
    {
     "data": {
      "text/plain": [
       "False"
      ]
     },
     "execution_count": 12,
     "metadata": {},
     "output_type": "execute_result"
    }
   ],
   "source": [
    "is_number_valid_new_rules(123444)"
   ]
  },
  {
   "cell_type": "code",
   "execution_count": 13,
   "metadata": {},
   "outputs": [
    {
     "data": {
      "text/plain": [
       "True"
      ]
     },
     "execution_count": 13,
     "metadata": {},
     "output_type": "execute_result"
    }
   ],
   "source": [
    "is_number_valid_new_rules(111122)"
   ]
  },
  {
   "cell_type": "markdown",
   "metadata": {},
   "source": [
    "Let's run it"
   ]
  },
  {
   "cell_type": "code",
   "execution_count": 14,
   "metadata": {},
   "outputs": [],
   "source": [
    "counter = 0\n",
    "for number in range(254032, 789860):\n",
    "    if is_number_valid_new_rules(number):\n",
    "        counter += 1"
   ]
  },
  {
   "cell_type": "code",
   "execution_count": 15,
   "metadata": {},
   "outputs": [
    {
     "data": {
      "text/plain": [
       "286"
      ]
     },
     "execution_count": 15,
     "metadata": {},
     "output_type": "execute_result"
    }
   ],
   "source": [
    "counter"
   ]
  },
  {
   "cell_type": "raw",
   "metadata": {},
   "source": [
    "That's not the right answer; your answer is too low. If you're stuck, make sure you're using the full input data; there are also some general tips on the about page, or you can ask for hints on the subreddit. Please wait one minute before trying again. (You guessed 286.)"
   ]
  },
  {
   "cell_type": "markdown",
   "metadata": {},
   "source": [
    "Oops, I had + 1 instead of + 2 on next next, so I only found the ones where the last two digits fulfilled the double requirement"
   ]
  },
  {
   "cell_type": "code",
   "execution_count": 17,
   "metadata": {},
   "outputs": [],
   "source": [
    "counter = 0\n",
    "for number in range(254032, 789860):\n",
    "    if is_number_valid_new_rules(number):\n",
    "        counter += 1"
   ]
  },
  {
   "cell_type": "code",
   "execution_count": 18,
   "metadata": {},
   "outputs": [
    {
     "data": {
      "text/plain": [
       "670"
      ]
     },
     "execution_count": 18,
     "metadata": {},
     "output_type": "execute_result"
    }
   ],
   "source": [
    "counter"
   ]
  },
  {
   "cell_type": "markdown",
   "metadata": {},
   "source": [
    "Ok, that was the right answer, cool"
   ]
  },
  {
   "cell_type": "code",
   "execution_count": null,
   "metadata": {},
   "outputs": [],
   "source": []
  }
 ],
 "metadata": {
  "kernelspec": {
   "display_name": "Python 3",
   "language": "python",
   "name": "python3"
  },
  "language_info": {
   "codemirror_mode": {
    "name": "ipython",
    "version": 3
   },
   "file_extension": ".py",
   "mimetype": "text/x-python",
   "name": "python",
   "nbconvert_exporter": "python",
   "pygments_lexer": "ipython3",
   "version": "3.7.3"
  }
 },
 "nbformat": 4,
 "nbformat_minor": 4
}

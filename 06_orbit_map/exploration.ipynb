{
 "cells": [
  {
   "cell_type": "markdown",
   "metadata": {},
   "source": [
    "# Part 1 Prompt"
   ]
  },
  {
   "cell_type": "raw",
   "metadata": {},
   "source": [
    "--- Day 6: Universal Orbit Map ---\n",
    "You've landed at the Universal Orbit Map facility on Mercury. Because navigation in space often involves transferring between orbits, the orbit maps here are useful for finding efficient routes between, for example, you and Santa. You download a map of the local orbits (your puzzle input).\n",
    "\n",
    "Except for the universal Center of Mass (COM), every object in space is in orbit around exactly one other object. An orbit looks roughly like this:"
   ]
  },
  {
   "cell_type": "raw",
   "metadata": {},
   "source": [
    "                  \\\n",
    "                   \\\n",
    "                    |\n",
    "                    |\n",
    "AAA--> o            o <--BBB\n",
    "                    |\n",
    "                    |\n",
    "                   /\n",
    "                  /"
   ]
  },
  {
   "cell_type": "raw",
   "metadata": {},
   "source": [
    "In this diagram, the object BBB is in orbit around AAA. The path that BBB takes around AAA (drawn with lines) is only partly shown. In the map data, this orbital relationship is written AAA)BBB, which means \"BBB is in orbit around AAA\"."
   ]
  },
  {
   "cell_type": "raw",
   "metadata": {},
   "source": [
    "Before you use your map data to plot a course, you need to make sure it wasn't corrupted during the download. To verify maps, the Universal Orbit Map facility uses orbit count checksums - the total number of direct orbits (like the one shown above) and indirect orbits.\n",
    "\n",
    "Whenever A orbits B and B orbits C, then A indirectly orbits C. This chain can be any number of objects long: if A orbits B, B orbits C, and C orbits D, then A indirectly orbits D."
   ]
  },
  {
   "cell_type": "raw",
   "metadata": {},
   "source": [
    "For example, suppose you have the following map:\n",
    "\n",
    "COM)B\n",
    "B)C\n",
    "C)D\n",
    "D)E\n",
    "E)F\n",
    "B)G\n",
    "G)H\n",
    "D)I\n",
    "E)J\n",
    "J)K\n",
    "K)L\n",
    "\n",
    "Visually, the above map of orbits looks like this:\n",
    "\n",
    "        G - H       J - K - L\n",
    "       /           /\n",
    "COM - B - C - D - E - F\n",
    "               \\\n",
    "                I"
   ]
  },
  {
   "cell_type": "raw",
   "metadata": {},
   "source": [
    "In this visual representation, when two objects are connected by a line, the one on the right directly orbits the one on the left.\n",
    "\n",
    "Here, we can count the total number of orbits as follows:\n",
    "\n",
    "D directly orbits C and indirectly orbits B and COM, a total of 3 orbits.\n",
    "L directly orbits K and indirectly orbits J, E, D, C, B, and COM, a total of 7 orbits.\n",
    "COM orbits nothing.\n",
    "The total number of direct and indirect orbits in this example is 42.\n",
    "\n",
    "What is the total number of direct and indirect orbits in your map data?"
   ]
  },
  {
   "cell_type": "markdown",
   "metadata": {},
   "source": [
    "Ok, this is a tree problem.  The language used here is about \"directly orbits\" but it seems that this is a parent/child branching relationship.  Then you have to traverse the tree in a kind of weird way, starting from each node and traversing up to the root."
   ]
  },
  {
   "cell_type": "markdown",
   "metadata": {},
   "source": [
    "I think a tree problem calls for classes"
   ]
  },
  {
   "cell_type": "code",
   "execution_count": 21,
   "metadata": {},
   "outputs": [],
   "source": [
    "class Node:\n",
    "    def __init__(self, name):\n",
    "        self.name = name\n",
    "        self.children = []\n",
    "        \n",
    "    def append_child(self, child_node):\n",
    "        self.children.append(child_node)\n",
    "        \n",
    "    def __repr__(self):\n",
    "        return f\"< {self.name} >\"\n",
    "        "
   ]
  },
  {
   "cell_type": "code",
   "execution_count": 22,
   "metadata": {},
   "outputs": [],
   "source": [
    "all_nodes = []"
   ]
  },
  {
   "cell_type": "code",
   "execution_count": 23,
   "metadata": {},
   "outputs": [],
   "source": [
    "example_input = \"\"\"COM)B\n",
    "B)C\n",
    "C)D\n",
    "D)E\n",
    "E)F\n",
    "B)G\n",
    "G)H\n",
    "D)I\n",
    "E)J\n",
    "J)K\n",
    "K)L\"\"\""
   ]
  },
  {
   "cell_type": "code",
   "execution_count": 24,
   "metadata": {},
   "outputs": [
    {
     "data": {
      "text/plain": [
       "'COM)B\\nB)C\\nC)D\\nD)E\\nE)F\\nB)G\\nG)H\\nD)I\\nE)J\\nJ)K\\nK)L'"
      ]
     },
     "execution_count": 24,
     "metadata": {},
     "output_type": "execute_result"
    }
   ],
   "source": [
    "example_input"
   ]
  },
  {
   "cell_type": "code",
   "execution_count": 25,
   "metadata": {},
   "outputs": [
    {
     "data": {
      "text/plain": [
       "['COM)B', 'B)C', 'C)D', 'D)E', 'E)F', 'B)G', 'G)H', 'D)I', 'E)J', 'J)K', 'K)L']"
      ]
     },
     "execution_count": 25,
     "metadata": {},
     "output_type": "execute_result"
    }
   ],
   "source": [
    "connections = example_input.split(\"\\n\")\n",
    "connections"
   ]
  },
  {
   "cell_type": "code",
   "execution_count": 26,
   "metadata": {},
   "outputs": [],
   "source": [
    "for connection in connections:\n",
    "    parent_name, child_name = connection.split(\")\")\n",
    "    \n",
    "    # assume that the necessary nodes have not been created yet\n",
    "    parent_node_in_list = False\n",
    "    child_node_in_list = False\n",
    "    \n",
    "    # check through the list to see if they already exist\n",
    "    for node in all_nodes:\n",
    "        if node.name == parent_name:\n",
    "            parent_node = node\n",
    "            parent_node_in_list = True\n",
    "            break\n",
    "        elif node.name == child_name:\n",
    "            child_node = node\n",
    "            child_node_in_list = True\n",
    "            break\n",
    "    \n",
    "    # if it wasn't in the list, create it and add it to the list\n",
    "    if not parent_node_in_list:\n",
    "        parent_node = Node(parent_name)\n",
    "        all_nodes.append(parent_node)\n",
    "    if not child_node_in_list:\n",
    "        child_node = Node(child_name)\n",
    "        all_nodes.append(child_node)\n",
    "    \n",
    "    parent_node.append_child(child_node)"
   ]
  },
  {
   "cell_type": "code",
   "execution_count": 27,
   "metadata": {},
   "outputs": [
    {
     "data": {
      "text/plain": [
       "[< COM >,\n",
       " < B >,\n",
       " < C >,\n",
       " < D >,\n",
       " < E >,\n",
       " < F >,\n",
       " < G >,\n",
       " < H >,\n",
       " < I >,\n",
       " < J >,\n",
       " < K >,\n",
       " < L >]"
      ]
     },
     "execution_count": 27,
     "metadata": {},
     "output_type": "execute_result"
    }
   ],
   "source": [
    "all_nodes"
   ]
  },
  {
   "cell_type": "markdown",
   "metadata": {},
   "source": [
    "Ok I'm going to override `__repr__`"
   ]
  },
  {
   "cell_type": "markdown",
   "metadata": {},
   "source": [
    "That looks better"
   ]
  },
  {
   "cell_type": "code",
   "execution_count": 28,
   "metadata": {},
   "outputs": [
    {
     "data": {
      "text/plain": [
       "< COM >"
      ]
     },
     "execution_count": 28,
     "metadata": {},
     "output_type": "execute_result"
    }
   ],
   "source": [
    "all_nodes[0]"
   ]
  },
  {
   "cell_type": "code",
   "execution_count": 29,
   "metadata": {},
   "outputs": [
    {
     "data": {
      "text/plain": [
       "[< B >]"
      ]
     },
     "execution_count": 29,
     "metadata": {},
     "output_type": "execute_result"
    }
   ],
   "source": [
    "all_nodes[0].children"
   ]
  },
  {
   "cell_type": "code",
   "execution_count": 30,
   "metadata": {},
   "outputs": [
    {
     "data": {
      "text/plain": [
       "< B >"
      ]
     },
     "execution_count": 30,
     "metadata": {},
     "output_type": "execute_result"
    }
   ],
   "source": [
    "all_nodes[0].children[0]"
   ]
  },
  {
   "cell_type": "code",
   "execution_count": 31,
   "metadata": {},
   "outputs": [
    {
     "data": {
      "text/plain": [
       "[< C >, < G >]"
      ]
     },
     "execution_count": 31,
     "metadata": {},
     "output_type": "execute_result"
    }
   ],
   "source": [
    "all_nodes[0].children[0].children"
   ]
  },
  {
   "cell_type": "markdown",
   "metadata": {},
   "source": [
    "Ok, the data structure looks good.  Now to traverse it.  No reason to do a breadth-first traversal, is there?  So I think depth-first traversal, which means I need a recursive function"
   ]
  },
  {
   "cell_type": "markdown",
   "metadata": {},
   "source": [
    "Let's do an example with a simpler tree, I can't get this to work just in my head"
   ]
  },
  {
   "cell_type": "raw",
   "metadata": {},
   "source": [
    "        G - H      \n",
    "       /          \n",
    "COM - B - C "
   ]
  },
  {
   "cell_type": "markdown",
   "metadata": {},
   "source": [
    " - COM: orbits nothing\n",
    " - B: orbits 1\n",
    " - G: orbits 2 (via B)\n",
    " - H: orbits 3 (via G, B)\n",
    " - C: orbits 2 (via B)\n",
    "\n",
    "So, each node adds its depth to the total"
   ]
  },
  {
   "cell_type": "code",
   "execution_count": 32,
   "metadata": {},
   "outputs": [],
   "source": [
    "def traverse_tree(current_node, current_depth):\n",
    "    child_depths = 0\n",
    "    for child in current_node.children:\n",
    "        child_depths += traverse_tree(child, current_depth + 1)\n",
    "    return current_depth + child_depths"
   ]
  },
  {
   "cell_type": "code",
   "execution_count": 34,
   "metadata": {},
   "outputs": [],
   "source": [
    "current_depth = 0\n",
    "root_node = all_nodes[0]\n",
    "total_orbits = traverse_tree(root_node, current_depth)"
   ]
  },
  {
   "cell_type": "code",
   "execution_count": 35,
   "metadata": {},
   "outputs": [
    {
     "data": {
      "text/plain": [
       "42"
      ]
     },
     "execution_count": 35,
     "metadata": {},
     "output_type": "execute_result"
    }
   ],
   "source": [
    "total_orbits"
   ]
  },
  {
   "cell_type": "markdown",
   "metadata": {},
   "source": [
    "Ok, let's make sure that it can dynamically find the root"
   ]
  },
  {
   "cell_type": "code",
   "execution_count": 37,
   "metadata": {},
   "outputs": [
    {
     "data": {
      "text/plain": [
       "[< COM >,\n",
       " < B >,\n",
       " < C >,\n",
       " < D >,\n",
       " < E >,\n",
       " < F >,\n",
       " < G >,\n",
       " < H >,\n",
       " < I >,\n",
       " < J >,\n",
       " < K >,\n",
       " < L >]"
      ]
     },
     "execution_count": 37,
     "metadata": {},
     "output_type": "execute_result"
    }
   ],
   "source": [
    "all_nodes"
   ]
  },
  {
   "cell_type": "code",
   "execution_count": 38,
   "metadata": {},
   "outputs": [],
   "source": [
    "center_of_mass = None\n",
    "for node in all_nodes:\n",
    "    if node.name == \"COM\":\n",
    "        center_of_mass = node\n",
    "        break"
   ]
  },
  {
   "cell_type": "code",
   "execution_count": 39,
   "metadata": {},
   "outputs": [
    {
     "data": {
      "text/plain": [
       "42"
      ]
     },
     "execution_count": 39,
     "metadata": {},
     "output_type": "execute_result"
    }
   ],
   "source": [
    "traverse_tree(center_of_mass, 0)"
   ]
  },
  {
   "cell_type": "markdown",
   "metadata": {},
   "source": [
    "Cool cool, put everything in a function"
   ]
  },
  {
   "cell_type": "code",
   "execution_count": 70,
   "metadata": {},
   "outputs": [],
   "source": [
    "def insert_or_update(parent_name, child_name, all_nodes):\n",
    "    # assume that the necessary nodes have not been created yet\n",
    "    parent_node_in_list = False\n",
    "    child_node_in_list = False\n",
    "    \n",
    "    # check through the list to see if they already exist\n",
    "    for node in all_nodes:\n",
    "        if node.name == parent_name:\n",
    "            parent_node = node\n",
    "            parent_node_in_list = True\n",
    "        elif node.name == child_name:\n",
    "            child_node = node\n",
    "            child_node_in_list = True\n",
    "    \n",
    "    # if it wasn't in the list, create it and add it to the list\n",
    "    if not parent_node_in_list:\n",
    "        parent_node = Node(parent_name)\n",
    "        all_nodes.append(parent_node)\n",
    "    if not child_node_in_list:\n",
    "        child_node = Node(child_name)\n",
    "        all_nodes.append(child_node)\n",
    "    \n",
    "    parent_node.append_child(child_node)"
   ]
  },
  {
   "cell_type": "code",
   "execution_count": 75,
   "metadata": {},
   "outputs": [],
   "source": [
    "def build_node_list(input_str):\n",
    "    connections = input_str.split(\"\\n\")\n",
    "    all_nodes = []\n",
    "    for connection in connections:\n",
    "        parent_name, child_name = connection.split(\")\")\n",
    "        insert_or_update(parent_name, child_name, all_nodes)\n",
    "    return all_nodes"
   ]
  },
  {
   "cell_type": "code",
   "execution_count": 76,
   "metadata": {},
   "outputs": [],
   "source": [
    "def count_orbits(input_str):\n",
    "    all_nodes = build_node_list(input_str)\n",
    "        \n",
    "    center_of_mass = None\n",
    "    for node in all_nodes:\n",
    "        if node.name == \"COM\":\n",
    "            center_of_mass = node\n",
    "            break\n",
    "            \n",
    "    return traverse_tree(center_of_mass, 0), center_of_mass, all_nodes"
   ]
  },
  {
   "cell_type": "code",
   "execution_count": 43,
   "metadata": {},
   "outputs": [
    {
     "data": {
      "text/plain": [
       "42"
      ]
     },
     "execution_count": 43,
     "metadata": {},
     "output_type": "execute_result"
    }
   ],
   "source": [
    "count_orbits(example_input)"
   ]
  },
  {
   "cell_type": "code",
   "execution_count": 44,
   "metadata": {},
   "outputs": [],
   "source": [
    "file_obj = open(\"input.txt\")\n",
    "full_input = file_obj.read()"
   ]
  },
  {
   "cell_type": "code",
   "execution_count": 45,
   "metadata": {},
   "outputs": [],
   "source": [
    "file_obj.close()"
   ]
  },
  {
   "cell_type": "code",
   "execution_count": 47,
   "metadata": {},
   "outputs": [],
   "source": [
    "full_input = full_input.strip()"
   ]
  },
  {
   "cell_type": "code",
   "execution_count": 59,
   "metadata": {},
   "outputs": [],
   "source": [
    "orbits, center_of_mass, all_nodes = count_orbits(full_input)"
   ]
  },
  {
   "cell_type": "code",
   "execution_count": 60,
   "metadata": {},
   "outputs": [
    {
     "data": {
      "text/plain": [
       "1"
      ]
     },
     "execution_count": 60,
     "metadata": {},
     "output_type": "execute_result"
    }
   ],
   "source": [
    "orbits"
   ]
  },
  {
   "cell_type": "markdown",
   "metadata": {},
   "source": [
    "lolwut"
   ]
  },
  {
   "cell_type": "code",
   "execution_count": 63,
   "metadata": {},
   "outputs": [
    {
     "data": {
      "text/plain": [
       "[]"
      ]
     },
     "execution_count": 63,
     "metadata": {},
     "output_type": "execute_result"
    }
   ],
   "source": [
    "center_of_mass.children[0].children"
   ]
  },
  {
   "cell_type": "markdown",
   "metadata": {},
   "source": [
    "So CPF is not getting added as a child of PWZ"
   ]
  },
  {
   "cell_type": "markdown",
   "metadata": {},
   "source": [
    "Now is when I want an actual debugger and I'm annoyed that I'm in a Jupyter Notebook..."
   ]
  },
  {
   "cell_type": "code",
   "execution_count": 67,
   "metadata": {},
   "outputs": [
    {
     "name": "stdout",
     "output_type": "stream",
     "text": [
      "< CPF >\n"
     ]
    }
   ],
   "source": [
    "for node in all_nodes:\n",
    "    if node.name == \"CPF\":\n",
    "        print(node)\n",
    "        cpf = node"
   ]
  },
  {
   "cell_type": "code",
   "execution_count": 69,
   "metadata": {},
   "outputs": [
    {
     "data": {
      "text/plain": [
       "[< DH3 >]"
      ]
     },
     "execution_count": 69,
     "metadata": {},
     "output_type": "execute_result"
    }
   ],
   "source": [
    "cpf.children"
   ]
  },
  {
   "cell_type": "code",
   "execution_count": 72,
   "metadata": {},
   "outputs": [],
   "source": [
    "orbits, center_of_mass, all_nodes = count_orbits(full_input)"
   ]
  },
  {
   "cell_type": "code",
   "execution_count": 73,
   "metadata": {},
   "outputs": [
    {
     "data": {
      "text/plain": [
       "271151"
      ]
     },
     "execution_count": 73,
     "metadata": {},
     "output_type": "execute_result"
    }
   ],
   "source": [
    "orbits"
   ]
  },
  {
   "cell_type": "markdown",
   "metadata": {},
   "source": [
    "So, what was wrong was that I short-circuited by adding `break`s that assumed that only the parent or the child would be new information, which was true of the simple example, but not the full example.  Removing the breaks fixed it"
   ]
  },
  {
   "cell_type": "markdown",
   "metadata": {},
   "source": [
    "# Part 2 Prompt"
   ]
  },
  {
   "cell_type": "raw",
   "metadata": {},
   "source": [
    "--- Part Two ---\n",
    "Now, you just need to figure out how many orbital transfers you (YOU) need to take to get to Santa (SAN).\n",
    "\n",
    "You start at the object YOU are orbiting; your destination is the object SAN is orbiting. An orbital transfer lets you move from any object to an object orbiting or orbited by that object."
   ]
  },
  {
   "cell_type": "raw",
   "metadata": {},
   "source": [
    "For example, suppose you have the following map:\n",
    "\n",
    "COM)B\n",
    "B)C\n",
    "C)D\n",
    "D)E\n",
    "E)F\n",
    "B)G\n",
    "G)H\n",
    "D)I\n",
    "E)J\n",
    "J)K\n",
    "K)L\n",
    "K)YOU\n",
    "I)SAN\n",
    "\n",
    "Visually, the above map of orbits looks like this:\n",
    "\n",
    "                          YOU\n",
    "                         /\n",
    "        G - H       J - K - L\n",
    "       /           /\n",
    "COM - B - C - D - E - F\n",
    "               \\\n",
    "                I - SAN"
   ]
  },
  {
   "cell_type": "raw",
   "metadata": {},
   "source": [
    "In this example, YOU are in orbit around K, and SAN is in orbit around I. To move from K to I, a minimum of 4 orbital transfers are required:\n",
    "\n",
    "K to J\n",
    "J to E\n",
    "E to D\n",
    "D to I\n",
    "\n",
    "Afterward, the map of orbits looks like this:\n",
    "\n",
    "        G - H       J - K - L\n",
    "       /           /\n",
    "COM - B - C - D - E - F\n",
    "               \\\n",
    "                I - SAN\n",
    "                 \\\n",
    "                  YOU"
   ]
  },
  {
   "cell_type": "raw",
   "metadata": {},
   "source": [
    "What is the minimum number of orbital transfers required to move from the object YOU are orbiting to the object SAN is orbiting? (Between the objects they are orbiting - not between YOU and SAN.)"
   ]
  },
  {
   "cell_type": "markdown",
   "metadata": {},
   "source": [
    "Boo this is a distance between nodes problem.\n",
    "\n",
    "General algorithm is to find the first shared ancestor, then the distance is the distance from the shared ancestor to `YOU` plus the distance from the shared ancestor to `SAN`.  Modified slightly so it only has to go from your parent to `SAN`'s parent, maybe to stop people from just copying an algorithm they don't understand.\n",
    "\n",
    "Boo because this is going to take some thinking as a generalized tree problem instead of a binary tree problem like it usually is."
   ]
  },
  {
   "cell_type": "markdown",
   "metadata": {},
   "source": [
    "### Finding the Shared Ancestor"
   ]
  },
  {
   "cell_type": "markdown",
   "metadata": {},
   "source": [
    "Start at the root of the tree.  Baseline assumption is that the root is a shared ancestor of the two nodes, and next you have to check each of the root's children to see if they are also a shared ancestor.  It it's not a malformed tree, at most one of the root's children will be a shared ancestor of both nodes.  Keep going until no single child of the current root is a shared ancestor."
   ]
  },
  {
   "cell_type": "code",
   "execution_count": 77,
   "metadata": {},
   "outputs": [],
   "source": [
    "part_2_example = \"\"\"COM)B\n",
    "B)C\n",
    "C)D\n",
    "D)E\n",
    "E)F\n",
    "B)G\n",
    "G)H\n",
    "D)I\n",
    "E)J\n",
    "J)K\n",
    "K)L\n",
    "K)YOU\n",
    "I)SAN\"\"\"\n",
    "all_nodes = build_node_list(part_2_example)"
   ]
  },
  {
   "cell_type": "code",
   "execution_count": 78,
   "metadata": {},
   "outputs": [
    {
     "data": {
      "text/plain": [
       "[< COM >,\n",
       " < B >,\n",
       " < C >,\n",
       " < D >,\n",
       " < E >,\n",
       " < F >,\n",
       " < G >,\n",
       " < H >,\n",
       " < I >,\n",
       " < J >,\n",
       " < K >,\n",
       " < L >,\n",
       " < YOU >,\n",
       " < SAN >]"
      ]
     },
     "execution_count": 78,
     "metadata": {},
     "output_type": "execute_result"
    }
   ],
   "source": [
    "all_nodes"
   ]
  },
  {
   "cell_type": "code",
   "execution_count": 80,
   "metadata": {},
   "outputs": [],
   "source": [
    "# here we know this, in the future we will have to loop through and find it\n",
    "root = all_nodes[0]\n",
    "you_name = \"K\"\n",
    "santa_name = \"I\""
   ]
  },
  {
   "cell_type": "code",
   "execution_count": 84,
   "metadata": {},
   "outputs": [],
   "source": [
    "def is_ancestor(current_node, search_name):\n",
    "    for node in current_node.children:\n",
    "        if node.name == search_name:\n",
    "            return True\n",
    "        elif is_ancestor(node, search_name):\n",
    "            return True\n",
    "    return False"
   ]
  },
  {
   "cell_type": "code",
   "execution_count": 85,
   "metadata": {},
   "outputs": [
    {
     "data": {
      "text/plain": [
       "True"
      ]
     },
     "execution_count": 85,
     "metadata": {},
     "output_type": "execute_result"
    }
   ],
   "source": [
    "is_ancestor(root, you_name)"
   ]
  },
  {
   "cell_type": "code",
   "execution_count": 86,
   "metadata": {},
   "outputs": [
    {
     "data": {
      "text/plain": [
       "False"
      ]
     },
     "execution_count": 86,
     "metadata": {},
     "output_type": "execute_result"
    }
   ],
   "source": [
    "is_ancestor(root, \"hello, world\")"
   ]
  },
  {
   "cell_type": "code",
   "execution_count": 87,
   "metadata": {},
   "outputs": [],
   "source": [
    "def find_lowest_common_ancestor(current_node, you_name, santa_name):\n",
    "    for node in current_node.children:\n",
    "        if is_ancestor(node, you_name) and is_ancestor(node, santa_name):\n",
    "            return find_lowest_common_ancestor(node, you_name, santa_name)\n",
    "    \n",
    "    return current_node"
   ]
  },
  {
   "cell_type": "code",
   "execution_count": 88,
   "metadata": {},
   "outputs": [
    {
     "data": {
      "text/plain": [
       "< D >"
      ]
     },
     "execution_count": 88,
     "metadata": {},
     "output_type": "execute_result"
    }
   ],
   "source": [
    "find_lowest_common_ancestor(root, you_name, santa_name)"
   ]
  },
  {
   "cell_type": "markdown",
   "metadata": {},
   "source": [
    "Ok, looks like we are successfully finding the lowest common ancestor.  Now we have the option to start from that ancestor and traverse downwards in both directions, but a faster/better implementation would be to re-write `is_ancestor` so it tells you the distance and returns -1 if the search name was not found.  So then you only have to traverse down to both `YOU` and `SAN` once"
   ]
  },
  {
   "cell_type": "code",
   "execution_count": 89,
   "metadata": {},
   "outputs": [],
   "source": [
    "def orbital_distance_if_exists(current_node, search_name, current_depth):\n",
    "    for node in current_node.children:\n",
    "        if node.name == search_name:\n",
    "            return current_depth\n",
    "        distance_if_exists = orbital_distance_if_exists(node, search_name, current_depth + 1)\n",
    "        if distance_if_exists != -1:\n",
    "            return distance_if_exists\n",
    "    return -1"
   ]
  },
  {
   "cell_type": "code",
   "execution_count": 91,
   "metadata": {},
   "outputs": [
    {
     "data": {
      "text/plain": [
       "6"
      ]
     },
     "execution_count": 91,
     "metadata": {},
     "output_type": "execute_result"
    }
   ],
   "source": [
    "orbital_distance_if_exists(root, you_name, 1)"
   ]
  },
  {
   "cell_type": "code",
   "execution_count": 92,
   "metadata": {},
   "outputs": [
    {
     "data": {
      "text/plain": [
       "4"
      ]
     },
     "execution_count": 92,
     "metadata": {},
     "output_type": "execute_result"
    }
   ],
   "source": [
    "orbital_distance_if_exists(root, santa_name, 1)"
   ]
  },
  {
   "cell_type": "code",
   "execution_count": 93,
   "metadata": {},
   "outputs": [],
   "source": [
    "def find_ancestor_and_distances(current_node, you_name, santa_name, prev_you_distance, prev_santa_distance):\n",
    "    for node in current_node.children:\n",
    "        santa_distance = orbital_distance_if_exists(node, santa_name, 1)\n",
    "        you_distance = orbital_distance_if_exists(node, you_name, 1)\n",
    "        if (santa_distance != -1) and (you_distance != -1):\n",
    "            return find_ancestor_and_distances(node, you_name, santa_name, you_distance, santa_distance)\n",
    "        \n",
    "    return current_node, prev_you_distance, prev_santa_distance"
   ]
  },
  {
   "cell_type": "code",
   "execution_count": 94,
   "metadata": {},
   "outputs": [
    {
     "data": {
      "text/plain": [
       "(< D >, 3, 1)"
      ]
     },
     "execution_count": 94,
     "metadata": {},
     "output_type": "execute_result"
    }
   ],
   "source": [
    "find_ancestor_and_distances(root, you_name, santa_name, -1, -1)"
   ]
  },
  {
   "cell_type": "markdown",
   "metadata": {},
   "source": [
    "That worked, answer is 3 + 1 = 4"
   ]
  },
  {
   "cell_type": "markdown",
   "metadata": {},
   "source": [
    "Last part is conditionally finding the root, you_name, and santa_name instead of hard-coding them"
   ]
  },
  {
   "cell_type": "code",
   "execution_count": 95,
   "metadata": {},
   "outputs": [],
   "source": [
    "root = None\n",
    "you_name = None\n",
    "santa_name = None"
   ]
  },
  {
   "cell_type": "code",
   "execution_count": 96,
   "metadata": {},
   "outputs": [],
   "source": [
    "for node in all_nodes:\n",
    "    if node.name == \"COM\":\n",
    "        root = node\n",
    "    \n",
    "    for child in node.children:\n",
    "        if child.name == \"YOU\":\n",
    "            you_name = node.name\n",
    "        elif child.name == \"SAN\":\n",
    "            santa_name = node.name"
   ]
  },
  {
   "cell_type": "code",
   "execution_count": 97,
   "metadata": {},
   "outputs": [
    {
     "data": {
      "text/plain": [
       "< COM >"
      ]
     },
     "execution_count": 97,
     "metadata": {},
     "output_type": "execute_result"
    }
   ],
   "source": [
    "root"
   ]
  },
  {
   "cell_type": "code",
   "execution_count": 98,
   "metadata": {},
   "outputs": [
    {
     "data": {
      "text/plain": [
       "'K'"
      ]
     },
     "execution_count": 98,
     "metadata": {},
     "output_type": "execute_result"
    }
   ],
   "source": [
    "you_name"
   ]
  },
  {
   "cell_type": "code",
   "execution_count": 99,
   "metadata": {},
   "outputs": [
    {
     "data": {
      "text/plain": [
       "'I'"
      ]
     },
     "execution_count": 99,
     "metadata": {},
     "output_type": "execute_result"
    }
   ],
   "source": [
    "santa_name"
   ]
  },
  {
   "cell_type": "markdown",
   "metadata": {},
   "source": [
    "Ok let's run it all"
   ]
  },
  {
   "cell_type": "code",
   "execution_count": 100,
   "metadata": {},
   "outputs": [],
   "source": [
    "all_nodes = build_node_list(full_input)"
   ]
  },
  {
   "cell_type": "code",
   "execution_count": 101,
   "metadata": {},
   "outputs": [],
   "source": [
    "root = None\n",
    "you_name = None\n",
    "santa_name = None"
   ]
  },
  {
   "cell_type": "code",
   "execution_count": 102,
   "metadata": {},
   "outputs": [],
   "source": [
    "for node in all_nodes:\n",
    "    if node.name == \"COM\":\n",
    "        root = node\n",
    "    \n",
    "    for child in node.children:\n",
    "        if child.name == \"YOU\":\n",
    "            you_name = node.name\n",
    "        elif child.name == \"SAN\":\n",
    "            santa_name = node.name"
   ]
  },
  {
   "cell_type": "code",
   "execution_count": 103,
   "metadata": {},
   "outputs": [
    {
     "data": {
      "text/plain": [
       "< COM >"
      ]
     },
     "execution_count": 103,
     "metadata": {},
     "output_type": "execute_result"
    }
   ],
   "source": [
    "root"
   ]
  },
  {
   "cell_type": "code",
   "execution_count": 104,
   "metadata": {},
   "outputs": [
    {
     "data": {
      "text/plain": [
       "'JN3'"
      ]
     },
     "execution_count": 104,
     "metadata": {},
     "output_type": "execute_result"
    }
   ],
   "source": [
    "you_name"
   ]
  },
  {
   "cell_type": "code",
   "execution_count": 105,
   "metadata": {},
   "outputs": [
    {
     "data": {
      "text/plain": [
       "'T1T'"
      ]
     },
     "execution_count": 105,
     "metadata": {},
     "output_type": "execute_result"
    }
   ],
   "source": [
    "santa_name"
   ]
  },
  {
   "cell_type": "code",
   "execution_count": 106,
   "metadata": {},
   "outputs": [
    {
     "data": {
      "text/plain": [
       "(< 6C4 >, 169, 219)"
      ]
     },
     "execution_count": 106,
     "metadata": {},
     "output_type": "execute_result"
    }
   ],
   "source": [
    "find_ancestor_and_distances(root, you_name, santa_name, -1, -1)"
   ]
  },
  {
   "cell_type": "markdown",
   "metadata": {},
   "source": [
    "Well, that is way to many hops to manually check...let's hope it works"
   ]
  },
  {
   "cell_type": "code",
   "execution_count": 107,
   "metadata": {},
   "outputs": [
    {
     "data": {
      "text/plain": [
       "388"
      ]
     },
     "execution_count": 107,
     "metadata": {},
     "output_type": "execute_result"
    }
   ],
   "source": [
    "169 + 219"
   ]
  },
  {
   "cell_type": "markdown",
   "metadata": {},
   "source": [
    "Yep, that's right!"
   ]
  },
  {
   "cell_type": "code",
   "execution_count": null,
   "metadata": {},
   "outputs": [],
   "source": []
  }
 ],
 "metadata": {
  "kernelspec": {
   "display_name": "Python 3",
   "language": "python",
   "name": "python3"
  },
  "language_info": {
   "codemirror_mode": {
    "name": "ipython",
    "version": 3
   },
   "file_extension": ".py",
   "mimetype": "text/x-python",
   "name": "python",
   "nbconvert_exporter": "python",
   "pygments_lexer": "ipython3",
   "version": "3.7.3"
  }
 },
 "nbformat": 4,
 "nbformat_minor": 4
}

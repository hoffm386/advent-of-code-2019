{
 "cells": [
  {
   "cell_type": "markdown",
   "metadata": {},
   "source": [
    "# Part 1 Prompt\n",
    "```\n",
    "--- Day 12: The N-Body Problem ---\n",
    "The space near Jupiter is not a very safe place; you need to be careful of a big distracting red spot, extreme radiation, and a whole lot of moons swirling around. You decide to start by tracking the four largest moons: Io, Europa, Ganymede, and Callisto.\n",
    "\n",
    "After a brief scan, you calculate the position of each moon (your puzzle input). You just need to simulate their motion so you can avoid them.\n",
    "\n",
    "Each moon has a 3-dimensional position (x, y, and z) and a 3-dimensional velocity. The position of each moon is given in your scan; the x, y, and z velocity of each moon starts at 0.\n",
    "\n",
    "Simulate the motion of the moons in time steps. Within each time step, first update the velocity of every moon by applying gravity. Then, once all moons' velocities have been updated, update the position of every moon by applying velocity. Time progresses by one step once all of the positions are updated.\n",
    "\n",
    "To apply gravity, consider every pair of moons. On each axis (x, y, and z), the velocity of each moon changes by exactly +1 or -1 to pull the moons together. For example, if Ganymede has an x position of 3, and Callisto has a x position of 5, then Ganymede's x velocity changes by +1 (because 5 > 3) and Callisto's x velocity changes by -1 (because 3 < 5). However, if the positions on a given axis are the same, the velocity on that axis does not change for that pair of moons.\n",
    "\n",
    "Once all gravity has been applied, apply velocity: simply add the velocity of each moon to its own position. For example, if Europa has a position of x=1, y=2, z=3 and a velocity of x=-2, y=0,z=3, then its new position would be x=-1, y=2, z=6. This process does not modify the velocity of any moon.\n",
    "```"
   ]
  },
  {
   "cell_type": "markdown",
   "metadata": {},
   "source": [
    "To rephrase the \"gravity\" part:\n",
    "\n",
    "We want to do a pairwise comparison of all ~three~ four moons, of all three axes.  If they are not equal, the smaller one's velocity increases by 1 and the larger one's velocity decreases by 1, regardless of the magnitude of the difference, or the relationship to any other moon.\n",
    "\n",
    "To rephrase the \"velocity\" part:\n",
    "\n",
    "Each moon's position needs to change based on its current velocity, along all three axes.  This only happens after the gravity has been applied."
   ]
  },
  {
   "cell_type": "markdown",
   "metadata": {},
   "source": [
    "```\n",
    "For example, suppose your scan reveals the following positions:\n",
    "\n",
    "<x=-1, y=0, z=2>\n",
    "<x=2, y=-10, z=-7>\n",
    "<x=4, y=-8, z=8>\n",
    "<x=3, y=5, z=-1>\n",
    "\n",
    "Simulating the motion of these moons would produce the following:\n",
    "\n",
    "After 0 steps:\n",
    "pos=<x=-1, y=  0, z= 2>, vel=<x= 0, y= 0, z= 0>\n",
    "pos=<x= 2, y=-10, z=-7>, vel=<x= 0, y= 0, z= 0>\n",
    "pos=<x= 4, y= -8, z= 8>, vel=<x= 0, y= 0, z= 0>\n",
    "pos=<x= 3, y=  5, z=-1>, vel=<x= 0, y= 0, z= 0>\n",
    "\n",
    "After 1 step:\n",
    "pos=<x= 2, y=-1, z= 1>, vel=<x= 3, y=-1, z=-1>\n",
    "pos=<x= 3, y=-7, z=-4>, vel=<x= 1, y= 3, z= 3>\n",
    "pos=<x= 1, y=-7, z= 5>, vel=<x=-3, y= 1, z=-3>\n",
    "pos=<x= 2, y= 2, z= 0>, vel=<x=-1, y=-3, z= 1>\n",
    "\n",
    "After 2 steps:\n",
    "pos=<x= 5, y=-3, z=-1>, vel=<x= 3, y=-2, z=-2>\n",
    "pos=<x= 1, y=-2, z= 2>, vel=<x=-2, y= 5, z= 6>\n",
    "pos=<x= 1, y=-4, z=-1>, vel=<x= 0, y= 3, z=-6>\n",
    "pos=<x= 1, y=-4, z= 2>, vel=<x=-1, y=-6, z= 2>\n",
    "\n",
    "After 3 steps:\n",
    "pos=<x= 5, y=-6, z=-1>, vel=<x= 0, y=-3, z= 0>\n",
    "pos=<x= 0, y= 0, z= 6>, vel=<x=-1, y= 2, z= 4>\n",
    "pos=<x= 2, y= 1, z=-5>, vel=<x= 1, y= 5, z=-4>\n",
    "pos=<x= 1, y=-8, z= 2>, vel=<x= 0, y=-4, z= 0>\n",
    "\n",
    "After 4 steps:\n",
    "pos=<x= 2, y=-8, z= 0>, vel=<x=-3, y=-2, z= 1>\n",
    "pos=<x= 2, y= 1, z= 7>, vel=<x= 2, y= 1, z= 1>\n",
    "pos=<x= 2, y= 3, z=-6>, vel=<x= 0, y= 2, z=-1>\n",
    "pos=<x= 2, y=-9, z= 1>, vel=<x= 1, y=-1, z=-1>\n",
    "\n",
    "After 5 steps:\n",
    "pos=<x=-1, y=-9, z= 2>, vel=<x=-3, y=-1, z= 2>\n",
    "pos=<x= 4, y= 1, z= 5>, vel=<x= 2, y= 0, z=-2>\n",
    "pos=<x= 2, y= 2, z=-4>, vel=<x= 0, y=-1, z= 2>\n",
    "pos=<x= 3, y=-7, z=-1>, vel=<x= 1, y= 2, z=-2>\n",
    "\n",
    "After 6 steps:\n",
    "pos=<x=-1, y=-7, z= 3>, vel=<x= 0, y= 2, z= 1>\n",
    "pos=<x= 3, y= 0, z= 0>, vel=<x=-1, y=-1, z=-5>\n",
    "pos=<x= 3, y=-2, z= 1>, vel=<x= 1, y=-4, z= 5>\n",
    "pos=<x= 3, y=-4, z=-2>, vel=<x= 0, y= 3, z=-1>\n",
    "\n",
    "After 7 steps:\n",
    "pos=<x= 2, y=-2, z= 1>, vel=<x= 3, y= 5, z=-2>\n",
    "pos=<x= 1, y=-4, z=-4>, vel=<x=-2, y=-4, z=-4>\n",
    "pos=<x= 3, y=-7, z= 5>, vel=<x= 0, y=-5, z= 4>\n",
    "pos=<x= 2, y= 0, z= 0>, vel=<x=-1, y= 4, z= 2>\n",
    "\n",
    "After 8 steps:\n",
    "pos=<x= 5, y= 2, z=-2>, vel=<x= 3, y= 4, z=-3>\n",
    "pos=<x= 2, y=-7, z=-5>, vel=<x= 1, y=-3, z=-1>\n",
    "pos=<x= 0, y=-9, z= 6>, vel=<x=-3, y=-2, z= 1>\n",
    "pos=<x= 1, y= 1, z= 3>, vel=<x=-1, y= 1, z= 3>\n",
    "\n",
    "After 9 steps:\n",
    "pos=<x= 5, y= 3, z=-4>, vel=<x= 0, y= 1, z=-2>\n",
    "pos=<x= 2, y=-9, z=-3>, vel=<x= 0, y=-2, z= 2>\n",
    "pos=<x= 0, y=-8, z= 4>, vel=<x= 0, y= 1, z=-2>\n",
    "pos=<x= 1, y= 1, z= 5>, vel=<x= 0, y= 0, z= 2>\n",
    "\n",
    "After 10 steps:\n",
    "pos=<x= 2, y= 1, z=-3>, vel=<x=-3, y=-2, z= 1>\n",
    "pos=<x= 1, y=-8, z= 0>, vel=<x=-1, y= 1, z= 3>\n",
    "pos=<x= 3, y=-6, z= 1>, vel=<x= 3, y= 2, z=-3>\n",
    "pos=<x= 2, y= 0, z= 4>, vel=<x= 1, y=-1, z=-1>\n",
    "```"
   ]
  },
  {
   "cell_type": "markdown",
   "metadata": {},
   "source": [
    "Do I really need to parse this input, or can I just hard-code it?"
   ]
  },
  {
   "cell_type": "code",
   "execution_count": 1,
   "metadata": {},
   "outputs": [],
   "source": [
    "file_obj = open(\"input.txt\", \"r\")\n",
    "input_str = file_obj.read()\n",
    "file_obj.close()"
   ]
  },
  {
   "cell_type": "code",
   "execution_count": 2,
   "metadata": {},
   "outputs": [],
   "source": [
    "input_str = input_str.strip()"
   ]
  },
  {
   "cell_type": "code",
   "execution_count": 3,
   "metadata": {},
   "outputs": [
    {
     "data": {
      "text/plain": [
       "'<x=1, y=-4, z=3>\\n<x=-14, y=9, z=-4>\\n<x=-4, y=-6, z=7>\\n<x=6, y=-9, z=-11>'"
      ]
     },
     "execution_count": 3,
     "metadata": {},
     "output_type": "execute_result"
    }
   ],
   "source": [
    "input_str"
   ]
  },
  {
   "cell_type": "code",
   "execution_count": 4,
   "metadata": {},
   "outputs": [],
   "source": [
    "moons = input_str.split(\"\\n\")"
   ]
  },
  {
   "cell_type": "code",
   "execution_count": 5,
   "metadata": {},
   "outputs": [
    {
     "data": {
      "text/plain": [
       "['<x=1, y=-4, z=3>',\n",
       " '<x=-14, y=9, z=-4>',\n",
       " '<x=-4, y=-6, z=7>',\n",
       " '<x=6, y=-9, z=-11>']"
      ]
     },
     "execution_count": 5,
     "metadata": {},
     "output_type": "execute_result"
    }
   ],
   "source": [
    "moons"
   ]
  },
  {
   "cell_type": "code",
   "execution_count": 6,
   "metadata": {},
   "outputs": [],
   "source": [
    "class Moon:\n",
    "    def __init__(self, x_pos, y_pos, z_pos):\n",
    "        self.x_pos = x_pos\n",
    "        self.y_pos = y_pos\n",
    "        self.z_pos = z_pos\n",
    "        \n",
    "        self.x_vel = 0\n",
    "        self.y_vel = 0\n",
    "        self.z_vel = 0\n",
    "        \n",
    "    def __repr__(self):\n",
    "        \"\"\"\n",
    "        Implementing this similarly to the example, but not going to\n",
    "        worry about aligning whitespace with other moons\n",
    "        \"\"\"\n",
    "        pos = f'pos=<x={self.x_pos}, y={self.y_pos}, z={self.z_pos}>'\n",
    "        vel = f'vel=<x={self.x_vel}, y={self.y_vel}, z={self.z_vel}>'\n",
    "        return f'{pos}, {vel}'"
   ]
  },
  {
   "cell_type": "code",
   "execution_count": 7,
   "metadata": {},
   "outputs": [
    {
     "data": {
      "text/plain": [
       "[pos=<x=1, y=-4, z=3>, vel=<x=0, y=0, z=0>,\n",
       " pos=<x=-14, y=9, z=-4>, vel=<x=0, y=0, z=0>,\n",
       " pos=<x=-4, y=-6, z=7>, vel=<x=0, y=0, z=0>,\n",
       " pos=<x=6, y=-9, z=-11>, vel=<x=0, y=0, z=0>]"
      ]
     },
     "execution_count": 7,
     "metadata": {},
     "output_type": "execute_result"
    }
   ],
   "source": [
    "moon_objs = []\n",
    "for moon in moons:\n",
    "    moon = moon[1:-1]\n",
    "    x, y, z = moon.split(\", \")\n",
    "    x = int(x[2:])\n",
    "    y = int(y[2:])\n",
    "    z = int(z[2:])\n",
    "    \n",
    "    moon_obj = Moon(x, y, z)\n",
    "    moon_objs.append(moon_obj)\n",
    "moon_objs"
   ]
  },
  {
   "cell_type": "code",
   "execution_count": 8,
   "metadata": {},
   "outputs": [],
   "source": [
    "class Moon:\n",
    "    def __init__(self, x_pos, y_pos, z_pos):\n",
    "        self.x_pos = x_pos\n",
    "        self.y_pos = y_pos\n",
    "        self.z_pos = z_pos\n",
    "        \n",
    "        self.x_vel = 0\n",
    "        self.y_vel = 0\n",
    "        self.z_vel = 0\n",
    "        \n",
    "    def __repr__(self):\n",
    "        \"\"\"\n",
    "        Implementing this similarly to the example, but not going to\n",
    "        worry about aligning whitespace with other moons\n",
    "        \"\"\"\n",
    "        pos = f'pos=<x={self.x_pos}, y={self.y_pos}, z={self.z_pos}>'\n",
    "        vel = f'vel=<x={self.x_vel}, y={self.y_vel}, z={self.z_vel}>'\n",
    "        return f'{pos}, {vel}'\n",
    "    \n",
    "    def apply_gravity(self, other_moon):\n",
    "        \"\"\"\n",
    "        Update the velocity of self based on the position of other_moon\n",
    "        \n",
    "        This does not modify other_moon, which is somewhat less computationally\n",
    "        efficient but easier to read in my opinion\n",
    "        \"\"\"\n",
    "        if other_moon.x_pos > self.x_pos:\n",
    "            self.x_vel += 1\n",
    "        elif other_moon.x_pos < self.x_pos:\n",
    "            self.x_vel -= 1\n",
    "            \n",
    "        if other_moon.y_pos > self.y_pos:\n",
    "            self.y_vel += 1\n",
    "        elif other_moon.y_pos < self.y_pos:\n",
    "            self.y_vel -= 1\n",
    "            \n",
    "        if other_moon.z_pos > self.z_pos:\n",
    "            self.z_vel += 1\n",
    "        elif other_moon.z_pos < self.z_pos:\n",
    "            self.z_vel -= 1\n",
    "            \n",
    "    def apply_velocity(self):\n",
    "        \"\"\"\n",
    "        Update the position of self based on the velocity of self\n",
    "        \"\"\"\n",
    "        self.x_pos += self.x_vel\n",
    "        self.y_pos += self.y_vel\n",
    "        self.z_pos += self.z_vel"
   ]
  },
  {
   "cell_type": "code",
   "execution_count": 9,
   "metadata": {},
   "outputs": [
    {
     "data": {
      "text/plain": [
       "[pos=<x=1, y=-4, z=3>, vel=<x=0, y=0, z=0>,\n",
       " pos=<x=-14, y=9, z=-4>, vel=<x=0, y=0, z=0>,\n",
       " pos=<x=-4, y=-6, z=7>, vel=<x=0, y=0, z=0>,\n",
       " pos=<x=6, y=-9, z=-11>, vel=<x=0, y=0, z=0>]"
      ]
     },
     "execution_count": 9,
     "metadata": {},
     "output_type": "execute_result"
    }
   ],
   "source": [
    "moons = input_str.split(\"\\n\")\n",
    "moon_objs = []\n",
    "for moon in moons:\n",
    "    moon = moon[1:-1]\n",
    "    x, y, z = moon.split(\", \")\n",
    "    x = int(x[2:])\n",
    "    y = int(y[2:])\n",
    "    z = int(z[2:])\n",
    "    \n",
    "    moon_obj = Moon(x, y, z)\n",
    "    moon_objs.append(moon_obj)\n",
    "moon_objs"
   ]
  },
  {
   "cell_type": "markdown",
   "metadata": {},
   "source": [
    "How to get all but one from a list? I think `pop`"
   ]
  },
  {
   "cell_type": "code",
   "execution_count": 10,
   "metadata": {},
   "outputs": [
    {
     "data": {
      "text/plain": [
       "['through', 'the', 'we', 'all', 'will', 'be', 'together']"
      ]
     },
     "execution_count": 10,
     "metadata": {},
     "output_type": "execute_result"
    }
   ],
   "source": [
    "examples = [\"through\", \"the\", \"years\", \"we\", \"all\", \"will\", \"be\", \"together\"]\n",
    "examples.pop(2)\n",
    "examples"
   ]
  },
  {
   "cell_type": "code",
   "execution_count": 11,
   "metadata": {},
   "outputs": [],
   "source": [
    "for index, moon_obj in enumerate(moon_objs):\n",
    "    other_moons = moon_objs.copy()\n",
    "    other_moons.pop(index)\n",
    "    for other_moon in other_moons:\n",
    "        moon_obj.apply_gravity(other_moon)\n",
    "        \n",
    "    moon_obj.apply_velocity()"
   ]
  },
  {
   "cell_type": "code",
   "execution_count": 12,
   "metadata": {},
   "outputs": [
    {
     "data": {
      "text/plain": [
       "[pos=<x=0, y=-5, z=2>, vel=<x=-1, y=-1, z=-1>,\n",
       " pos=<x=-11, y=6, z=-3>, vel=<x=3, y=-3, z=1>,\n",
       " pos=<x=-3, y=-5, z=4>, vel=<x=1, y=1, z=-3>,\n",
       " pos=<x=3, y=-6, z=-8>, vel=<x=-3, y=3, z=3>]"
      ]
     },
     "execution_count": 12,
     "metadata": {},
     "output_type": "execute_result"
    }
   ],
   "source": [
    "moon_objs"
   ]
  },
  {
   "cell_type": "markdown",
   "metadata": {},
   "source": [
    "Should be:\n",
    "```\n",
    "pos=<x= 2, y=-1, z= 1>, vel=<x= 3, y=-1, z=-1>\n",
    "pos=<x= 3, y=-7, z=-4>, vel=<x= 1, y= 3, z= 3>\n",
    "pos=<x= 1, y=-7, z= 5>, vel=<x=-3, y= 1, z=-3>\n",
    "pos=<x= 2, y= 2, z= 0>, vel=<x=-1, y=-3, z= 1>\n",
    "```"
   ]
  },
  {
   "cell_type": "markdown",
   "metadata": {},
   "source": [
    "Well that's not right at all?\n",
    "\n",
    "Because I used my real input instead of the example input"
   ]
  },
  {
   "cell_type": "code",
   "execution_count": 15,
   "metadata": {},
   "outputs": [],
   "source": [
    "def build_moon_list(input_str):\n",
    "    moons = input_str.split(\"\\n\")\n",
    "    moon_objs = []\n",
    "    for moon in moons:\n",
    "        moon = moon[1:-1]\n",
    "        x, y, z = moon.split(\", \")\n",
    "        x = int(x[2:])\n",
    "        y = int(y[2:])\n",
    "        z = int(z[2:])\n",
    "\n",
    "        moon_obj = Moon(x, y, z)\n",
    "        moon_objs.append(moon_obj)\n",
    "    return moon_objs"
   ]
  },
  {
   "cell_type": "code",
   "execution_count": 14,
   "metadata": {},
   "outputs": [],
   "source": [
    "example1 = \"\"\"<x=-1, y=0, z=2>\n",
    "<x=2, y=-10, z=-7>\n",
    "<x=4, y=-8, z=8>\n",
    "<x=3, y=5, z=-1>\"\"\""
   ]
  },
  {
   "cell_type": "code",
   "execution_count": 16,
   "metadata": {},
   "outputs": [],
   "source": [
    "moons = build_moon_list(example1)"
   ]
  },
  {
   "cell_type": "code",
   "execution_count": 17,
   "metadata": {},
   "outputs": [
    {
     "data": {
      "text/plain": [
       "[pos=<x=-1, y=0, z=2>, vel=<x=0, y=0, z=0>,\n",
       " pos=<x=2, y=-10, z=-7>, vel=<x=0, y=0, z=0>,\n",
       " pos=<x=4, y=-8, z=8>, vel=<x=0, y=0, z=0>,\n",
       " pos=<x=3, y=5, z=-1>, vel=<x=0, y=0, z=0>]"
      ]
     },
     "execution_count": 17,
     "metadata": {},
     "output_type": "execute_result"
    }
   ],
   "source": [
    "moons"
   ]
  },
  {
   "cell_type": "code",
   "execution_count": 18,
   "metadata": {},
   "outputs": [],
   "source": [
    "def update_all_moons(moons):\n",
    "    for index, moon in enumerate(moons):\n",
    "        other_moons = moons.copy()\n",
    "        other_moons.pop(index)\n",
    "        for other_moon in other_moons:\n",
    "            moon.apply_gravity(other_moon)\n",
    "\n",
    "        moon.apply_velocity()"
   ]
  },
  {
   "cell_type": "code",
   "execution_count": 19,
   "metadata": {},
   "outputs": [],
   "source": [
    "update_all_moons(moons)"
   ]
  },
  {
   "cell_type": "code",
   "execution_count": 20,
   "metadata": {},
   "outputs": [
    {
     "data": {
      "text/plain": [
       "[pos=<x=2, y=-1, z=1>, vel=<x=3, y=-1, z=-1>,\n",
       " pos=<x=4, y=-7, z=-4>, vel=<x=2, y=3, z=3>,\n",
       " pos=<x=2, y=-5, z=5>, vel=<x=-2, y=3, z=-3>,\n",
       " pos=<x=2, y=2, z=0>, vel=<x=-1, y=-3, z=1>]"
      ]
     },
     "execution_count": 20,
     "metadata": {},
     "output_type": "execute_result"
    }
   ],
   "source": [
    "moons"
   ]
  },
  {
   "cell_type": "markdown",
   "metadata": {},
   "source": [
    "Should be:\n",
    "```\n",
    "After 0 steps:\n",
    "pos=<x=-1, y=  0, z= 2>, vel=<x= 0, y= 0, z= 0>\n",
    "pos=<x= 2, y=-10, z=-7>, vel=<x= 0, y= 0, z= 0>\n",
    "pos=<x= 4, y= -8, z= 8>, vel=<x= 0, y= 0, z= 0>\n",
    "pos=<x= 3, y=  5, z=-1>, vel=<x= 0, y= 0, z= 0>\n",
    "\n",
    "After 1 step:\n",
    "pos=<x= 2, y=-1, z= 1>, vel=<x= 3, y=-1, z=-1>\n",
    "pos=<x= 3, y=-7, z=-4>, vel=<x= 1, y= 3, z= 3>\n",
    "pos=<x= 1, y=-7, z= 5>, vel=<x=-3, y= 1, z=-3>\n",
    "pos=<x= 2, y= 2, z= 0>, vel=<x=-1, y=-3, z= 1>\n",
    "```"
   ]
  },
  {
   "cell_type": "markdown",
   "metadata": {},
   "source": [
    "Ohh, I need to update all of the velocities then update all the positions"
   ]
  },
  {
   "cell_type": "code",
   "execution_count": 21,
   "metadata": {},
   "outputs": [],
   "source": [
    "def update_all_moons(moons):\n",
    "    for index, moon in enumerate(moons):\n",
    "        other_moons = moons.copy()\n",
    "        other_moons.pop(index)\n",
    "        for other_moon in other_moons:\n",
    "            moon.apply_gravity(other_moon)\n",
    "\n",
    "    for moon in moons:\n",
    "        moon.apply_velocity()"
   ]
  },
  {
   "cell_type": "code",
   "execution_count": 22,
   "metadata": {},
   "outputs": [],
   "source": [
    "moons = build_moon_list(example1)"
   ]
  },
  {
   "cell_type": "code",
   "execution_count": 23,
   "metadata": {},
   "outputs": [],
   "source": [
    "update_all_moons(moons)"
   ]
  },
  {
   "cell_type": "code",
   "execution_count": 24,
   "metadata": {},
   "outputs": [
    {
     "data": {
      "text/plain": [
       "[pos=<x=2, y=-1, z=1>, vel=<x=3, y=-1, z=-1>,\n",
       " pos=<x=3, y=-7, z=-4>, vel=<x=1, y=3, z=3>,\n",
       " pos=<x=1, y=-7, z=5>, vel=<x=-3, y=1, z=-3>,\n",
       " pos=<x=2, y=2, z=0>, vel=<x=-1, y=-3, z=1>]"
      ]
     },
     "execution_count": 24,
     "metadata": {},
     "output_type": "execute_result"
    }
   ],
   "source": [
    "moons"
   ]
  },
  {
   "cell_type": "markdown",
   "metadata": {},
   "source": [
    "Looks right"
   ]
  },
  {
   "cell_type": "code",
   "execution_count": 25,
   "metadata": {},
   "outputs": [
    {
     "data": {
      "text/plain": [
       "[pos=<x=5, y=-3, z=-1>, vel=<x=3, y=-2, z=-2>,\n",
       " pos=<x=1, y=-2, z=2>, vel=<x=-2, y=5, z=6>,\n",
       " pos=<x=1, y=-4, z=-1>, vel=<x=0, y=3, z=-6>,\n",
       " pos=<x=1, y=-4, z=2>, vel=<x=-1, y=-6, z=2>]"
      ]
     },
     "execution_count": 25,
     "metadata": {},
     "output_type": "execute_result"
    }
   ],
   "source": [
    "update_all_moons(moons)\n",
    "moons"
   ]
  },
  {
   "cell_type": "markdown",
   "metadata": {},
   "source": [
    "```\n",
    "After 2 steps:\n",
    "pos=<x= 5, y=-3, z=-1>, vel=<x= 3, y=-2, z=-2>\n",
    "pos=<x= 1, y=-2, z= 2>, vel=<x=-2, y= 5, z= 6>\n",
    "pos=<x= 1, y=-4, z=-1>, vel=<x= 0, y= 3, z=-6>\n",
    "pos=<x= 1, y=-4, z= 2>, vel=<x=-1, y=-6, z= 2>\n",
    "```"
   ]
  },
  {
   "cell_type": "code",
   "execution_count": 26,
   "metadata": {},
   "outputs": [
    {
     "data": {
      "text/plain": [
       "[pos=<x=5, y=-6, z=-1>, vel=<x=0, y=-3, z=0>,\n",
       " pos=<x=0, y=0, z=6>, vel=<x=-1, y=2, z=4>,\n",
       " pos=<x=2, y=1, z=-5>, vel=<x=1, y=5, z=-4>,\n",
       " pos=<x=1, y=-8, z=2>, vel=<x=0, y=-4, z=0>]"
      ]
     },
     "execution_count": 26,
     "metadata": {},
     "output_type": "execute_result"
    }
   ],
   "source": [
    "update_all_moons(moons)\n",
    "moons"
   ]
  },
  {
   "cell_type": "markdown",
   "metadata": {},
   "source": [
    "```\n",
    "After 3 steps:\n",
    "pos=<x= 5, y=-6, z=-1>, vel=<x= 0, y=-3, z= 0>\n",
    "pos=<x= 0, y= 0, z= 6>, vel=<x=-1, y= 2, z= 4>\n",
    "pos=<x= 2, y= 1, z=-5>, vel=<x= 1, y= 5, z=-4>\n",
    "pos=<x= 1, y=-8, z= 2>, vel=<x= 0, y=-4, z= 0>\n",
    "```"
   ]
  },
  {
   "cell_type": "code",
   "execution_count": 27,
   "metadata": {},
   "outputs": [
    {
     "data": {
      "text/plain": [
       "[pos=<x=2, y=-8, z=0>, vel=<x=-3, y=-2, z=1>,\n",
       " pos=<x=2, y=1, z=7>, vel=<x=2, y=1, z=1>,\n",
       " pos=<x=2, y=3, z=-6>, vel=<x=0, y=2, z=-1>,\n",
       " pos=<x=2, y=-9, z=1>, vel=<x=1, y=-1, z=-1>]"
      ]
     },
     "execution_count": 27,
     "metadata": {},
     "output_type": "execute_result"
    }
   ],
   "source": [
    "update_all_moons(moons)\n",
    "moons"
   ]
  },
  {
   "cell_type": "markdown",
   "metadata": {},
   "source": [
    "```\n",
    "After 4 steps:\n",
    "pos=<x= 2, y=-8, z= 0>, vel=<x=-3, y=-2, z= 1>\n",
    "pos=<x= 2, y= 1, z= 7>, vel=<x= 2, y= 1, z= 1>\n",
    "pos=<x= 2, y= 3, z=-6>, vel=<x= 0, y= 2, z=-1>\n",
    "pos=<x= 2, y=-9, z= 1>, vel=<x= 1, y=-1, z=-1>\n",
    "```"
   ]
  },
  {
   "cell_type": "code",
   "execution_count": 28,
   "metadata": {},
   "outputs": [
    {
     "data": {
      "text/plain": [
       "[pos=<x=-1, y=-9, z=2>, vel=<x=-3, y=-1, z=2>,\n",
       " pos=<x=4, y=1, z=5>, vel=<x=2, y=0, z=-2>,\n",
       " pos=<x=2, y=2, z=-4>, vel=<x=0, y=-1, z=2>,\n",
       " pos=<x=3, y=-7, z=-1>, vel=<x=1, y=2, z=-2>]"
      ]
     },
     "execution_count": 28,
     "metadata": {},
     "output_type": "execute_result"
    }
   ],
   "source": [
    "update_all_moons(moons)\n",
    "moons"
   ]
  },
  {
   "cell_type": "markdown",
   "metadata": {},
   "source": [
    "```\n",
    "After 5 steps:\n",
    "pos=<x=-1, y=-9, z= 2>, vel=<x=-3, y=-1, z= 2>\n",
    "pos=<x= 4, y= 1, z= 5>, vel=<x= 2, y= 0, z=-2>\n",
    "pos=<x= 2, y= 2, z=-4>, vel=<x= 0, y=-1, z= 2>\n",
    "pos=<x= 3, y=-7, z=-1>, vel=<x= 1, y= 2, z=-2>\n",
    "```"
   ]
  },
  {
   "cell_type": "markdown",
   "metadata": {},
   "source": [
    "```\n",
    "Then, it might help to calculate the total energy in the system. The total energy for a single moon is its potential energy multiplied by its kinetic energy. A moon's potential energy is the sum of the absolute values of its x, y, and z position coordinates. A moon's kinetic energy is the sum of the absolute values of its velocity coordinates. Below, each line shows the calculations for a moon's potential energy (pot), kinetic energy (kin), and total energy:\n",
    "\n",
    "Energy after 10 steps:\n",
    "pot: 2 + 1 + 3 =  6;   kin: 3 + 2 + 1 = 6;   total:  6 * 6 = 36\n",
    "pot: 1 + 8 + 0 =  9;   kin: 1 + 1 + 3 = 5;   total:  9 * 5 = 45\n",
    "pot: 3 + 6 + 1 = 10;   kin: 3 + 2 + 3 = 8;   total: 10 * 8 = 80\n",
    "pot: 2 + 0 + 4 =  6;   kin: 1 + 1 + 1 = 3;   total:  6 * 3 = 18\n",
    "\n",
    "Sum of total energy: 36 + 45 + 80 + 18 = 179\n",
    "\n",
    "In the above example, adding together the total energy for all moons after 10 steps produces the total energy in the system, 179.\n",
    "```"
   ]
  },
  {
   "cell_type": "code",
   "execution_count": 37,
   "metadata": {},
   "outputs": [],
   "source": [
    "class Moon:\n",
    "    def __init__(self, x_pos, y_pos, z_pos):\n",
    "        self.x_pos = x_pos\n",
    "        self.y_pos = y_pos\n",
    "        self.z_pos = z_pos\n",
    "        \n",
    "        self.x_vel = 0\n",
    "        self.y_vel = 0\n",
    "        self.z_vel = 0\n",
    "        \n",
    "        self.total_energy = 0\n",
    "        \n",
    "    def __repr__(self):\n",
    "        \"\"\"\n",
    "        Implementing this similarly to the example, but not going to\n",
    "        worry about aligning whitespace with other moons\n",
    "        \"\"\"\n",
    "        pos = f'pos=<x={self.x_pos}, y={self.y_pos}, z={self.z_pos}>'\n",
    "        vel = f'vel=<x={self.x_vel}, y={self.y_vel}, z={self.z_vel}>'\n",
    "        return f'{pos}, {vel}'\n",
    "    \n",
    "    def apply_gravity(self, other_moon):\n",
    "        \"\"\"\n",
    "        Update the velocity of self based on the position of other_moon\n",
    "        \n",
    "        This does not modify other_moon, which is somewhat less computationally\n",
    "        efficient but easier to read in my opinion\n",
    "        \"\"\"\n",
    "        if other_moon.x_pos > self.x_pos:\n",
    "            self.x_vel += 1\n",
    "        elif other_moon.x_pos < self.x_pos:\n",
    "            self.x_vel -= 1\n",
    "            \n",
    "        if other_moon.y_pos > self.y_pos:\n",
    "            self.y_vel += 1\n",
    "        elif other_moon.y_pos < self.y_pos:\n",
    "            self.y_vel -= 1\n",
    "            \n",
    "        if other_moon.z_pos > self.z_pos:\n",
    "            self.z_vel += 1\n",
    "        elif other_moon.z_pos < self.z_pos:\n",
    "            self.z_vel -= 1\n",
    "            \n",
    "    def apply_velocity(self):\n",
    "        \"\"\"\n",
    "        Update the position of self based on the velocity of self\n",
    "        \"\"\"\n",
    "        self.x_pos += self.x_vel\n",
    "        self.y_pos += self.y_vel\n",
    "        self.z_pos += self.z_vel\n",
    "        \n",
    "    def update_total_energy(self):\n",
    "        \"\"\"\n",
    "        Update the overall total energy for this moon, and also return\n",
    "        the total energy for this step\n",
    "        \"\"\"\n",
    "        potential_energy = abs(self.x_pos) + abs(self.y_pos) + abs(self.z_pos)\n",
    "        kinetic_energy = abs(self.x_vel) + abs(self.y_vel) + abs(self.z_vel)\n",
    "        total_energy = potential_energy * kinetic_energy\n",
    "        \n",
    "        self.total_energy = total_energy\n",
    "        \n",
    "        return total_energy"
   ]
  },
  {
   "cell_type": "markdown",
   "metadata": {},
   "source": [
    "Transcribing step 10 to make sure I can get the correct total energy"
   ]
  },
  {
   "cell_type": "code",
   "execution_count": 30,
   "metadata": {},
   "outputs": [],
   "source": [
    "example1_moon1 = Moon(2, 1, -3)\n",
    "example1_moon1.x_vel = -3\n",
    "example1_moon1.y_vel = -2\n",
    "example1_moon1.z_vel = 1\n",
    "\n",
    "example1_moon2 = Moon(1, -8, 0)\n",
    "example1_moon2.x_vel = -1\n",
    "example1_moon2.y_vel = 1\n",
    "example1_moon2.z_vel = 3\n",
    "\n",
    "example1_moon3 = Moon(3, -6, 1)\n",
    "example1_moon3.x_vel = 3\n",
    "example1_moon3.y_vel = 2\n",
    "example1_moon3.z_vel = -3\n",
    "\n",
    "example1_moon4 = Moon(2, 0, 4)\n",
    "example1_moon4.x_vel = 1\n",
    "example1_moon4.y_vel = -1\n",
    "example1_moon4.z_vel = -1"
   ]
  },
  {
   "cell_type": "code",
   "execution_count": 31,
   "metadata": {},
   "outputs": [
    {
     "data": {
      "text/plain": [
       "36"
      ]
     },
     "execution_count": 31,
     "metadata": {},
     "output_type": "execute_result"
    }
   ],
   "source": [
    "example1_moon1.update_total_energy()"
   ]
  },
  {
   "cell_type": "code",
   "execution_count": 32,
   "metadata": {},
   "outputs": [
    {
     "data": {
      "text/plain": [
       "45"
      ]
     },
     "execution_count": 32,
     "metadata": {},
     "output_type": "execute_result"
    }
   ],
   "source": [
    "example1_moon2.update_total_energy()"
   ]
  },
  {
   "cell_type": "code",
   "execution_count": 33,
   "metadata": {},
   "outputs": [
    {
     "data": {
      "text/plain": [
       "80"
      ]
     },
     "execution_count": 33,
     "metadata": {},
     "output_type": "execute_result"
    }
   ],
   "source": [
    "example1_moon3.update_total_energy()"
   ]
  },
  {
   "cell_type": "code",
   "execution_count": 34,
   "metadata": {},
   "outputs": [
    {
     "data": {
      "text/plain": [
       "18"
      ]
     },
     "execution_count": 34,
     "metadata": {},
     "output_type": "execute_result"
    }
   ],
   "source": [
    "example1_moon4.update_total_energy()"
   ]
  },
  {
   "cell_type": "code",
   "execution_count": 35,
   "metadata": {},
   "outputs": [
    {
     "data": {
      "text/plain": [
       "179"
      ]
     },
     "execution_count": 35,
     "metadata": {},
     "output_type": "execute_result"
    }
   ],
   "source": [
    "example1_moon1.overall_total_energy + example1_moon2.overall_total_energy + example1_moon3.overall_total_energy + example1_moon4.overall_total_energy"
   ]
  },
  {
   "cell_type": "markdown",
   "metadata": {},
   "source": [
    "Ok, let's run it for the second example"
   ]
  },
  {
   "cell_type": "code",
   "execution_count": 36,
   "metadata": {},
   "outputs": [],
   "source": [
    "example2 = \"\"\"<x=-8, y=-10, z=0>\n",
    "<x=5, y=5, z=10>\n",
    "<x=2, y=-7, z=3>\n",
    "<x=9, y=-8, z=-3>\"\"\""
   ]
  },
  {
   "cell_type": "code",
   "execution_count": 38,
   "metadata": {},
   "outputs": [],
   "source": [
    "def update_all_moons(moons):\n",
    "    for index, moon in enumerate(moons):\n",
    "        other_moons = moons.copy()\n",
    "        other_moons.pop(index)\n",
    "        for other_moon in other_moons:\n",
    "            moon.apply_gravity(other_moon)\n",
    "\n",
    "    for moon in moons:\n",
    "        moon.apply_velocity()\n",
    "        moon.update_total_energy()"
   ]
  },
  {
   "cell_type": "code",
   "execution_count": 39,
   "metadata": {},
   "outputs": [],
   "source": [
    "example2_moons = build_moon_list(example2)"
   ]
  },
  {
   "cell_type": "code",
   "execution_count": 40,
   "metadata": {},
   "outputs": [],
   "source": [
    "for _ in range(100):\n",
    "    update_all_moons(example2_moons)"
   ]
  },
  {
   "cell_type": "code",
   "execution_count": 41,
   "metadata": {},
   "outputs": [
    {
     "data": {
      "text/plain": [
       "[pos=<x=8, y=-12, z=-9>, vel=<x=-7, y=3, z=0>,\n",
       " pos=<x=13, y=16, z=-3>, vel=<x=3, y=-11, z=-5>,\n",
       " pos=<x=-29, y=-11, z=-1>, vel=<x=-3, y=7, z=4>,\n",
       " pos=<x=16, y=-13, z=23>, vel=<x=7, y=1, z=1>]"
      ]
     },
     "execution_count": 41,
     "metadata": {},
     "output_type": "execute_result"
    }
   ],
   "source": [
    "example2_moons"
   ]
  },
  {
   "cell_type": "code",
   "execution_count": 42,
   "metadata": {},
   "outputs": [
    {
     "ename": "AttributeError",
     "evalue": "'Moon' object has no attribute 'total_energy'",
     "output_type": "error",
     "traceback": [
      "\u001b[0;31m---------------------------------------------------------------------------\u001b[0m",
      "\u001b[0;31mAttributeError\u001b[0m                            Traceback (most recent call last)",
      "\u001b[0;32m<ipython-input-42-27acab061b7e>\u001b[0m in \u001b[0;36m<module>\u001b[0;34m\u001b[0m\n\u001b[1;32m      1\u001b[0m \u001b[0mtotal_total_energy\u001b[0m \u001b[0;34m=\u001b[0m \u001b[0;36m0\u001b[0m\u001b[0;34m\u001b[0m\u001b[0;34m\u001b[0m\u001b[0m\n\u001b[1;32m      2\u001b[0m \u001b[0;32mfor\u001b[0m \u001b[0mmoon\u001b[0m \u001b[0;32min\u001b[0m \u001b[0mmoons\u001b[0m\u001b[0;34m:\u001b[0m\u001b[0;34m\u001b[0m\u001b[0;34m\u001b[0m\u001b[0m\n\u001b[0;32m----> 3\u001b[0;31m     \u001b[0mtotal_total_energy\u001b[0m \u001b[0;34m+=\u001b[0m \u001b[0mmoon\u001b[0m\u001b[0;34m.\u001b[0m\u001b[0mtotal_energy\u001b[0m\u001b[0;34m\u001b[0m\u001b[0;34m\u001b[0m\u001b[0m\n\u001b[0m\u001b[1;32m      4\u001b[0m \u001b[0mtotal_total_energy\u001b[0m\u001b[0;34m\u001b[0m\u001b[0;34m\u001b[0m\u001b[0m\n",
      "\u001b[0;31mAttributeError\u001b[0m: 'Moon' object has no attribute 'total_energy'"
     ]
    }
   ],
   "source": [
    "total_total_energy = 0\n",
    "for moon in moons:\n",
    "    total_total_energy += moon.total_energy\n",
    "total_total_energy"
   ]
  },
  {
   "cell_type": "code",
   "execution_count": 45,
   "metadata": {},
   "outputs": [],
   "source": [
    "class Moon:\n",
    "    def __init__(self, x_pos, y_pos, z_pos):\n",
    "        self.x_pos = x_pos\n",
    "        self.y_pos = y_pos\n",
    "        self.z_pos = z_pos\n",
    "        \n",
    "        self.x_vel = 0\n",
    "        self.y_vel = 0\n",
    "        self.z_vel = 0\n",
    "        \n",
    "        self.total_energy = 0\n",
    "        \n",
    "    def __repr__(self):\n",
    "        \"\"\"\n",
    "        Implementing this similarly to the example, but not going to\n",
    "        worry about aligning whitespace with other moons\n",
    "        \"\"\"\n",
    "        pos = f'pos=<x={self.x_pos}, y={self.y_pos}, z={self.z_pos}>'\n",
    "        vel = f'vel=<x={self.x_vel}, y={self.y_vel}, z={self.z_vel}>'\n",
    "        return f'{pos}, {vel}'\n",
    "    \n",
    "    def apply_gravity(self, other_moon):\n",
    "        \"\"\"\n",
    "        Update the velocity of self based on the position of other_moon\n",
    "        \n",
    "        This does not modify other_moon, which is somewhat less computationally\n",
    "        efficient but easier to read in my opinion\n",
    "        \"\"\"\n",
    "        if other_moon.x_pos > self.x_pos:\n",
    "            self.x_vel += 1\n",
    "        elif other_moon.x_pos < self.x_pos:\n",
    "            self.x_vel -= 1\n",
    "            \n",
    "        if other_moon.y_pos > self.y_pos:\n",
    "            self.y_vel += 1\n",
    "        elif other_moon.y_pos < self.y_pos:\n",
    "            self.y_vel -= 1\n",
    "            \n",
    "        if other_moon.z_pos > self.z_pos:\n",
    "            self.z_vel += 1\n",
    "        elif other_moon.z_pos < self.z_pos:\n",
    "            self.z_vel -= 1\n",
    "            \n",
    "    def apply_velocity(self):\n",
    "        \"\"\"\n",
    "        Update the position of self based on the velocity of self\n",
    "        \"\"\"\n",
    "        self.x_pos += self.x_vel\n",
    "        self.y_pos += self.y_vel\n",
    "        self.z_pos += self.z_vel\n",
    "        \n",
    "    def update_total_energy(self):\n",
    "        \"\"\"\n",
    "        Update the overall total energy for this moon, and also return\n",
    "        the total energy for this step\n",
    "        \"\"\"\n",
    "        potential_energy = abs(self.x_pos) + abs(self.y_pos) + abs(self.z_pos)\n",
    "        kinetic_energy = abs(self.x_vel) + abs(self.y_vel) + abs(self.z_vel)\n",
    "        total_energy = potential_energy * kinetic_energy\n",
    "        \n",
    "        self.total_energy = total_energy\n",
    "        \n",
    "        return total_energy"
   ]
  },
  {
   "cell_type": "code",
   "execution_count": 46,
   "metadata": {},
   "outputs": [],
   "source": [
    "def build_moon_list(input_str):\n",
    "    moons = input_str.split(\"\\n\")\n",
    "    moon_objs = []\n",
    "    for moon in moons:\n",
    "        moon = moon[1:-1]\n",
    "        x, y, z = moon.split(\", \")\n",
    "        x = int(x[2:])\n",
    "        y = int(y[2:])\n",
    "        z = int(z[2:])\n",
    "\n",
    "        moon_obj = Moon(x, y, z)\n",
    "        moon_objs.append(moon_obj)\n",
    "    return moon_objs"
   ]
  },
  {
   "cell_type": "code",
   "execution_count": 47,
   "metadata": {},
   "outputs": [
    {
     "ename": "AttributeError",
     "evalue": "'Moon' object has no attribute 'total_energy'",
     "output_type": "error",
     "traceback": [
      "\u001b[0;31m---------------------------------------------------------------------------\u001b[0m",
      "\u001b[0;31mAttributeError\u001b[0m                            Traceback (most recent call last)",
      "\u001b[0;32m<ipython-input-47-56ed4d32a8da>\u001b[0m in \u001b[0;36m<module>\u001b[0;34m\u001b[0m\n\u001b[1;32m      4\u001b[0m \u001b[0mtotal_total_energy\u001b[0m \u001b[0;34m=\u001b[0m \u001b[0;36m0\u001b[0m\u001b[0;34m\u001b[0m\u001b[0;34m\u001b[0m\u001b[0m\n\u001b[1;32m      5\u001b[0m \u001b[0;32mfor\u001b[0m \u001b[0mmoon\u001b[0m \u001b[0;32min\u001b[0m \u001b[0mmoons\u001b[0m\u001b[0;34m:\u001b[0m\u001b[0;34m\u001b[0m\u001b[0;34m\u001b[0m\u001b[0m\n\u001b[0;32m----> 6\u001b[0;31m     \u001b[0mtotal_total_energy\u001b[0m \u001b[0;34m+=\u001b[0m \u001b[0mmoon\u001b[0m\u001b[0;34m.\u001b[0m\u001b[0mtotal_energy\u001b[0m\u001b[0;34m\u001b[0m\u001b[0;34m\u001b[0m\u001b[0m\n\u001b[0m\u001b[1;32m      7\u001b[0m \u001b[0mtotal_total_energy\u001b[0m\u001b[0;34m\u001b[0m\u001b[0;34m\u001b[0m\u001b[0m\n",
      "\u001b[0;31mAttributeError\u001b[0m: 'Moon' object has no attribute 'total_energy'"
     ]
    }
   ],
   "source": [
    "example2_moons = build_moon_list(example2)\n",
    "for _ in range(100):\n",
    "    update_all_moons(example2_moons)\n",
    "total_total_energy = 0\n",
    "for moon in moons:\n",
    "    total_total_energy += moon.total_energy\n",
    "total_total_energy"
   ]
  },
  {
   "cell_type": "markdown",
   "metadata": {},
   "source": [
    "It literally does though, sometimes Jupyter Notebook is so annoying"
   ]
  },
  {
   "cell_type": "code",
   "execution_count": 48,
   "metadata": {},
   "outputs": [],
   "source": [
    "%load_ext autoreload"
   ]
  },
  {
   "cell_type": "code",
   "execution_count": 49,
   "metadata": {},
   "outputs": [],
   "source": [
    "%autoreload 2"
   ]
  },
  {
   "cell_type": "code",
   "execution_count": 51,
   "metadata": {},
   "outputs": [],
   "source": [
    "import moon as moon_lib"
   ]
  },
  {
   "cell_type": "markdown",
   "metadata": {},
   "source": [
    "Oops, actually it's copypasta, \"moons\" is not the right list to be looping over"
   ]
  },
  {
   "cell_type": "code",
   "execution_count": 53,
   "metadata": {},
   "outputs": [
    {
     "data": {
      "text/plain": [
       "1940"
      ]
     },
     "execution_count": 53,
     "metadata": {},
     "output_type": "execute_result"
    }
   ],
   "source": [
    "example2_moons = moon_lib.build_moon_list(example2)\n",
    "for _ in range(100):\n",
    "    update_all_moons(example2_moons)\n",
    "total_total_energy = 0\n",
    "for moon in example2_moons:\n",
    "    total_total_energy += moon.total_energy\n",
    "total_total_energy"
   ]
  },
  {
   "cell_type": "markdown",
   "metadata": {},
   "source": [
    "That worked, let's run the real one"
   ]
  },
  {
   "cell_type": "code",
   "execution_count": 54,
   "metadata": {},
   "outputs": [],
   "source": [
    "def run_n_times_and_return_energy(n, input_str):\n",
    "    moon_list = build_moon_list(input_str)\n",
    "    for _ in range(n):\n",
    "        update_all_moons(moon_list)\n",
    "    total_total_energy = 0\n",
    "    for moon in moon_list:\n",
    "        total_total_energy += moon.total_energy\n",
    "    return total_total_energy"
   ]
  },
  {
   "cell_type": "code",
   "execution_count": 55,
   "metadata": {},
   "outputs": [
    {
     "data": {
      "text/plain": [
       "14606"
      ]
     },
     "execution_count": 55,
     "metadata": {},
     "output_type": "execute_result"
    }
   ],
   "source": [
    "moon_lib.run_n_times_and_return_energy(1000, input_str)"
   ]
  },
  {
   "cell_type": "markdown",
   "metadata": {},
   "source": [
    "That worked"
   ]
  },
  {
   "cell_type": "markdown",
   "metadata": {},
   "source": [
    "# Part 2 Prompt\n",
    "```\n",
    "--- Part Two ---\n",
    "All this drifting around in space makes you wonder about the nature of the universe. Does history really repeat itself? You're curious whether the moons will ever return to a previous state.\n",
    "\n",
    "Determine the number of steps that must occur before all of the moons' positions and velocities exactly match a previous point in time.\n",
    "\n",
    "For example, the first example above takes 2772 steps before they exactly match a previous point in time; it eventually returns to the initial state:\n",
    "\n",
    "After 0 steps:\n",
    "pos=<x= -1, y=  0, z=  2>, vel=<x=  0, y=  0, z=  0>\n",
    "pos=<x=  2, y=-10, z= -7>, vel=<x=  0, y=  0, z=  0>\n",
    "pos=<x=  4, y= -8, z=  8>, vel=<x=  0, y=  0, z=  0>\n",
    "pos=<x=  3, y=  5, z= -1>, vel=<x=  0, y=  0, z=  0>\n",
    "\n",
    "After 2770 steps:\n",
    "pos=<x=  2, y= -1, z=  1>, vel=<x= -3, y=  2, z=  2>\n",
    "pos=<x=  3, y= -7, z= -4>, vel=<x=  2, y= -5, z= -6>\n",
    "pos=<x=  1, y= -7, z=  5>, vel=<x=  0, y= -3, z=  6>\n",
    "pos=<x=  2, y=  2, z=  0>, vel=<x=  1, y=  6, z= -2>\n",
    "\n",
    "After 2771 steps:\n",
    "pos=<x= -1, y=  0, z=  2>, vel=<x= -3, y=  1, z=  1>\n",
    "pos=<x=  2, y=-10, z= -7>, vel=<x= -1, y= -3, z= -3>\n",
    "pos=<x=  4, y= -8, z=  8>, vel=<x=  3, y= -1, z=  3>\n",
    "pos=<x=  3, y=  5, z= -1>, vel=<x=  1, y=  3, z= -1>\n",
    "\n",
    "After 2772 steps:\n",
    "pos=<x= -1, y=  0, z=  2>, vel=<x=  0, y=  0, z=  0>\n",
    "pos=<x=  2, y=-10, z= -7>, vel=<x=  0, y=  0, z=  0>\n",
    "pos=<x=  4, y= -8, z=  8>, vel=<x=  0, y=  0, z=  0>\n",
    "pos=<x=  3, y=  5, z= -1>, vel=<x=  0, y=  0, z=  0>\n",
    "Of course, the universe might last for a very long time before repeating. Here's a copy of the second example from above:\n",
    "\n",
    "<x=-8, y=-10, z=0>\n",
    "<x=5, y=5, z=10>\n",
    "<x=2, y=-7, z=3>\n",
    "<x=9, y=-8, z=-3>\n",
    "This set of initial positions takes 4686774924 steps before it repeats a previous state! Clearly, you might need to find a more efficient way to simulate the universe.\n",
    "\n",
    "How many steps does it take to reach the first state that exactly matches a previous state?\n",
    "```"
   ]
  },
  {
   "cell_type": "markdown",
   "metadata": {},
   "source": [
    "Hmm...I don't know how to interpret the \"find a more efficient way\" bit here.  It seems like a brute force approach here makes more sense than trying to reason about position and velocity in a 3-dimensional space"
   ]
  },
  {
   "cell_type": "markdown",
   "metadata": {},
   "source": [
    "~I think implementing an equality method within the Moon class will make it cleaner~ no, we are comparing all of them to their previous selves so it's just gonna be annoying.  Really some kind of composition where the moon contains a position would be where the equality method would make sense.  But I'm just gonna use a list of tuples instead"
   ]
  },
  {
   "cell_type": "code",
   "execution_count": 66,
   "metadata": {},
   "outputs": [],
   "source": [
    "class Moon:\n",
    "    def __init__(self, x_pos, y_pos, z_pos):\n",
    "        self.x_pos = x_pos\n",
    "        self.y_pos = y_pos\n",
    "        self.z_pos = z_pos\n",
    "        \n",
    "        self.x_vel = 0\n",
    "        self.y_vel = 0\n",
    "        self.z_vel = 0\n",
    "        \n",
    "        self.total_energy = 0\n",
    "        self.past_states = []\n",
    "        state_as_tuple = (self.x_pos, self.y_pos, self.z_pos, self.x_vel, self.y_vel, self.z_vel)\n",
    "        self.past_states.append(state_as_tuple)\n",
    "        self.has_been_here_before = False\n",
    "        \n",
    "    def __repr__(self):\n",
    "        \"\"\"\n",
    "        Implementing this similarly to the example, but not going to\n",
    "        worry about aligning whitespace with other moons\n",
    "        \"\"\"\n",
    "        pos = f'pos=<x={self.x_pos}, y={self.y_pos}, z={self.z_pos}>'\n",
    "        vel = f'vel=<x={self.x_vel}, y={self.y_vel}, z={self.z_vel}>'\n",
    "        return f'{pos}, {vel}'\n",
    "    \n",
    "    def apply_gravity(self, other_moon):\n",
    "        \"\"\"\n",
    "        Update the velocity of self based on the position of other_moon\n",
    "        \n",
    "        This does not modify other_moon, which is somewhat less computationally\n",
    "        efficient but easier to read in my opinion\n",
    "        \"\"\"\n",
    "        if other_moon.x_pos > self.x_pos:\n",
    "            self.x_vel += 1\n",
    "        elif other_moon.x_pos < self.x_pos:\n",
    "            self.x_vel -= 1\n",
    "            \n",
    "        if other_moon.y_pos > self.y_pos:\n",
    "            self.y_vel += 1\n",
    "        elif other_moon.y_pos < self.y_pos:\n",
    "            self.y_vel -= 1\n",
    "            \n",
    "        if other_moon.z_pos > self.z_pos:\n",
    "            self.z_vel += 1\n",
    "        elif other_moon.z_pos < self.z_pos:\n",
    "            self.z_vel -= 1\n",
    "            \n",
    "    def apply_velocity(self):\n",
    "        \"\"\"\n",
    "        Update the position of self based on the velocity of self\n",
    "        \"\"\"\n",
    "        self.x_pos += self.x_vel\n",
    "        self.y_pos += self.y_vel\n",
    "        self.z_pos += self.z_vel\n",
    "        \n",
    "        state_as_tuple = (self.x_pos, self.y_pos, self.z_pos, self.x_vel, self.y_vel, self.z_vel)\n",
    "        if state_as_tuple in self.past_states:\n",
    "            self.has_been_here_before = True\n",
    "        else:\n",
    "            self.has_been_here_before = False\n",
    "        \n",
    "        self.past_states.append(state_as_tuple)\n",
    "        \n",
    "    def update_total_energy(self):\n",
    "        \"\"\"\n",
    "        Update the overall total energy for this moon, and also return\n",
    "        the total energy for this step\n",
    "        \"\"\"\n",
    "        potential_energy = abs(self.x_pos) + abs(self.y_pos) + abs(self.z_pos)\n",
    "        kinetic_energy = abs(self.x_vel) + abs(self.y_vel) + abs(self.z_vel)\n",
    "        total_energy = potential_energy * kinetic_energy\n",
    "        \n",
    "        self.total_energy = total_energy\n",
    "        \n",
    "        return total_energy"
   ]
  },
  {
   "cell_type": "code",
   "execution_count": 59,
   "metadata": {},
   "outputs": [],
   "source": [
    "moon_list = build_moon_list(example1)\n",
    "steps = 0\n",
    "while True:\n",
    "    steps += 1\n",
    "    update_all_moons(moon_list)\n",
    "    new_territory = False\n",
    "    for moon in moon_list:\n",
    "        if not moon.has_been_here_before:\n",
    "            new_territory = True\n",
    "    if not new_territory:\n",
    "        break\n",
    "    "
   ]
  },
  {
   "cell_type": "code",
   "execution_count": 60,
   "metadata": {},
   "outputs": [
    {
     "data": {
      "text/plain": [
       "1955"
      ]
     },
     "execution_count": 60,
     "metadata": {},
     "output_type": "execute_result"
    }
   ],
   "source": [
    "steps"
   ]
  },
  {
   "cell_type": "markdown",
   "metadata": {},
   "source": [
    "Well that's not correct, it should be 2772 steps"
   ]
  },
  {
   "cell_type": "code",
   "execution_count": 63,
   "metadata": {},
   "outputs": [],
   "source": [
    "moon_list = build_moon_list(example1)\n",
    "steps = 0\n",
    "while True:\n",
    "    steps += 1\n",
    "    update_all_moons(moon_list)\n",
    "    if (moon_list[0].has_been_here_before and\n",
    "        moon_list[1].has_been_here_before and\n",
    "        moon_list[2].has_been_here_before and\n",
    "        moon_list[3].has_been_here_before):\n",
    "        \n",
    "        break"
   ]
  },
  {
   "cell_type": "code",
   "execution_count": 64,
   "metadata": {},
   "outputs": [
    {
     "data": {
      "text/plain": [
       "1955"
      ]
     },
     "execution_count": 64,
     "metadata": {},
     "output_type": "execute_result"
    }
   ],
   "source": [
    "steps"
   ]
  },
  {
   "cell_type": "markdown",
   "metadata": {},
   "source": [
    "Exactly the same issue, so there' something else wrong"
   ]
  },
  {
   "cell_type": "markdown",
   "metadata": {},
   "source": [
    "Oh, it must be that they all had to be in that same place at the same time, this is saying that after 1955 each of them have been in that place before, but not at the same time that the other moons were in that place before"
   ]
  },
  {
   "cell_type": "code",
   "execution_count": 74,
   "metadata": {},
   "outputs": [],
   "source": [
    "class Moon:\n",
    "    def __init__(self, x_pos, y_pos, z_pos):\n",
    "        self.x_pos = x_pos\n",
    "        self.y_pos = y_pos\n",
    "        self.z_pos = z_pos\n",
    "        \n",
    "        self.x_vel = 0\n",
    "        self.y_vel = 0\n",
    "        self.z_vel = 0\n",
    "        \n",
    "        self.state_as_tuple = (self.x_pos, self.y_pos, self.z_pos, self.x_vel, self.y_vel, self.z_vel)\n",
    "        \n",
    "        self.total_energy = 0\n",
    "        self.past_states = []\n",
    "        \n",
    "        self.past_states.append(self.state_as_tuple)\n",
    "        \n",
    "    def __repr__(self):\n",
    "        \"\"\"\n",
    "        Implementing this similarly to the example, but not going to\n",
    "        worry about aligning whitespace with other moons\n",
    "        \"\"\"\n",
    "        pos = f'pos=<x={self.x_pos}, y={self.y_pos}, z={self.z_pos}>'\n",
    "        vel = f'vel=<x={self.x_vel}, y={self.y_vel}, z={self.z_vel}>'\n",
    "        return f'{pos}, {vel}'\n",
    "    \n",
    "    def apply_gravity(self, other_moon):\n",
    "        \"\"\"\n",
    "        Update the velocity of self based on the position of other_moon\n",
    "        \n",
    "        This does not modify other_moon, which is somewhat less computationally\n",
    "        efficient but easier to read in my opinion\n",
    "        \"\"\"\n",
    "        if other_moon.x_pos > self.x_pos:\n",
    "            self.x_vel += 1\n",
    "        elif other_moon.x_pos < self.x_pos:\n",
    "            self.x_vel -= 1\n",
    "            \n",
    "        if other_moon.y_pos > self.y_pos:\n",
    "            self.y_vel += 1\n",
    "        elif other_moon.y_pos < self.y_pos:\n",
    "            self.y_vel -= 1\n",
    "            \n",
    "        if other_moon.z_pos > self.z_pos:\n",
    "            self.z_vel += 1\n",
    "        elif other_moon.z_pos < self.z_pos:\n",
    "            self.z_vel -= 1\n",
    "            \n",
    "    def apply_velocity(self):\n",
    "        \"\"\"\n",
    "        Update the position of self based on the velocity of self\n",
    "        \"\"\"\n",
    "        self.x_pos += self.x_vel\n",
    "        self.y_pos += self.y_vel\n",
    "        self.z_pos += self.z_vel\n",
    "        \n",
    "        self.state_as_tuple = (self.x_pos, self.y_pos, self.z_pos, self.x_vel, self.y_vel, self.z_vel)\n",
    "        self.past_states.append(self.state_as_tuple)\n",
    "        \n",
    "    def update_total_energy(self):\n",
    "        \"\"\"\n",
    "        Update the overall total energy for this moon, and also return\n",
    "        the total energy for this step\n",
    "        \"\"\"\n",
    "        potential_energy = abs(self.x_pos) + abs(self.y_pos) + abs(self.z_pos)\n",
    "        kinetic_energy = abs(self.x_vel) + abs(self.y_vel) + abs(self.z_vel)\n",
    "        total_energy = potential_energy * kinetic_energy\n",
    "        \n",
    "        self.total_energy = total_energy\n",
    "        \n",
    "        return total_energy\n",
    "    \n",
    "    def last_step_when_we_were_here(self):\n",
    "        if self.state_as_tuple in self.past_states[:-1]:\n",
    "            return self.past_states.index(self.state_as_tuple)\n",
    "        else:\n",
    "            return -1"
   ]
  },
  {
   "cell_type": "code",
   "execution_count": 75,
   "metadata": {},
   "outputs": [],
   "source": [
    "moon_list = build_moon_list(example1)\n",
    "steps = 0\n",
    "while True:\n",
    "    steps += 1\n",
    "    update_all_moons(moon_list)\n",
    "    moon_1_last_here = moon_list[0].last_step_when_we_were_here()\n",
    "    moon_2_last_here = moon_list[1].last_step_when_we_were_here()\n",
    "    moon_3_last_here = moon_list[2].last_step_when_we_were_here()\n",
    "    moon_4_last_here = moon_list[3].last_step_when_we_were_here()\n",
    "    if (moon_1_last_here != -1 and\n",
    "        moon_1_last_here == moon_2_last_here and\n",
    "        moon_2_last_here == moon_3_last_here and\n",
    "        moon_3_last_here == moon_4_last_here):\n",
    "        break"
   ]
  },
  {
   "cell_type": "code",
   "execution_count": 76,
   "metadata": {},
   "outputs": [
    {
     "data": {
      "text/plain": [
       "2772"
      ]
     },
     "execution_count": 76,
     "metadata": {},
     "output_type": "execute_result"
    }
   ],
   "source": [
    "steps"
   ]
  },
  {
   "cell_type": "code",
   "execution_count": 77,
   "metadata": {},
   "outputs": [
    {
     "ename": "KeyboardInterrupt",
     "evalue": "",
     "output_type": "error",
     "traceback": [
      "\u001b[0;31m---------------------------------------------------------------------------\u001b[0m",
      "\u001b[0;31mKeyboardInterrupt\u001b[0m                         Traceback (most recent call last)",
      "\u001b[0;32m<ipython-input-77-523f79b465ce>\u001b[0m in \u001b[0;36m<module>\u001b[0;34m\u001b[0m\n\u001b[1;32m      4\u001b[0m     \u001b[0msteps\u001b[0m \u001b[0;34m+=\u001b[0m \u001b[0;36m1\u001b[0m\u001b[0;34m\u001b[0m\u001b[0;34m\u001b[0m\u001b[0m\n\u001b[1;32m      5\u001b[0m     \u001b[0mupdate_all_moons\u001b[0m\u001b[0;34m(\u001b[0m\u001b[0mmoon_list\u001b[0m\u001b[0;34m)\u001b[0m\u001b[0;34m\u001b[0m\u001b[0;34m\u001b[0m\u001b[0m\n\u001b[0;32m----> 6\u001b[0;31m     \u001b[0mmoon_1_last_here\u001b[0m \u001b[0;34m=\u001b[0m \u001b[0mmoon_list\u001b[0m\u001b[0;34m[\u001b[0m\u001b[0;36m0\u001b[0m\u001b[0;34m]\u001b[0m\u001b[0;34m.\u001b[0m\u001b[0mlast_step_when_we_were_here\u001b[0m\u001b[0;34m(\u001b[0m\u001b[0;34m)\u001b[0m\u001b[0;34m\u001b[0m\u001b[0;34m\u001b[0m\u001b[0m\n\u001b[0m\u001b[1;32m      7\u001b[0m     \u001b[0mmoon_2_last_here\u001b[0m \u001b[0;34m=\u001b[0m \u001b[0mmoon_list\u001b[0m\u001b[0;34m[\u001b[0m\u001b[0;36m1\u001b[0m\u001b[0;34m]\u001b[0m\u001b[0;34m.\u001b[0m\u001b[0mlast_step_when_we_were_here\u001b[0m\u001b[0;34m(\u001b[0m\u001b[0;34m)\u001b[0m\u001b[0;34m\u001b[0m\u001b[0;34m\u001b[0m\u001b[0m\n\u001b[1;32m      8\u001b[0m     \u001b[0mmoon_3_last_here\u001b[0m \u001b[0;34m=\u001b[0m \u001b[0mmoon_list\u001b[0m\u001b[0;34m[\u001b[0m\u001b[0;36m2\u001b[0m\u001b[0;34m]\u001b[0m\u001b[0;34m.\u001b[0m\u001b[0mlast_step_when_we_were_here\u001b[0m\u001b[0;34m(\u001b[0m\u001b[0;34m)\u001b[0m\u001b[0;34m\u001b[0m\u001b[0;34m\u001b[0m\u001b[0m\n",
      "\u001b[0;32m<ipython-input-74-86379695738f>\u001b[0m in \u001b[0;36mlast_step_when_we_were_here\u001b[0;34m(self)\u001b[0m\n\u001b[1;32m     72\u001b[0m \u001b[0;34m\u001b[0m\u001b[0m\n\u001b[1;32m     73\u001b[0m     \u001b[0;32mdef\u001b[0m \u001b[0mlast_step_when_we_were_here\u001b[0m\u001b[0;34m(\u001b[0m\u001b[0mself\u001b[0m\u001b[0;34m)\u001b[0m\u001b[0;34m:\u001b[0m\u001b[0;34m\u001b[0m\u001b[0;34m\u001b[0m\u001b[0m\n\u001b[0;32m---> 74\u001b[0;31m         \u001b[0;32mif\u001b[0m \u001b[0mself\u001b[0m\u001b[0;34m.\u001b[0m\u001b[0mstate_as_tuple\u001b[0m \u001b[0;32min\u001b[0m \u001b[0mself\u001b[0m\u001b[0;34m.\u001b[0m\u001b[0mpast_states\u001b[0m\u001b[0;34m[\u001b[0m\u001b[0;34m:\u001b[0m\u001b[0;34m-\u001b[0m\u001b[0;36m1\u001b[0m\u001b[0;34m]\u001b[0m\u001b[0;34m:\u001b[0m\u001b[0;34m\u001b[0m\u001b[0;34m\u001b[0m\u001b[0m\n\u001b[0m\u001b[1;32m     75\u001b[0m             \u001b[0;32mreturn\u001b[0m \u001b[0mself\u001b[0m\u001b[0;34m.\u001b[0m\u001b[0mpast_states\u001b[0m\u001b[0;34m.\u001b[0m\u001b[0mindex\u001b[0m\u001b[0;34m(\u001b[0m\u001b[0mself\u001b[0m\u001b[0;34m.\u001b[0m\u001b[0mstate_as_tuple\u001b[0m\u001b[0;34m)\u001b[0m\u001b[0;34m\u001b[0m\u001b[0;34m\u001b[0m\u001b[0m\n\u001b[1;32m     76\u001b[0m         \u001b[0;32melse\u001b[0m\u001b[0;34m:\u001b[0m\u001b[0;34m\u001b[0m\u001b[0;34m\u001b[0m\u001b[0m\n",
      "\u001b[0;31mKeyboardInterrupt\u001b[0m: "
     ]
    }
   ],
   "source": [
    "moon_list = build_moon_list(input_str)\n",
    "steps = 0\n",
    "while True:\n",
    "    steps += 1\n",
    "    update_all_moons(moon_list)\n",
    "    moon_1_last_here = moon_list[0].last_step_when_we_were_here()\n",
    "    moon_2_last_here = moon_list[1].last_step_when_we_were_here()\n",
    "    moon_3_last_here = moon_list[2].last_step_when_we_were_here()\n",
    "    moon_4_last_here = moon_list[3].last_step_when_we_were_here()\n",
    "    if (moon_1_last_here != -1 and\n",
    "        moon_1_last_here == moon_2_last_here and\n",
    "        moon_2_last_here == moon_3_last_here and\n",
    "        moon_3_last_here == moon_4_last_here):\n",
    "        break"
   ]
  },
  {
   "cell_type": "markdown",
   "metadata": {},
   "source": [
    "Yup, that ran for way too long.  Let's see if using a hashmap of states will resolve it (avoiding the need to do this in a physics-y way rather than a brute force way)\n",
    "\n",
    "The state as a tuple needs to be the key...what should the value be?  We've already established that we need to incorporate information about _when_ the moon is at a given location, to make sure that all moons were there at the same time\n",
    "\n",
    "Appending to a list of step numbers could be costly in theory, but I don't think they overlap that much?\n",
    "\n",
    "So, key is the tuple of state info, value is the current step"
   ]
  },
  {
   "cell_type": "code",
   "execution_count": 90,
   "metadata": {},
   "outputs": [],
   "source": [
    "class Moon:\n",
    "    def __init__(self, x_pos, y_pos, z_pos):\n",
    "        self.x_pos = x_pos\n",
    "        self.y_pos = y_pos\n",
    "        self.z_pos = z_pos\n",
    "        \n",
    "        self.x_vel = 0\n",
    "        self.y_vel = 0\n",
    "        self.z_vel = 0\n",
    "        \n",
    "        self.total_energy = 0\n",
    "        self.past_states = {}\n",
    "        \n",
    "        state_as_tuple = (self.x_pos, self.y_pos, self.z_pos, self.x_vel, self.y_vel, self.z_vel)\n",
    "        self.past_states[state_as_tuple] = [0]\n",
    "        \n",
    "    def __repr__(self):\n",
    "        \"\"\"\n",
    "        Implementing this similarly to the example, but not going to\n",
    "        worry about aligning whitespace with other moons\n",
    "        \"\"\"\n",
    "        pos = f'pos=<x={self.x_pos}, y={self.y_pos}, z={self.z_pos}>'\n",
    "        vel = f'vel=<x={self.x_vel}, y={self.y_vel}, z={self.z_vel}>'\n",
    "        return f'{pos}, {vel}'\n",
    "    \n",
    "    def apply_gravity(self, other_moon):\n",
    "        \"\"\"\n",
    "        Update the velocity of self based on the position of other_moon\n",
    "        \n",
    "        This does not modify other_moon, which is somewhat less computationally\n",
    "        efficient but easier to read in my opinion\n",
    "        \"\"\"\n",
    "        if other_moon.x_pos > self.x_pos:\n",
    "            self.x_vel += 1\n",
    "        elif other_moon.x_pos < self.x_pos:\n",
    "            self.x_vel -= 1\n",
    "            \n",
    "        if other_moon.y_pos > self.y_pos:\n",
    "            self.y_vel += 1\n",
    "        elif other_moon.y_pos < self.y_pos:\n",
    "            self.y_vel -= 1\n",
    "            \n",
    "        if other_moon.z_pos > self.z_pos:\n",
    "            self.z_vel += 1\n",
    "        elif other_moon.z_pos < self.z_pos:\n",
    "            self.z_vel -= 1\n",
    "            \n",
    "    def apply_velocity(self, step):\n",
    "        \"\"\"\n",
    "        Update the position of self based on the velocity of self\n",
    "        \"\"\"\n",
    "        self.x_pos += self.x_vel\n",
    "        self.y_pos += self.y_vel\n",
    "        self.z_pos += self.z_vel\n",
    "        \n",
    "        state_as_tuple = (self.x_pos, self.y_pos, self.z_pos, self.x_vel, self.y_vel, self.z_vel)\n",
    "        if state_as_tuple in self.past_states:\n",
    "            past_steps = self.past_states[state_as_tuple][:]\n",
    "            self.past_states[state_as_tuple].append(step)\n",
    "        else:\n",
    "            past_steps = []\n",
    "            self.past_states[state_as_tuple] = [step]\n",
    "            \n",
    "        return past_steps\n",
    "        \n",
    "    def update_total_energy(self):\n",
    "        \"\"\"\n",
    "        Update the overall total energy for this moon, and also return\n",
    "        the total energy for this step\n",
    "        \"\"\"\n",
    "        potential_energy = abs(self.x_pos) + abs(self.y_pos) + abs(self.z_pos)\n",
    "        kinetic_energy = abs(self.x_vel) + abs(self.y_vel) + abs(self.z_vel)\n",
    "        total_energy = potential_energy * kinetic_energy\n",
    "        \n",
    "        self.total_energy = total_energy\n",
    "        \n",
    "        return total_energy"
   ]
  },
  {
   "cell_type": "markdown",
   "metadata": {},
   "source": [
    "Also let's not do any unnecessary enumeration, even though it makes the code more verbose"
   ]
  },
  {
   "cell_type": "code",
   "execution_count": 84,
   "metadata": {},
   "outputs": [
    {
     "name": "stdout",
     "output_type": "stream",
     "text": [
      "it was falsey\n"
     ]
    }
   ],
   "source": [
    "example_set = set()\n",
    "if example_set:\n",
    "    print(\"it was truthy\")\n",
    "else:\n",
    "    print(\"it was falsey\")"
   ]
  },
  {
   "cell_type": "code",
   "execution_count": 91,
   "metadata": {},
   "outputs": [
    {
     "name": "stdout",
     "output_type": "stream",
     "text": [
      "[]\n",
      "{107, 1031}\n",
      "{1433}\n",
      "{1339}\n",
      "{107, 1031}\n",
      "[]\n",
      "{1339, 415}\n",
      "{1741}\n",
      "{1031}\n",
      "{1339, 415}\n",
      "[0]\n",
      "{0, 1848, 924}\n",
      "{0}\n",
      "{0}\n",
      "{0, 1848, 924}\n"
     ]
    }
   ],
   "source": [
    "moon_list = build_moon_list(example1)\n",
    "moon_1 = moon_list[0]\n",
    "moon_2 = moon_list[1]\n",
    "moon_3 = moon_list[2]\n",
    "moon_4 = moon_list[3]\n",
    "step = 0\n",
    "while True:\n",
    "    step += 1\n",
    "    \n",
    "    moon_1.apply_gravity(moon_2)\n",
    "    moon_1.apply_gravity(moon_3)\n",
    "    moon_1.apply_gravity(moon_4)\n",
    "    \n",
    "    moon_2.apply_gravity(moon_1)\n",
    "    moon_2.apply_gravity(moon_3)\n",
    "    moon_2.apply_gravity(moon_4)\n",
    "    \n",
    "    moon_3.apply_gravity(moon_1)\n",
    "    moon_3.apply_gravity(moon_2)\n",
    "    moon_3.apply_gravity(moon_4)\n",
    "    \n",
    "    moon_4.apply_gravity(moon_1)\n",
    "    moon_4.apply_gravity(moon_2)\n",
    "    moon_4.apply_gravity(moon_3)\n",
    "    \n",
    "    moon_1_past_steps = set(moon_1.apply_velocity(step))\n",
    "    moon_2_past_steps = set(moon_2.apply_velocity(step))\n",
    "    moon_3_past_steps = set(moon_3.apply_velocity(step))\n",
    "    moon_4_past_steps = set(moon_4.apply_velocity(step))\n",
    "    \n",
    "    # empty sets are falsey\n",
    "    if (moon_1_past_steps and moon_2_past_steps and moon_3_past_steps and moon_4_past_steps):\n",
    "        # find intersection of all sets\n",
    "        overlap = list(moon_1_past_steps & moon_2_past_steps & moon_3_past_steps & moon_4_past_steps)\n",
    "        print(overlap)\n",
    "        print(moon_1_past_steps)\n",
    "        print(moon_2_past_steps)\n",
    "        print(moon_3_past_steps)\n",
    "        print(moon_4_past_steps)\n",
    "        if len(overlap) > 0:\n",
    "            break\n",
    "    "
   ]
  },
  {
   "cell_type": "code",
   "execution_count": 92,
   "metadata": {},
   "outputs": [
    {
     "data": {
      "text/plain": [
       "2772"
      ]
     },
     "execution_count": 92,
     "metadata": {},
     "output_type": "execute_result"
    }
   ],
   "source": [
    "step"
   ]
  },
  {
   "cell_type": "code",
   "execution_count": 93,
   "metadata": {},
   "outputs": [],
   "source": [
    "moon_list = build_moon_list(example1)\n",
    "moon_1 = moon_list[0]\n",
    "moon_2 = moon_list[1]\n",
    "moon_3 = moon_list[2]\n",
    "moon_4 = moon_list[3]\n",
    "step = 0\n",
    "while True:\n",
    "    step += 1\n",
    "    \n",
    "    moon_1.apply_gravity(moon_2)\n",
    "    moon_1.apply_gravity(moon_3)\n",
    "    moon_1.apply_gravity(moon_4)\n",
    "    \n",
    "    moon_2.apply_gravity(moon_1)\n",
    "    moon_2.apply_gravity(moon_3)\n",
    "    moon_2.apply_gravity(moon_4)\n",
    "    \n",
    "    moon_3.apply_gravity(moon_1)\n",
    "    moon_3.apply_gravity(moon_2)\n",
    "    moon_3.apply_gravity(moon_4)\n",
    "    \n",
    "    moon_4.apply_gravity(moon_1)\n",
    "    moon_4.apply_gravity(moon_2)\n",
    "    moon_4.apply_gravity(moon_3)\n",
    "    \n",
    "    moon_1_past_steps = set(moon_1.apply_velocity(step))\n",
    "    moon_2_past_steps = set(moon_2.apply_velocity(step))\n",
    "    moon_3_past_steps = set(moon_3.apply_velocity(step))\n",
    "    moon_4_past_steps = set(moon_4.apply_velocity(step))\n",
    "    \n",
    "    # find intersection of all sets\n",
    "    overlap = list(moon_1_past_steps & moon_2_past_steps & moon_3_past_steps & moon_4_past_steps)\n",
    "    if len(overlap) > 0:\n",
    "        break\n",
    "    "
   ]
  },
  {
   "cell_type": "code",
   "execution_count": 94,
   "metadata": {},
   "outputs": [
    {
     "data": {
      "text/plain": [
       "2772"
      ]
     },
     "execution_count": 94,
     "metadata": {},
     "output_type": "execute_result"
    }
   ],
   "source": [
    "step"
   ]
  },
  {
   "cell_type": "code",
   "execution_count": 95,
   "metadata": {},
   "outputs": [
    {
     "ename": "KeyboardInterrupt",
     "evalue": "",
     "output_type": "error",
     "traceback": [
      "\u001b[0;31m---------------------------------------------------------------------------\u001b[0m",
      "\u001b[0;31mKeyboardInterrupt\u001b[0m                         Traceback (most recent call last)",
      "\u001b[0;32m<ipython-input-95-e59ba48943c7>\u001b[0m in \u001b[0;36m<module>\u001b[0;34m\u001b[0m\n\u001b[1;32m     27\u001b[0m     \u001b[0mmoon_2_past_steps\u001b[0m \u001b[0;34m=\u001b[0m \u001b[0mset\u001b[0m\u001b[0;34m(\u001b[0m\u001b[0mmoon_2\u001b[0m\u001b[0;34m.\u001b[0m\u001b[0mapply_velocity\u001b[0m\u001b[0;34m(\u001b[0m\u001b[0mstep\u001b[0m\u001b[0;34m)\u001b[0m\u001b[0;34m)\u001b[0m\u001b[0;34m\u001b[0m\u001b[0;34m\u001b[0m\u001b[0m\n\u001b[1;32m     28\u001b[0m     \u001b[0mmoon_3_past_steps\u001b[0m \u001b[0;34m=\u001b[0m \u001b[0mset\u001b[0m\u001b[0;34m(\u001b[0m\u001b[0mmoon_3\u001b[0m\u001b[0;34m.\u001b[0m\u001b[0mapply_velocity\u001b[0m\u001b[0;34m(\u001b[0m\u001b[0mstep\u001b[0m\u001b[0;34m)\u001b[0m\u001b[0;34m)\u001b[0m\u001b[0;34m\u001b[0m\u001b[0;34m\u001b[0m\u001b[0m\n\u001b[0;32m---> 29\u001b[0;31m     \u001b[0mmoon_4_past_steps\u001b[0m \u001b[0;34m=\u001b[0m \u001b[0mset\u001b[0m\u001b[0;34m(\u001b[0m\u001b[0mmoon_4\u001b[0m\u001b[0;34m.\u001b[0m\u001b[0mapply_velocity\u001b[0m\u001b[0;34m(\u001b[0m\u001b[0mstep\u001b[0m\u001b[0;34m)\u001b[0m\u001b[0;34m)\u001b[0m\u001b[0;34m\u001b[0m\u001b[0;34m\u001b[0m\u001b[0m\n\u001b[0m\u001b[1;32m     30\u001b[0m \u001b[0;34m\u001b[0m\u001b[0m\n\u001b[1;32m     31\u001b[0m     \u001b[0;31m# find intersection of all sets\u001b[0m\u001b[0;34m\u001b[0m\u001b[0;34m\u001b[0m\u001b[0;34m\u001b[0m\u001b[0m\n",
      "\u001b[0;32m<ipython-input-90-772051ce913a>\u001b[0m in \u001b[0;36mapply_velocity\u001b[0;34m(self, step)\u001b[0m\n\u001b[1;32m     55\u001b[0m \u001b[0;34m\u001b[0m\u001b[0m\n\u001b[1;32m     56\u001b[0m         \u001b[0mstate_as_tuple\u001b[0m \u001b[0;34m=\u001b[0m \u001b[0;34m(\u001b[0m\u001b[0mself\u001b[0m\u001b[0;34m.\u001b[0m\u001b[0mx_pos\u001b[0m\u001b[0;34m,\u001b[0m \u001b[0mself\u001b[0m\u001b[0;34m.\u001b[0m\u001b[0my_pos\u001b[0m\u001b[0;34m,\u001b[0m \u001b[0mself\u001b[0m\u001b[0;34m.\u001b[0m\u001b[0mz_pos\u001b[0m\u001b[0;34m,\u001b[0m \u001b[0mself\u001b[0m\u001b[0;34m.\u001b[0m\u001b[0mx_vel\u001b[0m\u001b[0;34m,\u001b[0m \u001b[0mself\u001b[0m\u001b[0;34m.\u001b[0m\u001b[0my_vel\u001b[0m\u001b[0;34m,\u001b[0m \u001b[0mself\u001b[0m\u001b[0;34m.\u001b[0m\u001b[0mz_vel\u001b[0m\u001b[0;34m)\u001b[0m\u001b[0;34m\u001b[0m\u001b[0;34m\u001b[0m\u001b[0m\n\u001b[0;32m---> 57\u001b[0;31m         \u001b[0;32mif\u001b[0m \u001b[0mstate_as_tuple\u001b[0m \u001b[0;32min\u001b[0m \u001b[0mself\u001b[0m\u001b[0;34m.\u001b[0m\u001b[0mpast_states\u001b[0m\u001b[0;34m:\u001b[0m\u001b[0;34m\u001b[0m\u001b[0;34m\u001b[0m\u001b[0m\n\u001b[0m\u001b[1;32m     58\u001b[0m             \u001b[0mpast_steps\u001b[0m \u001b[0;34m=\u001b[0m \u001b[0mself\u001b[0m\u001b[0;34m.\u001b[0m\u001b[0mpast_states\u001b[0m\u001b[0;34m[\u001b[0m\u001b[0mstate_as_tuple\u001b[0m\u001b[0;34m]\u001b[0m\u001b[0;34m[\u001b[0m\u001b[0;34m:\u001b[0m\u001b[0;34m]\u001b[0m\u001b[0;34m\u001b[0m\u001b[0;34m\u001b[0m\u001b[0m\n\u001b[1;32m     59\u001b[0m             \u001b[0mself\u001b[0m\u001b[0;34m.\u001b[0m\u001b[0mpast_states\u001b[0m\u001b[0;34m[\u001b[0m\u001b[0mstate_as_tuple\u001b[0m\u001b[0;34m]\u001b[0m\u001b[0;34m.\u001b[0m\u001b[0mappend\u001b[0m\u001b[0;34m(\u001b[0m\u001b[0mstep\u001b[0m\u001b[0;34m)\u001b[0m\u001b[0;34m\u001b[0m\u001b[0;34m\u001b[0m\u001b[0m\n",
      "\u001b[0;31mKeyboardInterrupt\u001b[0m: "
     ]
    }
   ],
   "source": [
    "moon_list = build_moon_list(input_str)\n",
    "moon_1 = moon_list[0]\n",
    "moon_2 = moon_list[1]\n",
    "moon_3 = moon_list[2]\n",
    "moon_4 = moon_list[3]\n",
    "step = 0\n",
    "while True:\n",
    "    step += 1\n",
    "    \n",
    "    moon_1.apply_gravity(moon_2)\n",
    "    moon_1.apply_gravity(moon_3)\n",
    "    moon_1.apply_gravity(moon_4)\n",
    "    \n",
    "    moon_2.apply_gravity(moon_1)\n",
    "    moon_2.apply_gravity(moon_3)\n",
    "    moon_2.apply_gravity(moon_4)\n",
    "    \n",
    "    moon_3.apply_gravity(moon_1)\n",
    "    moon_3.apply_gravity(moon_2)\n",
    "    moon_3.apply_gravity(moon_4)\n",
    "    \n",
    "    moon_4.apply_gravity(moon_1)\n",
    "    moon_4.apply_gravity(moon_2)\n",
    "    moon_4.apply_gravity(moon_3)\n",
    "    \n",
    "    moon_1_past_steps = set(moon_1.apply_velocity(step))\n",
    "    moon_2_past_steps = set(moon_2.apply_velocity(step))\n",
    "    moon_3_past_steps = set(moon_3.apply_velocity(step))\n",
    "    moon_4_past_steps = set(moon_4.apply_velocity(step))\n",
    "    \n",
    "    # find intersection of all sets\n",
    "    overlap = list(moon_1_past_steps & moon_2_past_steps & moon_3_past_steps & moon_4_past_steps)\n",
    "    if len(overlap) > 0:\n",
    "        break"
   ]
  },
  {
   "cell_type": "markdown",
   "metadata": {},
   "source": [
    "Yeah, the data structures way didn't resolve it.  I think they have just given too broad of a problem for this approach to be possible?  Which is annoying given the \"every problem has a solution that completes in at most 15 seconds on ten-year-old hardware\" bit on the About page"
   ]
  },
  {
   "cell_type": "markdown",
   "metadata": {},
   "source": [
    "Ok, I looked [on Reddit](https://www.reddit.com/r/adventofcode/comments/e9jxh2/help_2019_day_12_part_2_what_am_i_not_seeing/) again, and apparently we're supposed to realize that each dimension has its own mini cycles that eventually all meet up with each other.  I don't see how that's a reasonable assumption but I'll move forward with it"
   ]
  },
  {
   "cell_type": "code",
   "execution_count": 98,
   "metadata": {},
   "outputs": [],
   "source": [
    "class Moon:\n",
    "    def __init__(self, x_pos, y_pos, z_pos):\n",
    "        self.x_pos = x_pos\n",
    "        self.y_pos = y_pos\n",
    "        self.z_pos = z_pos\n",
    "        \n",
    "        self.x_vel = 0\n",
    "        self.y_vel = 0\n",
    "        self.z_vel = 0\n",
    "        \n",
    "        self.total_energy = 0\n",
    "        \n",
    "    def __repr__(self):\n",
    "        \"\"\"\n",
    "        Implementing this similarly to the example, but not going to\n",
    "        worry about aligning whitespace with other moons\n",
    "        \"\"\"\n",
    "        pos = f'pos=<x={self.x_pos}, y={self.y_pos}, z={self.z_pos}>'\n",
    "        vel = f'vel=<x={self.x_vel}, y={self.y_vel}, z={self.z_vel}>'\n",
    "        return f'{pos}, {vel}'\n",
    "    \n",
    "    def apply_gravity(self, other_moon):\n",
    "        \"\"\"\n",
    "        Update the velocity of self based on the position of other_moon\n",
    "        \n",
    "        This does not modify other_moon, which is somewhat less computationally\n",
    "        efficient but easier to read in my opinion\n",
    "        \"\"\"\n",
    "        if other_moon.x_pos > self.x_pos:\n",
    "            self.x_vel += 1\n",
    "        elif other_moon.x_pos < self.x_pos:\n",
    "            self.x_vel -= 1\n",
    "            \n",
    "        if other_moon.y_pos > self.y_pos:\n",
    "            self.y_vel += 1\n",
    "        elif other_moon.y_pos < self.y_pos:\n",
    "            self.y_vel -= 1\n",
    "            \n",
    "        if other_moon.z_pos > self.z_pos:\n",
    "            self.z_vel += 1\n",
    "        elif other_moon.z_pos < self.z_pos:\n",
    "            self.z_vel -= 1\n",
    "            \n",
    "    def apply_velocity(self, step):\n",
    "        \"\"\"\n",
    "        Update the position of self based on the velocity of self\n",
    "        \"\"\"\n",
    "        self.x_pos += self.x_vel\n",
    "        self.y_pos += self.y_vel\n",
    "        self.z_pos += self.z_vel\n",
    "        \n",
    "    def update_total_energy(self):\n",
    "        \"\"\"\n",
    "        Update the overall total energy for this moon, and also return\n",
    "        the total energy for this step\n",
    "        \"\"\"\n",
    "        potential_energy = abs(self.x_pos) + abs(self.y_pos) + abs(self.z_pos)\n",
    "        kinetic_energy = abs(self.x_vel) + abs(self.y_vel) + abs(self.z_vel)\n",
    "        total_energy = potential_energy * kinetic_energy\n",
    "        \n",
    "        self.total_energy = total_energy\n",
    "        \n",
    "        return total_energy"
   ]
  },
  {
   "cell_type": "markdown",
   "metadata": {},
   "source": [
    "First, figure out how long it takes for X to cycle"
   ]
  },
  {
   "cell_type": "code",
   "execution_count": 99,
   "metadata": {},
   "outputs": [],
   "source": [
    "moon_list = build_moon_list(example1)\n",
    "moon_1 = moon_list[0]\n",
    "moon_2 = moon_list[1]\n",
    "moon_3 = moon_list[2]\n",
    "moon_4 = moon_list[3]\n",
    "\n",
    "moon_1_initial_x = (moon_1.x_pos, moon_1.x_vel)\n",
    "moon_2_initial_x = (moon_2.x_pos, moon_2.x_vel)\n",
    "moon_3_initial_x = (moon_3.x_pos, moon_3.x_vel)\n",
    "moon_4_initial_x = (moon_4.x_pos, moon_4.x_vel)\n",
    "\n",
    "step = 0\n",
    "while True:\n",
    "    step += 1\n",
    "    \n",
    "    moon_1.apply_gravity(moon_2)\n",
    "    moon_1.apply_gravity(moon_3)\n",
    "    moon_1.apply_gravity(moon_4)\n",
    "    \n",
    "    moon_2.apply_gravity(moon_1)\n",
    "    moon_2.apply_gravity(moon_3)\n",
    "    moon_2.apply_gravity(moon_4)\n",
    "    \n",
    "    moon_3.apply_gravity(moon_1)\n",
    "    moon_3.apply_gravity(moon_2)\n",
    "    moon_3.apply_gravity(moon_4)\n",
    "    \n",
    "    moon_4.apply_gravity(moon_1)\n",
    "    moon_4.apply_gravity(moon_2)\n",
    "    moon_4.apply_gravity(moon_3)\n",
    "    \n",
    "    moon_1.apply_velocity(step)\n",
    "    moon_2.apply_velocity(step)\n",
    "    moon_3.apply_velocity(step)\n",
    "    moon_4.apply_velocity(step)\n",
    "    \n",
    "    if ((moon_1.x_pos, moon_1.x_vel) == moon_1_initial_x and \n",
    "           (moon_2.x_pos, moon_2.x_vel) == moon_2_initial_x and\n",
    "           (moon_3.x_pos, moon_3.x_vel) == moon_3_initial_x and\n",
    "           (moon_4.x_pos, moon_4.x_vel) == moon_4_initial_x):\n",
    "        break"
   ]
  },
  {
   "cell_type": "code",
   "execution_count": 100,
   "metadata": {},
   "outputs": [
    {
     "data": {
      "text/plain": [
       "18"
      ]
     },
     "execution_count": 100,
     "metadata": {},
     "output_type": "execute_result"
    }
   ],
   "source": [
    "step"
   ]
  },
  {
   "cell_type": "code",
   "execution_count": 101,
   "metadata": {},
   "outputs": [],
   "source": [
    "moon_list = build_moon_list(example1)\n",
    "moon_1 = moon_list[0]\n",
    "moon_2 = moon_list[1]\n",
    "moon_3 = moon_list[2]\n",
    "moon_4 = moon_list[3]\n",
    "\n",
    "moon_1_initial_y = (moon_1.y_pos, moon_1.y_vel)\n",
    "moon_2_initial_y = (moon_2.y_pos, moon_2.y_vel)\n",
    "moon_3_initial_y = (moon_3.y_pos, moon_3.y_vel)\n",
    "moon_4_initial_y = (moon_4.y_pos, moon_4.y_vel)\n",
    "\n",
    "step = 0\n",
    "while True:\n",
    "    step += 1\n",
    "    \n",
    "    moon_1.apply_gravity(moon_2)\n",
    "    moon_1.apply_gravity(moon_3)\n",
    "    moon_1.apply_gravity(moon_4)\n",
    "    \n",
    "    moon_2.apply_gravity(moon_1)\n",
    "    moon_2.apply_gravity(moon_3)\n",
    "    moon_2.apply_gravity(moon_4)\n",
    "    \n",
    "    moon_3.apply_gravity(moon_1)\n",
    "    moon_3.apply_gravity(moon_2)\n",
    "    moon_3.apply_gravity(moon_4)\n",
    "    \n",
    "    moon_4.apply_gravity(moon_1)\n",
    "    moon_4.apply_gravity(moon_2)\n",
    "    moon_4.apply_gravity(moon_3)\n",
    "    \n",
    "    moon_1.apply_velocity(step)\n",
    "    moon_2.apply_velocity(step)\n",
    "    moon_3.apply_velocity(step)\n",
    "    moon_4.apply_velocity(step)\n",
    "    \n",
    "    if ((moon_1.y_pos, moon_1.y_vel) == moon_1_initial_y and \n",
    "           (moon_2.y_pos, moon_2.y_vel) == moon_2_initial_y and\n",
    "           (moon_3.y_pos, moon_3.y_vel) == moon_3_initial_y and\n",
    "           (moon_4.y_pos, moon_4.y_vel) == moon_4_initial_y):\n",
    "        break"
   ]
  },
  {
   "cell_type": "code",
   "execution_count": 102,
   "metadata": {},
   "outputs": [
    {
     "data": {
      "text/plain": [
       "28"
      ]
     },
     "execution_count": 102,
     "metadata": {},
     "output_type": "execute_result"
    }
   ],
   "source": [
    "step"
   ]
  },
  {
   "cell_type": "code",
   "execution_count": 103,
   "metadata": {},
   "outputs": [],
   "source": [
    "moon_list = build_moon_list(example1)\n",
    "moon_1 = moon_list[0]\n",
    "moon_2 = moon_list[1]\n",
    "moon_3 = moon_list[2]\n",
    "moon_4 = moon_list[3]\n",
    "\n",
    "moon_1_initial_z = (moon_1.z_pos, moon_1.z_vel)\n",
    "moon_2_initial_z = (moon_2.z_pos, moon_2.z_vel)\n",
    "moon_3_initial_z = (moon_3.z_pos, moon_3.z_vel)\n",
    "moon_4_initial_z = (moon_4.z_pos, moon_4.z_vel)\n",
    "\n",
    "step = 0\n",
    "while True:\n",
    "    step += 1\n",
    "    \n",
    "    moon_1.apply_gravity(moon_2)\n",
    "    moon_1.apply_gravity(moon_3)\n",
    "    moon_1.apply_gravity(moon_4)\n",
    "    \n",
    "    moon_2.apply_gravity(moon_1)\n",
    "    moon_2.apply_gravity(moon_3)\n",
    "    moon_2.apply_gravity(moon_4)\n",
    "    \n",
    "    moon_3.apply_gravity(moon_1)\n",
    "    moon_3.apply_gravity(moon_2)\n",
    "    moon_3.apply_gravity(moon_4)\n",
    "    \n",
    "    moon_4.apply_gravity(moon_1)\n",
    "    moon_4.apply_gravity(moon_2)\n",
    "    moon_4.apply_gravity(moon_3)\n",
    "    \n",
    "    moon_1.apply_velocity(step)\n",
    "    moon_2.apply_velocity(step)\n",
    "    moon_3.apply_velocity(step)\n",
    "    moon_4.apply_velocity(step)\n",
    "    \n",
    "    if ((moon_1.z_pos, moon_1.z_vel) == moon_1_initial_z and \n",
    "           (moon_2.z_pos, moon_2.z_vel) == moon_2_initial_z and\n",
    "           (moon_3.z_pos, moon_3.z_vel) == moon_3_initial_z and\n",
    "           (moon_4.z_pos, moon_4.z_vel) == moon_4_initial_z):\n",
    "        break"
   ]
  },
  {
   "cell_type": "code",
   "execution_count": 104,
   "metadata": {},
   "outputs": [
    {
     "data": {
      "text/plain": [
       "44"
      ]
     },
     "execution_count": 104,
     "metadata": {},
     "output_type": "execute_result"
    }
   ],
   "source": [
    "step"
   ]
  },
  {
   "cell_type": "code",
   "execution_count": 105,
   "metadata": {},
   "outputs": [],
   "source": [
    "import math"
   ]
  },
  {
   "cell_type": "code",
   "execution_count": 106,
   "metadata": {},
   "outputs": [
    {
     "data": {
      "text/plain": [
       "252"
      ]
     },
     "execution_count": 106,
     "metadata": {},
     "output_type": "execute_result"
    }
   ],
   "source": [
    "(18*28) // math.gcd(18, 28)"
   ]
  },
  {
   "cell_type": "code",
   "execution_count": 107,
   "metadata": {},
   "outputs": [
    {
     "data": {
      "text/plain": [
       "2772"
      ]
     },
     "execution_count": 107,
     "metadata": {},
     "output_type": "execute_result"
    }
   ],
   "source": [
    "(252*44) // math.gcd(252, 44)"
   ]
  },
  {
   "cell_type": "markdown",
   "metadata": {},
   "source": [
    "Okay, that was the right answer for the trivial case"
   ]
  },
  {
   "cell_type": "code",
   "execution_count": 113,
   "metadata": {},
   "outputs": [],
   "source": [
    "moon_list = build_moon_list(example1)\n",
    "moon_1 = moon_list[0]\n",
    "moon_2 = moon_list[1]\n",
    "moon_3 = moon_list[2]\n",
    "moon_4 = moon_list[3]\n",
    "\n",
    "moon_1_initial_x = (moon_1.x_pos, moon_1.x_vel)\n",
    "moon_2_initial_x = (moon_2.x_pos, moon_2.x_vel)\n",
    "moon_3_initial_x = (moon_3.x_pos, moon_3.x_vel)\n",
    "moon_4_initial_x = (moon_4.x_pos, moon_4.x_vel)\n",
    "\n",
    "moon_1_initial_y = (moon_1.y_pos, moon_1.y_vel)\n",
    "moon_2_initial_y = (moon_2.y_pos, moon_2.y_vel)\n",
    "moon_3_initial_y = (moon_3.y_pos, moon_3.y_vel)\n",
    "moon_4_initial_y = (moon_4.y_pos, moon_4.y_vel)\n",
    "\n",
    "moon_1_initial_z = (moon_1.z_pos, moon_1.z_vel)\n",
    "moon_2_initial_z = (moon_2.z_pos, moon_2.z_vel)\n",
    "moon_3_initial_z = (moon_3.z_pos, moon_3.z_vel)\n",
    "moon_4_initial_z = (moon_4.z_pos, moon_4.z_vel)\n",
    "\n",
    "x_repeat_step = None\n",
    "y_repeat_step = None\n",
    "z_repeat_step = None\n",
    "\n",
    "step = 0\n",
    "while True:\n",
    "    step += 1\n",
    "    \n",
    "    moon_1.apply_gravity(moon_2)\n",
    "    moon_1.apply_gravity(moon_3)\n",
    "    moon_1.apply_gravity(moon_4)\n",
    "    \n",
    "    moon_2.apply_gravity(moon_1)\n",
    "    moon_2.apply_gravity(moon_3)\n",
    "    moon_2.apply_gravity(moon_4)\n",
    "    \n",
    "    moon_3.apply_gravity(moon_1)\n",
    "    moon_3.apply_gravity(moon_2)\n",
    "    moon_3.apply_gravity(moon_4)\n",
    "    \n",
    "    moon_4.apply_gravity(moon_1)\n",
    "    moon_4.apply_gravity(moon_2)\n",
    "    moon_4.apply_gravity(moon_3)\n",
    "    \n",
    "    moon_1.apply_velocity(step)\n",
    "    moon_2.apply_velocity(step)\n",
    "    moon_3.apply_velocity(step)\n",
    "    moon_4.apply_velocity(step)\n",
    "    \n",
    "    if (x_repeat_step == None and\n",
    "            (moon_1.x_pos, moon_1.x_vel) == moon_1_initial_x and \n",
    "           (moon_2.x_pos, moon_2.x_vel) == moon_2_initial_x and\n",
    "           (moon_3.x_pos, moon_3.x_vel) == moon_3_initial_x and\n",
    "           (moon_4.x_pos, moon_4.x_vel) == moon_4_initial_x):\n",
    "        x_repeat_step = step\n",
    "    \n",
    "    if (y_repeat_step == None and\n",
    "        (moon_1.y_pos, moon_1.y_vel) == moon_1_initial_y and \n",
    "           (moon_2.y_pos, moon_2.y_vel) == moon_2_initial_y and\n",
    "           (moon_3.y_pos, moon_3.y_vel) == moon_3_initial_y and\n",
    "           (moon_4.y_pos, moon_4.y_vel) == moon_4_initial_y):\n",
    "        y_repeat_step = step\n",
    "    \n",
    "    if (z_repeat_step == None and\n",
    "        (moon_1.z_pos, moon_1.z_vel) == moon_1_initial_z and \n",
    "           (moon_2.z_pos, moon_2.z_vel) == moon_2_initial_z and\n",
    "           (moon_3.z_pos, moon_3.z_vel) == moon_3_initial_z and\n",
    "           (moon_4.z_pos, moon_4.z_vel) == moon_4_initial_z):\n",
    "        z_repeat_step = step\n",
    "        \n",
    "    if x_repeat_step != None and y_repeat_step != None and z_repeat_step != None:\n",
    "        break\n",
    "        \n",
    "    "
   ]
  },
  {
   "cell_type": "code",
   "execution_count": 114,
   "metadata": {},
   "outputs": [
    {
     "data": {
      "text/plain": [
       "18"
      ]
     },
     "execution_count": 114,
     "metadata": {},
     "output_type": "execute_result"
    }
   ],
   "source": [
    "x_repeat_step"
   ]
  },
  {
   "cell_type": "code",
   "execution_count": 115,
   "metadata": {},
   "outputs": [
    {
     "data": {
      "text/plain": [
       "28"
      ]
     },
     "execution_count": 115,
     "metadata": {},
     "output_type": "execute_result"
    }
   ],
   "source": [
    "y_repeat_step"
   ]
  },
  {
   "cell_type": "code",
   "execution_count": 116,
   "metadata": {},
   "outputs": [
    {
     "data": {
      "text/plain": [
       "44"
      ]
     },
     "execution_count": 116,
     "metadata": {},
     "output_type": "execute_result"
    }
   ],
   "source": [
    "z_repeat_step"
   ]
  },
  {
   "cell_type": "code",
   "execution_count": 117,
   "metadata": {},
   "outputs": [],
   "source": [
    "x_y_lcm = (x_repeat_step*y_repeat_step) // math.gcd(x_repeat_step, y_repeat_step)"
   ]
  },
  {
   "cell_type": "code",
   "execution_count": 118,
   "metadata": {},
   "outputs": [],
   "source": [
    "x_y_z_lcm = (x_y_lcm * z_repeat_step) // math.gcd(x_y_lcm, z_repeat_step)"
   ]
  },
  {
   "cell_type": "code",
   "execution_count": 119,
   "metadata": {},
   "outputs": [
    {
     "data": {
      "text/plain": [
       "2772"
      ]
     },
     "execution_count": 119,
     "metadata": {},
     "output_type": "execute_result"
    }
   ],
   "source": [
    "x_y_z_lcm"
   ]
  },
  {
   "cell_type": "code",
   "execution_count": 120,
   "metadata": {},
   "outputs": [],
   "source": [
    "moon_list = build_moon_list(input_str)\n",
    "moon_1 = moon_list[0]\n",
    "moon_2 = moon_list[1]\n",
    "moon_3 = moon_list[2]\n",
    "moon_4 = moon_list[3]\n",
    "\n",
    "moon_1_initial_x = (moon_1.x_pos, moon_1.x_vel)\n",
    "moon_2_initial_x = (moon_2.x_pos, moon_2.x_vel)\n",
    "moon_3_initial_x = (moon_3.x_pos, moon_3.x_vel)\n",
    "moon_4_initial_x = (moon_4.x_pos, moon_4.x_vel)\n",
    "\n",
    "moon_1_initial_y = (moon_1.y_pos, moon_1.y_vel)\n",
    "moon_2_initial_y = (moon_2.y_pos, moon_2.y_vel)\n",
    "moon_3_initial_y = (moon_3.y_pos, moon_3.y_vel)\n",
    "moon_4_initial_y = (moon_4.y_pos, moon_4.y_vel)\n",
    "\n",
    "moon_1_initial_z = (moon_1.z_pos, moon_1.z_vel)\n",
    "moon_2_initial_z = (moon_2.z_pos, moon_2.z_vel)\n",
    "moon_3_initial_z = (moon_3.z_pos, moon_3.z_vel)\n",
    "moon_4_initial_z = (moon_4.z_pos, moon_4.z_vel)\n",
    "\n",
    "x_repeat_step = None\n",
    "y_repeat_step = None\n",
    "z_repeat_step = None\n",
    "\n",
    "step = 0\n",
    "while True:\n",
    "    step += 1\n",
    "    \n",
    "    moon_1.apply_gravity(moon_2)\n",
    "    moon_1.apply_gravity(moon_3)\n",
    "    moon_1.apply_gravity(moon_4)\n",
    "    \n",
    "    moon_2.apply_gravity(moon_1)\n",
    "    moon_2.apply_gravity(moon_3)\n",
    "    moon_2.apply_gravity(moon_4)\n",
    "    \n",
    "    moon_3.apply_gravity(moon_1)\n",
    "    moon_3.apply_gravity(moon_2)\n",
    "    moon_3.apply_gravity(moon_4)\n",
    "    \n",
    "    moon_4.apply_gravity(moon_1)\n",
    "    moon_4.apply_gravity(moon_2)\n",
    "    moon_4.apply_gravity(moon_3)\n",
    "    \n",
    "    moon_1.apply_velocity(step)\n",
    "    moon_2.apply_velocity(step)\n",
    "    moon_3.apply_velocity(step)\n",
    "    moon_4.apply_velocity(step)\n",
    "    \n",
    "    if (x_repeat_step == None and\n",
    "            (moon_1.x_pos, moon_1.x_vel) == moon_1_initial_x and \n",
    "           (moon_2.x_pos, moon_2.x_vel) == moon_2_initial_x and\n",
    "           (moon_3.x_pos, moon_3.x_vel) == moon_3_initial_x and\n",
    "           (moon_4.x_pos, moon_4.x_vel) == moon_4_initial_x):\n",
    "        x_repeat_step = step\n",
    "    \n",
    "    if (y_repeat_step == None and\n",
    "        (moon_1.y_pos, moon_1.y_vel) == moon_1_initial_y and \n",
    "           (moon_2.y_pos, moon_2.y_vel) == moon_2_initial_y and\n",
    "           (moon_3.y_pos, moon_3.y_vel) == moon_3_initial_y and\n",
    "           (moon_4.y_pos, moon_4.y_vel) == moon_4_initial_y):\n",
    "        y_repeat_step = step\n",
    "    \n",
    "    if (z_repeat_step == None and\n",
    "        (moon_1.z_pos, moon_1.z_vel) == moon_1_initial_z and \n",
    "           (moon_2.z_pos, moon_2.z_vel) == moon_2_initial_z and\n",
    "           (moon_3.z_pos, moon_3.z_vel) == moon_3_initial_z and\n",
    "           (moon_4.z_pos, moon_4.z_vel) == moon_4_initial_z):\n",
    "        z_repeat_step = step\n",
    "        \n",
    "    if x_repeat_step != None and y_repeat_step != None and z_repeat_step != None:\n",
    "        break"
   ]
  },
  {
   "cell_type": "code",
   "execution_count": 121,
   "metadata": {},
   "outputs": [],
   "source": [
    "x_y_lcm = (x_repeat_step*y_repeat_step) // math.gcd(x_repeat_step, y_repeat_step)"
   ]
  },
  {
   "cell_type": "code",
   "execution_count": 122,
   "metadata": {},
   "outputs": [],
   "source": [
    "x_y_z_lcm = (x_y_lcm * z_repeat_step) // math.gcd(x_y_lcm, z_repeat_step)"
   ]
  },
  {
   "cell_type": "code",
   "execution_count": 123,
   "metadata": {},
   "outputs": [
    {
     "data": {
      "text/plain": [
       "543673227860472"
      ]
     },
     "execution_count": 123,
     "metadata": {},
     "output_type": "execute_result"
    }
   ],
   "source": [
    "x_y_z_lcm"
   ]
  },
  {
   "cell_type": "code",
   "execution_count": 125,
   "metadata": {},
   "outputs": [
    {
     "data": {
      "text/plain": [
       "543673227860472"
      ]
     },
     "execution_count": 125,
     "metadata": {},
     "output_type": "execute_result"
    }
   ],
   "source": [
    "moon_lib.run_to_find_cycles(input_str)"
   ]
  },
  {
   "cell_type": "markdown",
   "metadata": {},
   "source": [
    "Kind of annoyed that only took like 5 seconds lol"
   ]
  },
  {
   "cell_type": "code",
   "execution_count": null,
   "metadata": {},
   "outputs": [],
   "source": []
  }
 ],
 "metadata": {
  "kernelspec": {
   "display_name": "Python 3",
   "language": "python",
   "name": "python3"
  },
  "language_info": {
   "codemirror_mode": {
    "name": "ipython",
    "version": 3
   },
   "file_extension": ".py",
   "mimetype": "text/x-python",
   "name": "python",
   "nbconvert_exporter": "python",
   "pygments_lexer": "ipython3",
   "version": "3.7.3"
  }
 },
 "nbformat": 4,
 "nbformat_minor": 4
}

{
 "cells": [
  {
   "cell_type": "markdown",
   "metadata": {},
   "source": [
    "# Part 1 Prompt"
   ]
  },
  {
   "cell_type": "markdown",
   "metadata": {},
   "source": [
    "```\n",
    "--- Day 7: Amplification Circuit ---\n",
    "Based on the navigational maps, you're going to need to send more power to your ship's thrusters to reach Santa in time. To do this, you'll need to configure a series of amplifiers already installed on the ship.\n",
    "\n",
    "There are five amplifiers connected in series; each one receives an input signal and produces an output signal. They are connected such that the first amplifier's output leads to the second amplifier's input, the second amplifier's output leads to the third amplifier's input, and so on. The first amplifier's input value is 0, and the last amplifier's output leads to your ship's thrusters.\n",
    "```"
   ]
  },
  {
   "cell_type": "markdown",
   "metadata": {},
   "source": [
    "```\n",
    "    O-------O  O-------O  O-------O  O-------O  O-------O\n",
    "0 ->| Amp A |->| Amp B |->| Amp C |->| Amp D |->| Amp E |-> (to thrusters)\n",
    "    O-------O  O-------O  O-------O  O-------O  O-------O\n",
    "```"
   ]
  },
  {
   "cell_type": "markdown",
   "metadata": {},
   "source": [
    "```\n",
    "The Elves have sent you some Amplifier Controller Software (your puzzle input), a program that should run on your existing Intcode computer. Each amplifier will need to run a copy of the program.\n",
    "\n",
    "When a copy of the program starts running on an amplifier, it will first use an input instruction to ask the amplifier for its current phase setting (an integer from 0 to 4). Each phase setting is used exactly once, but the Elves can't remember which amplifier needs which phase setting.\n",
    "\n",
    "The program will then call another input instruction to get the amplifier's input signal, compute the correct output signal, and supply it back to the amplifier with an output instruction. (If the amplifier has not yet received an input signal, it waits until one arrives.)\n",
    "\n",
    "Your job is to find the largest output signal that can be sent to the thrusters by trying every possible combination of phase settings on the amplifiers. Make sure that memory is not shared or reused between copies of the program.\n",
    "```"
   ]
  },
  {
   "cell_type": "markdown",
   "metadata": {},
   "source": [
    "```\n",
    "For example, suppose you want to try the phase setting sequence 3,1,2,4,0, which would mean setting amplifier A to phase setting 3, amplifier B to setting 1, C to 2, D to 4, and E to 0. Then, you could determine the output signal that gets sent from amplifier E to the thrusters with the following steps:\n",
    "\n",
    " - Start the copy of the amplifier controller software that will run on amplifier A. At its first input instruction, provide it the amplifier's phase setting, 3. At its second input instruction, provide it the input signal, 0. After some calculations, it will use an output instruction to indicate the amplifier's output signal.\n",
    " - Start the software for amplifier B. Provide it the phase setting (1) and then whatever output signal was produced from amplifier A. It will then produce a new output signal destined for amplifier C.\n",
    " - Start the software for amplifier C, provide the phase setting (2) and the value from amplifier B, then collect its output signal.\n",
    " - Run amplifier D's software, provide the phase setting (4) and input value, and collect its output signal.\n",
    " - Run amplifier E's software, provide the phase setting (0) and input value, and collect its output signal.\n",
    "```"
   ]
  },
  {
   "cell_type": "markdown",
   "metadata": {},
   "source": [
    "Pulling code from day 5"
   ]
  },
  {
   "cell_type": "code",
   "execution_count": 1,
   "metadata": {},
   "outputs": [],
   "source": [
    "def get_param_mode(param_modes_str, param_num):\n",
    "    # param_num is 1, 2, or 3\n",
    "    if param_num <= len(param_modes_str):\n",
    "        mode_code = param_modes_str[-param_num]\n",
    "        if mode_code == \"0\":\n",
    "            return \"position\"\n",
    "        else:\n",
    "            return \"immediate\"\n",
    "    else:\n",
    "        # if it's missing from the instruction, it's always \"position\"\n",
    "        return \"position\""
   ]
  },
  {
   "cell_type": "code",
   "execution_count": 2,
   "metadata": {},
   "outputs": [],
   "source": [
    "def get_index_or_value(number, position_mode, program_codes):\n",
    "    if position_mode == \"immediate\":\n",
    "        return number\n",
    "    else:\n",
    "        return program_codes[number]"
   ]
  },
  {
   "cell_type": "code",
   "execution_count": 3,
   "metadata": {},
   "outputs": [],
   "source": [
    "def get_value_for_input(param_modes, param_number, program_codes, current_position):\n",
    "    \"\"\" Now that we have to do this for the input of more than 3 opcodes, making a\n",
    "    function makes more sense\n",
    "    \"\"\"\n",
    "    input_mode = get_param_mode(param_modes, param_number)\n",
    "    input_number = program_codes[current_position + param_number]\n",
    "    actual_value = get_index_or_value(input_number, input_mode, program_codes)\n",
    "    return actual_value"
   ]
  },
  {
   "cell_type": "code",
   "execution_count": 4,
   "metadata": {},
   "outputs": [],
   "source": [
    "def run_list_program(program_codes):\n",
    "    # loop through codes in 4-code \"programs\"\n",
    "    current_position = 0\n",
    "    while True:\n",
    "        opcode_and_param_modes = str(program_codes[current_position])\n",
    "        # last two digits is opcode\n",
    "        opcode = int(opcode_and_param_modes[-2:])\n",
    "\n",
    "        # made the decision to indent as little as possible, short-circuit instead\n",
    "        if opcode == 99:\n",
    "            break\n",
    "        \n",
    "        param_modes = opcode_and_param_modes[:-2]\n",
    "        \n",
    "        # these opcodes have a first parameter\n",
    "        if opcode in [1,2,4,5,6,7,8]:\n",
    "            input_1 = get_value_for_input(param_modes, 1, program_codes, current_position)\n",
    "        \n",
    "        # these opcodes have a second parameter\n",
    "        if opcode in [1,2,5,6,7,8]:\n",
    "            input_2 = get_value_for_input(param_modes, 2, program_codes, current_position)\n",
    "\n",
    "        if opcode == 1 or opcode == 2:\n",
    "            \"\"\" Given two inputs and a destination index, perform some operation on \n",
    "            the two inputs and put the result in the destination index \"\"\"\n",
    "            destination_index = program_codes[current_position+3]\n",
    "\n",
    "            if opcode == 1:\n",
    "                output = input_1 + input_2\n",
    "            elif opcode == 2:\n",
    "                output = input_1 * input_2\n",
    "\n",
    "            program_codes[destination_index] = output\n",
    "\n",
    "            # move to the next \"program\", opcodes 1 and 2 have length 4\n",
    "            current_position = current_position + 4\n",
    "        elif opcode == 3:\n",
    "            \"\"\" Here the input comes from prompting the user, then that is copied to\n",
    "            the destination index \"\"\"\n",
    "            user_input = int(input(\"Enter a number: \"))\n",
    "            destination_index = program_codes[current_position+1]\n",
    "            program_codes[destination_index] = user_input\n",
    "            current_position = current_position + 2\n",
    "        elif opcode == 4:\n",
    "            \"\"\" Given one input (retrieved above), print it \"\"\"\n",
    "            print(input_1)\n",
    "            current_position = current_position + 2\n",
    "        elif opcode == 5 or opcode == 6:\n",
    "            \"\"\" Based on the first input, conditionally sets current_position to\n",
    "            the value of the second input \"\"\"\n",
    "            if opcode == 5:\n",
    "                should_jump = input_1 != 0\n",
    "            elif opcode == 6:\n",
    "                should_jump = input_1 == 0\n",
    "                \n",
    "            if should_jump:\n",
    "                current_position = input_2\n",
    "            else:\n",
    "                current_position = current_position + 3\n",
    "        elif opcode == 7 or opcode == 8:\n",
    "            \"\"\" Based on a comparison of the first and second inputs, sets\n",
    "            destination index to 1 or 0 \"\"\"\n",
    "            if opcode == 7:\n",
    "                comparison_true = input_1 < input_2\n",
    "            elif opcode == 8:\n",
    "                comparison_true = input_1 == input_2\n",
    "                \n",
    "            destination_index = program_codes[current_position + 3]\n",
    "            if comparison_true:\n",
    "                program_codes[destination_index] = 1\n",
    "            else:\n",
    "                program_codes[destination_index] = 0\n",
    "                \n",
    "            current_position = current_position + 4\n",
    "\n",
    "        else:\n",
    "            print(\"Error, encountered opcode\", opcode)\n",
    "            break"
   ]
  },
  {
   "cell_type": "code",
   "execution_count": 5,
   "metadata": {},
   "outputs": [],
   "source": [
    "example1_input = [3,15,3,16,1002,16,10,16,1,16,15,15,4,15,99,0,0]"
   ]
  },
  {
   "cell_type": "code",
   "execution_count": 6,
   "metadata": {},
   "outputs": [
    {
     "name": "stdin",
     "output_type": "stream",
     "text": [
      "Enter a number:  3\n",
      "Enter a number:  0\n"
     ]
    },
    {
     "name": "stdout",
     "output_type": "stream",
     "text": [
      "3\n"
     ]
    }
   ],
   "source": [
    "run_list_program(example1_input)"
   ]
  },
  {
   "cell_type": "code",
   "execution_count": 7,
   "metadata": {},
   "outputs": [
    {
     "name": "stdin",
     "output_type": "stream",
     "text": [
      "Enter a number:  1\n",
      "Enter a number:  3\n"
     ]
    },
    {
     "name": "stdout",
     "output_type": "stream",
     "text": [
      "31\n"
     ]
    }
   ],
   "source": [
    "run_list_program(example1_input)"
   ]
  },
  {
   "cell_type": "code",
   "execution_count": 8,
   "metadata": {},
   "outputs": [
    {
     "name": "stdin",
     "output_type": "stream",
     "text": [
      "Enter a number:  2\n",
      "Enter a number:  31\n"
     ]
    },
    {
     "name": "stdout",
     "output_type": "stream",
     "text": [
      "312\n"
     ]
    }
   ],
   "source": [
    "run_list_program(example1_input)"
   ]
  },
  {
   "cell_type": "code",
   "execution_count": 9,
   "metadata": {},
   "outputs": [
    {
     "name": "stdin",
     "output_type": "stream",
     "text": [
      "Enter a number:  4\n",
      "Enter a number:  312\n"
     ]
    },
    {
     "name": "stdout",
     "output_type": "stream",
     "text": [
      "3124\n"
     ]
    }
   ],
   "source": [
    "run_list_program(example1_input)"
   ]
  },
  {
   "cell_type": "code",
   "execution_count": 10,
   "metadata": {},
   "outputs": [
    {
     "name": "stdin",
     "output_type": "stream",
     "text": [
      "Enter a number:  0\n",
      "Enter a number:  3124\n"
     ]
    },
    {
     "name": "stdout",
     "output_type": "stream",
     "text": [
      "31240\n"
     ]
    }
   ],
   "source": [
    "run_list_program(example1_input)"
   ]
  },
  {
   "cell_type": "markdown",
   "metadata": {},
   "source": [
    "...I have entered the example code but have no idea if that was the expected output..."
   ]
  },
  {
   "cell_type": "code",
   "execution_count": 11,
   "metadata": {},
   "outputs": [],
   "source": [
    "example2_input_str = \"3,15,3,16,1002,16,10,16,1,16,15,15,4,15,99,0,0\""
   ]
  },
  {
   "cell_type": "code",
   "execution_count": 12,
   "metadata": {},
   "outputs": [
    {
     "name": "stdin",
     "output_type": "stream",
     "text": [
      "Enter a number:  4\n",
      "Enter a number:  0\n"
     ]
    },
    {
     "name": "stdout",
     "output_type": "stream",
     "text": [
      "4\n"
     ]
    }
   ],
   "source": [
    "run_list_program([int(x) for x in example2_input_str.split(\",\")])"
   ]
  },
  {
   "cell_type": "code",
   "execution_count": 13,
   "metadata": {},
   "outputs": [
    {
     "name": "stdin",
     "output_type": "stream",
     "text": [
      "Enter a number:  3\n",
      "Enter a number:  4\n"
     ]
    },
    {
     "name": "stdout",
     "output_type": "stream",
     "text": [
      "43\n"
     ]
    }
   ],
   "source": [
    "run_list_program([int(x) for x in example2_input_str.split(\",\")])"
   ]
  },
  {
   "cell_type": "code",
   "execution_count": 14,
   "metadata": {},
   "outputs": [
    {
     "name": "stdin",
     "output_type": "stream",
     "text": [
      "Enter a number:  2\n",
      "Enter a number:  43\n"
     ]
    },
    {
     "name": "stdout",
     "output_type": "stream",
     "text": [
      "432\n"
     ]
    }
   ],
   "source": [
    "run_list_program([int(x) for x in example2_input_str.split(\",\")])"
   ]
  },
  {
   "cell_type": "code",
   "execution_count": 15,
   "metadata": {},
   "outputs": [
    {
     "name": "stdin",
     "output_type": "stream",
     "text": [
      "Enter a number:  1\n",
      "Enter a number:  432\n"
     ]
    },
    {
     "name": "stdout",
     "output_type": "stream",
     "text": [
      "4321\n"
     ]
    }
   ],
   "source": [
    "run_list_program([int(x) for x in example2_input_str.split(\",\")])"
   ]
  },
  {
   "cell_type": "code",
   "execution_count": 16,
   "metadata": {},
   "outputs": [
    {
     "name": "stdin",
     "output_type": "stream",
     "text": [
      "Enter a number:  0\n",
      "Enter a number:  4321\n"
     ]
    },
    {
     "name": "stdout",
     "output_type": "stream",
     "text": [
      "43210\n"
     ]
    }
   ],
   "source": [
    "run_list_program([int(x) for x in example2_input_str.split(\",\")])"
   ]
  },
  {
   "cell_type": "markdown",
   "metadata": {},
   "source": [
    "Ok, so it seems like I need to change the functionality so it isn't actually asking for user input, it's getting this list of numbers from somewhere else"
   ]
  },
  {
   "cell_type": "code",
   "execution_count": 24,
   "metadata": {},
   "outputs": [],
   "source": [
    "phase_setting_sequence = [4,3,2,1,0]"
   ]
  },
  {
   "cell_type": "code",
   "execution_count": 48,
   "metadata": {},
   "outputs": [],
   "source": [
    "def run_list_program(program_codes, phase_setting, previous_output):\n",
    "    \n",
    "    # amplifier settings\n",
    "    phase_setting_time = True\n",
    "    \n",
    "    # loop through codes in 4-code \"programs\"\n",
    "    current_position = 0\n",
    "    while True:\n",
    "        opcode_and_param_modes = str(program_codes[current_position])\n",
    "        # last two digits is opcode\n",
    "        opcode = int(opcode_and_param_modes[-2:])\n",
    "\n",
    "        # made the decision to indent as little as possible, short-circuit instead\n",
    "        if opcode == 99:\n",
    "            break\n",
    "        \n",
    "        param_modes = opcode_and_param_modes[:-2]\n",
    "        \n",
    "        # these opcodes have a first parameter\n",
    "        if opcode in [1,2,4,5,6,7,8]:\n",
    "            input_1 = get_value_for_input(param_modes, 1, program_codes, current_position)\n",
    "        \n",
    "        # these opcodes have a second parameter\n",
    "        if opcode in [1,2,5,6,7,8]:\n",
    "            input_2 = get_value_for_input(param_modes, 2, program_codes, current_position)\n",
    "\n",
    "        if opcode == 1 or opcode == 2:\n",
    "            \"\"\" Given two inputs and a destination index, perform some operation on \n",
    "            the two inputs and put the result in the destination index \"\"\"\n",
    "            destination_index = program_codes[current_position+3]\n",
    "\n",
    "            if opcode == 1:\n",
    "                output = input_1 + input_2\n",
    "            elif opcode == 2:\n",
    "                output = input_1 * input_2\n",
    "\n",
    "            program_codes[destination_index] = output\n",
    "\n",
    "            # move to the next \"program\", opcodes 1 and 2 have length 4\n",
    "            current_position = current_position + 4\n",
    "        elif opcode == 3:\n",
    "            \"\"\" Here the input comes from prompting the user, then that is copied to\n",
    "            the destination index \"\"\"\n",
    "            if (phase_setting_time):\n",
    "                user_input = phase_setting\n",
    "                phase_setting_time = False\n",
    "#                 print(\"Just used phase setting\", user_input)\n",
    "            else:\n",
    "                user_input = previous_output\n",
    "#                 print(\"Just used previous input\", user_input)\n",
    "#             user_input = int(input(\"Enter a number: \"))\n",
    "\n",
    "           \n",
    "            destination_index = program_codes[current_position+1]\n",
    "            program_codes[destination_index] = user_input\n",
    "            current_position = current_position + 2\n",
    "        elif opcode == 4:\n",
    "            \"\"\" Given one input (retrieved above), print it \"\"\"\n",
    "#             print(input_1)\n",
    "            previous_output = input_1\n",
    "            current_position = current_position + 2\n",
    "        elif opcode == 5 or opcode == 6:\n",
    "            \"\"\" Based on the first input, conditionally sets current_position to\n",
    "            the value of the second input \"\"\"\n",
    "            if opcode == 5:\n",
    "                should_jump = input_1 != 0\n",
    "            elif opcode == 6:\n",
    "                should_jump = input_1 == 0\n",
    "                \n",
    "            if should_jump:\n",
    "                current_position = input_2\n",
    "            else:\n",
    "                current_position = current_position + 3\n",
    "        elif opcode == 7 or opcode == 8:\n",
    "            \"\"\" Based on a comparison of the first and second inputs, sets\n",
    "            destination index to 1 or 0 \"\"\"\n",
    "            if opcode == 7:\n",
    "                comparison_true = input_1 < input_2\n",
    "            elif opcode == 8:\n",
    "                comparison_true = input_1 == input_2\n",
    "                \n",
    "            destination_index = program_codes[current_position + 3]\n",
    "            if comparison_true:\n",
    "                program_codes[destination_index] = 1\n",
    "            else:\n",
    "                program_codes[destination_index] = 0\n",
    "                \n",
    "            current_position = current_position + 4\n",
    "\n",
    "        else:\n",
    "            print(\"Error, encountered opcode\", opcode)\n",
    "            break\n",
    "    return previous_output"
   ]
  },
  {
   "cell_type": "code",
   "execution_count": 49,
   "metadata": {},
   "outputs": [],
   "source": [
    "def outer_program_loop(input_str, phase_settings, previous_output):\n",
    "    for phase_setting in phase_settings:\n",
    "        result = run_list_program([int(x) for x in input_str.split(\",\")], phase_setting, previous_output)\n",
    "        previous_output = result\n",
    "    "
   ]
  },
  {
   "cell_type": "code",
   "execution_count": 50,
   "metadata": {},
   "outputs": [
    {
     "name": "stdout",
     "output_type": "stream",
     "text": [
      "4\n",
      "43\n",
      "432\n",
      "4321\n",
      "43210\n"
     ]
    }
   ],
   "source": [
    "phase_setting_sequence = [4,3,2,1,0]\n",
    "example2_input_str = \"3,15,3,16,1002,16,10,16,1,16,15,15,4,15,99,0,0\"\n",
    "outer_program_loop(example2_input_str, phase_setting_sequence, 0)"
   ]
  },
  {
   "cell_type": "code",
   "execution_count": 51,
   "metadata": {},
   "outputs": [
    {
     "name": "stdout",
     "output_type": "stream",
     "text": [
      "5\n",
      "54\n",
      "543\n",
      "5432\n",
      "54321\n"
     ]
    }
   ],
   "source": [
    "phase_setting_sequence_3 = [0,1,2,3,4]\n",
    "example3_input_str = \"3,23,3,24,1002,24,10,24,1002,23,-1,23,101,5,23,23,1,24,23,23,4,23,99,0,0\"\n",
    "outer_program_loop(example3_input_str, phase_setting_sequence_3, 0)"
   ]
  },
  {
   "cell_type": "code",
   "execution_count": 52,
   "metadata": {},
   "outputs": [],
   "source": [
    "def outer_program_loop(input_str, phase_settings):\n",
    "    previous_output = 0\n",
    "    for phase_setting in phase_settings:\n",
    "        result = run_list_program([int(x) for x in input_str.split(\",\")], phase_setting, previous_output)\n",
    "        previous_output = result\n",
    "    return previous_output"
   ]
  },
  {
   "cell_type": "code",
   "execution_count": 53,
   "metadata": {},
   "outputs": [
    {
     "name": "stdout",
     "output_type": "stream",
     "text": [
      "6\n",
      "65\n",
      "652\n",
      "6521\n",
      "65210\n"
     ]
    },
    {
     "data": {
      "text/plain": [
       "65210"
      ]
     },
     "execution_count": 53,
     "metadata": {},
     "output_type": "execute_result"
    }
   ],
   "source": [
    "phase_setting_sequence_4 = [1,0,4,3,2]\n",
    "example4_input_str = \"3,31,3,32,1002,32,10,32,1001,31,-2,31,1007,31,0,33,1002,33,7,33,1,33,31,31,1,32,31,31,4,31,99,0,0,0\"\n",
    "outer_program_loop(example4_input_str, phase_setting_sequence_4)"
   ]
  },
  {
   "cell_type": "code",
   "execution_count": 54,
   "metadata": {},
   "outputs": [
    {
     "data": {
      "text/plain": [
       "'3,8,1001,8,10,8,105,1,0,0,21,42,67,88,105,114,195,276,357,438,99999,3,9,101,4,9,9,102,3,9,9,1001,9,2,9,102,4,9,9,4,9,99,3,9,1001,9,4,9,102,4,9,9,101,2,9,9,1002,9,5,9,1001,9,2,9,4,9,99,3,9,1001,9,4,9,1002,9,4,9,101,2,9,9,1002,9,2,9,4,9,99,3,9,101,4,9,9,102,3,9,9,1001,9,5,9,4,9,99,3,9,102,5,9,9,4,9,99,3,9,102,2,9,9,4,9,3,9,101,1,9,9,4,9,3,9,101,2,9,9,4,9,3,9,1001,9,2,9,4,9,3,9,102,2,9,9,4,9,3,9,1002,9,2,9,4,9,3,9,1001,9,1,9,4,9,3,9,102,2,9,9,4,9,3,9,102,2,9,9,4,9,3,9,101,2,9,9,4,9,99,3,9,1002,9,2,9,4,9,3,9,1001,9,2,9,4,9,3,9,102,2,9,9,4,9,3,9,102,2,9,9,4,9,3,9,102,2,9,9,4,9,3,9,102,2,9,9,4,9,3,9,1001,9,1,9,4,9,3,9,101,1,9,9,4,9,3,9,101,1,9,9,4,9,3,9,1002,9,2,9,4,9,99,3,9,102,2,9,9,4,9,3,9,101,1,9,9,4,9,3,9,1002,9,2,9,4,9,3,9,1002,9,2,9,4,9,3,9,1002,9,2,9,4,9,3,9,102,2,9,9,4,9,3,9,101,2,9,9,4,9,3,9,102,2,9,9,4,9,3,9,1001,9,2,9,4,9,3,9,1001,9,1,9,4,9,99,3,9,1002,9,2,9,4,9,3,9,1001,9,1,9,4,9,3,9,101,2,9,9,4,9,3,9,1001,9,1,9,4,9,3,9,101,2,9,9,4,9,3,9,1001,9,1,9,4,9,3,9,102,2,9,9,4,9,3,9,1002,9,2,9,4,9,3,9,1002,9,2,9,4,9,3,9,1001,9,2,9,4,9,99,3,9,1002,9,2,9,4,9,3,9,101,1,9,9,4,9,3,9,1002,9,2,9,4,9,3,9,102,2,9,9,4,9,3,9,1001,9,1,9,4,9,3,9,1002,9,2,9,4,9,3,9,1001,9,1,9,4,9,3,9,101,2,9,9,4,9,3,9,1001,9,1,9,4,9,3,9,1002,9,2,9,4,9,99'"
      ]
     },
     "execution_count": 54,
     "metadata": {},
     "output_type": "execute_result"
    }
   ],
   "source": [
    "part1_input_file = open(\"input.txt\", \"r\")\n",
    "part1_input = part1_input_file.readline()\n",
    "part1_input = part1_input.strip()\n",
    "part1_input"
   ]
  },
  {
   "cell_type": "code",
   "execution_count": 55,
   "metadata": {},
   "outputs": [],
   "source": [
    "from itertools import permutations"
   ]
  },
  {
   "cell_type": "code",
   "execution_count": 56,
   "metadata": {},
   "outputs": [],
   "source": [
    "possible_inputs = (0,1,2,3,4)\n",
    "perm = permutations(possible_inputs)"
   ]
  },
  {
   "cell_type": "code",
   "execution_count": 57,
   "metadata": {},
   "outputs": [
    {
     "name": "stdout",
     "output_type": "stream",
     "text": [
      "56\n",
      "1212\n",
      "9732\n",
      "29213\n",
      "146065\n",
      "Found new max output 146065\n",
      "56\n",
      "1212\n",
      "9732\n",
      "48660\n",
      "145997\n",
      "56\n",
      "1212\n",
      "3653\n",
      "29260\n",
      "146300\n",
      "Found new max output 146300\n",
      "56\n",
      "1212\n",
      "3653\n",
      "18265\n",
      "146156\n",
      "56\n",
      "1212\n",
      "6060\n",
      "48516\n",
      "145565\n",
      "56\n",
      "1212\n",
      "6060\n",
      "18197\n",
      "145612\n",
      "56\n",
      "484\n",
      "9772\n",
      "29333\n",
      "146665\n",
      "Found new max output 146665\n",
      "56\n",
      "484\n",
      "9772\n",
      "48860\n",
      "146597\n",
      "56\n",
      "484\n",
      "1469\n",
      "29472\n",
      "147360\n",
      "Found new max output 147360\n",
      "56\n",
      "484\n",
      "1469\n",
      "7345\n",
      "146992\n",
      "56\n",
      "484\n",
      "2420\n",
      "48492\n",
      "145493\n",
      "56\n",
      "484\n",
      "2420\n",
      "7277\n",
      "145632\n",
      "56\n",
      "185\n",
      "3792\n",
      "30372\n",
      "151860\n",
      "Found new max output 151860\n",
      "56\n",
      "185\n",
      "3792\n",
      "18960\n",
      "151716\n",
      "56\n",
      "185\n",
      "1516\n",
      "30412\n",
      "152060\n",
      "Found new max output 152060\n",
      "56\n",
      "185\n",
      "1516\n",
      "7580\n",
      "151692\n",
      "56\n",
      "185\n",
      "925\n",
      "18592\n",
      "148772\n",
      "56\n",
      "185\n",
      "925\n",
      "7436\n",
      "148812\n",
      "56\n",
      "280\n",
      "5692\n",
      "45572\n",
      "136733\n",
      "56\n",
      "280\n",
      "5692\n",
      "17093\n",
      "136780\n",
      "56\n",
      "280\n",
      "2276\n",
      "45612\n",
      "136853\n",
      "56\n",
      "280\n",
      "2276\n",
      "6845\n",
      "136992\n",
      "56\n",
      "280\n",
      "857\n",
      "17232\n",
      "137892\n",
      "56\n",
      "280\n",
      "857\n",
      "6892\n",
      "137932\n",
      "92\n",
      "1160\n",
      "9316\n",
      "27965\n",
      "139825\n",
      "92\n",
      "1160\n",
      "9316\n",
      "46580\n",
      "139757\n",
      "92\n",
      "1160\n",
      "3497\n",
      "28012\n",
      "140060\n",
      "92\n",
      "1160\n",
      "3497\n",
      "17485\n",
      "139916\n",
      "92\n",
      "1160\n",
      "5800\n",
      "46436\n",
      "139325\n",
      "92\n",
      "1160\n",
      "5800\n",
      "17417\n",
      "139372\n",
      "92\n",
      "772\n",
      "9320\n",
      "27977\n",
      "139885\n",
      "92\n",
      "772\n",
      "9320\n",
      "46600\n",
      "139817\n",
      "92\n",
      "772\n",
      "2333\n",
      "28052\n",
      "140260\n",
      "92\n",
      "772\n",
      "2333\n",
      "11665\n",
      "140036\n",
      "92\n",
      "772\n",
      "3860\n",
      "46376\n",
      "139145\n",
      "92\n",
      "772\n",
      "3860\n",
      "11597\n",
      "139220\n",
      "92\n",
      "293\n",
      "3572\n",
      "28612\n",
      "143060\n",
      "92\n",
      "293\n",
      "3572\n",
      "17860\n",
      "142916\n",
      "92\n",
      "293\n",
      "2380\n",
      "28616\n",
      "143080\n",
      "92\n",
      "293\n",
      "2380\n",
      "11900\n",
      "142856\n",
      "92\n",
      "293\n",
      "1465\n",
      "17636\n",
      "141124\n",
      "92\n",
      "293\n",
      "1465\n",
      "11756\n",
      "141128\n",
      "92\n",
      "460\n",
      "5576\n",
      "44644\n",
      "133949\n",
      "92\n",
      "460\n",
      "5576\n",
      "16745\n",
      "133996\n",
      "92\n",
      "460\n",
      "3716\n",
      "44648\n",
      "133961\n",
      "92\n",
      "460\n",
      "3716\n",
      "11165\n",
      "134036\n",
      "92\n",
      "460\n",
      "1397\n",
      "16820\n",
      "134596\n",
      "92\n",
      "460\n",
      "1397\n",
      "11212\n",
      "134600\n",
      "36\n",
      "488\n",
      "9852\n",
      "29573\n",
      "147865\n",
      "36\n",
      "488\n",
      "9852\n",
      "49260\n",
      "147797\n",
      "36\n",
      "488\n",
      "1481\n",
      "29712\n",
      "148560\n",
      "36\n",
      "488\n",
      "1481\n",
      "7405\n",
      "148192\n",
      "36\n",
      "488\n",
      "2440\n",
      "48892\n",
      "146693\n",
      "36\n",
      "488\n",
      "2440\n",
      "7337\n",
      "146832\n",
      "36\n",
      "812\n",
      "9800\n",
      "29417\n",
      "147085\n",
      "36\n",
      "812\n",
      "9800\n",
      "49000\n",
      "147017\n",
      "36\n",
      "812\n",
      "2453\n",
      "29492\n",
      "147460\n",
      "36\n",
      "812\n",
      "2453\n",
      "12265\n",
      "147236\n",
      "36\n",
      "812\n",
      "4060\n",
      "48776\n",
      "146345\n",
      "36\n",
      "812\n",
      "4060\n",
      "12197\n",
      "146420\n",
      "36\n",
      "125\n",
      "1556\n",
      "31212\n",
      "156060\n",
      "Found new max output 156060\n",
      "36\n",
      "125\n",
      "1556\n",
      "7780\n",
      "155692\n",
      "36\n",
      "125\n",
      "2592\n",
      "31160\n",
      "155800\n",
      "36\n",
      "125\n",
      "2592\n",
      "12960\n",
      "155576\n",
      "36\n",
      "125\n",
      "625\n",
      "7556\n",
      "151212\n",
      "36\n",
      "125\n",
      "625\n",
      "12592\n",
      "151160\n",
      "36\n",
      "180\n",
      "2216\n",
      "44412\n",
      "133253\n",
      "36\n",
      "180\n",
      "2216\n",
      "6665\n",
      "133392\n",
      "36\n",
      "180\n",
      "3692\n",
      "44360\n",
      "133097\n",
      "36\n",
      "180\n",
      "3692\n",
      "11093\n",
      "133172\n",
      "36\n",
      "180\n",
      "557\n",
      "6740\n",
      "134892\n",
      "36\n",
      "180\n",
      "557\n",
      "11232\n",
      "134840\n",
      "17\n",
      "260\n",
      "5292\n",
      "42372\n",
      "211860\n",
      "Found new max output 211860\n",
      "17\n",
      "260\n",
      "5292\n",
      "26460\n",
      "211716\n",
      "17\n",
      "260\n",
      "2116\n",
      "42412\n",
      "212060\n",
      "Found new max output 212060\n",
      "17\n",
      "260\n",
      "2116\n",
      "10580\n",
      "211692\n",
      "17\n",
      "260\n",
      "1300\n",
      "26092\n",
      "208772\n",
      "17\n",
      "260\n",
      "1300\n",
      "10436\n",
      "208812\n",
      "17\n",
      "432\n",
      "5240\n",
      "41956\n",
      "209780\n",
      "17\n",
      "432\n",
      "5240\n",
      "26200\n",
      "209636\n",
      "17\n",
      "432\n",
      "3492\n",
      "41960\n",
      "209800\n",
      "17\n",
      "432\n",
      "3492\n",
      "17460\n",
      "209576\n",
      "17\n",
      "432\n",
      "2160\n",
      "25976\n",
      "207844\n",
      "17\n",
      "432\n",
      "2160\n",
      "17316\n",
      "207848\n",
      "17\n",
      "172\n",
      "2120\n",
      "42492\n",
      "212460\n",
      "Found new max output 212460\n",
      "17\n",
      "172\n",
      "2120\n",
      "10600\n",
      "212092\n",
      "17\n",
      "172\n",
      "3532\n",
      "42440\n",
      "212200\n",
      "17\n",
      "172\n",
      "3532\n",
      "17660\n",
      "211976\n",
      "17\n",
      "172\n",
      "860\n",
      "10376\n",
      "207612\n",
      "17\n",
      "172\n",
      "860\n",
      "17292\n",
      "207560\n",
      "17\n",
      "85\n",
      "1076\n",
      "21612\n",
      "172932\n",
      "17\n",
      "85\n",
      "1076\n",
      "8644\n",
      "172972\n",
      "17\n",
      "85\n",
      "1792\n",
      "21560\n",
      "172516\n",
      "17\n",
      "85\n",
      "1792\n",
      "14372\n",
      "172520\n",
      "17\n",
      "85\n",
      "716\n",
      "8648\n",
      "173052\n",
      "17\n",
      "85\n",
      "716\n",
      "14412\n",
      "173000\n",
      "0\n",
      "56\n",
      "1212\n",
      "9732\n",
      "29213\n",
      "0\n",
      "56\n",
      "1212\n",
      "3653\n",
      "29260\n",
      "0\n",
      "56\n",
      "484\n",
      "9772\n",
      "29333\n",
      "0\n",
      "56\n",
      "484\n",
      "1469\n",
      "29472\n",
      "0\n",
      "56\n",
      "185\n",
      "3792\n",
      "30372\n",
      "0\n",
      "56\n",
      "185\n",
      "1516\n",
      "30412\n",
      "0\n",
      "92\n",
      "1160\n",
      "9316\n",
      "27965\n",
      "0\n",
      "92\n",
      "1160\n",
      "3497\n",
      "28012\n",
      "0\n",
      "92\n",
      "772\n",
      "9320\n",
      "27977\n",
      "0\n",
      "92\n",
      "772\n",
      "2333\n",
      "28052\n",
      "0\n",
      "92\n",
      "293\n",
      "3572\n",
      "28612\n",
      "0\n",
      "92\n",
      "293\n",
      "2380\n",
      "28616\n",
      "0\n",
      "36\n",
      "488\n",
      "9852\n",
      "29573\n",
      "0\n",
      "36\n",
      "488\n",
      "1481\n",
      "29712\n",
      "0\n",
      "36\n",
      "812\n",
      "9800\n",
      "29417\n",
      "0\n",
      "36\n",
      "812\n",
      "2453\n",
      "29492\n",
      "0\n",
      "36\n",
      "125\n",
      "1556\n",
      "31212\n",
      "0\n",
      "36\n",
      "125\n",
      "2592\n",
      "31160\n",
      "0\n",
      "17\n",
      "260\n",
      "5292\n",
      "42372\n",
      "0\n",
      "17\n",
      "260\n",
      "2116\n",
      "42412\n",
      "0\n",
      "17\n",
      "432\n",
      "5240\n",
      "41956\n",
      "0\n",
      "17\n",
      "432\n",
      "3492\n",
      "41960\n",
      "0\n",
      "17\n",
      "172\n",
      "2120\n",
      "42492\n",
      "0\n",
      "17\n",
      "172\n",
      "3532\n",
      "42440\n"
     ]
    }
   ],
   "source": [
    "max_output = 0\n",
    "for p in perm:\n",
    "    current_output = outer_program_loop(part1_input, p)\n",
    "    if current_output > max_output:\n",
    "        print(\"Found new max output\", current_output)\n",
    "        max_output = current_output"
   ]
  },
  {
   "cell_type": "code",
   "execution_count": 58,
   "metadata": {},
   "outputs": [
    {
     "data": {
      "text/plain": [
       "212460"
      ]
     },
     "execution_count": 58,
     "metadata": {},
     "output_type": "execute_result"
    }
   ],
   "source": [
    "max_output"
   ]
  },
  {
   "cell_type": "markdown",
   "metadata": {},
   "source": [
    "# Part 2 Prompt\n",
    "```\n",
    "--- Part Two ---\n",
    "It's no good - in this configuration, the amplifiers can't generate a large enough output signal to produce the thrust you'll need. The Elves quickly talk you through rewiring the amplifiers into a feedback loop:\n",
    "\n",
    "      O-------O  O-------O  O-------O  O-------O  O-------O\n",
    "0 -+->| Amp A |->| Amp B |->| Amp C |->| Amp D |->| Amp E |-.\n",
    "   |  O-------O  O-------O  O-------O  O-------O  O-------O |\n",
    "   |                                                        |\n",
    "   '--------------------------------------------------------+\n",
    "                                                            |\n",
    "                                                            v\n",
    "                                                     (to thrusters)\n",
    "```"
   ]
  },
  {
   "cell_type": "markdown",
   "metadata": {},
   "source": [
    "```\n",
    "Most of the amplifiers are connected as they were before; amplifier A's output is connected to amplifier B's input, and so on. However, the output from amplifier E is now connected into amplifier A's input. This creates the feedback loop: the signal will be sent through the amplifiers many times.\n",
    "\n",
    "In feedback loop mode, the amplifiers need totally different phase settings: integers from 5 to 9, again each used exactly once. These settings will cause the Amplifier Controller Software to repeatedly take input and produce output many times before halting. Provide each amplifier its phase setting at its first input instruction; all further input/output instructions are for signals.\n",
    "\n",
    "Don't restart the Amplifier Controller Software on any amplifier during this process. Each one should continue receiving and sending signals until it halts.\n",
    "\n",
    "All signals sent or received in this process will be between pairs of amplifiers except the very first signal and the very last signal. To start the process, a 0 signal is sent to amplifier A's input exactly once.\n",
    "\n",
    "Eventually, the software on the amplifiers will halt after they have processed the final loop. When this happens, the last output signal from amplifier E is sent to the thrusters. Your job is to find the largest output signal that can be sent to the thrusters using the new phase settings and feedback loop arrangement.\n",
    "```"
   ]
  },
  {
   "cell_type": "markdown",
   "metadata": {},
   "source": [
    "```\n",
    "Here are some example programs:\n",
    "\n",
    "Max thruster signal 139629729 (from phase setting sequence 9,8,7,6,5):\n",
    "\n",
    "3,26,1001,26,-4,26,3,27,1002,27,2,27,1,27,26,\n",
    "27,4,27,1001,28,-1,28,1005,28,6,99,0,0,5\n",
    "\n",
    "\n",
    "Max thruster signal 18216 (from phase setting sequence 9,7,8,5,6):\n",
    "\n",
    "3,52,1001,52,-5,52,3,53,1,52,56,54,1007,54,5,55,1005,55,26,1001,54,\n",
    "-5,54,1105,1,12,1,53,54,53,1008,54,0,55,1001,55,1,55,2,53,55,53,4,\n",
    "53,1001,56,-1,56,1005,56,6,99,0,0,0,0,10\n",
    "\n",
    "Try every combination of the new phase settings on the amplifier feedback loop. What is the highest signal that can be sent to the thrusters?\n",
    "```"
   ]
  },
  {
   "cell_type": "code",
   "execution_count": 59,
   "metadata": {},
   "outputs": [],
   "source": [
    "def outer_program_loop(input_str, phase_settings):\n",
    "    previous_output = 0\n",
    "    while True:\n",
    "        loop_output = previous_output\n",
    "        for phase_setting in phase_settings:\n",
    "            result = run_list_program([int(x) for x in input_str.split(\",\")], phase_setting, previous_output)\n",
    "            previous_output = result\n",
    "        if (loop_output == previous_output):\n",
    "            break\n",
    "    return previous_output"
   ]
  },
  {
   "cell_type": "markdown",
   "metadata": {},
   "source": [
    "^ that approach just creates an infinite loop.  How does it know when to stop?"
   ]
  },
  {
   "cell_type": "markdown",
   "metadata": {},
   "source": [
    "I went ahead and looked at the subreddit, which seems to say that amp E getting code 99 is the \"real\" stopping point"
   ]
  },
  {
   "cell_type": "code",
   "execution_count": 167,
   "metadata": {},
   "outputs": [],
   "source": [
    "class Amplifier:\n",
    "    def __init__(self, program_codes):\n",
    "        self.current_position = 0\n",
    "        self.program_codes = program_codes\n",
    "        \n",
    "    def run_list_program(self, current_input):\n",
    "        # continue running as long as no IO operation needs to happen\n",
    "        while True:\n",
    "            opcode_and_param_modes = str(self.program_codes[self.current_position])\n",
    "            # last two digits is opcode\n",
    "            opcode = int(opcode_and_param_modes[-2:])\n",
    "            \n",
    "            # made the decision to indent as little as possible, short-circuit instead\n",
    "            if opcode == 99:\n",
    "                return current_input, \"Done\"\n",
    "            \n",
    "            param_modes = opcode_and_param_modes[:-2]\n",
    "            \n",
    "            # these opcodes have a first parameter\n",
    "            if opcode in [1,2,4,5,6,7,8]:\n",
    "                input_1 = get_value_for_input(param_modes, 1, self.program_codes, self.current_position)\n",
    "\n",
    "            # these opcodes have a second parameter\n",
    "            if opcode in [1,2,5,6,7,8]:\n",
    "                input_2 = get_value_for_input(param_modes, 2, self.program_codes, self.current_position)\n",
    "\n",
    "            if opcode == 1 or opcode == 2:\n",
    "                \"\"\" Given two inputs and a destination index, perform some operation on \n",
    "                the two inputs and put the result in the destination index \"\"\"\n",
    "                destination_index = self.program_codes[self.current_position+3]\n",
    "\n",
    "                if opcode == 1:\n",
    "                    output = input_1 + input_2\n",
    "                elif opcode == 2:\n",
    "                    output = input_1 * input_2\n",
    "\n",
    "                self.program_codes[destination_index] = output\n",
    "\n",
    "                # move to the next \"program\", opcodes 1 and 2 have length 4\n",
    "                self.current_position = self.current_position + 4\n",
    "                \n",
    "            elif opcode == 3:\n",
    "                \"\"\" Here the input comes from the function argument, then that is copied to\n",
    "                the destination index \"\"\"\n",
    "                if (current_input != None):\n",
    "#                     print(\"Using input\", current_input)\n",
    "                    destination_index = self.program_codes[self.current_position+1]\n",
    "                    self.program_codes[destination_index] = current_input\n",
    "                    current_input = None\n",
    "                    self.current_position = self.current_position + 2\n",
    "                else:\n",
    "                    return None, \"Awaiting input\"\n",
    "                \n",
    "            elif opcode == 4:\n",
    "                \"\"\" Given one input (retrieved above), print it \"\"\"\n",
    "                self.current_position = self.current_position + 2\n",
    "                return input_1, \"Output ready\"\n",
    "            \n",
    "            elif opcode == 5 or opcode == 6:\n",
    "                \"\"\" Based on the first input, conditionally sets current_position to\n",
    "                the value of the second input \"\"\"\n",
    "                if opcode == 5:\n",
    "                    should_jump = input_1 != 0\n",
    "                elif opcode == 6:\n",
    "                    should_jump = input_1 == 0\n",
    "\n",
    "                if should_jump:\n",
    "                    self.current_position = input_2\n",
    "                else:\n",
    "                    self.current_position = self.current_position + 3\n",
    "            elif opcode == 7 or opcode == 8:\n",
    "                \"\"\" Based on a comparison of the first and second inputs, sets\n",
    "                destination index to 1 or 0 \"\"\"\n",
    "                if opcode == 7:\n",
    "                    comparison_true = input_1 < input_2\n",
    "                elif opcode == 8:\n",
    "                    comparison_true = input_1 == input_2\n",
    "\n",
    "                destination_index = self.program_codes[self.current_position + 3]\n",
    "                if comparison_true:\n",
    "                    self.program_codes[destination_index] = 1\n",
    "                else:\n",
    "                    self.program_codes[destination_index] = 0\n",
    "\n",
    "                self.current_position = self.current_position + 4\n",
    "\n",
    "            else:\n",
    "                print(\"Error, encountered opcode\", opcode)\n",
    "                break\n",
    "            "
   ]
  },
  {
   "cell_type": "markdown",
   "metadata": {},
   "source": [
    "Let's see if the Part 1 structure still works here"
   ]
  },
  {
   "cell_type": "markdown",
   "metadata": {},
   "source": [
    "No, something is wrong.  It should be returning 4 right now...because 0 is false-y.  Gotta check for None explicitly"
   ]
  },
  {
   "cell_type": "code",
   "execution_count": 92,
   "metadata": {},
   "outputs": [],
   "source": [
    "example2_input_str = \"3,15,3,16,1002,16,10,16,1,16,15,15,4,15,99,0,0\"\n",
    "A = Amplifier([int(x) for x in example2_input_str.split(\",\")])\n",
    "B = Amplifier([int(x) for x in example2_input_str.split(\",\")])\n",
    "C = Amplifier([int(x) for x in example2_input_str.split(\",\")])\n",
    "D = Amplifier([int(x) for x in example2_input_str.split(\",\")])\n",
    "E = Amplifier([int(x) for x in example2_input_str.split(\",\")])"
   ]
  },
  {
   "cell_type": "code",
   "execution_count": 93,
   "metadata": {},
   "outputs": [
    {
     "name": "stdout",
     "output_type": "stream",
     "text": [
      "Using input 4\n"
     ]
    },
    {
     "data": {
      "text/plain": [
       "(None, 'Awaiting input')"
      ]
     },
     "execution_count": 93,
     "metadata": {},
     "output_type": "execute_result"
    }
   ],
   "source": [
    "A.run_list_program(4)"
   ]
  },
  {
   "cell_type": "code",
   "execution_count": 94,
   "metadata": {},
   "outputs": [
    {
     "name": "stdout",
     "output_type": "stream",
     "text": [
      "Using input 0\n"
     ]
    },
    {
     "data": {
      "text/plain": [
       "(4, 'Output ready')"
      ]
     },
     "execution_count": 94,
     "metadata": {},
     "output_type": "execute_result"
    }
   ],
   "source": [
    "A.run_list_program(0)"
   ]
  },
  {
   "cell_type": "code",
   "execution_count": 95,
   "metadata": {},
   "outputs": [
    {
     "name": "stdout",
     "output_type": "stream",
     "text": [
      "Using input 3\n"
     ]
    },
    {
     "data": {
      "text/plain": [
       "(None, 'Awaiting input')"
      ]
     },
     "execution_count": 95,
     "metadata": {},
     "output_type": "execute_result"
    }
   ],
   "source": [
    "B.run_list_program(3)"
   ]
  },
  {
   "cell_type": "code",
   "execution_count": 96,
   "metadata": {},
   "outputs": [
    {
     "name": "stdout",
     "output_type": "stream",
     "text": [
      "Using input 4\n"
     ]
    },
    {
     "data": {
      "text/plain": [
       "(43, 'Output ready')"
      ]
     },
     "execution_count": 96,
     "metadata": {},
     "output_type": "execute_result"
    }
   ],
   "source": [
    "B.run_list_program(4)"
   ]
  },
  {
   "cell_type": "code",
   "execution_count": 97,
   "metadata": {},
   "outputs": [
    {
     "name": "stdout",
     "output_type": "stream",
     "text": [
      "Using input 2\n"
     ]
    },
    {
     "data": {
      "text/plain": [
       "(None, 'Awaiting input')"
      ]
     },
     "execution_count": 97,
     "metadata": {},
     "output_type": "execute_result"
    }
   ],
   "source": [
    "C.run_list_program(2)"
   ]
  },
  {
   "cell_type": "code",
   "execution_count": 98,
   "metadata": {},
   "outputs": [
    {
     "name": "stdout",
     "output_type": "stream",
     "text": [
      "Using input 43\n"
     ]
    },
    {
     "data": {
      "text/plain": [
       "(432, 'Output ready')"
      ]
     },
     "execution_count": 98,
     "metadata": {},
     "output_type": "execute_result"
    }
   ],
   "source": [
    "C.run_list_program(43)"
   ]
  },
  {
   "cell_type": "code",
   "execution_count": 99,
   "metadata": {},
   "outputs": [
    {
     "name": "stdout",
     "output_type": "stream",
     "text": [
      "Using input 1\n"
     ]
    },
    {
     "data": {
      "text/plain": [
       "(None, 'Awaiting input')"
      ]
     },
     "execution_count": 99,
     "metadata": {},
     "output_type": "execute_result"
    }
   ],
   "source": [
    "D.run_list_program(1)"
   ]
  },
  {
   "cell_type": "code",
   "execution_count": 100,
   "metadata": {},
   "outputs": [
    {
     "name": "stdout",
     "output_type": "stream",
     "text": [
      "Using input 432\n"
     ]
    },
    {
     "data": {
      "text/plain": [
       "(4321, 'Output ready')"
      ]
     },
     "execution_count": 100,
     "metadata": {},
     "output_type": "execute_result"
    }
   ],
   "source": [
    "D.run_list_program(432)"
   ]
  },
  {
   "cell_type": "code",
   "execution_count": 101,
   "metadata": {},
   "outputs": [
    {
     "name": "stdout",
     "output_type": "stream",
     "text": [
      "Using input 0\n"
     ]
    },
    {
     "data": {
      "text/plain": [
       "(None, 'Awaiting input')"
      ]
     },
     "execution_count": 101,
     "metadata": {},
     "output_type": "execute_result"
    }
   ],
   "source": [
    "E.run_list_program(0)"
   ]
  },
  {
   "cell_type": "code",
   "execution_count": 102,
   "metadata": {},
   "outputs": [
    {
     "name": "stdout",
     "output_type": "stream",
     "text": [
      "Using input 4321\n"
     ]
    },
    {
     "data": {
      "text/plain": [
       "(43210, 'Output ready')"
      ]
     },
     "execution_count": 102,
     "metadata": {},
     "output_type": "execute_result"
    }
   ],
   "source": [
    "E.run_list_program(4321)"
   ]
  },
  {
   "cell_type": "markdown",
   "metadata": {},
   "source": [
    "Ok, that looks fine.  Now let's walk through the example from Part 2"
   ]
  },
  {
   "cell_type": "code",
   "execution_count": 103,
   "metadata": {},
   "outputs": [],
   "source": [
    "example4_input_str = \"3,26,1001,26,-4,26,3,27,1002,27,2,27,1,27,26,27,4,27,1001,28,-1,28,1005,28,6,99,0,0,5\"\n",
    "A = Amplifier([int(x) for x in example4_input_str.split(\",\")])\n",
    "B = Amplifier([int(x) for x in example4_input_str.split(\",\")])\n",
    "C = Amplifier([int(x) for x in example4_input_str.split(\",\")])\n",
    "D = Amplifier([int(x) for x in example4_input_str.split(\",\")])\n",
    "E = Amplifier([int(x) for x in example4_input_str.split(\",\")])"
   ]
  },
  {
   "cell_type": "code",
   "execution_count": 104,
   "metadata": {},
   "outputs": [
    {
     "name": "stdout",
     "output_type": "stream",
     "text": [
      "Using input 9\n"
     ]
    },
    {
     "data": {
      "text/plain": [
       "(None, 'Awaiting input')"
      ]
     },
     "execution_count": 104,
     "metadata": {},
     "output_type": "execute_result"
    }
   ],
   "source": [
    "A.run_list_program(9)"
   ]
  },
  {
   "cell_type": "code",
   "execution_count": 105,
   "metadata": {},
   "outputs": [
    {
     "name": "stdout",
     "output_type": "stream",
     "text": [
      "Using input 0\n"
     ]
    },
    {
     "data": {
      "text/plain": [
       "(5, 'Output ready')"
      ]
     },
     "execution_count": 105,
     "metadata": {},
     "output_type": "execute_result"
    }
   ],
   "source": [
    "A.run_list_program(0)"
   ]
  },
  {
   "cell_type": "code",
   "execution_count": 106,
   "metadata": {},
   "outputs": [
    {
     "name": "stdout",
     "output_type": "stream",
     "text": [
      "Using input 8\n"
     ]
    },
    {
     "data": {
      "text/plain": [
       "(None, 'Awaiting input')"
      ]
     },
     "execution_count": 106,
     "metadata": {},
     "output_type": "execute_result"
    }
   ],
   "source": [
    "B.run_list_program(8)"
   ]
  },
  {
   "cell_type": "code",
   "execution_count": 107,
   "metadata": {},
   "outputs": [
    {
     "name": "stdout",
     "output_type": "stream",
     "text": [
      "Using input 5\n"
     ]
    },
    {
     "data": {
      "text/plain": [
       "(14, 'Output ready')"
      ]
     },
     "execution_count": 107,
     "metadata": {},
     "output_type": "execute_result"
    }
   ],
   "source": [
    "B.run_list_program(5)"
   ]
  },
  {
   "cell_type": "code",
   "execution_count": 108,
   "metadata": {},
   "outputs": [
    {
     "name": "stdout",
     "output_type": "stream",
     "text": [
      "Using input 7\n"
     ]
    },
    {
     "data": {
      "text/plain": [
       "(None, 'Awaiting input')"
      ]
     },
     "execution_count": 108,
     "metadata": {},
     "output_type": "execute_result"
    }
   ],
   "source": [
    "C.run_list_program(7)"
   ]
  },
  {
   "cell_type": "code",
   "execution_count": 109,
   "metadata": {},
   "outputs": [
    {
     "name": "stdout",
     "output_type": "stream",
     "text": [
      "Using input 14\n"
     ]
    },
    {
     "data": {
      "text/plain": [
       "(31, 'Output ready')"
      ]
     },
     "execution_count": 109,
     "metadata": {},
     "output_type": "execute_result"
    }
   ],
   "source": [
    "C.run_list_program(14)"
   ]
  },
  {
   "cell_type": "code",
   "execution_count": 110,
   "metadata": {},
   "outputs": [
    {
     "name": "stdout",
     "output_type": "stream",
     "text": [
      "Using input 6\n"
     ]
    },
    {
     "data": {
      "text/plain": [
       "(None, 'Awaiting input')"
      ]
     },
     "execution_count": 110,
     "metadata": {},
     "output_type": "execute_result"
    }
   ],
   "source": [
    "D.run_list_program(6)"
   ]
  },
  {
   "cell_type": "code",
   "execution_count": 111,
   "metadata": {},
   "outputs": [
    {
     "name": "stdout",
     "output_type": "stream",
     "text": [
      "Using input 31\n"
     ]
    },
    {
     "data": {
      "text/plain": [
       "(64, 'Output ready')"
      ]
     },
     "execution_count": 111,
     "metadata": {},
     "output_type": "execute_result"
    }
   ],
   "source": [
    "D.run_list_program(31)"
   ]
  },
  {
   "cell_type": "code",
   "execution_count": 112,
   "metadata": {},
   "outputs": [
    {
     "name": "stdout",
     "output_type": "stream",
     "text": [
      "Using input 5\n"
     ]
    },
    {
     "data": {
      "text/plain": [
       "(None, 'Awaiting input')"
      ]
     },
     "execution_count": 112,
     "metadata": {},
     "output_type": "execute_result"
    }
   ],
   "source": [
    "E.run_list_program(5)"
   ]
  },
  {
   "cell_type": "code",
   "execution_count": 113,
   "metadata": {},
   "outputs": [
    {
     "name": "stdout",
     "output_type": "stream",
     "text": [
      "Using input 64\n"
     ]
    },
    {
     "data": {
      "text/plain": [
       "(129, 'Output ready')"
      ]
     },
     "execution_count": 113,
     "metadata": {},
     "output_type": "execute_result"
    }
   ],
   "source": [
    "E.run_list_program(64)"
   ]
  },
  {
   "cell_type": "code",
   "execution_count": 114,
   "metadata": {},
   "outputs": [
    {
     "name": "stdout",
     "output_type": "stream",
     "text": [
      "Using input 129\n"
     ]
    },
    {
     "data": {
      "text/plain": [
       "(263, 'Output ready')"
      ]
     },
     "execution_count": 114,
     "metadata": {},
     "output_type": "execute_result"
    }
   ],
   "source": [
    "A.run_list_program(129)"
   ]
  },
  {
   "cell_type": "code",
   "execution_count": 115,
   "metadata": {},
   "outputs": [
    {
     "name": "stdout",
     "output_type": "stream",
     "text": [
      "Using input 263\n"
     ]
    },
    {
     "data": {
      "text/plain": [
       "(530, 'Output ready')"
      ]
     },
     "execution_count": 115,
     "metadata": {},
     "output_type": "execute_result"
    }
   ],
   "source": [
    "B.run_list_program(263)"
   ]
  },
  {
   "cell_type": "code",
   "execution_count": 116,
   "metadata": {},
   "outputs": [
    {
     "name": "stdout",
     "output_type": "stream",
     "text": [
      "Using input 530\n"
     ]
    },
    {
     "data": {
      "text/plain": [
       "(1063, 'Output ready')"
      ]
     },
     "execution_count": 116,
     "metadata": {},
     "output_type": "execute_result"
    }
   ],
   "source": [
    "C.run_list_program(530)"
   ]
  },
  {
   "cell_type": "code",
   "execution_count": 117,
   "metadata": {},
   "outputs": [
    {
     "name": "stdout",
     "output_type": "stream",
     "text": [
      "Using input 1063\n"
     ]
    },
    {
     "data": {
      "text/plain": [
       "(2128, 'Output ready')"
      ]
     },
     "execution_count": 117,
     "metadata": {},
     "output_type": "execute_result"
    }
   ],
   "source": [
    "D.run_list_program(1063)"
   ]
  },
  {
   "cell_type": "code",
   "execution_count": 118,
   "metadata": {},
   "outputs": [
    {
     "name": "stdout",
     "output_type": "stream",
     "text": [
      "Using input 2128\n"
     ]
    },
    {
     "data": {
      "text/plain": [
       "(4257, 'Output ready')"
      ]
     },
     "execution_count": 118,
     "metadata": {},
     "output_type": "execute_result"
    }
   ],
   "source": [
    "E.run_list_program(2128)"
   ]
  },
  {
   "cell_type": "code",
   "execution_count": 119,
   "metadata": {},
   "outputs": [
    {
     "name": "stdout",
     "output_type": "stream",
     "text": [
      "Using input 4257\n"
     ]
    },
    {
     "data": {
      "text/plain": [
       "(8519, 'Output ready')"
      ]
     },
     "execution_count": 119,
     "metadata": {},
     "output_type": "execute_result"
    }
   ],
   "source": [
    "A.run_list_program(4257)"
   ]
  },
  {
   "cell_type": "code",
   "execution_count": 120,
   "metadata": {},
   "outputs": [
    {
     "name": "stdout",
     "output_type": "stream",
     "text": [
      "Using input 8519\n"
     ]
    },
    {
     "data": {
      "text/plain": [
       "(17042, 'Output ready')"
      ]
     },
     "execution_count": 120,
     "metadata": {},
     "output_type": "execute_result"
    }
   ],
   "source": [
    "B.run_list_program(8519)"
   ]
  },
  {
   "cell_type": "code",
   "execution_count": 121,
   "metadata": {},
   "outputs": [
    {
     "name": "stdout",
     "output_type": "stream",
     "text": [
      "Using input 17042\n"
     ]
    },
    {
     "data": {
      "text/plain": [
       "(34087, 'Output ready')"
      ]
     },
     "execution_count": 121,
     "metadata": {},
     "output_type": "execute_result"
    }
   ],
   "source": [
    "C.run_list_program(17042)"
   ]
  },
  {
   "cell_type": "code",
   "execution_count": 122,
   "metadata": {},
   "outputs": [
    {
     "name": "stdout",
     "output_type": "stream",
     "text": [
      "Using input 34087\n"
     ]
    },
    {
     "data": {
      "text/plain": [
       "(68176, 'Output ready')"
      ]
     },
     "execution_count": 122,
     "metadata": {},
     "output_type": "execute_result"
    }
   ],
   "source": [
    "D.run_list_program(34087)"
   ]
  },
  {
   "cell_type": "code",
   "execution_count": 123,
   "metadata": {},
   "outputs": [
    {
     "name": "stdout",
     "output_type": "stream",
     "text": [
      "Using input 68176\n"
     ]
    },
    {
     "data": {
      "text/plain": [
       "(136353, 'Output ready')"
      ]
     },
     "execution_count": 123,
     "metadata": {},
     "output_type": "execute_result"
    }
   ],
   "source": [
    "E.run_list_program(68176)"
   ]
  },
  {
   "cell_type": "code",
   "execution_count": 124,
   "metadata": {},
   "outputs": [
    {
     "name": "stdout",
     "output_type": "stream",
     "text": [
      "Using input 136353\n"
     ]
    },
    {
     "data": {
      "text/plain": [
       "(272711, 'Output ready')"
      ]
     },
     "execution_count": 124,
     "metadata": {},
     "output_type": "execute_result"
    }
   ],
   "source": [
    "A.run_list_program(136353)"
   ]
  },
  {
   "cell_type": "code",
   "execution_count": 125,
   "metadata": {},
   "outputs": [
    {
     "name": "stdout",
     "output_type": "stream",
     "text": [
      "Using input 272711\n"
     ]
    },
    {
     "data": {
      "text/plain": [
       "(545426, 'Output ready')"
      ]
     },
     "execution_count": 125,
     "metadata": {},
     "output_type": "execute_result"
    }
   ],
   "source": [
    "B.run_list_program(272711)"
   ]
  },
  {
   "cell_type": "code",
   "execution_count": 126,
   "metadata": {},
   "outputs": [
    {
     "name": "stdout",
     "output_type": "stream",
     "text": [
      "Using input 545426\n"
     ]
    },
    {
     "data": {
      "text/plain": [
       "(1090855, 'Output ready')"
      ]
     },
     "execution_count": 126,
     "metadata": {},
     "output_type": "execute_result"
    }
   ],
   "source": [
    "C.run_list_program(545426)"
   ]
  },
  {
   "cell_type": "code",
   "execution_count": 127,
   "metadata": {},
   "outputs": [
    {
     "name": "stdout",
     "output_type": "stream",
     "text": [
      "Using input 1090855\n"
     ]
    },
    {
     "data": {
      "text/plain": [
       "(2181712, 'Output ready')"
      ]
     },
     "execution_count": 127,
     "metadata": {},
     "output_type": "execute_result"
    }
   ],
   "source": [
    "D.run_list_program(1090855)"
   ]
  },
  {
   "cell_type": "code",
   "execution_count": 128,
   "metadata": {},
   "outputs": [
    {
     "name": "stdout",
     "output_type": "stream",
     "text": [
      "Using input 2181712\n"
     ]
    },
    {
     "data": {
      "text/plain": [
       "(4363425, 'Output ready')"
      ]
     },
     "execution_count": 128,
     "metadata": {},
     "output_type": "execute_result"
    }
   ],
   "source": [
    "E.run_list_program(2181712)"
   ]
  },
  {
   "cell_type": "code",
   "execution_count": 129,
   "metadata": {},
   "outputs": [
    {
     "name": "stdout",
     "output_type": "stream",
     "text": [
      "Using input 4363425\n"
     ]
    },
    {
     "data": {
      "text/plain": [
       "(8726855, 'Output ready')"
      ]
     },
     "execution_count": 129,
     "metadata": {},
     "output_type": "execute_result"
    }
   ],
   "source": [
    "A.run_list_program(4363425)"
   ]
  },
  {
   "cell_type": "code",
   "execution_count": 130,
   "metadata": {},
   "outputs": [
    {
     "name": "stdout",
     "output_type": "stream",
     "text": [
      "Using input 8726855\n"
     ]
    },
    {
     "data": {
      "text/plain": [
       "(17453714, 'Output ready')"
      ]
     },
     "execution_count": 130,
     "metadata": {},
     "output_type": "execute_result"
    }
   ],
   "source": [
    "B.run_list_program(8726855)"
   ]
  },
  {
   "cell_type": "code",
   "execution_count": 131,
   "metadata": {},
   "outputs": [
    {
     "name": "stdout",
     "output_type": "stream",
     "text": [
      "Using input 17453714\n"
     ]
    },
    {
     "data": {
      "text/plain": [
       "(34907431, 'Output ready')"
      ]
     },
     "execution_count": 131,
     "metadata": {},
     "output_type": "execute_result"
    }
   ],
   "source": [
    "C.run_list_program(17453714)"
   ]
  },
  {
   "cell_type": "code",
   "execution_count": 132,
   "metadata": {},
   "outputs": [
    {
     "name": "stdout",
     "output_type": "stream",
     "text": [
      "Using input 4907431\n"
     ]
    },
    {
     "data": {
      "text/plain": [
       "(9814864, 'Output ready')"
      ]
     },
     "execution_count": 132,
     "metadata": {},
     "output_type": "execute_result"
    }
   ],
   "source": [
    "D.run_list_program(4907431)"
   ]
  },
  {
   "cell_type": "code",
   "execution_count": 133,
   "metadata": {},
   "outputs": [
    {
     "name": "stdout",
     "output_type": "stream",
     "text": [
      "Using input 9814864\n"
     ]
    },
    {
     "data": {
      "text/plain": [
       "(19629729, 'Output ready')"
      ]
     },
     "execution_count": 133,
     "metadata": {},
     "output_type": "execute_result"
    }
   ],
   "source": [
    "E.run_list_program(9814864)"
   ]
  },
  {
   "cell_type": "code",
   "execution_count": 134,
   "metadata": {},
   "outputs": [
    {
     "data": {
      "text/plain": [
       "(19629729, 'Done')"
      ]
     },
     "execution_count": 134,
     "metadata": {},
     "output_type": "execute_result"
    }
   ],
   "source": [
    "A.run_list_program(19629729)"
   ]
  },
  {
   "cell_type": "markdown",
   "metadata": {},
   "source": [
    "Well that was tedious...and it didn't work"
   ]
  },
  {
   "cell_type": "markdown",
   "metadata": {},
   "source": [
    "Or...let's see what happens if we get to the end, maybe it really must be E with code 99"
   ]
  },
  {
   "cell_type": "code",
   "execution_count": 135,
   "metadata": {},
   "outputs": [
    {
     "data": {
      "text/plain": [
       "(19629729, 'Done')"
      ]
     },
     "execution_count": 135,
     "metadata": {},
     "output_type": "execute_result"
    }
   ],
   "source": [
    "B.run_list_program(19629729)"
   ]
  },
  {
   "cell_type": "code",
   "execution_count": 136,
   "metadata": {},
   "outputs": [
    {
     "data": {
      "text/plain": [
       "(19629729, 'Done')"
      ]
     },
     "execution_count": 136,
     "metadata": {},
     "output_type": "execute_result"
    }
   ],
   "source": [
    "C.run_list_program(19629729)"
   ]
  },
  {
   "cell_type": "code",
   "execution_count": 137,
   "metadata": {},
   "outputs": [
    {
     "data": {
      "text/plain": [
       "(19629729, 'Done')"
      ]
     },
     "execution_count": 137,
     "metadata": {},
     "output_type": "execute_result"
    }
   ],
   "source": [
    "D.run_list_program(19629729)"
   ]
  },
  {
   "cell_type": "code",
   "execution_count": 138,
   "metadata": {},
   "outputs": [
    {
     "data": {
      "text/plain": [
       "(19629729, 'Done')"
      ]
     },
     "execution_count": 138,
     "metadata": {},
     "output_type": "execute_result"
    }
   ],
   "source": [
    "E.run_list_program(19629729)"
   ]
  },
  {
   "cell_type": "markdown",
   "metadata": {},
   "source": [
    "Nope, that didn't work\n",
    "\n",
    "Let's see just in case, if I automate it instead of doing it by hand, if that fixes the problem"
   ]
  },
  {
   "cell_type": "code",
   "execution_count": 139,
   "metadata": {},
   "outputs": [],
   "source": [
    "example4_input_str = \"3,26,1001,26,-4,26,3,27,1002,27,2,27,1,27,26,27,4,27,1001,28,-1,28,1005,28,6,99,0,0,5\"\n",
    "A = Amplifier([int(x) for x in example4_input_str.split(\",\")])\n",
    "B = Amplifier([int(x) for x in example4_input_str.split(\",\")])\n",
    "C = Amplifier([int(x) for x in example4_input_str.split(\",\")])\n",
    "D = Amplifier([int(x) for x in example4_input_str.split(\",\")])\n",
    "E = Amplifier([int(x) for x in example4_input_str.split(\",\")])"
   ]
  },
  {
   "cell_type": "code",
   "execution_count": 140,
   "metadata": {},
   "outputs": [
    {
     "name": "stdout",
     "output_type": "stream",
     "text": [
      "Using input 9\n"
     ]
    },
    {
     "data": {
      "text/plain": [
       "(None, 'Awaiting input')"
      ]
     },
     "execution_count": 140,
     "metadata": {},
     "output_type": "execute_result"
    }
   ],
   "source": [
    "A.run_list_program(9)"
   ]
  },
  {
   "cell_type": "code",
   "execution_count": 141,
   "metadata": {},
   "outputs": [
    {
     "name": "stdout",
     "output_type": "stream",
     "text": [
      "Using input 8\n"
     ]
    },
    {
     "data": {
      "text/plain": [
       "(None, 'Awaiting input')"
      ]
     },
     "execution_count": 141,
     "metadata": {},
     "output_type": "execute_result"
    }
   ],
   "source": [
    "B.run_list_program(8)"
   ]
  },
  {
   "cell_type": "code",
   "execution_count": 142,
   "metadata": {},
   "outputs": [
    {
     "name": "stdout",
     "output_type": "stream",
     "text": [
      "Using input 7\n"
     ]
    },
    {
     "data": {
      "text/plain": [
       "(None, 'Awaiting input')"
      ]
     },
     "execution_count": 142,
     "metadata": {},
     "output_type": "execute_result"
    }
   ],
   "source": [
    "C.run_list_program(7)"
   ]
  },
  {
   "cell_type": "code",
   "execution_count": 143,
   "metadata": {},
   "outputs": [
    {
     "name": "stdout",
     "output_type": "stream",
     "text": [
      "Using input 6\n"
     ]
    },
    {
     "data": {
      "text/plain": [
       "(None, 'Awaiting input')"
      ]
     },
     "execution_count": 143,
     "metadata": {},
     "output_type": "execute_result"
    }
   ],
   "source": [
    "D.run_list_program(6)"
   ]
  },
  {
   "cell_type": "code",
   "execution_count": 144,
   "metadata": {},
   "outputs": [
    {
     "name": "stdout",
     "output_type": "stream",
     "text": [
      "Using input 5\n"
     ]
    },
    {
     "data": {
      "text/plain": [
       "(None, 'Awaiting input')"
      ]
     },
     "execution_count": 144,
     "metadata": {},
     "output_type": "execute_result"
    }
   ],
   "source": [
    "E.run_list_program(5)"
   ]
  },
  {
   "cell_type": "code",
   "execution_count": 146,
   "metadata": {},
   "outputs": [
    {
     "name": "stdout",
     "output_type": "stream",
     "text": [
      "Using input 0\n",
      "Using input 5\n",
      "Using input 14\n",
      "Using input 31\n",
      "Using input 64\n",
      "Using input 129\n",
      "Using input 263\n",
      "Using input 530\n",
      "Using input 1063\n",
      "Using input 2128\n",
      "Using input 4257\n",
      "Using input 8519\n",
      "Using input 17042\n",
      "Using input 34087\n",
      "Using input 68176\n",
      "Using input 136353\n",
      "Using input 272711\n",
      "Using input 545426\n",
      "Using input 1090855\n",
      "Using input 2181712\n",
      "Using input 4363425\n",
      "Using input 8726855\n",
      "Using input 17453714\n",
      "Using input 34907431\n",
      "Using input 69814864\n"
     ]
    }
   ],
   "source": [
    "current_amp = A\n",
    "value = 0\n",
    "while True:\n",
    "    value, status = current_amp.run_list_program(value)\n",
    "    if status == \"Done\":\n",
    "        break\n",
    "        \n",
    "    if current_amp == A:\n",
    "        current_amp = B\n",
    "    elif current_amp == B:\n",
    "        current_amp = C\n",
    "    elif current_amp == C:\n",
    "        current_amp = D\n",
    "    elif current_amp == D:\n",
    "        current_amp = E\n",
    "    else:\n",
    "        current_amp = A"
   ]
  },
  {
   "cell_type": "code",
   "execution_count": 147,
   "metadata": {},
   "outputs": [
    {
     "data": {
      "text/plain": [
       "139629729"
      ]
     },
     "execution_count": 147,
     "metadata": {},
     "output_type": "execute_result"
    }
   ],
   "source": [
    "value"
   ]
  },
  {
   "cell_type": "code",
   "execution_count": 148,
   "metadata": {},
   "outputs": [],
   "source": [
    "expecting = 139629729"
   ]
  },
  {
   "cell_type": "code",
   "execution_count": 149,
   "metadata": {},
   "outputs": [
    {
     "data": {
      "text/plain": [
       "True"
      ]
     },
     "execution_count": 149,
     "metadata": {},
     "output_type": "execute_result"
    }
   ],
   "source": [
    "value == expecting"
   ]
  },
  {
   "cell_type": "markdown",
   "metadata": {},
   "source": [
    "Ok cool, I must have done something wrong in looping by hand.  Let's test the other example"
   ]
  },
  {
   "cell_type": "code",
   "execution_count": 156,
   "metadata": {},
   "outputs": [],
   "source": [
    "example5_input_str = \"3,52,1001,52,-5,52,3,53,1,52,56,54,1007,54,5,55,1005,55,26,1001,54,-5,54,1105,1,12,1,53,54,53,1008,54,0,55,1001,55,1,55,2,53,55,53,4,53,1001,56,-1,56,1005,56,6,99,0,0,0,0,10\"\n",
    "A = Amplifier([int(x) for x in example5_input_str.split(\",\")])\n",
    "B = Amplifier([int(x) for x in example5_input_str.split(\",\")])\n",
    "C = Amplifier([int(x) for x in example5_input_str.split(\",\")])\n",
    "D = Amplifier([int(x) for x in example5_input_str.split(\",\")])\n",
    "E = Amplifier([int(x) for x in example5_input_str.split(\",\")])"
   ]
  },
  {
   "cell_type": "code",
   "execution_count": 157,
   "metadata": {},
   "outputs": [],
   "source": [
    "phase_setting_sequence_5 = [9,7,8,5,6]"
   ]
  },
  {
   "cell_type": "code",
   "execution_count": 158,
   "metadata": {},
   "outputs": [],
   "source": [
    "all_amps = [A, B, C, D, E]"
   ]
  },
  {
   "cell_type": "code",
   "execution_count": 159,
   "metadata": {},
   "outputs": [
    {
     "name": "stdout",
     "output_type": "stream",
     "text": [
      "Using input 9\n",
      "Using input 7\n",
      "Using input 8\n",
      "Using input 5\n",
      "Using input 6\n"
     ]
    }
   ],
   "source": [
    "for index, amp in enumerate(all_amps):\n",
    "    amp.run_list_program(phase_setting_sequence_5[index])"
   ]
  },
  {
   "cell_type": "code",
   "execution_count": 160,
   "metadata": {},
   "outputs": [
    {
     "name": "stdout",
     "output_type": "stream",
     "text": [
      "Using input 0\n",
      "Using input 4\n",
      "Using input 6\n",
      "Using input 9\n",
      "Using input 18\n",
      "Using input 19\n",
      "Using input 22\n",
      "Using input 23\n",
      "Using input 25\n",
      "Using input 29\n",
      "Using input 58\n",
      "Using input 60\n",
      "Using input 120\n",
      "Using input 121\n",
      "Using input 124\n",
      "Using input 128\n",
      "Using input 129\n",
      "Using input 133\n",
      "Using input 266\n",
      "Using input 268\n",
      "Using input 271\n",
      "Using input 542\n",
      "Using input 545\n",
      "Using input 549\n",
      "Using input 550\n",
      "Using input 552\n",
      "Using input 556\n",
      "Using input 558\n",
      "Using input 561\n",
      "Using input 1122\n",
      "Using input 1123\n",
      "Using input 1126\n",
      "Using input 1127\n",
      "Using input 1129\n",
      "Using input 1133\n",
      "Using input 2266\n",
      "Using input 2268\n",
      "Using input 4536\n",
      "Using input 4537\n",
      "Using input 4540\n",
      "Using input 4544\n",
      "Using input 4545\n",
      "Using input 4549\n",
      "Using input 9098\n",
      "Using input 9100\n",
      "Using input 9103\n",
      "Using input 18206\n",
      "Using input 18209\n",
      "Using input 18213\n",
      "Using input 18214\n"
     ]
    }
   ],
   "source": [
    "current_amp_index = 0\n",
    "value = 0\n",
    "while True:\n",
    "    current_amp = all_amps[current_amp_index%5]\n",
    "    value, status = current_amp.run_list_program(value)\n",
    "    if status == \"Done\":\n",
    "        break\n",
    "        \n",
    "    current_amp_index += 1"
   ]
  },
  {
   "cell_type": "code",
   "execution_count": 161,
   "metadata": {},
   "outputs": [
    {
     "data": {
      "text/plain": [
       "18216"
      ]
     },
     "execution_count": 161,
     "metadata": {},
     "output_type": "execute_result"
    }
   ],
   "source": [
    "value"
   ]
  },
  {
   "cell_type": "code",
   "execution_count": 162,
   "metadata": {},
   "outputs": [],
   "source": [
    "expected = 18216"
   ]
  },
  {
   "cell_type": "code",
   "execution_count": 163,
   "metadata": {},
   "outputs": [
    {
     "data": {
      "text/plain": [
       "True"
      ]
     },
     "execution_count": 163,
     "metadata": {},
     "output_type": "execute_result"
    }
   ],
   "source": [
    "value == expected"
   ]
  },
  {
   "cell_type": "markdown",
   "metadata": {},
   "source": [
    "Ok, I understand how it processes input now, just need to iterate over the permutations for the full input again"
   ]
  },
  {
   "cell_type": "code",
   "execution_count": 164,
   "metadata": {},
   "outputs": [],
   "source": [
    "def test_phase_settings(input_str, phase_settings):\n",
    "    \n",
    "    A = Amplifier([int(x) for x in input_str.split(\",\")])\n",
    "    B = Amplifier([int(x) for x in input_str.split(\",\")])\n",
    "    C = Amplifier([int(x) for x in input_str.split(\",\")])\n",
    "    D = Amplifier([int(x) for x in input_str.split(\",\")])\n",
    "    E = Amplifier([int(x) for x in input_str.split(\",\")])\n",
    "    \n",
    "    all_amps = [A, B, C, D, E]\n",
    "    \n",
    "    for index, amp in enumerate(all_amps):\n",
    "        amp.run_list_program(phase_settings[index])\n",
    "    \n",
    "    current_amp_index = 0\n",
    "    value = 0\n",
    "    while True:\n",
    "        current_amp = all_amps[current_amp_index%5]\n",
    "        value, status = current_amp.run_list_program(value)\n",
    "        if status == \"Done\":\n",
    "            break\n",
    "\n",
    "        current_amp_index += 1\n",
    "\n",
    "    return value"
   ]
  },
  {
   "cell_type": "code",
   "execution_count": 165,
   "metadata": {},
   "outputs": [
    {
     "name": "stdout",
     "output_type": "stream",
     "text": [
      "Using input 9\n",
      "Using input 7\n",
      "Using input 8\n",
      "Using input 5\n",
      "Using input 6\n",
      "Using input 0\n",
      "Using input 4\n",
      "Using input 6\n",
      "Using input 9\n",
      "Using input 18\n",
      "Using input 19\n",
      "Using input 22\n",
      "Using input 23\n",
      "Using input 25\n",
      "Using input 29\n",
      "Using input 58\n",
      "Using input 60\n",
      "Using input 120\n",
      "Using input 121\n",
      "Using input 124\n",
      "Using input 128\n",
      "Using input 129\n",
      "Using input 133\n",
      "Using input 266\n",
      "Using input 268\n",
      "Using input 271\n",
      "Using input 542\n",
      "Using input 545\n",
      "Using input 549\n",
      "Using input 550\n",
      "Using input 552\n",
      "Using input 556\n",
      "Using input 558\n",
      "Using input 561\n",
      "Using input 1122\n",
      "Using input 1123\n",
      "Using input 1126\n",
      "Using input 1127\n",
      "Using input 1129\n",
      "Using input 1133\n",
      "Using input 2266\n",
      "Using input 2268\n",
      "Using input 4536\n",
      "Using input 4537\n",
      "Using input 4540\n",
      "Using input 4544\n",
      "Using input 4545\n",
      "Using input 4549\n",
      "Using input 9098\n",
      "Using input 9100\n",
      "Using input 9103\n",
      "Using input 18206\n",
      "Using input 18209\n",
      "Using input 18213\n",
      "Using input 18214\n"
     ]
    },
    {
     "data": {
      "text/plain": [
       "18216"
      ]
     },
     "execution_count": 165,
     "metadata": {},
     "output_type": "execute_result"
    }
   ],
   "source": [
    "test_phase_settings(example5_input_str, phase_setting_sequence_5)"
   ]
  },
  {
   "cell_type": "code",
   "execution_count": 166,
   "metadata": {},
   "outputs": [],
   "source": [
    "possible_inputs = (5, 6, 7, 8, 9)\n",
    "perm = permutations(possible_inputs)"
   ]
  },
  {
   "cell_type": "code",
   "execution_count": 168,
   "metadata": {},
   "outputs": [
    {
     "name": "stdout",
     "output_type": "stream",
     "text": [
      "Found new max output 18429706\n",
      "Found new max output 19552258\n",
      "Found new max output 19556385\n",
      "Found new max output 19556444\n",
      "Found new max output 21797730\n",
      "Found new max output 21801857\n",
      "Found new max output 21810049\n",
      "Found new max output 21832418\n",
      "Found new max output 21836545\n",
      "Found new max output 21844737\n"
     ]
    }
   ],
   "source": [
    "max_output = 0\n",
    "for p in perm:\n",
    "    current_output = test_phase_settings(part1_input, p)\n",
    "    if current_output > max_output:\n",
    "        print(\"Found new max output\", current_output)\n",
    "        max_output = current_output"
   ]
  },
  {
   "cell_type": "code",
   "execution_count": null,
   "metadata": {},
   "outputs": [],
   "source": []
  }
 ],
 "metadata": {
  "kernelspec": {
   "display_name": "Python 3",
   "language": "python",
   "name": "python3"
  },
  "language_info": {
   "codemirror_mode": {
    "name": "ipython",
    "version": 3
   },
   "file_extension": ".py",
   "mimetype": "text/x-python",
   "name": "python",
   "nbconvert_exporter": "python",
   "pygments_lexer": "ipython3",
   "version": "3.7.3"
  }
 },
 "nbformat": 4,
 "nbformat_minor": 4
}

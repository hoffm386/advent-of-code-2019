{
 "cells": [
  {
   "cell_type": "markdown",
   "metadata": {},
   "source": [
    "# Part 1 Prompt\n",
    "```\n",
    "--- Day 9: Sensor Boost ---\n",
    "You've just said goodbye to the rebooted rover and left Mars when you receive a faint distress signal coming from the asteroid belt. It must be the Ceres monitoring station!\n",
    "\n",
    "In order to lock on to the signal, you'll need to boost your sensors. The Elves send up the latest BOOST program - Basic Operation Of System Test.\n",
    "\n",
    "While BOOST (your puzzle input) is capable of boosting your sensors, for tenuous safety reasons, it refuses to do so until the computer it runs on passes some checks to demonstrate it is a complete Intcode computer.\n",
    "```"
   ]
  },
  {
   "cell_type": "markdown",
   "metadata": {},
   "source": [
    "Boo, not another Intcode one"
   ]
  },
  {
   "cell_type": "markdown",
   "metadata": {},
   "source": [
    "```\n",
    "Your existing Intcode computer is missing one key feature: it needs support for parameters in relative mode.\n",
    "\n",
    "Parameters in mode 2, relative mode, behave very similarly to parameters in position mode: the parameter is interpreted as a position. Like position mode, parameters in relative mode can be read from or written to.\n",
    "\n",
    "The important difference is that relative mode parameters don't count from address 0. Instead, they count from a value called the relative base. The relative base starts at 0.\n",
    "\n",
    "The address a relative mode parameter refers to is itself plus the current relative base. When the relative base is 0, relative mode parameters and position mode parameters with the same value refer to the same address.\n",
    "```"
   ]
  },
  {
   "cell_type": "markdown",
   "metadata": {},
   "source": [
    "It is linking to Day 5, which makes me think that it doesn't need any of the amplifier stuff"
   ]
  },
  {
   "cell_type": "markdown",
   "metadata": {},
   "source": [
    "```\n",
    "For example, given a relative base of 50, a relative mode parameter of -7 refers to memory address 50 + -7 = 43.\n",
    "\n",
    "The relative base is modified with the relative base offset instruction:\n",
    "\n",
    "Opcode 9 adjusts the relative base by the value of its only parameter. The relative base increases (or decreases, if the value is negative) by the value of the parameter.\n",
    "\n",
    "For example, if the relative base is 2000, then after the instruction 109,19, the relative base would be 2019. If the next instruction were 204,-34, then the value at address 1985 would be output.\n",
    "```"
   ]
  },
  {
   "cell_type": "markdown",
   "metadata": {},
   "source": [
    "Pulling Day 5 code again"
   ]
  },
  {
   "cell_type": "markdown",
   "metadata": {},
   "source": [
    "I need to change two things: adding another param mode, and adding opcode 9 that changes the relative base"
   ]
  },
  {
   "cell_type": "code",
   "execution_count": 15,
   "metadata": {},
   "outputs": [],
   "source": [
    "def get_param_mode(param_modes_str, param_num):\n",
    "    # param_num is 1, 2, or 3\n",
    "    if param_num <= len(param_modes_str):\n",
    "        mode_code = param_modes_str[-param_num]\n",
    "        if mode_code == \"0\":\n",
    "            return \"position\"\n",
    "        elif mode_code == \"1\":\n",
    "            return \"immediate\"\n",
    "        else:\n",
    "            return \"relative\"\n",
    "    else:\n",
    "        # if it's missing from the instruction, it's always \"position\"\n",
    "        return \"position\""
   ]
  },
  {
   "cell_type": "code",
   "execution_count": 27,
   "metadata": {},
   "outputs": [],
   "source": [
    "def get_index_or_value(number, position_mode, program_codes, relative_base):\n",
    "    if position_mode == \"immediate\":\n",
    "        return number\n",
    "    elif position_mode == \"position\":\n",
    "        return program_codes[number]\n",
    "    else:\n",
    "        return program_codes[relative_base + number]"
   ]
  },
  {
   "cell_type": "code",
   "execution_count": 17,
   "metadata": {},
   "outputs": [],
   "source": [
    "def get_value_for_input(param_modes, param_number, program_codes, current_position, relative_base):\n",
    "    \"\"\" Now that we have to do this for the input of more than 3 opcodes, making a\n",
    "    function makes more sense\n",
    "    \"\"\"\n",
    "    input_mode = get_param_mode(param_modes, param_number)\n",
    "    input_number = program_codes[current_position + param_number]\n",
    "    actual_value = get_index_or_value(input_number, input_mode, program_codes, relative_base)\n",
    "    return actual_value"
   ]
  },
  {
   "cell_type": "code",
   "execution_count": 24,
   "metadata": {},
   "outputs": [],
   "source": [
    "def run_list_program(program_codes):\n",
    "    # loop through codes in 4-code \"programs\"\n",
    "    current_position = 0\n",
    "    relative_base = 0\n",
    "    while True:\n",
    "        opcode_and_param_modes = str(program_codes[current_position])\n",
    "        # last two digits is opcode\n",
    "        opcode = int(opcode_and_param_modes[-2:])\n",
    "\n",
    "        # made the decision to indent as little as possible, short-circuit instead\n",
    "        if opcode == 99:\n",
    "            break\n",
    "        \n",
    "        param_modes = opcode_and_param_modes[:-2]\n",
    "        \n",
    "        # these opcodes have a first parameter\n",
    "        if opcode in [1,2,4,5,6,7,8,9]:\n",
    "            input_1 = get_value_for_input(param_modes, 1, program_codes, current_position, relative_base)\n",
    "        \n",
    "        # these opcodes have a second parameter\n",
    "        if opcode in [1,2,5,6,7,8]:\n",
    "            input_2 = get_value_for_input(param_modes, 2, program_codes, current_position, relative_base)\n",
    "\n",
    "        if opcode == 1 or opcode == 2:\n",
    "            \"\"\" Given two inputs and a destination index, perform some operation on \n",
    "            the two inputs and put the result in the destination index \"\"\"\n",
    "            destination_index = program_codes[current_position+3]\n",
    "\n",
    "            if opcode == 1:\n",
    "                output = input_1 + input_2\n",
    "            elif opcode == 2:\n",
    "                output = input_1 * input_2\n",
    "\n",
    "            program_codes[destination_index] = output\n",
    "\n",
    "            # move to the next \"program\", opcodes 1 and 2 have length 4\n",
    "            current_position = current_position + 4\n",
    "        elif opcode == 3:\n",
    "            \"\"\" Here the input comes from prompting the user, then that is copied to\n",
    "            the destination index \"\"\"\n",
    "            user_input = int(input(\"Enter a number: \"))\n",
    "            destination_index = program_codes[current_position+1]\n",
    "            program_codes[destination_index] = user_input\n",
    "            current_position = current_position + 2\n",
    "        elif opcode == 4:\n",
    "            \"\"\" Given one input (retrieved above), print it \"\"\"\n",
    "            print(input_1)\n",
    "            current_position = current_position + 2\n",
    "        elif opcode == 5 or opcode == 6:\n",
    "            \"\"\" Based on the first input, conditionally sets current_position to\n",
    "            the value of the second input \"\"\"\n",
    "            if opcode == 5:\n",
    "                should_jump = input_1 != 0\n",
    "            elif opcode == 6:\n",
    "                should_jump = input_1 == 0\n",
    "                \n",
    "            if should_jump:\n",
    "                current_position = input_2\n",
    "            else:\n",
    "                current_position = current_position + 3\n",
    "        elif opcode == 7 or opcode == 8:\n",
    "            \"\"\" Based on a comparison of the first and second inputs, sets\n",
    "            destination index to 1 or 0 \"\"\"\n",
    "            if opcode == 7:\n",
    "                comparison_true = input_1 < input_2\n",
    "            elif opcode == 8:\n",
    "                comparison_true = input_1 == input_2\n",
    "                \n",
    "            destination_index = program_codes[current_position + 3]\n",
    "            if comparison_true:\n",
    "                program_codes[destination_index] = 1\n",
    "            else:\n",
    "                program_codes[destination_index] = 0\n",
    "                \n",
    "            current_position = current_position + 4\n",
    "        elif opcode == 9:\n",
    "            relative_base += input_1\n",
    "            current_position = current_position + 2\n",
    "        else:\n",
    "            print(\"Error, encountered opcode\", opcode)\n",
    "            break"
   ]
  },
  {
   "cell_type": "markdown",
   "metadata": {},
   "source": [
    "(I deleted the old versions)"
   ]
  },
  {
   "cell_type": "code",
   "execution_count": 10,
   "metadata": {},
   "outputs": [],
   "source": [
    "example1_input = [109,1,204,-1,1001,100,1,100,1008,100,16,101,1006,101,0,99]"
   ]
  },
  {
   "cell_type": "code",
   "execution_count": 11,
   "metadata": {},
   "outputs": [
    {
     "ename": "KeyboardInterrupt",
     "evalue": "",
     "output_type": "error",
     "traceback": [
      "\u001b[0;31m---------------------------------------------------------------------------\u001b[0m",
      "\u001b[0;31mKeyboardInterrupt\u001b[0m                         Traceback (most recent call last)",
      "\u001b[0;32m<ipython-input-11-456bb9f2a37b>\u001b[0m in \u001b[0;36m<module>\u001b[0;34m\u001b[0m\n\u001b[0;32m----> 1\u001b[0;31m \u001b[0mrun_list_program\u001b[0m\u001b[0;34m(\u001b[0m\u001b[0mexample1_input\u001b[0m\u001b[0;34m)\u001b[0m\u001b[0;34m\u001b[0m\u001b[0;34m\u001b[0m\u001b[0m\n\u001b[0m",
      "\u001b[0;32m<ipython-input-9-d7020e87f4da>\u001b[0m in \u001b[0;36mrun_list_program\u001b[0;34m(program_codes)\u001b[0m\n\u001b[1;32m     16\u001b[0m         \u001b[0;31m# these opcodes have a first parameter\u001b[0m\u001b[0;34m\u001b[0m\u001b[0;34m\u001b[0m\u001b[0;34m\u001b[0m\u001b[0m\n\u001b[1;32m     17\u001b[0m         \u001b[0;32mif\u001b[0m \u001b[0mopcode\u001b[0m \u001b[0;32min\u001b[0m \u001b[0;34m[\u001b[0m\u001b[0;36m1\u001b[0m\u001b[0;34m,\u001b[0m\u001b[0;36m2\u001b[0m\u001b[0;34m,\u001b[0m\u001b[0;36m4\u001b[0m\u001b[0;34m,\u001b[0m\u001b[0;36m5\u001b[0m\u001b[0;34m,\u001b[0m\u001b[0;36m6\u001b[0m\u001b[0;34m,\u001b[0m\u001b[0;36m7\u001b[0m\u001b[0;34m,\u001b[0m\u001b[0;36m8\u001b[0m\u001b[0;34m,\u001b[0m\u001b[0;36m9\u001b[0m\u001b[0;34m]\u001b[0m\u001b[0;34m:\u001b[0m\u001b[0;34m\u001b[0m\u001b[0;34m\u001b[0m\u001b[0m\n\u001b[0;32m---> 18\u001b[0;31m             \u001b[0minput_1\u001b[0m \u001b[0;34m=\u001b[0m \u001b[0mget_value_for_input\u001b[0m\u001b[0;34m(\u001b[0m\u001b[0mparam_modes\u001b[0m\u001b[0;34m,\u001b[0m \u001b[0;36m1\u001b[0m\u001b[0;34m,\u001b[0m \u001b[0mprogram_codes\u001b[0m\u001b[0;34m,\u001b[0m \u001b[0mcurrent_position\u001b[0m\u001b[0;34m,\u001b[0m \u001b[0mrelative_base\u001b[0m\u001b[0;34m)\u001b[0m\u001b[0;34m\u001b[0m\u001b[0;34m\u001b[0m\u001b[0m\n\u001b[0m\u001b[1;32m     19\u001b[0m \u001b[0;34m\u001b[0m\u001b[0m\n\u001b[1;32m     20\u001b[0m         \u001b[0;31m# these opcodes have a second parameter\u001b[0m\u001b[0;34m\u001b[0m\u001b[0;34m\u001b[0m\u001b[0;34m\u001b[0m\u001b[0m\n",
      "\u001b[0;32m<ipython-input-7-8471aaab8362>\u001b[0m in \u001b[0;36mget_value_for_input\u001b[0;34m(param_modes, param_number, program_codes, current_position, relative_base)\u001b[0m\n\u001b[1;32m      5\u001b[0m     \u001b[0minput_mode\u001b[0m \u001b[0;34m=\u001b[0m \u001b[0mget_param_mode\u001b[0m\u001b[0;34m(\u001b[0m\u001b[0mparam_modes\u001b[0m\u001b[0;34m,\u001b[0m \u001b[0mparam_number\u001b[0m\u001b[0;34m)\u001b[0m\u001b[0;34m\u001b[0m\u001b[0;34m\u001b[0m\u001b[0m\n\u001b[1;32m      6\u001b[0m     \u001b[0minput_number\u001b[0m \u001b[0;34m=\u001b[0m \u001b[0mprogram_codes\u001b[0m\u001b[0;34m[\u001b[0m\u001b[0mcurrent_position\u001b[0m \u001b[0;34m+\u001b[0m \u001b[0mparam_number\u001b[0m\u001b[0;34m]\u001b[0m\u001b[0;34m\u001b[0m\u001b[0;34m\u001b[0m\u001b[0m\n\u001b[0;32m----> 7\u001b[0;31m     \u001b[0mactual_value\u001b[0m \u001b[0;34m=\u001b[0m \u001b[0mget_index_or_value\u001b[0m\u001b[0;34m(\u001b[0m\u001b[0minput_number\u001b[0m\u001b[0;34m,\u001b[0m \u001b[0minput_mode\u001b[0m\u001b[0;34m,\u001b[0m \u001b[0mprogram_codes\u001b[0m\u001b[0;34m,\u001b[0m \u001b[0mrelative_base\u001b[0m\u001b[0;34m)\u001b[0m\u001b[0;34m\u001b[0m\u001b[0;34m\u001b[0m\u001b[0m\n\u001b[0m\u001b[1;32m      8\u001b[0m     \u001b[0;32mreturn\u001b[0m \u001b[0mactual_value\u001b[0m\u001b[0;34m\u001b[0m\u001b[0;34m\u001b[0m\u001b[0m\n",
      "\u001b[0;31mKeyboardInterrupt\u001b[0m: "
     ]
    }
   ],
   "source": [
    "run_list_program(example1_input)"
   ]
  },
  {
   "cell_type": "markdown",
   "metadata": {},
   "source": [
    "That seemed like it got stuck in an infinite loop"
   ]
  },
  {
   "cell_type": "markdown",
   "metadata": {},
   "source": [
    "Looks like my order of params/args was off"
   ]
  },
  {
   "cell_type": "code",
   "execution_count": 19,
   "metadata": {},
   "outputs": [],
   "source": [
    "example1_input = [109,1,204,-1,1001,100,1,100,1008,100,16,101,1006,101,0,99]"
   ]
  },
  {
   "cell_type": "code",
   "execution_count": 20,
   "metadata": {},
   "outputs": [
    {
     "ename": "KeyboardInterrupt",
     "evalue": "",
     "output_type": "error",
     "traceback": [
      "\u001b[0;31m---------------------------------------------------------------------------\u001b[0m",
      "\u001b[0;31mKeyboardInterrupt\u001b[0m                         Traceback (most recent call last)",
      "\u001b[0;32m<ipython-input-20-456bb9f2a37b>\u001b[0m in \u001b[0;36m<module>\u001b[0;34m\u001b[0m\n\u001b[0;32m----> 1\u001b[0;31m \u001b[0mrun_list_program\u001b[0m\u001b[0;34m(\u001b[0m\u001b[0mexample1_input\u001b[0m\u001b[0;34m)\u001b[0m\u001b[0;34m\u001b[0m\u001b[0;34m\u001b[0m\u001b[0m\n\u001b[0m",
      "\u001b[0;32m<ipython-input-18-d7020e87f4da>\u001b[0m in \u001b[0;36mrun_list_program\u001b[0;34m(program_codes)\u001b[0m\n\u001b[1;32m     15\u001b[0m \u001b[0;34m\u001b[0m\u001b[0m\n\u001b[1;32m     16\u001b[0m         \u001b[0;31m# these opcodes have a first parameter\u001b[0m\u001b[0;34m\u001b[0m\u001b[0;34m\u001b[0m\u001b[0;34m\u001b[0m\u001b[0m\n\u001b[0;32m---> 17\u001b[0;31m         \u001b[0;32mif\u001b[0m \u001b[0mopcode\u001b[0m \u001b[0;32min\u001b[0m \u001b[0;34m[\u001b[0m\u001b[0;36m1\u001b[0m\u001b[0;34m,\u001b[0m\u001b[0;36m2\u001b[0m\u001b[0;34m,\u001b[0m\u001b[0;36m4\u001b[0m\u001b[0;34m,\u001b[0m\u001b[0;36m5\u001b[0m\u001b[0;34m,\u001b[0m\u001b[0;36m6\u001b[0m\u001b[0;34m,\u001b[0m\u001b[0;36m7\u001b[0m\u001b[0;34m,\u001b[0m\u001b[0;36m8\u001b[0m\u001b[0;34m,\u001b[0m\u001b[0;36m9\u001b[0m\u001b[0;34m]\u001b[0m\u001b[0;34m:\u001b[0m\u001b[0;34m\u001b[0m\u001b[0;34m\u001b[0m\u001b[0m\n\u001b[0m\u001b[1;32m     18\u001b[0m             \u001b[0minput_1\u001b[0m \u001b[0;34m=\u001b[0m \u001b[0mget_value_for_input\u001b[0m\u001b[0;34m(\u001b[0m\u001b[0mparam_modes\u001b[0m\u001b[0;34m,\u001b[0m \u001b[0;36m1\u001b[0m\u001b[0;34m,\u001b[0m \u001b[0mprogram_codes\u001b[0m\u001b[0;34m,\u001b[0m \u001b[0mcurrent_position\u001b[0m\u001b[0;34m,\u001b[0m \u001b[0mrelative_base\u001b[0m\u001b[0;34m)\u001b[0m\u001b[0;34m\u001b[0m\u001b[0;34m\u001b[0m\u001b[0m\n\u001b[1;32m     19\u001b[0m \u001b[0;34m\u001b[0m\u001b[0m\n",
      "\u001b[0;31mKeyboardInterrupt\u001b[0m: "
     ]
    }
   ],
   "source": [
    "run_list_program(example1_input)"
   ]
  },
  {
   "cell_type": "markdown",
   "metadata": {},
   "source": [
    "Still infinite looping.  Let's walk through those commands to see how they are supposed to work and what's going wrong"
   ]
  },
  {
   "cell_type": "markdown",
   "metadata": {},
   "source": [
    "`109, 1`\n",
    "\n",
    "109 means opcode 09 AKA opcode 9, parameter mode 1 AKA immediate mode\n",
    "\n",
    "With immediate mode, the parameter is just 1, rather than the parameter at index 1 (even though these are the same in this case)\n",
    "\n",
    "Opcode 9 means...adjust the relative base.  I am currently just setting it to the parameter value"
   ]
  },
  {
   "cell_type": "code",
   "execution_count": 22,
   "metadata": {},
   "outputs": [],
   "source": [
    "example1_input = [109,1,204,-1,1001,100,1,100,1008,100,16,101,1006,101,0,99]"
   ]
  },
  {
   "cell_type": "code",
   "execution_count": 23,
   "metadata": {},
   "outputs": [
    {
     "ename": "KeyboardInterrupt",
     "evalue": "",
     "output_type": "error",
     "traceback": [
      "\u001b[0;31m---------------------------------------------------------------------------\u001b[0m",
      "\u001b[0;31mKeyboardInterrupt\u001b[0m                         Traceback (most recent call last)",
      "\u001b[0;32m<ipython-input-23-456bb9f2a37b>\u001b[0m in \u001b[0;36m<module>\u001b[0;34m\u001b[0m\n\u001b[0;32m----> 1\u001b[0;31m \u001b[0mrun_list_program\u001b[0m\u001b[0;34m(\u001b[0m\u001b[0mexample1_input\u001b[0m\u001b[0;34m)\u001b[0m\u001b[0;34m\u001b[0m\u001b[0;34m\u001b[0m\u001b[0m\n\u001b[0m",
      "\u001b[0;32m<ipython-input-21-49d2135875eb>\u001b[0m in \u001b[0;36mrun_list_program\u001b[0;34m(program_codes)\u001b[0m\n\u001b[1;32m     12\u001b[0m             \u001b[0;32mbreak\u001b[0m\u001b[0;34m\u001b[0m\u001b[0;34m\u001b[0m\u001b[0m\n\u001b[1;32m     13\u001b[0m \u001b[0;34m\u001b[0m\u001b[0m\n\u001b[0;32m---> 14\u001b[0;31m         \u001b[0mparam_modes\u001b[0m \u001b[0;34m=\u001b[0m \u001b[0mopcode_and_param_modes\u001b[0m\u001b[0;34m[\u001b[0m\u001b[0;34m:\u001b[0m\u001b[0;34m-\u001b[0m\u001b[0;36m2\u001b[0m\u001b[0;34m]\u001b[0m\u001b[0;34m\u001b[0m\u001b[0;34m\u001b[0m\u001b[0m\n\u001b[0m\u001b[1;32m     15\u001b[0m \u001b[0;34m\u001b[0m\u001b[0m\n\u001b[1;32m     16\u001b[0m         \u001b[0;31m# these opcodes have a first parameter\u001b[0m\u001b[0;34m\u001b[0m\u001b[0;34m\u001b[0m\u001b[0;34m\u001b[0m\u001b[0m\n",
      "\u001b[0;31mKeyboardInterrupt\u001b[0m: "
     ]
    }
   ],
   "source": [
    "run_list_program(example1_input)"
   ]
  },
  {
   "cell_type": "markdown",
   "metadata": {},
   "source": [
    "That didn't fix it...\n",
    "\n",
    "...because I'm not adjusting the current position either..."
   ]
  },
  {
   "cell_type": "code",
   "execution_count": 25,
   "metadata": {},
   "outputs": [],
   "source": [
    "example1_input = [109,1,204,-1,1001,100,1,100,1008,100,16,101,1006,101,0,99]"
   ]
  },
  {
   "cell_type": "code",
   "execution_count": 26,
   "metadata": {},
   "outputs": [
    {
     "name": "stdout",
     "output_type": "stream",
     "text": [
      "109\n"
     ]
    },
    {
     "ename": "IndexError",
     "evalue": "list index out of range",
     "output_type": "error",
     "traceback": [
      "\u001b[0;31m---------------------------------------------------------------------------\u001b[0m",
      "\u001b[0;31mIndexError\u001b[0m                                Traceback (most recent call last)",
      "\u001b[0;32m<ipython-input-26-456bb9f2a37b>\u001b[0m in \u001b[0;36m<module>\u001b[0;34m\u001b[0m\n\u001b[0;32m----> 1\u001b[0;31m \u001b[0mrun_list_program\u001b[0m\u001b[0;34m(\u001b[0m\u001b[0mexample1_input\u001b[0m\u001b[0;34m)\u001b[0m\u001b[0;34m\u001b[0m\u001b[0;34m\u001b[0m\u001b[0m\n\u001b[0m",
      "\u001b[0;32m<ipython-input-24-c81366dce046>\u001b[0m in \u001b[0;36mrun_list_program\u001b[0;34m(program_codes)\u001b[0m\n\u001b[1;32m     16\u001b[0m         \u001b[0;31m# these opcodes have a first parameter\u001b[0m\u001b[0;34m\u001b[0m\u001b[0;34m\u001b[0m\u001b[0;34m\u001b[0m\u001b[0m\n\u001b[1;32m     17\u001b[0m         \u001b[0;32mif\u001b[0m \u001b[0mopcode\u001b[0m \u001b[0;32min\u001b[0m \u001b[0;34m[\u001b[0m\u001b[0;36m1\u001b[0m\u001b[0;34m,\u001b[0m\u001b[0;36m2\u001b[0m\u001b[0;34m,\u001b[0m\u001b[0;36m4\u001b[0m\u001b[0;34m,\u001b[0m\u001b[0;36m5\u001b[0m\u001b[0;34m,\u001b[0m\u001b[0;36m6\u001b[0m\u001b[0;34m,\u001b[0m\u001b[0;36m7\u001b[0m\u001b[0;34m,\u001b[0m\u001b[0;36m8\u001b[0m\u001b[0;34m,\u001b[0m\u001b[0;36m9\u001b[0m\u001b[0;34m]\u001b[0m\u001b[0;34m:\u001b[0m\u001b[0;34m\u001b[0m\u001b[0;34m\u001b[0m\u001b[0m\n\u001b[0;32m---> 18\u001b[0;31m             \u001b[0minput_1\u001b[0m \u001b[0;34m=\u001b[0m \u001b[0mget_value_for_input\u001b[0m\u001b[0;34m(\u001b[0m\u001b[0mparam_modes\u001b[0m\u001b[0;34m,\u001b[0m \u001b[0;36m1\u001b[0m\u001b[0;34m,\u001b[0m \u001b[0mprogram_codes\u001b[0m\u001b[0;34m,\u001b[0m \u001b[0mcurrent_position\u001b[0m\u001b[0;34m,\u001b[0m \u001b[0mrelative_base\u001b[0m\u001b[0;34m)\u001b[0m\u001b[0;34m\u001b[0m\u001b[0;34m\u001b[0m\u001b[0m\n\u001b[0m\u001b[1;32m     19\u001b[0m \u001b[0;34m\u001b[0m\u001b[0m\n\u001b[1;32m     20\u001b[0m         \u001b[0;31m# these opcodes have a second parameter\u001b[0m\u001b[0;34m\u001b[0m\u001b[0;34m\u001b[0m\u001b[0;34m\u001b[0m\u001b[0m\n",
      "\u001b[0;32m<ipython-input-17-8471aaab8362>\u001b[0m in \u001b[0;36mget_value_for_input\u001b[0;34m(param_modes, param_number, program_codes, current_position, relative_base)\u001b[0m\n\u001b[1;32m      5\u001b[0m     \u001b[0minput_mode\u001b[0m \u001b[0;34m=\u001b[0m \u001b[0mget_param_mode\u001b[0m\u001b[0;34m(\u001b[0m\u001b[0mparam_modes\u001b[0m\u001b[0;34m,\u001b[0m \u001b[0mparam_number\u001b[0m\u001b[0;34m)\u001b[0m\u001b[0;34m\u001b[0m\u001b[0;34m\u001b[0m\u001b[0m\n\u001b[1;32m      6\u001b[0m     \u001b[0minput_number\u001b[0m \u001b[0;34m=\u001b[0m \u001b[0mprogram_codes\u001b[0m\u001b[0;34m[\u001b[0m\u001b[0mcurrent_position\u001b[0m \u001b[0;34m+\u001b[0m \u001b[0mparam_number\u001b[0m\u001b[0;34m]\u001b[0m\u001b[0;34m\u001b[0m\u001b[0;34m\u001b[0m\u001b[0m\n\u001b[0;32m----> 7\u001b[0;31m     \u001b[0mactual_value\u001b[0m \u001b[0;34m=\u001b[0m \u001b[0mget_index_or_value\u001b[0m\u001b[0;34m(\u001b[0m\u001b[0minput_number\u001b[0m\u001b[0;34m,\u001b[0m \u001b[0minput_mode\u001b[0m\u001b[0;34m,\u001b[0m \u001b[0mprogram_codes\u001b[0m\u001b[0;34m,\u001b[0m \u001b[0mrelative_base\u001b[0m\u001b[0;34m)\u001b[0m\u001b[0;34m\u001b[0m\u001b[0;34m\u001b[0m\u001b[0m\n\u001b[0m\u001b[1;32m      8\u001b[0m     \u001b[0;32mreturn\u001b[0m \u001b[0mactual_value\u001b[0m\u001b[0;34m\u001b[0m\u001b[0;34m\u001b[0m\u001b[0m\n",
      "\u001b[0;32m<ipython-input-16-ed2ab79baeeb>\u001b[0m in \u001b[0;36mget_index_or_value\u001b[0;34m(number, position_mode, program_codes, relative_base)\u001b[0m\n\u001b[1;32m      3\u001b[0m         \u001b[0;32mreturn\u001b[0m \u001b[0mnumber\u001b[0m\u001b[0;34m\u001b[0m\u001b[0;34m\u001b[0m\u001b[0m\n\u001b[1;32m      4\u001b[0m     \u001b[0;32melif\u001b[0m \u001b[0mposition_mode\u001b[0m \u001b[0;34m==\u001b[0m \u001b[0;34m\"position\"\u001b[0m\u001b[0;34m:\u001b[0m\u001b[0;34m\u001b[0m\u001b[0;34m\u001b[0m\u001b[0m\n\u001b[0;32m----> 5\u001b[0;31m         \u001b[0;32mreturn\u001b[0m \u001b[0mprogram_codes\u001b[0m\u001b[0;34m[\u001b[0m\u001b[0mnumber\u001b[0m\u001b[0;34m]\u001b[0m\u001b[0;34m\u001b[0m\u001b[0;34m\u001b[0m\u001b[0m\n\u001b[0m\u001b[1;32m      6\u001b[0m     \u001b[0;32melse\u001b[0m\u001b[0;34m:\u001b[0m\u001b[0;34m\u001b[0m\u001b[0;34m\u001b[0m\u001b[0m\n\u001b[1;32m      7\u001b[0m         \u001b[0;32mreturn\u001b[0m \u001b[0mprogram_codes\u001b[0m\u001b[0;34m[\u001b[0m\u001b[0mrelative_base\u001b[0m \u001b[0;34m+\u001b[0m \u001b[0mnumber\u001b[0m\u001b[0;34m]\u001b[0m\u001b[0;34m\u001b[0m\u001b[0;34m\u001b[0m\u001b[0m\n",
      "\u001b[0;31mIndexError\u001b[0m: list index out of range"
     ]
    }
   ],
   "source": [
    "run_list_program(example1_input)"
   ]
  },
  {
   "cell_type": "markdown",
   "metadata": {},
   "source": [
    "I'm assuming this is related to this part of the instructions\n",
    "\n",
    "```\n",
    "The computer's available memory should be much larger than the initial program. Memory beyond the initial program starts with the value 0 and can be read or written like any other memory. (It is invalid to try to access memory at a negative address, though.)\n",
    "```"
   ]
  },
  {
   "cell_type": "markdown",
   "metadata": {},
   "source": [
    "What does \"much larger\" mean, though?  Adding some print statements"
   ]
  },
  {
   "cell_type": "code",
   "execution_count": 29,
   "metadata": {},
   "outputs": [],
   "source": [
    "def get_index_or_value(number, position_mode, program_codes, relative_base):\n",
    "    if position_mode == \"immediate\":\n",
    "        return number\n",
    "    elif position_mode == \"position\":\n",
    "        print(\"atempting to access index\", number)\n",
    "        return program_codes[number]\n",
    "    else:\n",
    "        return program_codes[relative_base + number]"
   ]
  },
  {
   "cell_type": "code",
   "execution_count": 30,
   "metadata": {},
   "outputs": [
    {
     "name": "stdout",
     "output_type": "stream",
     "text": [
      "109\n",
      "atempting to access index 100\n"
     ]
    },
    {
     "ename": "IndexError",
     "evalue": "list index out of range",
     "output_type": "error",
     "traceback": [
      "\u001b[0;31m---------------------------------------------------------------------------\u001b[0m",
      "\u001b[0;31mIndexError\u001b[0m                                Traceback (most recent call last)",
      "\u001b[0;32m<ipython-input-30-bf7ab174886e>\u001b[0m in \u001b[0;36m<module>\u001b[0;34m\u001b[0m\n\u001b[1;32m      1\u001b[0m \u001b[0mexample1_input\u001b[0m \u001b[0;34m=\u001b[0m \u001b[0;34m[\u001b[0m\u001b[0;36m109\u001b[0m\u001b[0;34m,\u001b[0m\u001b[0;36m1\u001b[0m\u001b[0;34m,\u001b[0m\u001b[0;36m204\u001b[0m\u001b[0;34m,\u001b[0m\u001b[0;34m-\u001b[0m\u001b[0;36m1\u001b[0m\u001b[0;34m,\u001b[0m\u001b[0;36m1001\u001b[0m\u001b[0;34m,\u001b[0m\u001b[0;36m100\u001b[0m\u001b[0;34m,\u001b[0m\u001b[0;36m1\u001b[0m\u001b[0;34m,\u001b[0m\u001b[0;36m100\u001b[0m\u001b[0;34m,\u001b[0m\u001b[0;36m1008\u001b[0m\u001b[0;34m,\u001b[0m\u001b[0;36m100\u001b[0m\u001b[0;34m,\u001b[0m\u001b[0;36m16\u001b[0m\u001b[0;34m,\u001b[0m\u001b[0;36m101\u001b[0m\u001b[0;34m,\u001b[0m\u001b[0;36m1006\u001b[0m\u001b[0;34m,\u001b[0m\u001b[0;36m101\u001b[0m\u001b[0;34m,\u001b[0m\u001b[0;36m0\u001b[0m\u001b[0;34m,\u001b[0m\u001b[0;36m99\u001b[0m\u001b[0;34m]\u001b[0m\u001b[0;34m\u001b[0m\u001b[0;34m\u001b[0m\u001b[0m\n\u001b[0;32m----> 2\u001b[0;31m \u001b[0mrun_list_program\u001b[0m\u001b[0;34m(\u001b[0m\u001b[0mexample1_input\u001b[0m\u001b[0;34m)\u001b[0m\u001b[0;34m\u001b[0m\u001b[0;34m\u001b[0m\u001b[0m\n\u001b[0m",
      "\u001b[0;32m<ipython-input-24-c81366dce046>\u001b[0m in \u001b[0;36mrun_list_program\u001b[0;34m(program_codes)\u001b[0m\n\u001b[1;32m     16\u001b[0m         \u001b[0;31m# these opcodes have a first parameter\u001b[0m\u001b[0;34m\u001b[0m\u001b[0;34m\u001b[0m\u001b[0;34m\u001b[0m\u001b[0m\n\u001b[1;32m     17\u001b[0m         \u001b[0;32mif\u001b[0m \u001b[0mopcode\u001b[0m \u001b[0;32min\u001b[0m \u001b[0;34m[\u001b[0m\u001b[0;36m1\u001b[0m\u001b[0;34m,\u001b[0m\u001b[0;36m2\u001b[0m\u001b[0;34m,\u001b[0m\u001b[0;36m4\u001b[0m\u001b[0;34m,\u001b[0m\u001b[0;36m5\u001b[0m\u001b[0;34m,\u001b[0m\u001b[0;36m6\u001b[0m\u001b[0;34m,\u001b[0m\u001b[0;36m7\u001b[0m\u001b[0;34m,\u001b[0m\u001b[0;36m8\u001b[0m\u001b[0;34m,\u001b[0m\u001b[0;36m9\u001b[0m\u001b[0;34m]\u001b[0m\u001b[0;34m:\u001b[0m\u001b[0;34m\u001b[0m\u001b[0;34m\u001b[0m\u001b[0m\n\u001b[0;32m---> 18\u001b[0;31m             \u001b[0minput_1\u001b[0m \u001b[0;34m=\u001b[0m \u001b[0mget_value_for_input\u001b[0m\u001b[0;34m(\u001b[0m\u001b[0mparam_modes\u001b[0m\u001b[0;34m,\u001b[0m \u001b[0;36m1\u001b[0m\u001b[0;34m,\u001b[0m \u001b[0mprogram_codes\u001b[0m\u001b[0;34m,\u001b[0m \u001b[0mcurrent_position\u001b[0m\u001b[0;34m,\u001b[0m \u001b[0mrelative_base\u001b[0m\u001b[0;34m)\u001b[0m\u001b[0;34m\u001b[0m\u001b[0;34m\u001b[0m\u001b[0m\n\u001b[0m\u001b[1;32m     19\u001b[0m \u001b[0;34m\u001b[0m\u001b[0m\n\u001b[1;32m     20\u001b[0m         \u001b[0;31m# these opcodes have a second parameter\u001b[0m\u001b[0;34m\u001b[0m\u001b[0;34m\u001b[0m\u001b[0;34m\u001b[0m\u001b[0m\n",
      "\u001b[0;32m<ipython-input-17-8471aaab8362>\u001b[0m in \u001b[0;36mget_value_for_input\u001b[0;34m(param_modes, param_number, program_codes, current_position, relative_base)\u001b[0m\n\u001b[1;32m      5\u001b[0m     \u001b[0minput_mode\u001b[0m \u001b[0;34m=\u001b[0m \u001b[0mget_param_mode\u001b[0m\u001b[0;34m(\u001b[0m\u001b[0mparam_modes\u001b[0m\u001b[0;34m,\u001b[0m \u001b[0mparam_number\u001b[0m\u001b[0;34m)\u001b[0m\u001b[0;34m\u001b[0m\u001b[0;34m\u001b[0m\u001b[0m\n\u001b[1;32m      6\u001b[0m     \u001b[0minput_number\u001b[0m \u001b[0;34m=\u001b[0m \u001b[0mprogram_codes\u001b[0m\u001b[0;34m[\u001b[0m\u001b[0mcurrent_position\u001b[0m \u001b[0;34m+\u001b[0m \u001b[0mparam_number\u001b[0m\u001b[0;34m]\u001b[0m\u001b[0;34m\u001b[0m\u001b[0;34m\u001b[0m\u001b[0m\n\u001b[0;32m----> 7\u001b[0;31m     \u001b[0mactual_value\u001b[0m \u001b[0;34m=\u001b[0m \u001b[0mget_index_or_value\u001b[0m\u001b[0;34m(\u001b[0m\u001b[0minput_number\u001b[0m\u001b[0;34m,\u001b[0m \u001b[0minput_mode\u001b[0m\u001b[0;34m,\u001b[0m \u001b[0mprogram_codes\u001b[0m\u001b[0;34m,\u001b[0m \u001b[0mrelative_base\u001b[0m\u001b[0;34m)\u001b[0m\u001b[0;34m\u001b[0m\u001b[0;34m\u001b[0m\u001b[0m\n\u001b[0m\u001b[1;32m      8\u001b[0m     \u001b[0;32mreturn\u001b[0m \u001b[0mactual_value\u001b[0m\u001b[0;34m\u001b[0m\u001b[0;34m\u001b[0m\u001b[0m\n",
      "\u001b[0;32m<ipython-input-29-dabcc44e14f1>\u001b[0m in \u001b[0;36mget_index_or_value\u001b[0;34m(number, position_mode, program_codes, relative_base)\u001b[0m\n\u001b[1;32m      4\u001b[0m     \u001b[0;32melif\u001b[0m \u001b[0mposition_mode\u001b[0m \u001b[0;34m==\u001b[0m \u001b[0;34m\"position\"\u001b[0m\u001b[0;34m:\u001b[0m\u001b[0;34m\u001b[0m\u001b[0;34m\u001b[0m\u001b[0m\n\u001b[1;32m      5\u001b[0m         \u001b[0mprint\u001b[0m\u001b[0;34m(\u001b[0m\u001b[0;34m\"atempting to access index\"\u001b[0m\u001b[0;34m,\u001b[0m \u001b[0mnumber\u001b[0m\u001b[0;34m)\u001b[0m\u001b[0;34m\u001b[0m\u001b[0;34m\u001b[0m\u001b[0m\n\u001b[0;32m----> 6\u001b[0;31m         \u001b[0;32mreturn\u001b[0m \u001b[0mprogram_codes\u001b[0m\u001b[0;34m[\u001b[0m\u001b[0mnumber\u001b[0m\u001b[0;34m]\u001b[0m\u001b[0;34m\u001b[0m\u001b[0;34m\u001b[0m\u001b[0m\n\u001b[0m\u001b[1;32m      7\u001b[0m     \u001b[0;32melse\u001b[0m\u001b[0;34m:\u001b[0m\u001b[0;34m\u001b[0m\u001b[0;34m\u001b[0m\u001b[0m\n\u001b[1;32m      8\u001b[0m         \u001b[0;32mreturn\u001b[0m \u001b[0mprogram_codes\u001b[0m\u001b[0;34m[\u001b[0m\u001b[0mrelative_base\u001b[0m \u001b[0;34m+\u001b[0m \u001b[0mnumber\u001b[0m\u001b[0;34m]\u001b[0m\u001b[0;34m\u001b[0m\u001b[0;34m\u001b[0m\u001b[0m\n",
      "\u001b[0;31mIndexError\u001b[0m: list index out of range"
     ]
    }
   ],
   "source": [
    "example1_input = [109,1,204,-1,1001,100,1,100,1008,100,16,101,1006,101,0,99]\n",
    "run_list_program(example1_input)"
   ]
  },
  {
   "cell_type": "markdown",
   "metadata": {},
   "source": [
    "I guess let's expand the end of the list so it reaches the number specified"
   ]
  },
  {
   "cell_type": "code",
   "execution_count": 31,
   "metadata": {},
   "outputs": [
    {
     "data": {
      "text/plain": [
       "5"
      ]
     },
     "execution_count": 31,
     "metadata": {},
     "output_type": "execute_result"
    }
   ],
   "source": [
    "index = 10\n",
    "program_codes = [1,2,3,4,5]\n",
    "\n",
    "zero_fill_needed = index - len(program_codes)\n",
    "zero_fill_needed"
   ]
  },
  {
   "cell_type": "code",
   "execution_count": 32,
   "metadata": {},
   "outputs": [],
   "source": [
    "# fairly inefficient, but readable\n",
    "for _ in range(zero_fill_needed):\n",
    "    program_codes.append(0)"
   ]
  },
  {
   "cell_type": "code",
   "execution_count": 33,
   "metadata": {},
   "outputs": [
    {
     "data": {
      "text/plain": [
       "[1, 2, 3, 4, 5, 0, 0, 0, 0, 0]"
      ]
     },
     "execution_count": 33,
     "metadata": {},
     "output_type": "execute_result"
    }
   ],
   "source": [
    "program_codes"
   ]
  },
  {
   "cell_type": "code",
   "execution_count": 34,
   "metadata": {},
   "outputs": [
    {
     "data": {
      "text/plain": [
       "0"
      ]
     },
     "execution_count": 34,
     "metadata": {},
     "output_type": "execute_result"
    }
   ],
   "source": [
    "index = 10\n",
    "program_codes = [1,2,3,4,5]\n",
    "\n",
    "zero_fill_needed = index - len(program_codes) + 1\n",
    "for _ in range(zero_fill_needed):\n",
    "    program_codes.append(0)\n",
    "program_codes[index]"
   ]
  },
  {
   "cell_type": "code",
   "execution_count": 35,
   "metadata": {},
   "outputs": [],
   "source": [
    "for _ in range(-1):\n",
    "    print(\"this shouldn't print\")"
   ]
  },
  {
   "cell_type": "code",
   "execution_count": 40,
   "metadata": {},
   "outputs": [],
   "source": [
    "def fill_with_zeroes_to_index(program_codes, index):\n",
    "    # if we're trying to use an index that's \"off the end\" of the program,\n",
    "    # extend the program with a bunch of zeroes\n",
    "    zero_fill_needed = index - len(program_codes) + 1\n",
    "    for _ in range(zero_fill_needed):\n",
    "        program_codes.append(0)"
   ]
  },
  {
   "cell_type": "code",
   "execution_count": 41,
   "metadata": {},
   "outputs": [],
   "source": [
    "def get_index_or_value(number, position_mode, program_codes, relative_base):\n",
    "    if position_mode == \"immediate\":\n",
    "        return number\n",
    "    else:\n",
    "        if position_mode == \"position\":\n",
    "            index = number\n",
    "        elif position_mode == \"relative\":\n",
    "            index = relative_base + number\n",
    "            \n",
    "        fill_with_zeroes_to_index(program_codes, index)\n",
    "            \n",
    "        return program_codes[index]"
   ]
  },
  {
   "cell_type": "code",
   "execution_count": 42,
   "metadata": {},
   "outputs": [
    {
     "name": "stdout",
     "output_type": "stream",
     "text": [
      "109\n"
     ]
    },
    {
     "ename": "IndexError",
     "evalue": "list assignment index out of range",
     "output_type": "error",
     "traceback": [
      "\u001b[0;31m---------------------------------------------------------------------------\u001b[0m",
      "\u001b[0;31mIndexError\u001b[0m                                Traceback (most recent call last)",
      "\u001b[0;32m<ipython-input-42-bf7ab174886e>\u001b[0m in \u001b[0;36m<module>\u001b[0;34m\u001b[0m\n\u001b[1;32m      1\u001b[0m \u001b[0mexample1_input\u001b[0m \u001b[0;34m=\u001b[0m \u001b[0;34m[\u001b[0m\u001b[0;36m109\u001b[0m\u001b[0;34m,\u001b[0m\u001b[0;36m1\u001b[0m\u001b[0;34m,\u001b[0m\u001b[0;36m204\u001b[0m\u001b[0;34m,\u001b[0m\u001b[0;34m-\u001b[0m\u001b[0;36m1\u001b[0m\u001b[0;34m,\u001b[0m\u001b[0;36m1001\u001b[0m\u001b[0;34m,\u001b[0m\u001b[0;36m100\u001b[0m\u001b[0;34m,\u001b[0m\u001b[0;36m1\u001b[0m\u001b[0;34m,\u001b[0m\u001b[0;36m100\u001b[0m\u001b[0;34m,\u001b[0m\u001b[0;36m1008\u001b[0m\u001b[0;34m,\u001b[0m\u001b[0;36m100\u001b[0m\u001b[0;34m,\u001b[0m\u001b[0;36m16\u001b[0m\u001b[0;34m,\u001b[0m\u001b[0;36m101\u001b[0m\u001b[0;34m,\u001b[0m\u001b[0;36m1006\u001b[0m\u001b[0;34m,\u001b[0m\u001b[0;36m101\u001b[0m\u001b[0;34m,\u001b[0m\u001b[0;36m0\u001b[0m\u001b[0;34m,\u001b[0m\u001b[0;36m99\u001b[0m\u001b[0;34m]\u001b[0m\u001b[0;34m\u001b[0m\u001b[0;34m\u001b[0m\u001b[0m\n\u001b[0;32m----> 2\u001b[0;31m \u001b[0mrun_list_program\u001b[0m\u001b[0;34m(\u001b[0m\u001b[0mexample1_input\u001b[0m\u001b[0;34m)\u001b[0m\u001b[0;34m\u001b[0m\u001b[0;34m\u001b[0m\u001b[0m\n\u001b[0m",
      "\u001b[0;32m<ipython-input-24-c81366dce046>\u001b[0m in \u001b[0;36mrun_list_program\u001b[0;34m(program_codes)\u001b[0m\n\u001b[1;32m     71\u001b[0m                 \u001b[0mprogram_codes\u001b[0m\u001b[0;34m[\u001b[0m\u001b[0mdestination_index\u001b[0m\u001b[0;34m]\u001b[0m \u001b[0;34m=\u001b[0m \u001b[0;36m1\u001b[0m\u001b[0;34m\u001b[0m\u001b[0;34m\u001b[0m\u001b[0m\n\u001b[1;32m     72\u001b[0m             \u001b[0;32melse\u001b[0m\u001b[0;34m:\u001b[0m\u001b[0;34m\u001b[0m\u001b[0;34m\u001b[0m\u001b[0m\n\u001b[0;32m---> 73\u001b[0;31m                 \u001b[0mprogram_codes\u001b[0m\u001b[0;34m[\u001b[0m\u001b[0mdestination_index\u001b[0m\u001b[0;34m]\u001b[0m \u001b[0;34m=\u001b[0m \u001b[0;36m0\u001b[0m\u001b[0;34m\u001b[0m\u001b[0;34m\u001b[0m\u001b[0m\n\u001b[0m\u001b[1;32m     74\u001b[0m \u001b[0;34m\u001b[0m\u001b[0m\n\u001b[1;32m     75\u001b[0m             \u001b[0mcurrent_position\u001b[0m \u001b[0;34m=\u001b[0m \u001b[0mcurrent_position\u001b[0m \u001b[0;34m+\u001b[0m \u001b[0;36m4\u001b[0m\u001b[0;34m\u001b[0m\u001b[0;34m\u001b[0m\u001b[0m\n",
      "\u001b[0;31mIndexError\u001b[0m: list assignment index out of range"
     ]
    }
   ],
   "source": [
    "example1_input = [109,1,204,-1,1001,100,1,100,1008,100,16,101,1006,101,0,99]\n",
    "run_list_program(example1_input)"
   ]
  },
  {
   "cell_type": "markdown",
   "metadata": {},
   "source": [
    "Ok, we need to update run_list_program as well"
   ]
  },
  {
   "cell_type": "code",
   "execution_count": 43,
   "metadata": {},
   "outputs": [],
   "source": [
    "def run_list_program(program_codes):\n",
    "    # loop through codes in 4-code \"programs\"\n",
    "    current_position = 0\n",
    "    relative_base = 0\n",
    "    while True:\n",
    "        opcode_and_param_modes = str(program_codes[current_position])\n",
    "        # last two digits is opcode\n",
    "        opcode = int(opcode_and_param_modes[-2:])\n",
    "\n",
    "        # made the decision to indent as little as possible, short-circuit instead\n",
    "        if opcode == 99:\n",
    "            break\n",
    "        \n",
    "        param_modes = opcode_and_param_modes[:-2]\n",
    "        \n",
    "        # these opcodes have a first parameter\n",
    "        if opcode in [1,2,4,5,6,7,8,9]:\n",
    "            input_1 = get_value_for_input(param_modes, 1, program_codes, current_position, relative_base)\n",
    "        \n",
    "        # these opcodes have a second parameter\n",
    "        if opcode in [1,2,5,6,7,8]:\n",
    "            input_2 = get_value_for_input(param_modes, 2, program_codes, current_position, relative_base)\n",
    "\n",
    "        if opcode == 1 or opcode == 2:\n",
    "            \"\"\" Given two inputs and a destination index, perform some operation on \n",
    "            the two inputs and put the result in the destination index \"\"\"\n",
    "            fill_with_zeroes_to_index(program_codes, current_position+3)\n",
    "            destination_index = program_codes[current_position+3]\n",
    "\n",
    "            if opcode == 1:\n",
    "                output = input_1 + input_2\n",
    "            elif opcode == 2:\n",
    "                output = input_1 * input_2\n",
    "\n",
    "            fill_with_zeroes_to_index(program_codes, destination_index)\n",
    "            program_codes[destination_index] = output\n",
    "\n",
    "            # move to the next \"program\", opcodes 1 and 2 have length 4\n",
    "            current_position = current_position + 4\n",
    "        elif opcode == 3:\n",
    "            \"\"\" Here the input comes from prompting the user, then that is copied to\n",
    "            the destination index \"\"\"\n",
    "            user_input = int(input(\"Enter a number: \"))\n",
    "            \n",
    "            fill_with_zeroes_to_index(program_codes, current_position+1)\n",
    "            destination_index = program_codes[current_position+1]\n",
    "            \n",
    "            fill_with_zeroes_to_index(program_codes, destination_index)\n",
    "            program_codes[destination_index] = user_input\n",
    "            \n",
    "            current_position = current_position + 2\n",
    "        elif opcode == 4:\n",
    "            \"\"\" Given one input (retrieved above), print it \"\"\"\n",
    "            print(input_1)\n",
    "            current_position = current_position + 2\n",
    "        elif opcode == 5 or opcode == 6:\n",
    "            \"\"\" Based on the first input, conditionally sets current_position to\n",
    "            the value of the second input \"\"\"\n",
    "            if opcode == 5:\n",
    "                should_jump = input_1 != 0\n",
    "            elif opcode == 6:\n",
    "                should_jump = input_1 == 0\n",
    "                \n",
    "            if should_jump:\n",
    "                current_position = input_2\n",
    "            else:\n",
    "                current_position = current_position + 3\n",
    "        elif opcode == 7 or opcode == 8:\n",
    "            \"\"\" Based on a comparison of the first and second inputs, sets\n",
    "            destination index to 1 or 0 \"\"\"\n",
    "            if opcode == 7:\n",
    "                comparison_true = input_1 < input_2\n",
    "            elif opcode == 8:\n",
    "                comparison_true = input_1 == input_2\n",
    "                \n",
    "            fill_with_zeroes_to_index(program_codes, current_position + 3)\n",
    "            destination_index = program_codes[current_position + 3]\n",
    "            \n",
    "            fill_with_zeroes_to_index(program_codes, destination_index)\n",
    "            if comparison_true:\n",
    "                program_codes[destination_index] = 1\n",
    "            else:\n",
    "                program_codes[destination_index] = 0\n",
    "                \n",
    "            current_position = current_position + 4\n",
    "        elif opcode == 9:\n",
    "            relative_base += input_1\n",
    "            current_position = current_position + 2\n",
    "        else:\n",
    "            print(\"Error, encountered opcode\", opcode)\n",
    "            break"
   ]
  },
  {
   "cell_type": "code",
   "execution_count": 44,
   "metadata": {},
   "outputs": [
    {
     "name": "stdout",
     "output_type": "stream",
     "text": [
      "109\n",
      "1\n",
      "204\n",
      "-1\n",
      "1001\n",
      "100\n",
      "1\n",
      "100\n",
      "1008\n",
      "100\n",
      "16\n",
      "101\n",
      "1006\n",
      "101\n",
      "0\n",
      "99\n"
     ]
    }
   ],
   "source": [
    "example1_input = [109,1,204,-1,1001,100,1,100,1008,100,16,101,1006,101,0,99]\n",
    "run_list_program(example1_input)"
   ]
  },
  {
   "cell_type": "markdown",
   "metadata": {},
   "source": [
    "Good, that worked\n",
    "\n",
    "I still don't really understand what it means by big numbers.  It's not like I have assumptions built in about how long the numbers are, other than that they are valid integers with base 10"
   ]
  },
  {
   "cell_type": "code",
   "execution_count": 45,
   "metadata": {},
   "outputs": [
    {
     "name": "stdout",
     "output_type": "stream",
     "text": [
      "1219070632396864\n"
     ]
    }
   ],
   "source": [
    "example2_input = [1102,34915192,34915192,7,4,7,99,0]\n",
    "run_list_program(example2_input)"
   ]
  },
  {
   "cell_type": "code",
   "execution_count": 46,
   "metadata": {},
   "outputs": [
    {
     "data": {
      "text/plain": [
       "16"
      ]
     },
     "execution_count": 46,
     "metadata": {},
     "output_type": "execute_result"
    }
   ],
   "source": [
    "len(\"1219070632396864\")"
   ]
  },
  {
   "cell_type": "markdown",
   "metadata": {},
   "source": [
    "Yes, that's a 16-digit number"
   ]
  },
  {
   "cell_type": "code",
   "execution_count": 47,
   "metadata": {},
   "outputs": [
    {
     "name": "stdout",
     "output_type": "stream",
     "text": [
      "1125899906842624\n"
     ]
    }
   ],
   "source": [
    "example3_input = [104,1125899906842624,99]\n",
    "run_list_program(example3_input)"
   ]
  },
  {
   "cell_type": "markdown",
   "metadata": {},
   "source": [
    "Looks fine, let's pull in the real input"
   ]
  },
  {
   "cell_type": "code",
   "execution_count": 48,
   "metadata": {},
   "outputs": [],
   "source": [
    "file_obj = open(\"input.txt\", \"r\")\n",
    "content = file_obj.read().strip()\n",
    "file_obj.close()"
   ]
  },
  {
   "cell_type": "code",
   "execution_count": 49,
   "metadata": {},
   "outputs": [
    {
     "data": {
      "text/plain": [
       "'1102,34463338,34463338,63,1007,63,34463338,63,1005,63,53,1102,1,3,1000,109,988,209,12,9,1000,209,6,209,3,203,0,1008,1000,1,63,1005,63,65,1008,1000,2,63,1005,63,904,1008,1000,0,63,1005,63,58,4,25,104,0,99,4,0,104,0,99,4,17,104,0,99,0,0,1102,521,1,1028,1101,0,33,1011,1101,0,22,1006,1101,28,0,1018,1102,37,1,1008,1102,1,20,1019,1101,0,405,1026,1101,25,0,1015,1101,330,0,1023,1101,0,29,1016,1101,0,560,1025,1101,24,0,1017,1102,516,1,1029,1102,333,1,1022,1102,1,34,1012,1101,0,402,1027,1101,0,1,1021,1102,36,1,1013,1102,30,1,1002,1101,21,0,1000,1102,1,23,1005,1102,39,1,1003,1102,1,32,1007,1102,26,1,1004,1101,565,0,1024,1101,0,0,1020,1101,0,31,1014,1101,27,0,1001,1101,0,38,1009,1101,0,35,1010,109,-3,2102,1,10,63,1008,63,32,63,1005,63,203,4,187,1106,0,207,1001,64,1,64,1002,64,2,64,109,26,21108,40,40,-4,1005,1019,229,4,213,1001,64,1,64,1105,1,229,1002,64,2,64,109,-20,2102,1,-3,63,1008,63,22,63,1005,63,253,1001,64,1,64,1105,1,255,4,235,1002,64,2,64,109,-10,1208,10,39,63,1005,63,277,4,261,1001,64,1,64,1106,0,277,1002,64,2,64,109,15,2107,20,-8,63,1005,63,299,4,283,1001,64,1,64,1106,0,299,1002,64,2,64,109,-8,1208,3,40,63,1005,63,315,1106,0,321,4,305,1001,64,1,64,1002,64,2,64,109,29,2105,1,-6,1106,0,339,4,327,1001,64,1,64,1002,64,2,64,109,-18,1205,10,353,4,345,1106,0,357,1001,64,1,64,1002,64,2,64,109,11,1206,-1,373,1001,64,1,64,1105,1,375,4,363,1002,64,2,64,109,-2,1205,0,391,1001,64,1,64,1106,0,393,4,381,1002,64,2,64,109,10,2106,0,-3,1106,0,411,4,399,1001,64,1,64,1002,64,2,64,109,-18,21108,41,39,3,1005,1015,427,1105,1,433,4,417,1001,64,1,64,1002,64,2,64,109,-7,21101,42,0,6,1008,1011,45,63,1005,63,457,1001,64,1,64,1106,0,459,4,439,1002,64,2,64,109,-14,2101,0,9,63,1008,63,21,63,1005,63,481,4,465,1105,1,485,1001,64,1,64,1002,64,2,64,109,22,1207,-7,21,63,1005,63,505,1001,64,1,64,1106,0,507,4,491,1002,64,2,64,109,15,2106,0,0,4,513,1106,0,525,1001,64,1,64,1002,64,2,64,109,-14,21101,43,0,-1,1008,1013,43,63,1005,63,551,4,531,1001,64,1,64,1106,0,551,1002,64,2,64,109,10,2105,1,0,4,557,1106,0,569,1001,64,1,64,1002,64,2,64,109,-12,21102,44,1,3,1008,1015,44,63,1005,63,595,4,575,1001,64,1,64,1105,1,595,1002,64,2,64,109,-4,1201,-8,0,63,1008,63,21,63,1005,63,621,4,601,1001,64,1,64,1106,0,621,1002,64,2,64,109,5,2108,37,-5,63,1005,63,639,4,627,1105,1,643,1001,64,1,64,1002,64,2,64,109,-14,1202,1,1,63,1008,63,21,63,1005,63,669,4,649,1001,64,1,64,1105,1,669,1002,64,2,64,109,-2,1207,7,27,63,1005,63,691,4,675,1001,64,1,64,1106,0,691,1002,64,2,64,109,13,2107,33,-3,63,1005,63,711,1001,64,1,64,1105,1,713,4,697,1002,64,2,64,109,19,1206,-9,727,4,719,1105,1,731,1001,64,1,64,1002,64,2,64,109,-24,1202,0,1,63,1008,63,20,63,1005,63,755,1001,64,1,64,1106,0,757,4,737,1002,64,2,64,109,8,21102,45,1,-3,1008,1010,46,63,1005,63,781,1001,64,1,64,1106,0,783,4,763,1002,64,2,64,109,-15,2108,40,10,63,1005,63,799,1105,1,805,4,789,1001,64,1,64,1002,64,2,64,109,20,21107,46,45,-1,1005,1017,821,1106,0,827,4,811,1001,64,1,64,1002,64,2,64,109,-23,1201,6,0,63,1008,63,29,63,1005,63,847,1106,0,853,4,833,1001,64,1,64,1002,64,2,64,109,17,21107,47,48,2,1005,1014,875,4,859,1001,64,1,64,1106,0,875,1002,64,2,64,109,-10,2101,0,-2,63,1008,63,20,63,1005,63,895,1105,1,901,4,881,1001,64,1,64,4,64,99,21102,27,1,1,21101,0,915,0,1105,1,922,21201,1,37574,1,204,1,99,109,3,1207,-2,3,63,1005,63,964,21201,-2,-1,1,21102,942,1,0,1105,1,922,22102,1,1,-1,21201,-2,-3,1,21101,957,0,0,1105,1,922,22201,1,-1,-2,1105,1,968,21201,-2,0,-2,109,-3,2105,1,0'"
      ]
     },
     "execution_count": 49,
     "metadata": {},
     "output_type": "execute_result"
    }
   ],
   "source": [
    "content"
   ]
  },
  {
   "cell_type": "code",
   "execution_count": 50,
   "metadata": {},
   "outputs": [
    {
     "name": "stdin",
     "output_type": "stream",
     "text": [
      "Enter a number:  1\n"
     ]
    },
    {
     "name": "stdout",
     "output_type": "stream",
     "text": [
      "203\n",
      "0\n"
     ]
    }
   ],
   "source": [
    "run_list_program([int(x) for x in content.split(\",\")])"
   ]
  },
  {
   "cell_type": "markdown",
   "metadata": {},
   "source": [
    "So, I think this means that command 203 is not working correctly\n",
    "\n",
    "203 should mean opcode 3\n",
    "\n",
    "```\n",
    "Opcode 3 takes a single integer as input and saves it to the position given by its only parameter. For example, the instruction 3,50 would take an input value and store it at address 50.\n",
    "```"
   ]
  },
  {
   "cell_type": "markdown",
   "metadata": {},
   "source": [
    "The parameter mode here is 2\n",
    "\n",
    "```\n",
    "Parameters in mode 2, relative mode, behave very similarly to parameters in position mode: the parameter is interpreted as a position. Like position mode, parameters in relative mode can be read from or written to.\n",
    "\n",
    "The important difference is that relative mode parameters don't count from address 0. Instead, they count from a value called the relative base. The relative base starts at 0.\n",
    "\n",
    "The address a relative mode parameter refers to is itself plus the current relative base. When the relative base is 0, relative mode parameters and position mode parameters with the same value refer to the same address.\n",
    "\n",
    "For example, given a relative base of 50, a relative mode parameter of -7 refers to memory address 50 + -7 = 43.\n",
    "```"
   ]
  },
  {
   "cell_type": "markdown",
   "metadata": {},
   "source": [
    "Where exactly is 203 occurring?"
   ]
  },
  {
   "cell_type": "code",
   "execution_count": 51,
   "metadata": {},
   "outputs": [
    {
     "data": {
      "text/plain": [
       "[105, 733]"
      ]
     },
     "execution_count": 51,
     "metadata": {},
     "output_type": "execute_result"
    }
   ],
   "source": [
    "import re\n",
    "[m.start() for m in re.finditer('203', content)]"
   ]
  },
  {
   "cell_type": "code",
   "execution_count": 52,
   "metadata": {},
   "outputs": [
    {
     "data": {
      "text/plain": [
       "'203,0,1008,1000'"
      ]
     },
     "execution_count": 52,
     "metadata": {},
     "output_type": "execute_result"
    }
   ],
   "source": [
    "content[105:120]"
   ]
  },
  {
   "cell_type": "code",
   "execution_count": 53,
   "metadata": {},
   "outputs": [
    {
     "data": {
      "text/plain": [
       "'203,4,187,1106,0,'"
      ]
     },
     "execution_count": 53,
     "metadata": {},
     "output_type": "execute_result"
    }
   ],
   "source": [
    "content[733:750]"
   ]
  },
  {
   "cell_type": "markdown",
   "metadata": {},
   "source": [
    "Only one of these should actually be running, since it only asks for my input once"
   ]
  },
  {
   "cell_type": "code",
   "execution_count": 54,
   "metadata": {},
   "outputs": [],
   "source": [
    "def run_list_program(program_codes):\n",
    "    # loop through codes in 4-code \"programs\"\n",
    "    current_position = 0\n",
    "    relative_base = 0\n",
    "    while True:\n",
    "        opcode_and_param_modes = str(program_codes[current_position])\n",
    "        # last two digits is opcode\n",
    "        opcode = int(opcode_and_param_modes[-2:])\n",
    "\n",
    "        # made the decision to indent as little as possible, short-circuit instead\n",
    "        if opcode == 99:\n",
    "            break\n",
    "        \n",
    "        param_modes = opcode_and_param_modes[:-2]\n",
    "        \n",
    "        # these opcodes have a first parameter\n",
    "        if opcode in [1,2,3,4,5,6,7,8,9]:\n",
    "            input_1 = get_value_for_input(param_modes, 1, program_codes, current_position, relative_base)\n",
    "        \n",
    "        # these opcodes have a second parameter\n",
    "        if opcode in [1,2,5,6,7,8]:\n",
    "            input_2 = get_value_for_input(param_modes, 2, program_codes, current_position, relative_base)\n",
    "\n",
    "        if opcode == 1 or opcode == 2:\n",
    "            \"\"\" Given two inputs and a destination index, perform some operation on \n",
    "            the two inputs and put the result in the destination index \"\"\"\n",
    "            fill_with_zeroes_to_index(program_codes, current_position+3)\n",
    "            destination_index = program_codes[current_position+3]\n",
    "\n",
    "            if opcode == 1:\n",
    "                output = input_1 + input_2\n",
    "            elif opcode == 2:\n",
    "                output = input_1 * input_2\n",
    "\n",
    "            fill_with_zeroes_to_index(program_codes, destination_index)\n",
    "            program_codes[destination_index] = output\n",
    "\n",
    "            # move to the next \"program\", opcodes 1 and 2 have length 4\n",
    "            current_position = current_position + 4\n",
    "        elif opcode == 3:\n",
    "            \"\"\" Here the input comes from prompting the user, then that is copied to\n",
    "            the destination index \"\"\"\n",
    "            user_input = int(input(\"Enter a number: \"))\n",
    "            \n",
    "            destination_index = input_1\n",
    "            \n",
    "            fill_with_zeroes_to_index(program_codes, destination_index)\n",
    "            program_codes[destination_index] = user_input\n",
    "            \n",
    "            current_position = current_position + 2\n",
    "        elif opcode == 4:\n",
    "            \"\"\" Given one input (retrieved above), print it \"\"\"\n",
    "            print(input_1)\n",
    "            current_position = current_position + 2\n",
    "        elif opcode == 5 or opcode == 6:\n",
    "            \"\"\" Based on the first input, conditionally sets current_position to\n",
    "            the value of the second input \"\"\"\n",
    "            if opcode == 5:\n",
    "                should_jump = input_1 != 0\n",
    "            elif opcode == 6:\n",
    "                should_jump = input_1 == 0\n",
    "                \n",
    "            if should_jump:\n",
    "                current_position = input_2\n",
    "            else:\n",
    "                current_position = current_position + 3\n",
    "        elif opcode == 7 or opcode == 8:\n",
    "            \"\"\" Based on a comparison of the first and second inputs, sets\n",
    "            destination index to 1 or 0 \"\"\"\n",
    "            if opcode == 7:\n",
    "                comparison_true = input_1 < input_2\n",
    "            elif opcode == 8:\n",
    "                comparison_true = input_1 == input_2\n",
    "                \n",
    "            fill_with_zeroes_to_index(program_codes, current_position + 3)\n",
    "            destination_index = program_codes[current_position + 3]\n",
    "            \n",
    "            fill_with_zeroes_to_index(program_codes, destination_index)\n",
    "            if comparison_true:\n",
    "                program_codes[destination_index] = 1\n",
    "            else:\n",
    "                program_codes[destination_index] = 0\n",
    "                \n",
    "            current_position = current_position + 4\n",
    "        elif opcode == 9:\n",
    "            relative_base += input_1\n",
    "            current_position = current_position + 2\n",
    "        else:\n",
    "            print(\"Error, encountered opcode\", opcode)\n",
    "            break"
   ]
  },
  {
   "cell_type": "markdown",
   "metadata": {},
   "source": [
    "Ok, the old version of opcode 3 assumed that it was always immediate mode.  Let's do the full check instead"
   ]
  },
  {
   "cell_type": "code",
   "execution_count": 55,
   "metadata": {},
   "outputs": [
    {
     "name": "stdin",
     "output_type": "stream",
     "text": [
      "Enter a number:  1\n"
     ]
    },
    {
     "name": "stdout",
     "output_type": "stream",
     "text": [
      "203\n",
      "0\n"
     ]
    }
   ],
   "source": [
    "run_list_program([int(x) for x in content.split(\",\")])"
   ]
  },
  {
   "cell_type": "markdown",
   "metadata": {},
   "source": [
    "That didn't fix anything.  Let's add more verbose logging"
   ]
  },
  {
   "cell_type": "code",
   "execution_count": 60,
   "metadata": {},
   "outputs": [],
   "source": [
    "def run_list_program(program_codes, verbose=False):\n",
    "    # loop through codes in 4-code \"programs\"\n",
    "    current_position = 0\n",
    "    relative_base = 0\n",
    "    while True:\n",
    "        opcode_and_param_modes = str(program_codes[current_position])\n",
    "        # last two digits is opcode\n",
    "        opcode = int(opcode_and_param_modes[-2:])\n",
    "\n",
    "        # made the decision to indent as little as possible, short-circuit instead\n",
    "        if opcode == 99:\n",
    "            break\n",
    "        \n",
    "        param_modes = opcode_and_param_modes[:-2]\n",
    "        \n",
    "        if verbose:\n",
    "            print(\"Opcode\", opcode, \"and param modes\", param_modes)\n",
    "        \n",
    "        # these opcodes have a first parameter\n",
    "        if opcode in [1,2,3,4,5,6,7,8,9]:\n",
    "            input_1 = get_value_for_input(param_modes, 1, program_codes, current_position, relative_base)\n",
    "            if verbose:\n",
    "                print(\"input_1 is\", input_1)\n",
    "        \n",
    "        # these opcodes have a second parameter\n",
    "        if opcode in [1,2,5,6,7,8]:\n",
    "            input_2 = get_value_for_input(param_modes, 2, program_codes, current_position, relative_base)\n",
    "            if verbose:\n",
    "                print(\"input_2 is\", input_2)\n",
    "\n",
    "        if opcode == 1 or opcode == 2:\n",
    "            \"\"\" Given two inputs and a destination index, perform some operation on \n",
    "            the two inputs and put the result in the destination index \"\"\"\n",
    "#             fill_with_zeroes_to_index(program_codes, current_position+3)\n",
    "#             destination_index = program_codes[current_position+3]\n",
    "            destination_index = get_value_for_input(param_modes, 3, program_codes, current_position, relative_base)\n",
    "\n",
    "            if opcode == 1:\n",
    "                output = input_1 + input_2\n",
    "                if verbose:\n",
    "                    print(\"Adding inputs to create output\", output)\n",
    "            elif opcode == 2:\n",
    "                output = input_1 * input_2\n",
    "                if verbose:\n",
    "                    print(\"Multiplying inputs to create output\", output)\n",
    "\n",
    "            fill_with_zeroes_to_index(program_codes, destination_index)\n",
    "            program_codes[destination_index] = output\n",
    "            \n",
    "            if verbose:\n",
    "                print(\"Index\", destination_index, \"is now\", output)\n",
    "\n",
    "            # move to the next \"program\", opcodes 1 and 2 have length 4\n",
    "            current_position = current_position + 4\n",
    "        elif opcode == 3:\n",
    "            \"\"\" Here the input comes from prompting the user, then that is copied to\n",
    "            the destination index \"\"\"\n",
    "            user_input = int(input(\"Enter a number: \"))\n",
    "            \n",
    "            destination_index = input_1\n",
    "            \n",
    "            fill_with_zeroes_to_index(program_codes, destination_index)\n",
    "            program_codes[destination_index] = user_input\n",
    "            if verbose:\n",
    "                print(\"Index\", destination_index, \"is now\", user_input)\n",
    "            \n",
    "            current_position = current_position + 2\n",
    "        elif opcode == 4:\n",
    "            \"\"\" Given one input (retrieved above), print it \"\"\"\n",
    "            print(input_1)\n",
    "            current_position = current_position + 2\n",
    "        elif opcode == 5 or opcode == 6:\n",
    "            \"\"\" Based on the first input, conditionally sets current_position to\n",
    "            the value of the second input \"\"\"\n",
    "            if opcode == 5:\n",
    "                should_jump = input_1 != 0\n",
    "                if verbose:\n",
    "                    print(\"input_1 != 0 ?\", should_jump )\n",
    "            elif opcode == 6:\n",
    "                should_jump = input_1 == 0\n",
    "                if verbose:\n",
    "                    print(\"input_1 == 0 ?\", should_jump)\n",
    "            if should_jump:\n",
    "                current_position = input_2\n",
    "                if verbose:\n",
    "                    print(\"Just jumpted to\", input_2)\n",
    "            else:\n",
    "                current_position = current_position + 3\n",
    "        elif opcode == 7 or opcode == 8:\n",
    "            \"\"\" Based on a comparison of the first and second inputs, sets\n",
    "            destination index to 1 or 0 \"\"\"\n",
    "            if opcode == 7:\n",
    "                comparison_true = input_1 < input_2\n",
    "                if verbose:\n",
    "                    print(\"input_1 < input_2 ?\", comparison_true)\n",
    "            elif opcode == 8:\n",
    "                comparison_true = input_1 == input_2\n",
    "                if verbose:\n",
    "                    print(\"input_1 == input_2 ?\", comparison_true)\n",
    "                \n",
    "#             fill_with_zeroes_to_index(program_codes, current_position + 3)\n",
    "#             destination_index = program_codes[current_position + 3]\n",
    "            destination_index = get_value_for_input(param_modes, 3, program_codes, current_position, relative_base)\n",
    "            \n",
    "            fill_with_zeroes_to_index(program_codes, destination_index)\n",
    "            if comparison_true:\n",
    "                program_codes[destination_index] = 1\n",
    "                if verbose:\n",
    "                    print(\"Index\", destination_index, \"is now 1\")\n",
    "            else:\n",
    "                program_codes[destination_index] = 0\n",
    "                if verbose:\n",
    "                    print(\"Index\", destination_index, \"is now 0\")\n",
    "                \n",
    "            current_position = current_position + 4\n",
    "        elif opcode == 9:\n",
    "            relative_base += input_1\n",
    "            if verbose:\n",
    "                print(\"Adding\", input_1, \"to the relative base\")\n",
    "                print(\"Relative base is now\", relative_base)\n",
    "            current_position = current_position + 2\n",
    "        else:\n",
    "            print(\"Error, encountered opcode\", opcode)\n",
    "            break"
   ]
  },
  {
   "cell_type": "code",
   "execution_count": 61,
   "metadata": {},
   "outputs": [
    {
     "name": "stdout",
     "output_type": "stream",
     "text": [
      "Opcode 2 and param modes 11\n",
      "input_1 is 34463338\n",
      "input_2 is 34463338\n",
      "Multiplying inputs to create output 1187721666102244\n",
      "Index 0 is now 1187721666102244\n",
      "Opcode 7 and param modes 10\n",
      "input_1 is 0\n",
      "input_2 is 34463338\n",
      "input_1 < input_2 ? True\n",
      "Index 0 is now 1\n",
      "Opcode 5 and param modes 10\n",
      "input_1 is 0\n",
      "input_2 is 53\n",
      "input_1 != 0 ? False\n",
      "Opcode 2 and param modes 11\n",
      "input_1 is 1\n",
      "input_2 is 3\n",
      "Multiplying inputs to create output 3\n",
      "Index 0 is now 3\n",
      "Opcode 9 and param modes 1\n",
      "input_1 is 988\n",
      "Adding 988 to the relative base\n",
      "Relative base is now 988\n",
      "Opcode 9 and param modes 2\n",
      "input_1 is 0\n",
      "Adding 0 to the relative base\n",
      "Relative base is now 988\n",
      "Opcode 9 and param modes \n",
      "input_1 is 0\n",
      "Adding 0 to the relative base\n",
      "Relative base is now 988\n",
      "Opcode 9 and param modes 2\n",
      "input_1 is 0\n",
      "Adding 0 to the relative base\n",
      "Relative base is now 988\n",
      "Opcode 9 and param modes 2\n",
      "input_1 is 0\n",
      "Adding 0 to the relative base\n",
      "Relative base is now 988\n",
      "Opcode 3 and param modes 2\n",
      "input_1 is 0\n"
     ]
    },
    {
     "name": "stdin",
     "output_type": "stream",
     "text": [
      "Enter a number:  1\n"
     ]
    },
    {
     "name": "stdout",
     "output_type": "stream",
     "text": [
      "Index 0 is now 1\n",
      "Opcode 8 and param modes 10\n",
      "input_1 is 0\n",
      "input_2 is 1\n",
      "input_1 == input_2 ? False\n",
      "Index 0 is now 0\n",
      "Opcode 5 and param modes 10\n",
      "input_1 is 0\n",
      "input_2 is 65\n",
      "input_1 != 0 ? False\n",
      "Opcode 8 and param modes 10\n",
      "input_1 is 0\n",
      "input_2 is 2\n",
      "input_1 == input_2 ? False\n",
      "Index 0 is now 0\n",
      "Opcode 5 and param modes 10\n",
      "input_1 is 0\n",
      "input_2 is 904\n",
      "input_1 != 0 ? False\n",
      "Opcode 8 and param modes 10\n",
      "input_1 is 0\n",
      "input_2 is 0\n",
      "input_1 == input_2 ? True\n",
      "Index 0 is now 1\n",
      "Opcode 5 and param modes 10\n",
      "input_1 is 0\n",
      "input_2 is 58\n",
      "input_1 != 0 ? False\n",
      "Opcode 4 and param modes \n",
      "input_1 is 203\n",
      "203\n",
      "Opcode 4 and param modes 1\n",
      "input_1 is 0\n",
      "0\n"
     ]
    }
   ],
   "source": [
    "run_list_program([int(x) for x in content.split(\",\")], verbose=True)"
   ]
  },
  {
   "cell_type": "markdown",
   "metadata": {},
   "source": [
    "1102 means param modes `11` and opcode `2`"
   ]
  },
  {
   "cell_type": "markdown",
   "metadata": {},
   "source": [
    "The full instruction is `1102,34463338,34463338,63,`"
   ]
  },
  {
   "cell_type": "code",
   "execution_count": 63,
   "metadata": {},
   "outputs": [
    {
     "name": "stdout",
     "output_type": "stream",
     "text": [
      "Opcode 2 and param modes 11\n",
      "input_1 is 34463338\n",
      "input_2 is 34463338\n",
      "Multiplying inputs to create output 1187721666102244\n",
      "Index 0 is now 1187721666102244\n",
      "Opcode 0 and param modes \n",
      "Error, encountered opcode 0\n"
     ]
    }
   ],
   "source": [
    "program_codes = [1102,34463338,34463338,63]\n",
    "run_list_program(program_codes, verbose=True)"
   ]
  },
  {
   "cell_type": "markdown",
   "metadata": {},
   "source": [
    "Yeah, that's not right, there is no param mode here, which I _thought_ meant that it should automatically be position mode, but it really looks here like I should be making index 63 be equal to this big number, not index 0"
   ]
  },
  {
   "cell_type": "markdown",
   "metadata": {},
   "source": [
    "Let's make all the `destination_index` variables go back to being immediate mode"
   ]
  },
  {
   "cell_type": "code",
   "execution_count": 72,
   "metadata": {},
   "outputs": [],
   "source": [
    "def run_list_program(program_codes, verbose=False):\n",
    "    # loop through codes in 4-code \"programs\"\n",
    "    current_position = 0\n",
    "    relative_base = 0\n",
    "    while True:\n",
    "        opcode_and_param_modes = str(program_codes[current_position])\n",
    "        # last two digits is opcode\n",
    "        opcode = int(opcode_and_param_modes[-2:])\n",
    "\n",
    "        # made the decision to indent as little as possible, short-circuit instead\n",
    "        if opcode == 99:\n",
    "            break\n",
    "        \n",
    "        param_modes = opcode_and_param_modes[:-2]\n",
    "        \n",
    "        if verbose:\n",
    "            print(\"**********Opcode\", opcode, \"and param modes\", param_modes, \"***************\")\n",
    "        \n",
    "        # these opcodes have a first parameter\n",
    "        if opcode in [1,2,3,4,5,6,7,8,9]:\n",
    "            input_1 = get_value_for_input(param_modes, 1, program_codes, current_position, relative_base)\n",
    "            if verbose:\n",
    "                print(\"input_1 is\", input_1)\n",
    "        \n",
    "        # these opcodes have a second parameter\n",
    "        if opcode in [1,2,5,6,7,8]:\n",
    "            input_2 = get_value_for_input(param_modes, 2, program_codes, current_position, relative_base)\n",
    "            if verbose:\n",
    "                print(\"input_2 is\", input_2)\n",
    "\n",
    "        if opcode == 1 or opcode == 2:\n",
    "            \"\"\" Given two inputs and a destination index, perform some operation on \n",
    "            the two inputs and put the result in the destination index \"\"\"\n",
    "            fill_with_zeroes_to_index(program_codes, current_position+3)\n",
    "            destination_index = program_codes[current_position+3]\n",
    "#             destination_index = get_value_for_input(param_modes, 3, program_codes, current_position, relative_base)\n",
    "\n",
    "            if opcode == 1:\n",
    "                output = input_1 + input_2\n",
    "                if verbose:\n",
    "                    print(\"Adding inputs to create output\", output)\n",
    "            elif opcode == 2:\n",
    "                output = input_1 * input_2\n",
    "                if verbose:\n",
    "                    print(\"Multiplying inputs to create output\", output)\n",
    "\n",
    "            fill_with_zeroes_to_index(program_codes, destination_index)\n",
    "            program_codes[destination_index] = output\n",
    "            \n",
    "            if verbose:\n",
    "                print(\"Index\", destination_index, \"is now\", output)\n",
    "\n",
    "            # move to the next \"program\", opcodes 1 and 2 have length 4\n",
    "            current_position = current_position + 4\n",
    "        elif opcode == 3:\n",
    "            \"\"\" Here the input comes from prompting the user, then that is copied to\n",
    "            the destination index \"\"\"\n",
    "            user_input = int(input(\"Enter a number: \"))\n",
    "            \n",
    "            destination_index = input_1\n",
    "            \n",
    "            fill_with_zeroes_to_index(program_codes, destination_index)\n",
    "            program_codes[destination_index] = user_input\n",
    "            if verbose:\n",
    "                print(\"Index\", destination_index, \"is now\", user_input)\n",
    "            \n",
    "            current_position = current_position + 2\n",
    "        elif opcode == 4:\n",
    "            \"\"\" Given one input (retrieved above), print it \"\"\"\n",
    "            print(input_1)\n",
    "            current_position = current_position + 2\n",
    "        elif opcode == 5 or opcode == 6:\n",
    "            \"\"\" Based on the first input, conditionally sets current_position to\n",
    "            the value of the second input \"\"\"\n",
    "            if opcode == 5:\n",
    "                should_jump = input_1 != 0\n",
    "                if verbose:\n",
    "                    print(\"input_1 != 0 ?\", should_jump )\n",
    "            elif opcode == 6:\n",
    "                should_jump = input_1 == 0\n",
    "                if verbose:\n",
    "                    print(\"input_1 == 0 ?\", should_jump)\n",
    "            if should_jump:\n",
    "                current_position = input_2\n",
    "                if verbose:\n",
    "                    print(\"Just jumpted to\", input_2)\n",
    "            else:\n",
    "                current_position = current_position + 3\n",
    "        elif opcode == 7 or opcode == 8:\n",
    "            \"\"\" Based on a comparison of the first and second inputs, sets\n",
    "            destination index to 1 or 0 \"\"\"\n",
    "            if opcode == 7:\n",
    "                comparison_true = input_1 < input_2\n",
    "                if verbose:\n",
    "                    print(\"input_1 < input_2 ?\", comparison_true)\n",
    "            elif opcode == 8:\n",
    "                comparison_true = input_1 == input_2\n",
    "                if verbose:\n",
    "                    print(\"input_1 == input_2 ?\", comparison_true)\n",
    "                \n",
    "            fill_with_zeroes_to_index(program_codes, current_position + 3)\n",
    "            destination_index = program_codes[current_position + 3]\n",
    "#             destination_index = get_value_for_input(param_modes, 3, program_codes, current_position, relative_base)\n",
    "            \n",
    "            fill_with_zeroes_to_index(program_codes, destination_index)\n",
    "            if comparison_true:\n",
    "                program_codes[destination_index] = 1\n",
    "                if verbose:\n",
    "                    print(\"Index\", destination_index, \"is now 1\")\n",
    "            else:\n",
    "                program_codes[destination_index] = 0\n",
    "                if verbose:\n",
    "                    print(\"Index\", destination_index, \"is now 0\")\n",
    "                \n",
    "            current_position = current_position + 4\n",
    "        elif opcode == 9:\n",
    "            relative_base += input_1\n",
    "            if verbose:\n",
    "                print(\"Adding\", input_1, \"to the relative base\")\n",
    "                print(\"Relative base is now\", relative_base)\n",
    "            current_position = current_position + 2\n",
    "        else:\n",
    "            print(\"Error, encountered opcode\", opcode)\n",
    "            break"
   ]
  },
  {
   "cell_type": "code",
   "execution_count": 73,
   "metadata": {},
   "outputs": [
    {
     "name": "stdout",
     "output_type": "stream",
     "text": [
      "**********Opcode 2 and param modes 11 ***************\n",
      "input_1 is 34463338\n",
      "input_2 is 34463338\n",
      "Multiplying inputs to create output 1187721666102244\n",
      "Index 63 is now 1187721666102244\n"
     ]
    }
   ],
   "source": [
    "program_codes = [1102,34463338,34463338,63,99]\n",
    "run_list_program(program_codes, verbose=True)"
   ]
  },
  {
   "cell_type": "code",
   "execution_count": 74,
   "metadata": {},
   "outputs": [
    {
     "name": "stdout",
     "output_type": "stream",
     "text": [
      "**********Opcode 2 and param modes 11 ***************\n",
      "input_1 is 34463338\n",
      "input_2 is 34463338\n",
      "Multiplying inputs to create output 1187721666102244\n",
      "Index 63 is now 1187721666102244\n",
      "**********Opcode 7 and param modes 10 ***************\n",
      "input_1 is 1187721666102244\n",
      "input_2 is 34463338\n",
      "input_1 < input_2 ? False\n",
      "Index 63 is now 0\n"
     ]
    }
   ],
   "source": [
    "program_codes = [1102,34463338,34463338,63,1007,63,34463338,63,99]\n",
    "run_list_program(program_codes, verbose=True)"
   ]
  },
  {
   "cell_type": "code",
   "execution_count": 75,
   "metadata": {},
   "outputs": [
    {
     "name": "stdout",
     "output_type": "stream",
     "text": [
      "**********Opcode 2 and param modes 11 ***************\n",
      "input_1 is 34463338\n",
      "input_2 is 34463338\n",
      "Multiplying inputs to create output 1187721666102244\n",
      "Index 63 is now 1187721666102244\n",
      "**********Opcode 7 and param modes 10 ***************\n",
      "input_1 is 1187721666102244\n",
      "input_2 is 34463338\n",
      "input_1 < input_2 ? False\n",
      "Index 63 is now 0\n",
      "**********Opcode 5 and param modes 10 ***************\n",
      "input_1 is 0\n",
      "input_2 is 53\n",
      "input_1 != 0 ? False\n"
     ]
    }
   ],
   "source": [
    "program_codes = [1102,34463338,34463338,63,1007,63,34463338,63,1005,63,53,99]\n",
    "run_list_program(program_codes, verbose=True)"
   ]
  },
  {
   "cell_type": "code",
   "execution_count": 76,
   "metadata": {},
   "outputs": [
    {
     "name": "stdout",
     "output_type": "stream",
     "text": [
      "**********Opcode 2 and param modes 11 ***************\n",
      "input_1 is 34463338\n",
      "input_2 is 34463338\n",
      "Multiplying inputs to create output 1187721666102244\n",
      "Index 63 is now 1187721666102244\n",
      "**********Opcode 7 and param modes 10 ***************\n",
      "input_1 is 1187721666102244\n",
      "input_2 is 34463338\n",
      "input_1 < input_2 ? False\n",
      "Index 63 is now 0\n",
      "**********Opcode 5 and param modes 10 ***************\n",
      "input_1 is 0\n",
      "input_2 is 53\n",
      "input_1 != 0 ? False\n",
      "**********Opcode 2 and param modes 11 ***************\n",
      "input_1 is 1\n",
      "input_2 is 3\n",
      "Multiplying inputs to create output 3\n",
      "Index 1000 is now 3\n",
      "**********Opcode 9 and param modes 1 ***************\n",
      "input_1 is 988\n",
      "Adding 988 to the relative base\n",
      "Relative base is now 988\n",
      "**********Opcode 9 and param modes 2 ***************\n",
      "input_1 is 3\n",
      "Adding 3 to the relative base\n",
      "Relative base is now 991\n",
      "**********Opcode 9 and param modes  ***************\n",
      "input_1 is 3\n",
      "Adding 3 to the relative base\n",
      "Relative base is now 994\n",
      "**********Opcode 9 and param modes 2 ***************\n",
      "input_1 is 3\n",
      "Adding 3 to the relative base\n",
      "Relative base is now 997\n",
      "**********Opcode 9 and param modes 2 ***************\n",
      "input_1 is 3\n",
      "Adding 3 to the relative base\n",
      "Relative base is now 1000\n",
      "**********Opcode 3 and param modes 2 ***************\n",
      "input_1 is 3\n"
     ]
    },
    {
     "name": "stdin",
     "output_type": "stream",
     "text": [
      "Enter a number:  1\n"
     ]
    },
    {
     "name": "stdout",
     "output_type": "stream",
     "text": [
      "Index 3 is now 1\n",
      "**********Opcode 8 and param modes 10 ***************\n",
      "input_1 is 3\n",
      "input_2 is 1\n",
      "input_1 == input_2 ? False\n",
      "Index 63 is now 0\n",
      "**********Opcode 5 and param modes 10 ***************\n",
      "input_1 is 0\n",
      "input_2 is 65\n",
      "input_1 != 0 ? False\n",
      "**********Opcode 8 and param modes 10 ***************\n",
      "input_1 is 3\n",
      "input_2 is 2\n",
      "input_1 == input_2 ? False\n",
      "Index 63 is now 0\n",
      "**********Opcode 5 and param modes 10 ***************\n",
      "input_1 is 0\n",
      "input_2 is 904\n",
      "input_1 != 0 ? False\n",
      "**********Opcode 8 and param modes 10 ***************\n",
      "input_1 is 3\n",
      "input_2 is 0\n",
      "input_1 == input_2 ? False\n",
      "Index 63 is now 0\n",
      "**********Opcode 5 and param modes 10 ***************\n",
      "input_1 is 0\n",
      "input_2 is 58\n",
      "input_1 != 0 ? False\n",
      "**********Opcode 4 and param modes  ***************\n",
      "input_1 is 203\n",
      "203\n",
      "**********Opcode 4 and param modes 1 ***************\n",
      "input_1 is 0\n",
      "0\n"
     ]
    }
   ],
   "source": [
    "run_list_program([int(x) for x in content.split(\",\")], verbose=True)"
   ]
  },
  {
   "cell_type": "markdown",
   "metadata": {},
   "source": [
    "It seems to be behaving literally exactly as expected...\n",
    "\n",
    "...so I went to the subreddit and they are saying that `destination_index` can be relative mode or immediate mode, whereas the input can be any of the three modes"
   ]
  },
  {
   "cell_type": "code",
   "execution_count": 77,
   "metadata": {},
   "outputs": [],
   "source": [
    "def get_param_mode(param_modes_str, param_num):\n",
    "    # param_num is 1, 2, or 3\n",
    "    if param_num <= len(param_modes_str):\n",
    "        mode_code = param_modes_str[-param_num]\n",
    "        if mode_code == \"0\":\n",
    "            return \"position\"\n",
    "        elif mode_code == \"1\":\n",
    "            return \"immediate\"\n",
    "        else:\n",
    "            return \"relative\"\n",
    "    else:\n",
    "        # missing is the same as \"0\"\n",
    "        return \"position\""
   ]
  },
  {
   "cell_type": "code",
   "execution_count": 78,
   "metadata": {},
   "outputs": [],
   "source": [
    "def get_index_or_value(number, position_mode, program_codes, relative_base, is_input):\n",
    "    \n",
    "    if is_input:\n",
    "        if position_mode == \"immediate\":\n",
    "            return number\n",
    "        elif position_mode == \"position\":\n",
    "            return program_codes[number]\n",
    "        elif position_mode == \"relative\":\n",
    "            return program_codes[relative_base + number]\n",
    "    else:\n",
    "        if position_mode == \"immediate\" or position_mode == \"position\":\n",
    "            return number\n",
    "        elif position_mode == \"relative\":\n",
    "            return relative_base + number"
   ]
  },
  {
   "cell_type": "code",
   "execution_count": 79,
   "metadata": {},
   "outputs": [],
   "source": [
    "def get_value_for_input(param_modes, param_number, program_codes, current_position, relative_base, is_input):\n",
    "    \"\"\" Now that we have to do this for the input of more than 3 opcodes, making a\n",
    "    function makes more sense\n",
    "    \"\"\"\n",
    "    input_mode = get_param_mode(param_modes, param_number)\n",
    "    input_number = program_codes[current_position + param_number]\n",
    "    actual_value = get_index_or_value(input_number, input_mode, program_codes, relative_base, is_input)\n",
    "    return actual_value"
   ]
  },
  {
   "cell_type": "code",
   "execution_count": 80,
   "metadata": {},
   "outputs": [],
   "source": [
    "def run_list_program(program_codes, verbose=False):\n",
    "    # loop through codes in 4-code \"programs\"\n",
    "    current_position = 0\n",
    "    relative_base = 0\n",
    "    while True:\n",
    "        opcode_and_param_modes = str(program_codes[current_position])\n",
    "        # last two digits is opcode\n",
    "        opcode = int(opcode_and_param_modes[-2:])\n",
    "\n",
    "        # made the decision to indent as little as possible, short-circuit instead\n",
    "        if opcode == 99:\n",
    "            break\n",
    "        \n",
    "        param_modes = opcode_and_param_modes[:-2]\n",
    "        \n",
    "        if verbose:\n",
    "            print(\"**********Opcode\", opcode, \"and param modes\", param_modes, \"***************\")\n",
    "        \n",
    "        # these opcodes have a first parameter\n",
    "        if opcode in [1,2,3,4,5,6,7,8,9]:\n",
    "            input_1 = get_value_for_input(param_modes, 1, program_codes, current_position, relative_base, True)\n",
    "            if verbose:\n",
    "                print(\"input_1 is\", input_1)\n",
    "        \n",
    "        # these opcodes have a second parameter\n",
    "        if opcode in [1,2,5,6,7,8]:\n",
    "            input_2 = get_value_for_input(param_modes, 2, program_codes, current_position, relative_base, True)\n",
    "            if verbose:\n",
    "                print(\"input_2 is\", input_2)\n",
    "\n",
    "        if opcode == 1 or opcode == 2:\n",
    "            \"\"\" Given two inputs and a destination index, perform some operation on \n",
    "            the two inputs and put the result in the destination index \"\"\"\n",
    "#             fill_with_zeroes_to_index(program_codes, current_position+3)\n",
    "#             destination_index = program_codes[current_position+3]\n",
    "            destination_index = get_value_for_input(param_modes, 3, program_codes, current_position, relative_base, False)\n",
    "\n",
    "            if opcode == 1:\n",
    "                output = input_1 + input_2\n",
    "                if verbose:\n",
    "                    print(\"Adding inputs to create output\", output)\n",
    "            elif opcode == 2:\n",
    "                output = input_1 * input_2\n",
    "                if verbose:\n",
    "                    print(\"Multiplying inputs to create output\", output)\n",
    "\n",
    "            fill_with_zeroes_to_index(program_codes, destination_index)\n",
    "            program_codes[destination_index] = output\n",
    "            \n",
    "            if verbose:\n",
    "                print(\"Index\", destination_index, \"is now\", output)\n",
    "\n",
    "            # move to the next \"program\", opcodes 1 and 2 have length 4\n",
    "            current_position = current_position + 4\n",
    "        elif opcode == 3:\n",
    "            \"\"\" Here the input comes from prompting the user, then that is copied to\n",
    "            the destination index \"\"\"\n",
    "            user_input = int(input(\"Enter a number: \"))\n",
    "            \n",
    "            destination_index = input_1\n",
    "            \n",
    "            fill_with_zeroes_to_index(program_codes, destination_index)\n",
    "            program_codes[destination_index] = user_input\n",
    "            if verbose:\n",
    "                print(\"Index\", destination_index, \"is now\", user_input)\n",
    "            \n",
    "            current_position = current_position + 2\n",
    "        elif opcode == 4:\n",
    "            \"\"\" Given one input (retrieved above), print it \"\"\"\n",
    "            print(input_1)\n",
    "            current_position = current_position + 2\n",
    "        elif opcode == 5 or opcode == 6:\n",
    "            \"\"\" Based on the first input, conditionally sets current_position to\n",
    "            the value of the second input \"\"\"\n",
    "            if opcode == 5:\n",
    "                should_jump = input_1 != 0\n",
    "                if verbose:\n",
    "                    print(\"input_1 != 0 ?\", should_jump )\n",
    "            elif opcode == 6:\n",
    "                should_jump = input_1 == 0\n",
    "                if verbose:\n",
    "                    print(\"input_1 == 0 ?\", should_jump)\n",
    "            if should_jump:\n",
    "                current_position = input_2\n",
    "                if verbose:\n",
    "                    print(\"Just jumpted to\", input_2)\n",
    "            else:\n",
    "                current_position = current_position + 3\n",
    "        elif opcode == 7 or opcode == 8:\n",
    "            \"\"\" Based on a comparison of the first and second inputs, sets\n",
    "            destination index to 1 or 0 \"\"\"\n",
    "            if opcode == 7:\n",
    "                comparison_true = input_1 < input_2\n",
    "                if verbose:\n",
    "                    print(\"input_1 < input_2 ?\", comparison_true)\n",
    "            elif opcode == 8:\n",
    "                comparison_true = input_1 == input_2\n",
    "                if verbose:\n",
    "                    print(\"input_1 == input_2 ?\", comparison_true)\n",
    "                \n",
    "#             fill_with_zeroes_to_index(program_codes, current_position + 3)\n",
    "#             destination_index = program_codes[current_position + 3]\n",
    "            destination_index = get_value_for_input(param_modes, 3, program_codes, current_position, relative_base, False)\n",
    "            \n",
    "            fill_with_zeroes_to_index(program_codes, destination_index)\n",
    "            if comparison_true:\n",
    "                program_codes[destination_index] = 1\n",
    "                if verbose:\n",
    "                    print(\"Index\", destination_index, \"is now 1\")\n",
    "            else:\n",
    "                program_codes[destination_index] = 0\n",
    "                if verbose:\n",
    "                    print(\"Index\", destination_index, \"is now 0\")\n",
    "                \n",
    "            current_position = current_position + 4\n",
    "        elif opcode == 9:\n",
    "            relative_base += input_1\n",
    "            if verbose:\n",
    "                print(\"Adding\", input_1, \"to the relative base\")\n",
    "                print(\"Relative base is now\", relative_base)\n",
    "            current_position = current_position + 2\n",
    "        else:\n",
    "            print(\"Error, encountered opcode\", opcode)\n",
    "            break"
   ]
  },
  {
   "cell_type": "code",
   "execution_count": 81,
   "metadata": {},
   "outputs": [
    {
     "name": "stdout",
     "output_type": "stream",
     "text": [
      "**********Opcode 2 and param modes 11 ***************\n",
      "input_1 is 34463338\n",
      "input_2 is 34463338\n",
      "Multiplying inputs to create output 1187721666102244\n",
      "Index 63 is now 1187721666102244\n",
      "**********Opcode 7 and param modes 10 ***************\n",
      "input_1 is 1187721666102244\n",
      "input_2 is 34463338\n",
      "input_1 < input_2 ? False\n",
      "Index 63 is now 0\n",
      "**********Opcode 5 and param modes 10 ***************\n",
      "input_1 is 0\n",
      "input_2 is 53\n",
      "input_1 != 0 ? False\n",
      "**********Opcode 2 and param modes 11 ***************\n",
      "input_1 is 1\n",
      "input_2 is 3\n",
      "Multiplying inputs to create output 3\n",
      "Index 1000 is now 3\n",
      "**********Opcode 9 and param modes 1 ***************\n",
      "input_1 is 988\n",
      "Adding 988 to the relative base\n",
      "Relative base is now 988\n",
      "**********Opcode 9 and param modes 2 ***************\n",
      "input_1 is 3\n",
      "Adding 3 to the relative base\n",
      "Relative base is now 991\n",
      "**********Opcode 9 and param modes  ***************\n",
      "input_1 is 3\n",
      "Adding 3 to the relative base\n",
      "Relative base is now 994\n",
      "**********Opcode 9 and param modes 2 ***************\n",
      "input_1 is 3\n",
      "Adding 3 to the relative base\n",
      "Relative base is now 997\n",
      "**********Opcode 9 and param modes 2 ***************\n",
      "input_1 is 3\n",
      "Adding 3 to the relative base\n",
      "Relative base is now 1000\n",
      "**********Opcode 3 and param modes 2 ***************\n",
      "input_1 is 3\n"
     ]
    },
    {
     "name": "stdin",
     "output_type": "stream",
     "text": [
      "Enter a number:  1\n"
     ]
    },
    {
     "name": "stdout",
     "output_type": "stream",
     "text": [
      "Index 3 is now 1\n",
      "**********Opcode 8 and param modes 10 ***************\n",
      "input_1 is 3\n",
      "input_2 is 1\n",
      "input_1 == input_2 ? False\n",
      "Index 63 is now 0\n",
      "**********Opcode 5 and param modes 10 ***************\n",
      "input_1 is 0\n",
      "input_2 is 65\n",
      "input_1 != 0 ? False\n",
      "**********Opcode 8 and param modes 10 ***************\n",
      "input_1 is 3\n",
      "input_2 is 2\n",
      "input_1 == input_2 ? False\n",
      "Index 63 is now 0\n",
      "**********Opcode 5 and param modes 10 ***************\n",
      "input_1 is 0\n",
      "input_2 is 904\n",
      "input_1 != 0 ? False\n",
      "**********Opcode 8 and param modes 10 ***************\n",
      "input_1 is 3\n",
      "input_2 is 0\n",
      "input_1 == input_2 ? False\n",
      "Index 63 is now 0\n",
      "**********Opcode 5 and param modes 10 ***************\n",
      "input_1 is 0\n",
      "input_2 is 58\n",
      "input_1 != 0 ? False\n",
      "**********Opcode 4 and param modes  ***************\n",
      "input_1 is 203\n",
      "203\n",
      "**********Opcode 4 and param modes 1 ***************\n",
      "input_1 is 0\n",
      "0\n"
     ]
    }
   ],
   "source": [
    "run_list_program([int(x) for x in content.split(\",\")], verbose=True)"
   ]
  },
  {
   "cell_type": "markdown",
   "metadata": {},
   "source": [
    "That is literally just the same error.  I think I'm going to re-write this so it's structured differently, because there's too much going on to isolate what's going wrong here"
   ]
  },
  {
   "cell_type": "markdown",
   "metadata": {},
   "source": [
    "Structurally, I need three global variables:\n",
    "\n",
    " - program codes\n",
    " - current position\n",
    " - relative base\n",
    "\n",
    "Everything else can be derived from those"
   ]
  },
  {
   "cell_type": "markdown",
   "metadata": {},
   "source": [
    "I think I am going to make an outer loop that contains those things, then a function for each opcode, only extracting helper functions as the opcodes get really repetitive"
   ]
  },
  {
   "cell_type": "code",
   "execution_count": 82,
   "metadata": {},
   "outputs": [],
   "source": [
    "def get_param_mode(param_modes_str, param_num):\n",
    "    # param_num is 1, 2, or 3\n",
    "    if param_num <= len(param_modes_str):\n",
    "        mode_code = param_modes_str[-param_num]\n",
    "        if mode_code == \"0\":\n",
    "            return \"position\"\n",
    "        elif mode_code == \"1\":\n",
    "            return \"immediate\"\n",
    "        elif mode_code == \"2\":\n",
    "            return \"relative\"\n",
    "    else:\n",
    "        # missing is the same as \"0\"\n",
    "        return \"position\""
   ]
  },
  {
   "cell_type": "code",
   "execution_count": 103,
   "metadata": {},
   "outputs": [],
   "source": [
    "def fill_with_zeroes_to_index(program_codes, index):\n",
    "    # if we're trying to use an index that's \"off the end\" of the program,\n",
    "    # extend the program with a bunch of zeroes\n",
    "    zero_fill_needed = index - len(program_codes) + 1\n",
    "    for _ in range(zero_fill_needed):\n",
    "        program_codes.append(0)"
   ]
  },
  {
   "cell_type": "code",
   "execution_count": 104,
   "metadata": {},
   "outputs": [],
   "source": [
    "def get_input_value(program_codes, param_modes, current_position, relative_base, param_num):\n",
    "    param_mode = get_param_mode(param_modes, param_num)\n",
    "    if param_mode == \"position\":\n",
    "        fill_with_zeroes_to_index(program_codes, current_position + param_num)\n",
    "        input_index = program_codes[current_position + param_num]\n",
    "        \n",
    "        fill_with_zeroes_to_index(program_codes, input_index)\n",
    "        input_value = program_codes[input_index]\n",
    "    elif param_mode == \"immediate\":\n",
    "        fill_with_zeroes_to_index(program_codes, current_position + param_num)\n",
    "        input_value = program_codes[current_position + param_num]\n",
    "    elif param_mode == \"relative\":\n",
    "        fill_with_zeroes_to_index(program_codes, current_position + param_num)\n",
    "        input_index = program_codes[current_position + param_num] + relative_base\n",
    "        \n",
    "        fill_with_zeroes_to_index(program_codes, input_index)\n",
    "        input_value = program_codes[input_index]\n",
    "        \n",
    "    return input_value"
   ]
  },
  {
   "cell_type": "code",
   "execution_count": 105,
   "metadata": {},
   "outputs": [],
   "source": [
    "def get_destination_index(program_codes, param_modes, current_position, relative_base, param_num):\n",
    "    param_mode = get_param_mode(param_modes, param_num)\n",
    "    \n",
    "    if param_mode == \"immediate\" or param_mode == \"position\":\n",
    "        fill_with_zeroes_to_index(program_codes, current_position + param_num)\n",
    "        destination_index = program_codes[current_position + param_num]\n",
    "    elif param_mode == \"relative\":\n",
    "        fill_with_zeroes_to_index(program_codes, current_position + param_num)\n",
    "        destination_index = program_codes[current_position + param_num] + relative_base\n",
    "        \n",
    "    return destination_index"
   ]
  },
  {
   "cell_type": "code",
   "execution_count": 117,
   "metadata": {},
   "outputs": [],
   "source": [
    "def run_opcode_1(program_codes, param_modes, current_position, relative_base):\n",
    "    \"\"\"\n",
    "    Opcode 1: take in two inputs, add them together, set the destination index to the result\n",
    "    \"\"\"\n",
    "    first_input = get_input_value(program_codes, param_modes, current_position, relative_base, 1)\n",
    "    second_input = get_input_value(program_codes, param_modes, current_position, relative_base, 2)\n",
    "    \n",
    "    destination_index = get_destination_index(program_codes, param_modes, current_position, relative_base, 3)\n",
    "    \n",
    "    output = first_input + second_input\n",
    "    \n",
    "    fill_with_zeroes_to_index(program_codes, destination_index)\n",
    "    program_codes[destination_index] = output\n",
    "    \n",
    "    current_position += 4\n",
    "    \n",
    "    return current_position, relative_base"
   ]
  },
  {
   "cell_type": "code",
   "execution_count": 118,
   "metadata": {},
   "outputs": [],
   "source": [
    "def run_opcode_2(program_codes, param_modes, current_position, relative_base):\n",
    "    \"\"\"\n",
    "    Opcode 2: take in two inputs, multiply them together, set the destination index to the result\n",
    "    \"\"\"\n",
    "    first_input = get_input_value(program_codes, param_modes, current_position, relative_base, 1)\n",
    "    second_input = get_input_value(program_codes, param_modes, current_position, relative_base, 2)\n",
    "    \n",
    "    destination_index = get_destination_index(program_codes, param_modes, current_position, relative_base, 3)\n",
    "    \n",
    "    output = first_input * second_input\n",
    "    \n",
    "    fill_with_zeroes_to_index(program_codes, destination_index)\n",
    "    program_codes[destination_index] = output\n",
    "    \n",
    "    current_position += 4\n",
    "    \n",
    "    return current_position, relative_base"
   ]
  },
  {
   "cell_type": "code",
   "execution_count": 108,
   "metadata": {},
   "outputs": [],
   "source": [
    "def run_opcode_3(program_codes, param_modes, current_position, relative_base):\n",
    "    \"\"\"\n",
    "    Opcode 3: get input from the user, set the destination index to the result\n",
    "    \"\"\"\n",
    "    user_input = int(input(\"Enter a number: \"))\n",
    "    destination_index = get_destination_index(program_codes, param_modes, current_position, relative_base, 1)\n",
    "    \n",
    "    fill_with_zeroes_to_index(program_codes, destination_index)\n",
    "    program_codes[destination_index] = user_input\n",
    "    \n",
    "    current_position += 2\n",
    "    \n",
    "    return current_position, relative_base"
   ]
  },
  {
   "cell_type": "code",
   "execution_count": 109,
   "metadata": {},
   "outputs": [],
   "source": [
    "def run_opcode_4(program_codes, param_modes, current_position, relative_base):\n",
    "    \"\"\"\n",
    "    Opcode 4: print the value of the 1 and only input\n",
    "    \"\"\"\n",
    "    input_value = get_input_value(program_codes, param_modes, current_position, relative_base, 1)\n",
    "    \n",
    "    print(input_value)\n",
    "    \n",
    "    current_position += 2\n",
    "    \n",
    "    return current_position, relative_base"
   ]
  },
  {
   "cell_type": "code",
   "execution_count": 110,
   "metadata": {},
   "outputs": [],
   "source": [
    "def run_opcode_5(program_codes, param_modes, current_position, relative_base):\n",
    "    \"\"\"\n",
    "    Opcode 5: if the first input is not 0, set the current position to the second input\n",
    "    \"\"\"\n",
    "    first_input = get_input_value(program_codes, param_modes, current_position, relative_base, 1)\n",
    "    second_input = get_input_value(program_codes, param_modes, current_position, relative_base, 2)\n",
    "    \n",
    "    should_jump = first_input != 0\n",
    "    \n",
    "    if should_jump:\n",
    "        current_position = second_input\n",
    "    else:\n",
    "        current_position += 3\n",
    "        \n",
    "    return current_position, relative_base\n",
    "    "
   ]
  },
  {
   "cell_type": "code",
   "execution_count": 111,
   "metadata": {},
   "outputs": [],
   "source": [
    "def run_opcode_6(program_codes, param_modes, current_position, relative_base):\n",
    "    \"\"\"\n",
    "    Opcode 6: if the first input is 0, set the current position to the second input\n",
    "    \"\"\"\n",
    "    first_input = get_input_value(program_codes, param_modes, current_position, relative_base, 1)\n",
    "    second_input = get_input_value(program_codes, param_modes, current_position, relative_base, 2)\n",
    "    \n",
    "    should_jump = first_input == 0\n",
    "    \n",
    "    if should_jump:\n",
    "        current_position = second_input\n",
    "    else:\n",
    "        current_position += 3\n",
    "        \n",
    "    return current_position, relative_base"
   ]
  },
  {
   "cell_type": "code",
   "execution_count": 112,
   "metadata": {},
   "outputs": [],
   "source": [
    "def run_opcode_7(program_codes, param_modes, current_position, relative_base):\n",
    "    \"\"\"\n",
    "    Opcode 7: if the first input is less than the second parameter, store 1 in the\n",
    "    destination index.  Otherwise, store 0.\n",
    "    \"\"\"\n",
    "    first_input = get_input_value(program_codes, param_modes, current_position, relative_base, 1)\n",
    "    second_input = get_input_value(program_codes, param_modes, current_position, relative_base, 2)\n",
    "    \n",
    "    destination_index = get_destination_index(program_codes, param_modes, current_position, relative_base, 3)\n",
    "    fill_with_zeroes_to_index(program_codes, destination_index)\n",
    "    \n",
    "    comparison_true = first_input < second_input\n",
    "    \n",
    "    if comparison_true:\n",
    "        program_codes[destination_index] = 1\n",
    "    else:\n",
    "        program_codes[destination_index] = 0\n",
    "\n",
    "    current_position = current_position + 4\n",
    "    \n",
    "    return current_position, relative_base"
   ]
  },
  {
   "cell_type": "code",
   "execution_count": 113,
   "metadata": {},
   "outputs": [],
   "source": [
    "def run_opcode_8(program_codes, param_modes, current_position, relative_base):\n",
    "    \"\"\"\n",
    "    Opcode 8: if the first input is equal to the second parameter, store 1 in the\n",
    "    destination index.  Otherwise, store 0.\n",
    "    \"\"\"\n",
    "    first_input = get_input_value(program_codes, param_modes, current_position, relative_base, 1)\n",
    "    second_input = get_input_value(program_codes, param_modes, current_position, relative_base, 2)\n",
    "    \n",
    "    destination_index = get_destination_index(program_codes, param_modes, current_position, relative_base, 3)\n",
    "    fill_with_zeroes_to_index(program_codes, destination_index)\n",
    "    \n",
    "    comparison_true = first_input == second_input\n",
    "    \n",
    "    if comparison_true:\n",
    "        program_codes[destination_index] = 1\n",
    "    else:\n",
    "        program_codes[destination_index] = 0\n",
    "\n",
    "    current_position = current_position + 4\n",
    "    \n",
    "    return current_position, relative_base"
   ]
  },
  {
   "cell_type": "code",
   "execution_count": 121,
   "metadata": {},
   "outputs": [],
   "source": [
    "def run_opcode_9(program_codes, param_modes, current_position, relative_base):\n",
    "    \"\"\"\n",
    "    Opcode 9: adjusts the relative base by the value of its only parameter.\n",
    "    The relative base increases (or decreases, if the value is negative)\n",
    "    by the value of the parameter.\n",
    "    \"\"\"\n",
    "    first_input = get_input_value(program_codes, param_modes, current_position, relative_base, 1)\n",
    "    relative_base += first_input\n",
    "    \n",
    "    current_position += 2\n",
    "    \n",
    "    return current_position, relative_base"
   ]
  },
  {
   "cell_type": "code",
   "execution_count": 115,
   "metadata": {},
   "outputs": [],
   "source": [
    "def run_intcode_program(program_codes, verbose=False):\n",
    "    current_position = 0\n",
    "    relative_base = 0\n",
    "    while True:\n",
    "        opcode_and_param_modes = str(program_codes[current_position])\n",
    "        # last two digits is opcode\n",
    "        opcode = int(opcode_and_param_modes[-2:])\n",
    "\n",
    "        # made the decision to indent as little as possible, short-circuit instead\n",
    "        if opcode == 99:\n",
    "            break\n",
    "        \n",
    "        param_modes = opcode_and_param_modes[:-2]\n",
    "        \n",
    "        if verbose:\n",
    "            print(\"**********Opcode\", opcode, \"and param modes\", param_modes, \"***************\")\n",
    "        \n",
    "        if opcode == 1:\n",
    "            current_position, relative_base = run_opcode_1(program_codes, param_modes, current_position, relative_base)\n",
    "        elif opcode == 2:\n",
    "            current_position, relative_base = run_opcode_2(program_codes, param_modes, current_position, relative_base)\n",
    "        elif opcode == 3:\n",
    "            current_position, relative_base = run_opcode_3(program_codes, param_modes, current_position, relative_base)\n",
    "        elif opcode == 4:\n",
    "            current_position, relative_base = run_opcode_4(program_codes, param_modes, current_position, relative_base)\n",
    "        elif opcode == 5:\n",
    "            current_position, relative_base = run_opcode_5(program_codes, param_modes, current_position, relative_base)\n",
    "        elif opcode == 6:\n",
    "            current_position, relative_base = run_opcode_6(program_codes, param_modes, current_position, relative_base)\n",
    "        elif opcode == 7:\n",
    "            current_position, relative_base = run_opcode_7(program_codes, param_modes, current_position, relative_base)\n",
    "        elif opcode == 8:\n",
    "            current_position, relative_base = run_opcode_8(program_codes, param_modes, current_position, relative_base)\n",
    "        elif opcode == 9:\n",
    "            current_position, relative_base = run_opcode_9(program_codes, param_modes, current_position, relative_base)\n",
    "        else:\n",
    "            print(\"Error, encountered opcode\", opcode)\n",
    "            break"
   ]
  },
  {
   "cell_type": "code",
   "execution_count": 122,
   "metadata": {},
   "outputs": [
    {
     "name": "stdout",
     "output_type": "stream",
     "text": [
      "**********Opcode 2 and param modes 11 ***************\n",
      "**********Opcode 7 and param modes 10 ***************\n",
      "**********Opcode 5 and param modes 10 ***************\n",
      "**********Opcode 2 and param modes 11 ***************\n",
      "**********Opcode 9 and param modes 1 ***************\n",
      "**********Opcode 9 and param modes 2 ***************\n",
      "**********Opcode 9 and param modes  ***************\n",
      "**********Opcode 9 and param modes 2 ***************\n",
      "**********Opcode 9 and param modes 2 ***************\n",
      "**********Opcode 3 and param modes 2 ***************\n"
     ]
    },
    {
     "name": "stdin",
     "output_type": "stream",
     "text": [
      "Enter a number:  1\n"
     ]
    },
    {
     "name": "stdout",
     "output_type": "stream",
     "text": [
      "**********Opcode 8 and param modes 10 ***************\n",
      "**********Opcode 5 and param modes 10 ***************\n",
      "**********Opcode 2 and param modes 11 ***************\n",
      "**********Opcode 1 and param modes 11 ***************\n",
      "**********Opcode 1 and param modes 11 ***************\n",
      "**********Opcode 1 and param modes 11 ***************\n",
      "**********Opcode 2 and param modes 11 ***************\n",
      "**********Opcode 2 and param modes 11 ***************\n",
      "**********Opcode 1 and param modes 11 ***************\n",
      "**********Opcode 1 and param modes 11 ***************\n",
      "**********Opcode 1 and param modes 11 ***************\n",
      "**********Opcode 1 and param modes 11 ***************\n",
      "**********Opcode 1 and param modes 11 ***************\n",
      "**********Opcode 1 and param modes 11 ***************\n",
      "**********Opcode 2 and param modes 11 ***************\n",
      "**********Opcode 2 and param modes 11 ***************\n",
      "**********Opcode 2 and param modes 11 ***************\n",
      "**********Opcode 1 and param modes 11 ***************\n",
      "**********Opcode 1 and param modes 11 ***************\n",
      "**********Opcode 2 and param modes 11 ***************\n",
      "**********Opcode 2 and param modes 11 ***************\n",
      "**********Opcode 1 and param modes 11 ***************\n",
      "**********Opcode 2 and param modes 11 ***************\n",
      "**********Opcode 2 and param modes 11 ***************\n",
      "**********Opcode 2 and param modes 11 ***************\n",
      "**********Opcode 2 and param modes 11 ***************\n",
      "**********Opcode 1 and param modes 11 ***************\n",
      "**********Opcode 1 and param modes 11 ***************\n",
      "**********Opcode 1 and param modes 11 ***************\n",
      "**********Opcode 1 and param modes 11 ***************\n",
      "**********Opcode 1 and param modes 11 ***************\n",
      "**********Opcode 1 and param modes 11 ***************\n",
      "**********Opcode 9 and param modes 1 ***************\n",
      "**********Opcode 2 and param modes 21 ***************\n",
      "**********Opcode 8 and param modes 10 ***************\n",
      "**********Opcode 5 and param modes 10 ***************\n",
      "**********Opcode 1 and param modes 10 ***************\n",
      "**********Opcode 2 and param modes 10 ***************\n",
      "**********Opcode 9 and param modes 1 ***************\n",
      "**********Opcode 8 and param modes 211 ***************\n",
      "**********Opcode 5 and param modes 10 ***************\n",
      "**********Opcode 2 and param modes 10 ***************\n",
      "**********Opcode 9 and param modes 1 ***************\n",
      "**********Opcode 2 and param modes 21 ***************\n",
      "**********Opcode 8 and param modes 10 ***************\n",
      "**********Opcode 5 and param modes 10 ***************\n",
      "**********Opcode 1 and param modes 10 ***************\n",
      "**********Opcode 5 and param modes 11 ***************\n",
      "**********Opcode 2 and param modes 10 ***************\n",
      "**********Opcode 9 and param modes 1 ***************\n",
      "**********Opcode 8 and param modes 12 ***************\n",
      "**********Opcode 5 and param modes 10 ***************\n",
      "**********Opcode 2 and param modes 10 ***************\n",
      "**********Opcode 9 and param modes 1 ***************\n",
      "**********Opcode 7 and param modes 21 ***************\n",
      "**********Opcode 5 and param modes 10 ***************\n",
      "**********Opcode 2 and param modes 10 ***************\n",
      "**********Opcode 9 and param modes 1 ***************\n",
      "**********Opcode 8 and param modes 12 ***************\n",
      "**********Opcode 5 and param modes 10 ***************\n",
      "**********Opcode 6 and param modes 11 ***************\n",
      "**********Opcode 2 and param modes 10 ***************\n",
      "**********Opcode 9 and param modes 1 ***************\n",
      "**********Opcode 5 and param modes 21 ***************\n",
      "**********Opcode 6 and param modes 11 ***************\n",
      "**********Opcode 2 and param modes 10 ***************\n",
      "**********Opcode 9 and param modes 1 ***************\n",
      "**********Opcode 5 and param modes 12 ***************\n",
      "**********Opcode 1 and param modes 10 ***************\n",
      "**********Opcode 2 and param modes 10 ***************\n",
      "**********Opcode 9 and param modes 1 ***************\n",
      "**********Opcode 6 and param modes 12 ***************\n",
      "**********Opcode 1 and param modes 10 ***************\n",
      "**********Opcode 5 and param modes 11 ***************\n",
      "**********Opcode 2 and param modes 10 ***************\n",
      "**********Opcode 9 and param modes 1 ***************\n",
      "**********Opcode 5 and param modes 12 ***************\n",
      "**********Opcode 1 and param modes 10 ***************\n",
      "**********Opcode 6 and param modes 11 ***************\n",
      "**********Opcode 2 and param modes 10 ***************\n",
      "**********Opcode 9 and param modes 1 ***************\n",
      "**********Opcode 6 and param modes 21 ***************\n",
      "**********Opcode 6 and param modes 11 ***************\n",
      "**********Opcode 2 and param modes 10 ***************\n",
      "**********Opcode 9 and param modes 1 ***************\n",
      "**********Opcode 8 and param modes 211 ***************\n",
      "**********Opcode 5 and param modes 10 ***************\n",
      "**********Opcode 5 and param modes 11 ***************\n",
      "**********Opcode 2 and param modes 10 ***************\n",
      "**********Opcode 9 and param modes 1 ***************\n",
      "**********Opcode 1 and param modes 211 ***************\n",
      "**********Opcode 8 and param modes 10 ***************\n",
      "**********Opcode 5 and param modes 10 ***************\n",
      "**********Opcode 1 and param modes 10 ***************\n",
      "**********Opcode 6 and param modes 11 ***************\n",
      "**********Opcode 2 and param modes 10 ***************\n",
      "**********Opcode 9 and param modes 1 ***************\n",
      "**********Opcode 1 and param modes 21 ***************\n",
      "**********Opcode 8 and param modes 10 ***************\n",
      "**********Opcode 5 and param modes 10 ***************\n",
      "**********Opcode 1 and param modes 10 ***************\n",
      "**********Opcode 2 and param modes 10 ***************\n",
      "**********Opcode 9 and param modes 1 ***************\n",
      "**********Opcode 7 and param modes 12 ***************\n",
      "**********Opcode 5 and param modes 10 ***************\n",
      "**********Opcode 1 and param modes 10 ***************\n",
      "**********Opcode 6 and param modes 11 ***************\n",
      "**********Opcode 2 and param modes 10 ***************\n",
      "**********Opcode 9 and param modes 1 ***************\n",
      "**********Opcode 6 and param modes 21 ***************\n",
      "**********Opcode 1 and param modes 10 ***************\n",
      "**********Opcode 2 and param modes 10 ***************\n",
      "**********Opcode 9 and param modes 1 ***************\n",
      "**********Opcode 1 and param modes 211 ***************\n",
      "**********Opcode 8 and param modes 10 ***************\n",
      "**********Opcode 5 and param modes 10 ***************\n",
      "**********Opcode 2 and param modes 10 ***************\n",
      "**********Opcode 9 and param modes 1 ***************\n",
      "**********Opcode 5 and param modes 21 ***************\n",
      "**********Opcode 1 and param modes 10 ***************\n",
      "**********Opcode 2 and param modes 10 ***************\n",
      "**********Opcode 9 and param modes 1 ***************\n",
      "**********Opcode 2 and param modes 211 ***************\n",
      "**********Opcode 8 and param modes 10 ***************\n",
      "**********Opcode 5 and param modes 10 ***************\n",
      "**********Opcode 2 and param modes 10 ***************\n",
      "**********Opcode 9 and param modes 1 ***************\n",
      "**********Opcode 1 and param modes 12 ***************\n",
      "**********Opcode 8 and param modes 10 ***************\n",
      "**********Opcode 5 and param modes 10 ***************\n",
      "**********Opcode 2 and param modes 10 ***************\n",
      "**********Opcode 9 and param modes 1 ***************\n",
      "**********Opcode 8 and param modes 21 ***************\n",
      "**********Opcode 5 and param modes 10 ***************\n",
      "**********Opcode 1 and param modes 10 ***************\n",
      "**********Opcode 2 and param modes 10 ***************\n",
      "**********Opcode 9 and param modes 1 ***************\n",
      "**********Opcode 2 and param modes 12 ***************\n",
      "**********Opcode 8 and param modes 10 ***************\n",
      "**********Opcode 5 and param modes 10 ***************\n",
      "**********Opcode 2 and param modes 10 ***************\n",
      "**********Opcode 9 and param modes 1 ***************\n",
      "**********Opcode 7 and param modes 12 ***************\n",
      "**********Opcode 5 and param modes 10 ***************\n",
      "**********Opcode 2 and param modes 10 ***************\n",
      "**********Opcode 9 and param modes 1 ***************\n",
      "**********Opcode 7 and param modes 21 ***************\n",
      "**********Opcode 5 and param modes 10 ***************\n",
      "**********Opcode 1 and param modes 10 ***************\n",
      "**********Opcode 5 and param modes 11 ***************\n",
      "**********Opcode 2 and param modes 10 ***************\n",
      "**********Opcode 9 and param modes 1 ***************\n",
      "**********Opcode 6 and param modes 12 ***************\n",
      "**********Opcode 1 and param modes 10 ***************\n",
      "**********Opcode 2 and param modes 10 ***************\n",
      "**********Opcode 9 and param modes 1 ***************\n",
      "**********Opcode 2 and param modes 12 ***************\n",
      "**********Opcode 8 and param modes 10 ***************\n",
      "**********Opcode 5 and param modes 10 ***************\n",
      "**********Opcode 1 and param modes 10 ***************\n",
      "**********Opcode 6 and param modes 11 ***************\n",
      "**********Opcode 2 and param modes 10 ***************\n",
      "**********Opcode 9 and param modes 1 ***************\n",
      "**********Opcode 2 and param modes 211 ***************\n",
      "**********Opcode 8 and param modes 10 ***************\n",
      "**********Opcode 5 and param modes 10 ***************\n",
      "**********Opcode 1 and param modes 10 ***************\n",
      "**********Opcode 6 and param modes 11 ***************\n",
      "**********Opcode 2 and param modes 10 ***************\n",
      "**********Opcode 9 and param modes 1 ***************\n",
      "**********Opcode 8 and param modes 21 ***************\n",
      "**********Opcode 5 and param modes 10 ***************\n",
      "**********Opcode 5 and param modes 11 ***************\n",
      "**********Opcode 2 and param modes 10 ***************\n",
      "**********Opcode 9 and param modes 1 ***************\n",
      "**********Opcode 7 and param modes 211 ***************\n",
      "**********Opcode 5 and param modes 10 ***************\n",
      "**********Opcode 6 and param modes 11 ***************\n",
      "**********Opcode 2 and param modes 10 ***************\n",
      "**********Opcode 9 and param modes 1 ***************\n",
      "**********Opcode 1 and param modes 12 ***************\n",
      "**********Opcode 8 and param modes 10 ***************\n",
      "**********Opcode 5 and param modes 10 ***************\n",
      "**********Opcode 6 and param modes 11 ***************\n",
      "**********Opcode 2 and param modes 10 ***************\n",
      "**********Opcode 9 and param modes 1 ***************\n",
      "**********Opcode 7 and param modes 211 ***************\n",
      "**********Opcode 5 and param modes 10 ***************\n",
      "**********Opcode 2 and param modes 10 ***************\n",
      "**********Opcode 9 and param modes 1 ***************\n",
      "**********Opcode 1 and param modes 21 ***************\n",
      "**********Opcode 8 and param modes 10 ***************\n",
      "**********Opcode 5 and param modes 10 ***************\n",
      "**********Opcode 5 and param modes 11 ***************\n",
      "**********Opcode 4 and param modes  ***************\n",
      "2714716640\n"
     ]
    }
   ],
   "source": [
    "run_intcode_program([int(x) for x in content.split(\",\")], verbose=True)"
   ]
  },
  {
   "cell_type": "markdown",
   "metadata": {},
   "source": [
    "# Part 2 Prompt\n",
    "```\n",
    "--- Part Two ---\n",
    "You now have a complete Intcode computer.\n",
    "\n",
    "Finally, you can lock on to the Ceres distress signal! You just need to boost your sensors using the BOOST program.\n",
    "\n",
    "The program runs in sensor boost mode by providing the input instruction the value 2. Once run, it will boost the sensors automatically, but it might take a few seconds to complete the operation on slower hardware. In sensor boost mode, the program will output a single value: the coordinates of the distress signal.\n",
    "\n",
    "Run the BOOST program in sensor boost mode. What are the coordinates of the distress signal?\n",
    "```"
   ]
  },
  {
   "cell_type": "markdown",
   "metadata": {},
   "source": [
    "I will be pretty happy if this is truly the last Intcode one, even thought it will be somewhat wasted time that I just rewrote all the code from scratch lol"
   ]
  },
  {
   "cell_type": "code",
   "execution_count": 123,
   "metadata": {},
   "outputs": [
    {
     "name": "stdin",
     "output_type": "stream",
     "text": [
      "Enter a number:  2\n"
     ]
    },
    {
     "name": "stdout",
     "output_type": "stream",
     "text": [
      "58879\n"
     ]
    }
   ],
   "source": [
    "run_intcode_program([int(x) for x in content.split(\",\")])"
   ]
  },
  {
   "cell_type": "markdown",
   "metadata": {},
   "source": [
    "...pretty confused why they didn't have opcode 9 be part 1, and zero padding be part 2, but I'm okay with this just working as is"
   ]
  },
  {
   "cell_type": "code",
   "execution_count": null,
   "metadata": {},
   "outputs": [],
   "source": []
  }
 ],
 "metadata": {
  "kernelspec": {
   "display_name": "Python 3",
   "language": "python",
   "name": "python3"
  },
  "language_info": {
   "codemirror_mode": {
    "name": "ipython",
    "version": 3
   },
   "file_extension": ".py",
   "mimetype": "text/x-python",
   "name": "python",
   "nbconvert_exporter": "python",
   "pygments_lexer": "ipython3",
   "version": "3.7.3"
  }
 },
 "nbformat": 4,
 "nbformat_minor": 4
}

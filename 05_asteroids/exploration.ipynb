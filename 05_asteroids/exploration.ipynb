{
 "cells": [
  {
   "cell_type": "markdown",
   "metadata": {},
   "source": [
    "# Part 1 Prompt"
   ]
  },
  {
   "cell_type": "raw",
   "metadata": {},
   "source": [
    "--- Day 5: Sunny with a Chance of Asteroids ---\n",
    "You're starting to sweat as the ship makes its way toward Mercury. The Elves suggest that you get the air conditioner working by upgrading your ship computer to support the Thermal Environment Supervision Terminal.\n",
    "\n",
    "The Thermal Environment Supervision Terminal (TEST) starts by running a diagnostic program (your puzzle input). The TEST diagnostic program will run on your existing Intcode computer after a few modifications:\n",
    "\n",
    "First, you'll need to add two new instructions:\n",
    "\n",
    " - Opcode 3 takes a single integer as input and saves it to the position given by its only parameter. For example, the instruction 3,50 would take an input value and store it at address 50.\n",
    " - Opcode 4 outputs the value of its only parameter. For example, the instruction 4,50 would output the value at address 50."
   ]
  },
  {
   "cell_type": "markdown",
   "metadata": {},
   "source": [
    "Ok, so it's similar to Day 2, only now the instructions take a variable amount of space:\n",
    "\n",
    " - 1 and 2 take 4 spaces (opcode, 2 parameters, result index)\n",
    " - 3 takes 2 spaces, (opcode, result index) and has a notion of an \"input value\" separate from the code\n",
    " - 4 takes 2 spaces, (opcode, 1 parameter) and has a notion of an \"output value\" separate from the code"
   ]
  },
  {
   "cell_type": "raw",
   "metadata": {},
   "source": [
    "Programs that use these instructions will come with documentation that explains what should be connected to the input and output. The program 3,0,4,0,99 outputs whatever it gets as input, then halts."
   ]
  },
  {
   "cell_type": "raw",
   "metadata": {},
   "source": [
    "Second, you'll need to add support for parameter modes:\n",
    "\n",
    "Each parameter of an instruction is handled based on its parameter mode. Right now, your ship computer already understands parameter mode 0, position mode, which causes the parameter to be interpreted as a position - if the parameter is 50, its value is the value stored at address 50 in memory. Until now, all parameters have been in position mode.\n",
    "\n",
    "Now, your ship computer will also need to handle parameters in mode 1, immediate mode. In immediate mode, a parameter is interpreted as a value - if the parameter is 50, its value is simply 50.\n",
    "\n",
    "Parameter modes are stored in the same value as the instruction's opcode. The opcode is a two-digit number based only on the ones and tens digit of the value, that is, the opcode is the rightmost two digits of the first value in an instruction. Parameter modes are single digits, one per parameter, read right-to-left from the opcode: the first parameter's mode is in the hundreds digit, the second parameter's mode is in the thousands digit, the third parameter's mode is in the ten-thousands digit, and so on. Any missing modes are 0."
   ]
  },
  {
   "cell_type": "markdown",
   "metadata": {},
   "source": [
    "So now the \"header\" part of the instruction has both the opcode (which function to run) and the \"mode\" for up to three parameters.  So I guess what I have been calling the \"result index\" is also a parameter under this system"
   ]
  },
  {
   "cell_type": "raw",
   "metadata": {},
   "source": [
    "For example, consider the program 1002,4,3,4,33.\n",
    "\n",
    "The first instruction, 1002,4,3,4, is a multiply instruction - the rightmost two digits of the first value, 02, indicate opcode 2, multiplication. Then, going right to left, the parameter modes are 0 (hundreds digit), 1 (thousands digit), and 0 (ten-thousands digit, not present and therefore zero):"
   ]
  },
  {
   "cell_type": "raw",
   "metadata": {},
   "source": [
    "ABCDE\n",
    " 1002\n",
    "\n",
    "DE - two-digit opcode,      02 == opcode 2\n",
    " C - mode of 1st parameter,  0 == position mode\n",
    " B - mode of 2nd parameter,  1 == immediate mode\n",
    " A - mode of 3rd parameter,  0 == position mode,\n",
    "                                  omitted due to being a leading zero"
   ]
  },
  {
   "cell_type": "raw",
   "metadata": {},
   "source": [
    "This instruction multiplies its first two parameters. The first parameter, 4 in position mode, works like it did before - its value is the value stored at address 4 (33). The second parameter, 3 in immediate mode, simply has value 3. The result of this operation, 33 * 3 = 99, is written according to the third parameter, 4 in position mode, which also works like it did before - 99 is written to address 4.\n",
    "\n",
    "Parameters that an instruction writes to will never be in immediate mode."
   ]
  },
  {
   "cell_type": "markdown",
   "metadata": {},
   "source": [
    "I still don't understand how opcode 4 works, if it only has 1 parameter.  Immediate/position mode just means whether you use the pointer or the value of the pointer, but it doesn't explain what it means to \"output\" 50"
   ]
  },
  {
   "cell_type": "raw",
   "metadata": {},
   "source": [
    "Finally, some notes:\n",
    "\n",
    " - It is important to remember that the instruction pointer should increase by the number of values in the instruction after the instruction finishes. Because of the new instructions, this amount is no longer always 4.\n",
    " - Integers can be negative: 1101,100,-1,4,0 is a valid program (find 100 + -1, store the result in position 4)."
   ]
  },
  {
   "cell_type": "raw",
   "metadata": {},
   "source": [
    "The TEST diagnostic program will start by requesting from the user the ID of the system to test by running an input instruction - provide it 1, the ID for the ship's air conditioner unit.\n",
    "\n",
    "It will then perform a series of diagnostic tests confirming that various parts of the Intcode computer, like parameter modes, function correctly. For each test, it will run an output instruction indicating how far the result of the test was from the expected value, where 0 means the test was successful. Non-zero outputs mean that a function is not working correctly; check the instructions that were run before the output instruction to see which one failed.\n",
    "\n",
    "Finally, the program will output a diagnostic code and immediately halt. This final output isn't an error; an output followed immediately by a halt means the program finished. If all outputs were zero except the diagnostic code, the diagnostic program ran successfully.\n",
    "\n",
    "After providing 1 to the only input instruction and passing all the tests, what diagnostic code does the program produce?"
   ]
  },
  {
   "cell_type": "markdown",
   "metadata": {},
   "source": [
    "Ok, I am going to interpret \"input\" and \"output\" as typical IO operations.  Meaning, we expect the first command to be 3, and we are supposed to type in `1` when that happens, then every time we encounter a 4, that should get printed out.  All of the things printed out should be 0 except the final thing"
   ]
  },
  {
   "cell_type": "markdown",
   "metadata": {},
   "source": [
    "### Some Experiments"
   ]
  },
  {
   "cell_type": "code",
   "execution_count": 1,
   "metadata": {},
   "outputs": [
    {
     "ename": "ValueError",
     "evalue": "invalid literal for int() with base 10: ''",
     "output_type": "error",
     "traceback": [
      "\u001b[0;31m---------------------------------------------------------------------------\u001b[0m",
      "\u001b[0;31mValueError\u001b[0m                                Traceback (most recent call last)",
      "\u001b[0;32m<ipython-input-1-f393969df1f0>\u001b[0m in \u001b[0;36m<module>\u001b[0;34m\u001b[0m\n\u001b[0;32m----> 1\u001b[0;31m \u001b[0mint\u001b[0m\u001b[0;34m(\u001b[0m\u001b[0;34m\"\"\u001b[0m\u001b[0;34m)\u001b[0m\u001b[0;34m\u001b[0m\u001b[0;34m\u001b[0m\u001b[0m\n\u001b[0m",
      "\u001b[0;31mValueError\u001b[0m: invalid literal for int() with base 10: ''"
     ]
    }
   ],
   "source": [
    "int(\"\")"
   ]
  },
  {
   "cell_type": "markdown",
   "metadata": {},
   "source": [
    "So I might manually have to specify that empty means 0"
   ]
  },
  {
   "cell_type": "code",
   "execution_count": 2,
   "metadata": {},
   "outputs": [
    {
     "data": {
      "text/plain": [
       "2"
      ]
     },
     "execution_count": 2,
     "metadata": {},
     "output_type": "execute_result"
    }
   ],
   "source": [
    "int(\"02\")"
   ]
  },
  {
   "cell_type": "code",
   "execution_count": 3,
   "metadata": {},
   "outputs": [
    {
     "name": "stdin",
     "output_type": "stream",
     "text": [
      "Enter something:  hello\n"
     ]
    }
   ],
   "source": [
    "x = input(\"Enter something: \")"
   ]
  },
  {
   "cell_type": "code",
   "execution_count": 4,
   "metadata": {},
   "outputs": [
    {
     "data": {
      "text/plain": [
       "'hello'"
      ]
     },
     "execution_count": 4,
     "metadata": {},
     "output_type": "execute_result"
    }
   ],
   "source": [
    "x"
   ]
  },
  {
   "cell_type": "markdown",
   "metadata": {},
   "source": [
    "Ok good, I can still use `input` in a Jupyter Notebook"
   ]
  },
  {
   "cell_type": "markdown",
   "metadata": {},
   "source": [
    "### Old Version"
   ]
  },
  {
   "cell_type": "code",
   "execution_count": 5,
   "metadata": {},
   "outputs": [],
   "source": [
    "def run_list_program(program_codes):\n",
    "    # loop through codes in 4-code \"programs\"\n",
    "    current_position = 0\n",
    "    while True:\n",
    "        opcode = program_codes[current_position]\n",
    "        if opcode == 99:\n",
    "            break\n",
    "        else:\n",
    "            # for inputs, first we have to get their index, then we have\n",
    "            # to get the values at that index\n",
    "            input_1_index = program_codes[current_position+1]\n",
    "            input_2_index = program_codes[current_position+2]\n",
    "\n",
    "            input_1 = program_codes[input_1_index]\n",
    "            input_2 = program_codes[input_2_index]\n",
    "\n",
    "            # for output, we only need the index, since we are overwriting\n",
    "            # whatever is there\n",
    "            destination_index = program_codes[current_position+3]\n",
    "            \n",
    "            # compute the output\n",
    "            if opcode == 1:\n",
    "                output = input_1 + input_2\n",
    "            elif opcode == 2:\n",
    "                output = input_1 * input_2\n",
    "            else:\n",
    "                print(\"Something went wrong, got opcode\", opcode)\n",
    "                break\n",
    "            \n",
    "            # set the destination index to the output\n",
    "#             print(\"Position\", destination_index, \"is now set to\", output)\n",
    "            program_codes[destination_index] = output\n",
    "            \n",
    "            # move to the next \"program\"\n",
    "            current_position = current_position + 4"
   ]
  },
  {
   "cell_type": "markdown",
   "metadata": {},
   "source": [
    "What needs to change?\n",
    "\n",
    " - pull out opcode but also modes of each parameter\n",
    " - get values of parameters conditionally based on position/immediate mode\n",
    " - implement opcodes 3 and 4\n",
    " - move to the next program conditionally based on length of current program"
   ]
  },
  {
   "cell_type": "code",
   "execution_count": 7,
   "metadata": {},
   "outputs": [],
   "source": [
    "def get_param_mode(param_modes_str, param_num):\n",
    "    # param_num is 1, 2, or 3\n",
    "    if param_num <= len(param_modes_str):\n",
    "        mode_code = param_modes_str[-param_num]\n",
    "        if mode_code == \"0\":\n",
    "            return \"position\"\n",
    "        else:\n",
    "            return \"immediate\"\n",
    "    else:\n",
    "        # if it's missing from the instruction, it's always \"position\"\n",
    "        return \"position\""
   ]
  },
  {
   "cell_type": "code",
   "execution_count": 8,
   "metadata": {},
   "outputs": [],
   "source": [
    "def get_index_or_value(number, position_mode, program_codes):\n",
    "    if position_mode == \"immediate\":\n",
    "        return number\n",
    "    else:\n",
    "        return program_codes[number]"
   ]
  },
  {
   "cell_type": "markdown",
   "metadata": {},
   "source": [
    "I'm confused now why there are modes for 3 parameters, if the only 3rd parameter is always an output and those will \"never be in immediate mode\".  Maybe this is something relevant for part 2?"
   ]
  },
  {
   "cell_type": "code",
   "execution_count": 9,
   "metadata": {},
   "outputs": [],
   "source": [
    "def run_list_program(program_codes):\n",
    "    # loop through codes in 4-code \"programs\"\n",
    "    current_position = 0\n",
    "    while True:\n",
    "        opcode_and_param_modes = str(program_codes[current_position])\n",
    "        # last two digits is opcode\n",
    "        opcode = int(opcode_and_param_modes[-2:])\n",
    "\n",
    "        if opcode == 99:\n",
    "            break\n",
    "        else:\n",
    "            param_modes = opcode_and_param_modes[:-2]\n",
    "            \n",
    "            if opcode == 1 or opcode == 2:\n",
    "                input_1_mode = get_param_mode(param_modes, 1)\n",
    "                input_2_mode = get_param_mode(param_modes, 2)\n",
    "                \n",
    "                # not doing anything with this information right now, because it is\n",
    "                # seemingly always position mode\n",
    "                output_mode = get_param_mode(param_modes, 3)\n",
    "                \n",
    "                input_1_number = program_codes[current_position+1]\n",
    "                input_2_number = program_codes[current_position+2]\n",
    "                \n",
    "                input_1 = get_index_or_value(input_1_number, input_1_mode, program_codes)\n",
    "                input_2 = get_index_or_value(input_2_number, input_2_mode, program_codes)\n",
    "\n",
    "                # for output, we only need the index, since we are overwriting\n",
    "                # whatever is there\n",
    "                destination_index = program_codes[current_position+3]\n",
    "            \n",
    "                # compute the output\n",
    "                if opcode == 1:\n",
    "                    output = input_1 + input_2\n",
    "                elif opcode == 2:\n",
    "                    output = input_1 * input_2\n",
    "            \n",
    "                program_codes[destination_index] = output\n",
    "            \n",
    "                # move to the next \"program\", opcodes 1 and 2 have length 4\n",
    "                current_position = current_position + 4"
   ]
  },
  {
   "cell_type": "markdown",
   "metadata": {},
   "source": [
    "Currently only implemented opcodes 1 and 2, testing"
   ]
  },
  {
   "cell_type": "code",
   "execution_count": 10,
   "metadata": {},
   "outputs": [],
   "source": [
    "example_program = [1002,4,3,4,33]"
   ]
  },
  {
   "cell_type": "code",
   "execution_count": 11,
   "metadata": {},
   "outputs": [],
   "source": [
    "run_list_program(example_program)"
   ]
  },
  {
   "cell_type": "code",
   "execution_count": 12,
   "metadata": {},
   "outputs": [
    {
     "data": {
      "text/plain": [
       "[1002, 4, 3, 4, 99]"
      ]
     },
     "execution_count": 12,
     "metadata": {},
     "output_type": "execute_result"
    }
   ],
   "source": [
    "example_program"
   ]
  },
  {
   "cell_type": "code",
   "execution_count": 13,
   "metadata": {},
   "outputs": [],
   "source": [
    "another_example_program = [1101,100,-1,4,0]"
   ]
  },
  {
   "cell_type": "code",
   "execution_count": 14,
   "metadata": {},
   "outputs": [],
   "source": [
    "run_list_program(another_example_program)"
   ]
  },
  {
   "cell_type": "code",
   "execution_count": 15,
   "metadata": {},
   "outputs": [
    {
     "data": {
      "text/plain": [
       "[1101, 100, -1, 4, 99]"
      ]
     },
     "execution_count": 15,
     "metadata": {},
     "output_type": "execute_result"
    }
   ],
   "source": [
    "another_example_program"
   ]
  },
  {
   "cell_type": "markdown",
   "metadata": {},
   "source": [
    "Dang, they're not even going to give any tests with opcodes 3 and 4"
   ]
  },
  {
   "cell_type": "code",
   "execution_count": 16,
   "metadata": {},
   "outputs": [],
   "source": [
    "def run_list_program(program_codes):\n",
    "    # loop through codes in 4-code \"programs\"\n",
    "    current_position = 0\n",
    "    while True:\n",
    "        opcode_and_param_modes = str(program_codes[current_position])\n",
    "        # last two digits is opcode\n",
    "        opcode = int(opcode_and_param_modes[-2:])\n",
    "\n",
    "        if opcode == 99:\n",
    "            break\n",
    "        else:\n",
    "            param_modes = opcode_and_param_modes[:-2]\n",
    "            \n",
    "            if opcode == 1 or opcode == 2:\n",
    "                input_1_mode = get_param_mode(param_modes, 1)\n",
    "                input_2_mode = get_param_mode(param_modes, 2)\n",
    "                \n",
    "                # not doing anything with this information right now, because it is\n",
    "                # seemingly always position mode\n",
    "                output_mode = get_param_mode(param_modes, 3)\n",
    "                \n",
    "                input_1_number = program_codes[current_position+1]\n",
    "                input_2_number = program_codes[current_position+2]\n",
    "                \n",
    "                input_1 = get_index_or_value(input_1_number, input_1_mode, program_codes)\n",
    "                input_2 = get_index_or_value(input_2_number, input_2_mode, program_codes)\n",
    "\n",
    "                # for output, we only need the index, since we are overwriting\n",
    "                # whatever is there\n",
    "                destination_index = program_codes[current_position+3]\n",
    "            \n",
    "                # compute the output\n",
    "                if opcode == 1:\n",
    "                    output = input_1 + input_2\n",
    "                elif opcode == 2:\n",
    "                    output = input_1 * input_2\n",
    "            \n",
    "                program_codes[destination_index] = output\n",
    "            \n",
    "                # move to the next \"program\", opcodes 1 and 2 have length 4\n",
    "                current_position = current_position + 4\n",
    "            elif opcode == 3:\n",
    "                user_input = int(input(\"Enter a number: \"))\n",
    "                destination_index = program_codes[current_position+1]\n",
    "                program_codes[destination_index] = user_input\n",
    "                current_position = current_position + 2\n",
    "            elif opcode == 4:\n",
    "                input_1_mode = get_param_mode(param_modes, 1)\n",
    "                input_1_number = program_codes[current_position+1]\n",
    "                input_1 = get_index_or_value(input_1_number, input_1_mode, program_codes)\n",
    "                print(input_1)\n",
    "                current_position = current_position + 2\n",
    "            else:\n",
    "                print(\"Error, encountered opcode\", opcode)\n",
    "                break"
   ]
  },
  {
   "cell_type": "markdown",
   "metadata": {},
   "source": [
    "Ok, I'm basically going in blind here"
   ]
  },
  {
   "cell_type": "code",
   "execution_count": 17,
   "metadata": {},
   "outputs": [
    {
     "data": {
      "text/plain": [
       "'3,225,1,225,6,6,1100,1,238,225,104,0,2,218,57,224,101,-3828,224,224,4,224,102,8,223,223,1001,224,2,224,1,223,224,223,1102,26,25,224,1001,224,-650,224,4,224,1002,223,8,223,101,7,224,224,1,223,224,223,1102,44,37,225,1102,51,26,225,1102,70,94,225,1002,188,7,224,1001,224,-70,224,4,224,1002,223,8,223,1001,224,1,224,1,223,224,223,1101,86,70,225,1101,80,25,224,101,-105,224,224,4,224,102,8,223,223,101,1,224,224,1,224,223,223,101,6,91,224,1001,224,-92,224,4,224,102,8,223,223,101,6,224,224,1,224,223,223,1102,61,60,225,1001,139,81,224,101,-142,224,224,4,224,102,8,223,223,101,1,224,224,1,223,224,223,102,40,65,224,1001,224,-2800,224,4,224,1002,223,8,223,1001,224,3,224,1,224,223,223,1102,72,10,225,1101,71,21,225,1,62,192,224,1001,224,-47,224,4,224,1002,223,8,223,101,7,224,224,1,224,223,223,1101,76,87,225,4,223,99,0,0,0,677,0,0,0,0,0,0,0,0,0,0,0,1105,0,99999,1105,227,247,1105,1,99999,1005,227,99999,1005,0,256,1105,1,99999,1106,227,99999,1106,0,265,1105,1,99999,1006,0,99999,1006,227,274,1105,1,99999,1105,1,280,1105,1,99999,1,225,225,225,1101,294,0,0,105,1,0,1105,1,99999,1106,0,300,1105,1,99999,1,225,225,225,1101,314,0,0,106,0,0,1105,1,99999,108,226,677,224,102,2,223,223,1005,224,329,1001,223,1,223,1107,677,226,224,102,2,223,223,1006,224,344,1001,223,1,223,7,226,677,224,1002,223,2,223,1005,224,359,101,1,223,223,1007,226,226,224,102,2,223,223,1005,224,374,101,1,223,223,108,677,677,224,102,2,223,223,1006,224,389,1001,223,1,223,107,677,226,224,102,2,223,223,1006,224,404,101,1,223,223,1108,677,226,224,102,2,223,223,1006,224,419,1001,223,1,223,1107,677,677,224,1002,223,2,223,1006,224,434,101,1,223,223,1007,677,677,224,102,2,223,223,1006,224,449,1001,223,1,223,1108,226,677,224,1002,223,2,223,1006,224,464,101,1,223,223,7,677,226,224,102,2,223,223,1006,224,479,101,1,223,223,1008,226,226,224,102,2,223,223,1006,224,494,101,1,223,223,1008,226,677,224,1002,223,2,223,1005,224,509,1001,223,1,223,1007,677,226,224,102,2,223,223,1005,224,524,1001,223,1,223,8,226,226,224,102,2,223,223,1006,224,539,101,1,223,223,1108,226,226,224,1002,223,2,223,1006,224,554,101,1,223,223,107,226,226,224,1002,223,2,223,1005,224,569,1001,223,1,223,7,226,226,224,102,2,223,223,1005,224,584,101,1,223,223,1008,677,677,224,1002,223,2,223,1006,224,599,1001,223,1,223,8,226,677,224,1002,223,2,223,1006,224,614,1001,223,1,223,108,226,226,224,1002,223,2,223,1006,224,629,101,1,223,223,107,677,677,224,102,2,223,223,1005,224,644,1001,223,1,223,8,677,226,224,1002,223,2,223,1005,224,659,1001,223,1,223,1107,226,677,224,102,2,223,223,1005,224,674,1001,223,1,223,4,223,99,226\\n'"
      ]
     },
     "execution_count": 17,
     "metadata": {},
     "output_type": "execute_result"
    }
   ],
   "source": [
    "part1_input_file = open(\"input.txt\", \"r\")\n",
    "part1_input = part1_input_file.readline()\n",
    "part1_input"
   ]
  },
  {
   "cell_type": "code",
   "execution_count": 18,
   "metadata": {},
   "outputs": [],
   "source": [
    "part1_input = part1_input.strip()"
   ]
  },
  {
   "cell_type": "code",
   "execution_count": 19,
   "metadata": {},
   "outputs": [],
   "source": [
    "part1_input_codes = [int(x) for x in part1_input.split(\",\")]"
   ]
  },
  {
   "cell_type": "code",
   "execution_count": 20,
   "metadata": {},
   "outputs": [
    {
     "name": "stdin",
     "output_type": "stream",
     "text": [
      "Enter a number:  1\n"
     ]
    },
    {
     "name": "stdout",
     "output_type": "stream",
     "text": [
      "0\n",
      "0\n",
      "0\n",
      "0\n",
      "0\n",
      "0\n",
      "0\n",
      "0\n",
      "0\n",
      "6069343\n"
     ]
    }
   ],
   "source": [
    "run_list_program(part1_input_codes)"
   ]
  },
  {
   "cell_type": "markdown",
   "metadata": {},
   "source": [
    "That worked, and I hate it"
   ]
  },
  {
   "cell_type": "markdown",
   "metadata": {},
   "source": [
    "# Part 2 Prompt"
   ]
  },
  {
   "cell_type": "raw",
   "metadata": {},
   "source": [
    "--- Part Two ---\n",
    "The air conditioner comes online! Its cold air feels good for a while, but then the TEST alarms start to go off. Since the air conditioner can't vent its heat anywhere but back into the spacecraft, it's actually making the air inside the ship warmer.\n",
    "\n",
    "Instead, you'll need to use the TEST to extend the thermal radiators. Fortunately, the diagnostic program (your puzzle input) is already equipped for this. Unfortunately, your Intcode computer is not.\n",
    "\n",
    "Your computer is only missing a few opcodes:\n",
    "\n",
    " - Opcode 5 is jump-if-true: if the first parameter is non-zero, it sets the instruction pointer to the value from the second parameter. Otherwise, it does nothing.\n",
    " - Opcode 6 is jump-if-false: if the first parameter is zero, it sets the instruction pointer to the value from the second parameter. Otherwise, it does nothing.\n",
    " - Opcode 7 is less than: if the first parameter is less than the second parameter, it stores 1 in the position given by the third parameter. Otherwise, it stores 0.\n",
    " - Opcode 8 is equals: if the first parameter is equal to the second parameter, it stores 1 in the position given by the third parameter. Otherwise, it stores 0.\n",
    "\n",
    "Like all instructions, these instructions need to support parameter modes as described above."
   ]
  },
  {
   "cell_type": "markdown",
   "metadata": {},
   "source": [
    "We really are straight up implementing an operating system here huh"
   ]
  },
  {
   "cell_type": "raw",
   "metadata": {},
   "source": [
    "Normally, after an instruction is finished, the instruction pointer increases by the number of values in that instruction. However, if the instruction modifies the instruction pointer, that value is used and the instruction pointer is not automatically increased.\n",
    "\n",
    "For example, here are several programs that take one input, compare it to the value 8, and then produce one output:\n",
    "\n",
    "3,9,8,9,10,9,4,9,99,-1,8 - Using position mode, consider whether the input is equal to 8; output 1 (if it is) or 0 (if it is not).\n",
    "\n",
    "3,9,7,9,10,9,4,9,99,-1,8 - Using position mode, consider whether the input is less than 8; output 1 (if it is) or 0 (if it is not).\n",
    "\n",
    "3,3,1108,-1,8,3,4,3,99 - Using immediate mode, consider whether the input is equal to 8; output 1 (if it is) or 0 (if it is not).\n",
    "\n",
    "3,3,1107,-1,8,3,4,3,99 - Using immediate mode, consider whether the input is less than 8; output 1 (if it is) or 0 (if it is not)."
   ]
  },
  {
   "cell_type": "raw",
   "metadata": {},
   "source": [
    "Here are some jump tests that take an input, then output 0 if the input was zero or 1 if the input was non-zero:\n",
    "\n",
    "3,12,6,12,15,1,13,14,13,4,13,99,-1,0,1,9 (using position mode)\n",
    "3,3,1105,-1,9,1101,0,0,12,4,12,99,1 (using immediate mode)\n",
    "\n",
    "Here's a larger example:\n",
    "\n",
    "3,21,1008,21,8,20,1005,20,22,107,8,21,20,1006,20,31,\n",
    "1106,0,36,98,0,0,1002,21,125,20,4,20,1105,1,46,104,\n",
    "999,1105,1,46,1101,1000,1,20,4,20,1105,1,46,98,99\n",
    "The above example program uses an input instruction to ask for a single number. The program will then output 999 if the input value is below 8, output 1000 if the input value is equal to 8, or output 1001 if the input value is greater than 8.\n",
    "\n",
    "This time, when the TEST diagnostic program runs its input instruction to get the ID of the system to test, provide it 5, the ID for the ship's thermal radiator controller. This diagnostic test suite only outputs one number, the diagnostic code."
   ]
  },
  {
   "cell_type": "code",
   "execution_count": 21,
   "metadata": {},
   "outputs": [],
   "source": [
    "def get_value_for_input(param_modes, param_number, program_codes, current_position):\n",
    "    \"\"\" Now that we have to do this for the input of more than 3 opcodes, making a\n",
    "    function makes more sense\n",
    "    \"\"\"\n",
    "    input_mode = get_param_mode(param_modes, param_number)\n",
    "    input_number = program_codes[current_position + param_number]\n",
    "    actual_value = get_index_or_value(input_number, input_mode, program_codes)\n",
    "    return actual_value"
   ]
  },
  {
   "cell_type": "code",
   "execution_count": 29,
   "metadata": {},
   "outputs": [],
   "source": [
    "def run_list_program(program_codes):\n",
    "    # loop through codes in 4-code \"programs\"\n",
    "    current_position = 0\n",
    "    while True:\n",
    "        opcode_and_param_modes = str(program_codes[current_position])\n",
    "        # last two digits is opcode\n",
    "        opcode = int(opcode_and_param_modes[-2:])\n",
    "\n",
    "        # made the decision to indent as little as possible, short-circuit instead\n",
    "        if opcode == 99:\n",
    "            break\n",
    "        \n",
    "        param_modes = opcode_and_param_modes[:-2]\n",
    "        \n",
    "        # these opcodes have a first parameter\n",
    "        if opcode in [1,2,4,5,6,7,8]:\n",
    "            input_1 = get_value_for_input(param_modes, 1, program_codes, current_position)\n",
    "        \n",
    "        # these opcodes have a second parameter\n",
    "        if opcode in [1,2,5,6,7,8]:\n",
    "            input_2 = get_value_for_input(param_modes, 2, program_codes, current_position)\n",
    "\n",
    "        if opcode == 1 or opcode == 2:\n",
    "            \"\"\" Given two inputs and a destination index, perform some operation on \n",
    "            the two inputs and put the result in the destination index \"\"\"\n",
    "            destination_index = program_codes[current_position+3]\n",
    "\n",
    "            if opcode == 1:\n",
    "                output = input_1 + input_2\n",
    "            elif opcode == 2:\n",
    "                output = input_1 * input_2\n",
    "\n",
    "            program_codes[destination_index] = output\n",
    "\n",
    "            # move to the next \"program\", opcodes 1 and 2 have length 4\n",
    "            current_position = current_position + 4\n",
    "        elif opcode == 3:\n",
    "            \"\"\" Here the input comes from prompting the user, then that is copied to\n",
    "            the destination index \"\"\"\n",
    "            user_input = int(input(\"Enter a number: \"))\n",
    "            destination_index = program_codes[current_position+1]\n",
    "            program_codes[destination_index] = user_input\n",
    "            current_position = current_position + 2\n",
    "        elif opcode == 4:\n",
    "            \"\"\" Given one input (retrieved above), print it \"\"\"\n",
    "            print(input_1)\n",
    "            current_position = current_position + 2\n",
    "        elif opcode == 5 or opcode == 6:\n",
    "            \"\"\" Based on the first input, conditionally sets current_position to\n",
    "            the value of the second input \"\"\"\n",
    "            if opcode == 5:\n",
    "                should_jump = input_1 != 0\n",
    "            elif opcode == 6:\n",
    "                should_jump = input_1 == 0\n",
    "                \n",
    "            if should_jump:\n",
    "                current_position = input_2\n",
    "            else:\n",
    "                current_position = current_position + 3\n",
    "        elif opcode == 7 or opcode == 8:\n",
    "            \"\"\" Based on a comparison of the first and second inputs, sets\n",
    "            destination index to 1 or 0 \"\"\"\n",
    "            if opcode == 7:\n",
    "                comparison_true = input_1 < input_2\n",
    "            elif opcode == 8:\n",
    "                comparison_true = input_1 == input_2\n",
    "                \n",
    "            destination_index = program_codes[current_position + 3]\n",
    "            if comparison_true:\n",
    "                program_codes[destination_index] = 1\n",
    "            else:\n",
    "                program_codes[destination_index] = 0\n",
    "                \n",
    "            current_position = current_position + 4\n",
    "\n",
    "        else:\n",
    "            print(\"Error, encountered opcode\", opcode)\n",
    "            break"
   ]
  },
  {
   "cell_type": "code",
   "execution_count": 30,
   "metadata": {},
   "outputs": [
    {
     "name": "stdin",
     "output_type": "stream",
     "text": [
      "Enter a number:  1\n"
     ]
    },
    {
     "name": "stdout",
     "output_type": "stream",
     "text": [
      "0\n",
      "0\n",
      "0\n",
      "0\n",
      "0\n",
      "0\n",
      "0\n",
      "0\n",
      "0\n",
      "6069343\n"
     ]
    }
   ],
   "source": [
    "part1_input_codes = [int(x) for x in part1_input.split(\",\")]\n",
    "run_list_program(part1_input_codes)"
   ]
  },
  {
   "cell_type": "code",
   "execution_count": 31,
   "metadata": {},
   "outputs": [
    {
     "name": "stdin",
     "output_type": "stream",
     "text": [
      "Enter a number:  8\n"
     ]
    },
    {
     "name": "stdout",
     "output_type": "stream",
     "text": [
      "1\n"
     ]
    }
   ],
   "source": [
    "run_list_program([3,9,8,9,10,9,4,9,99,-1,8])"
   ]
  },
  {
   "cell_type": "code",
   "execution_count": 32,
   "metadata": {},
   "outputs": [
    {
     "name": "stdin",
     "output_type": "stream",
     "text": [
      "Enter a number:  8\n"
     ]
    },
    {
     "name": "stdout",
     "output_type": "stream",
     "text": [
      "0\n"
     ]
    }
   ],
   "source": [
    "run_list_program([3,9,7,9,10,9,4,9,99,-1,8])"
   ]
  },
  {
   "cell_type": "code",
   "execution_count": 33,
   "metadata": {},
   "outputs": [
    {
     "name": "stdin",
     "output_type": "stream",
     "text": [
      "Enter a number:  8\n"
     ]
    },
    {
     "name": "stdout",
     "output_type": "stream",
     "text": [
      "1\n"
     ]
    }
   ],
   "source": [
    "run_list_program([3,3,1108,-1,8,3,4,3,99])"
   ]
  },
  {
   "cell_type": "code",
   "execution_count": 34,
   "metadata": {},
   "outputs": [
    {
     "name": "stdin",
     "output_type": "stream",
     "text": [
      "Enter a number:  8\n"
     ]
    },
    {
     "name": "stdout",
     "output_type": "stream",
     "text": [
      "0\n"
     ]
    }
   ],
   "source": [
    "run_list_program([3,3,1107,-1,8,3,4,3,99])"
   ]
  },
  {
   "cell_type": "code",
   "execution_count": 35,
   "metadata": {},
   "outputs": [
    {
     "name": "stdin",
     "output_type": "stream",
     "text": [
      "Enter a number:  8\n"
     ]
    },
    {
     "name": "stdout",
     "output_type": "stream",
     "text": [
      "1\n"
     ]
    }
   ],
   "source": [
    "run_list_program([3,12,6,12,15,1,13,14,13,4,13,99,-1,0,1,9])"
   ]
  },
  {
   "cell_type": "code",
   "execution_count": 36,
   "metadata": {},
   "outputs": [
    {
     "name": "stdin",
     "output_type": "stream",
     "text": [
      "Enter a number:  8\n"
     ]
    },
    {
     "name": "stdout",
     "output_type": "stream",
     "text": [
      "1\n"
     ]
    }
   ],
   "source": [
    "run_list_program([3,3,1105,-1,9,1101,0,0,12,4,12,99,1])"
   ]
  },
  {
   "cell_type": "code",
   "execution_count": 37,
   "metadata": {},
   "outputs": [
    {
     "name": "stdin",
     "output_type": "stream",
     "text": [
      "Enter a number:  7\n"
     ]
    },
    {
     "name": "stdout",
     "output_type": "stream",
     "text": [
      "999\n"
     ]
    }
   ],
   "source": [
    "run_list_program([3,21,1008,21,8,20,1005,20,22,107,8,21,20,1006,20,31,\n",
    "1106,0,36,98,0,0,1002,21,125,20,4,20,1105,1,46,104,\n",
    "999,1105,1,46,1101,1000,1,20,4,20,1105,1,46,98,99])"
   ]
  },
  {
   "cell_type": "code",
   "execution_count": 38,
   "metadata": {},
   "outputs": [
    {
     "name": "stdin",
     "output_type": "stream",
     "text": [
      "Enter a number:  8\n"
     ]
    },
    {
     "name": "stdout",
     "output_type": "stream",
     "text": [
      "1000\n"
     ]
    }
   ],
   "source": [
    "run_list_program([3,21,1008,21,8,20,1005,20,22,107,8,21,20,1006,20,31,\n",
    "1106,0,36,98,0,0,1002,21,125,20,4,20,1105,1,46,104,\n",
    "999,1105,1,46,1101,1000,1,20,4,20,1105,1,46,98,99])"
   ]
  },
  {
   "cell_type": "code",
   "execution_count": 39,
   "metadata": {},
   "outputs": [
    {
     "name": "stdin",
     "output_type": "stream",
     "text": [
      "Enter a number:  999\n"
     ]
    },
    {
     "name": "stdout",
     "output_type": "stream",
     "text": [
      "1001\n"
     ]
    }
   ],
   "source": [
    "run_list_program([3,21,1008,21,8,20,1005,20,22,107,8,21,20,1006,20,31,\n",
    "1106,0,36,98,0,0,1002,21,125,20,4,20,1105,1,46,104,\n",
    "999,1105,1,46,1101,1000,1,20,4,20,1105,1,46,98,99])"
   ]
  },
  {
   "cell_type": "code",
   "execution_count": 40,
   "metadata": {},
   "outputs": [],
   "source": [
    "part2_input = part1_input[:]"
   ]
  },
  {
   "cell_type": "code",
   "execution_count": 41,
   "metadata": {},
   "outputs": [],
   "source": [
    "part2_input_codes = [int(x) for x in part2_input.split(\",\")]"
   ]
  },
  {
   "cell_type": "markdown",
   "metadata": {},
   "source": [
    "What is the diagnostic code for system ID 5?"
   ]
  },
  {
   "cell_type": "code",
   "execution_count": 42,
   "metadata": {},
   "outputs": [
    {
     "name": "stdin",
     "output_type": "stream",
     "text": [
      "Enter a number:  5\n"
     ]
    },
    {
     "name": "stdout",
     "output_type": "stream",
     "text": [
      "3188550\n"
     ]
    }
   ],
   "source": [
    "run_list_program(part2_input_codes)"
   ]
  },
  {
   "cell_type": "code",
   "execution_count": null,
   "metadata": {},
   "outputs": [],
   "source": []
  }
 ],
 "metadata": {
  "kernelspec": {
   "display_name": "Python 3",
   "language": "python",
   "name": "python3"
  },
  "language_info": {
   "codemirror_mode": {
    "name": "ipython",
    "version": 3
   },
   "file_extension": ".py",
   "mimetype": "text/x-python",
   "name": "python",
   "nbconvert_exporter": "python",
   "pygments_lexer": "ipython3",
   "version": "3.7.3"
  }
 },
 "nbformat": 4,
 "nbformat_minor": 4
}

{
 "cells": [
  {
   "cell_type": "markdown",
   "metadata": {},
   "source": [
    "# Part 1 Prompt\n",
    "```\n",
    "--- Day 8: Space Image Format ---\n",
    "The Elves' spirits are lifted when they realize you have an opportunity to reboot one of their Mars rovers, and so they are curious if you would spend a brief sojourn on Mars. You land your ship near the rover.\n",
    "\n",
    "When you reach the rover, you discover that it's already in the process of rebooting! It's just waiting for someone to enter a BIOS password. The Elf responsible for the rover takes a picture of the password (your puzzle input) and sends it to you via the Digital Sending Network.\n",
    "\n",
    "Unfortunately, images sent via the Digital Sending Network aren't encoded with any normal encoding; instead, they're encoded in a special Space Image Format. None of the Elves seem to remember why this is the case. They send you the instructions to decode it.\n",
    "\n",
    "Images are sent as a series of digits that each represent the color of a single pixel. The digits fill each row of the image left-to-right, then move downward to the next row, filling rows top-to-bottom until every pixel of the image is filled.\n",
    "\n",
    "Each image actually consists of a series of identically-sized layers that are filled in this way. So, the first digit corresponds to the top-left pixel of the first layer, the second digit corresponds to the pixel to the right of that on the same layer, and so on until the last digit, which corresponds to the bottom-right pixel of the last layer.\n",
    "```"
   ]
  },
  {
   "cell_type": "markdown",
   "metadata": {},
   "source": [
    "```\n",
    "For example, given an image 3 pixels wide and 2 pixels tall, the image data 123456789012 corresponds to the following image layers:\n",
    "\n",
    "Layer 1: 123\n",
    "         456\n",
    "\n",
    "Layer 2: 789\n",
    "         012\n",
    "         \n",
    "The image you received is 25 pixels wide and 6 pixels tall.\n",
    "\n",
    "To make sure the image wasn't corrupted during transmission, the Elves would like you to find the layer that contains the fewest 0 digits. On that layer, what is the number of 1 digits multiplied by the number of 2 digits?\n",
    "```"
   ]
  },
  {
   "cell_type": "markdown",
   "metadata": {},
   "source": [
    "So, for now we don't actually care about how the pixels correspond to rows and columns.  We just need to find the digits that represent each layer, and count the presence of certain digits.\n",
    "\n",
    "There's also no reason to look at the digits as digits.  We can just treat them as strings."
   ]
  },
  {
   "cell_type": "code",
   "execution_count": 1,
   "metadata": {},
   "outputs": [],
   "source": [
    "example1_input = \"123456789012\"\n",
    "example1_width = 3\n",
    "example1_height = 2"
   ]
  },
  {
   "cell_type": "code",
   "execution_count": 2,
   "metadata": {},
   "outputs": [
    {
     "data": {
      "text/plain": [
       "2.0"
      ]
     },
     "execution_count": 2,
     "metadata": {},
     "output_type": "execute_result"
    }
   ],
   "source": [
    "example1_num_layers = len(example1_input) / (example1_width * example1_height)\n",
    "example1_num_layers"
   ]
  },
  {
   "cell_type": "code",
   "execution_count": 3,
   "metadata": {},
   "outputs": [
    {
     "data": {
      "text/plain": [
       "2"
      ]
     },
     "execution_count": 3,
     "metadata": {},
     "output_type": "execute_result"
    }
   ],
   "source": [
    "example1_num_layers = len(example1_input) // (example1_width * example1_height)\n",
    "example1_num_layers"
   ]
  },
  {
   "cell_type": "markdown",
   "metadata": {},
   "source": [
    "The input is 12 digits long.  The first time through, we want the slice `[0:6]`.  The second time through, we want the slice `[6:12]`.\n",
    "\n",
    "0 to 6 is 0 * layer size to 1 * layer size\n",
    "\n",
    "6 to 12 is 1 * layer size to 2 * layer size"
   ]
  },
  {
   "cell_type": "code",
   "execution_count": 4,
   "metadata": {},
   "outputs": [],
   "source": [
    "layer_size1 = example1_width * example1_height"
   ]
  },
  {
   "cell_type": "code",
   "execution_count": 5,
   "metadata": {},
   "outputs": [],
   "source": [
    "example1_layers = []\n",
    "for i in range(example1_num_layers):\n",
    "    start = i * layer_size1\n",
    "    end = (i + 1) * layer_size1\n",
    "    layer = example1_input[start:end]\n",
    "    example1_layers.append(layer)"
   ]
  },
  {
   "cell_type": "code",
   "execution_count": 6,
   "metadata": {},
   "outputs": [
    {
     "data": {
      "text/plain": [
       "['123456', '789012']"
      ]
     },
     "execution_count": 6,
     "metadata": {},
     "output_type": "execute_result"
    }
   ],
   "source": [
    "example1_layers"
   ]
  },
  {
   "cell_type": "code",
   "execution_count": 7,
   "metadata": {},
   "outputs": [],
   "source": [
    "def get_layers(input_str, width, height):\n",
    "    layer_size = width * height\n",
    "    num_layers = len(input_str) // layer_size\n",
    "    \n",
    "    layers = []\n",
    "    for i in range(num_layers):\n",
    "        start = i * layer_size\n",
    "        end = (i + 1) * layer_size\n",
    "        layer = input_str[start:end]\n",
    "        layers.append(layer)\n",
    "    return layers"
   ]
  },
  {
   "cell_type": "code",
   "execution_count": 8,
   "metadata": {},
   "outputs": [
    {
     "data": {
      "text/plain": [
       "['123456', '789012']"
      ]
     },
     "execution_count": 8,
     "metadata": {},
     "output_type": "execute_result"
    }
   ],
   "source": [
    "get_layers(example1_input, example1_width, example1_height)"
   ]
  },
  {
   "cell_type": "markdown",
   "metadata": {},
   "source": [
    "Okay we have the layers.  Which one has the fewest zeroes?"
   ]
  },
  {
   "cell_type": "code",
   "execution_count": 9,
   "metadata": {},
   "outputs": [],
   "source": [
    "def get_count_of_digit(layer, digit):\n",
    "    count = 0\n",
    "    for char in layer:\n",
    "        if char == digit:\n",
    "            count += 1\n",
    "    return count"
   ]
  },
  {
   "cell_type": "code",
   "execution_count": 10,
   "metadata": {},
   "outputs": [],
   "source": [
    "example1_layers = get_layers(example1_input, example1_width, example1_height)"
   ]
  },
  {
   "cell_type": "code",
   "execution_count": 11,
   "metadata": {},
   "outputs": [
    {
     "name": "stdout",
     "output_type": "stream",
     "text": [
      "0\n",
      "1\n"
     ]
    }
   ],
   "source": [
    "for layer in example1_layers:\n",
    "    print(get_count_of_digit(layer, \"0\"))"
   ]
  },
  {
   "cell_type": "markdown",
   "metadata": {},
   "source": [
    "Find fewest zero digits"
   ]
  },
  {
   "cell_type": "markdown",
   "metadata": {},
   "source": [
    "Insted of starting from infinity and keeping track of a current smallest count and its layer, let's just put everything into a dictionary"
   ]
  },
  {
   "cell_type": "code",
   "execution_count": 12,
   "metadata": {},
   "outputs": [],
   "source": [
    "example1_layer_zero_counts = {layer:get_count_of_digit(layer, \"0\") for layer in example1_layers}"
   ]
  },
  {
   "cell_type": "code",
   "execution_count": 13,
   "metadata": {},
   "outputs": [
    {
     "data": {
      "text/plain": [
       "{'123456': 0, '789012': 1}"
      ]
     },
     "execution_count": 13,
     "metadata": {},
     "output_type": "execute_result"
    }
   ],
   "source": [
    "example1_layer_zero_counts"
   ]
  },
  {
   "cell_type": "code",
   "execution_count": 14,
   "metadata": {},
   "outputs": [],
   "source": [
    "example1_smallest_key = min(example1_layer_zero_counts, key=example1_layer_zero_counts.get)"
   ]
  },
  {
   "cell_type": "code",
   "execution_count": 15,
   "metadata": {},
   "outputs": [
    {
     "data": {
      "text/plain": [
       "'123456'"
      ]
     },
     "execution_count": 15,
     "metadata": {},
     "output_type": "execute_result"
    }
   ],
   "source": [
    "example1_smallest_key"
   ]
  },
  {
   "cell_type": "code",
   "execution_count": 16,
   "metadata": {},
   "outputs": [],
   "source": [
    "def get_layer_with_fewest_0s(layers):\n",
    "    layer_zero_counts = {layer:get_count_of_digit(layer, \"0\") for layer in layers}\n",
    "    smallest_key = min(layer_zero_counts, key=layer_zero_counts.get)\n",
    "    return smallest_key"
   ]
  },
  {
   "cell_type": "code",
   "execution_count": 17,
   "metadata": {},
   "outputs": [
    {
     "data": {
      "text/plain": [
       "'123456'"
      ]
     },
     "execution_count": 17,
     "metadata": {},
     "output_type": "execute_result"
    }
   ],
   "source": [
    "get_layer_with_fewest_0s(example1_layers)"
   ]
  },
  {
   "cell_type": "code",
   "execution_count": 18,
   "metadata": {},
   "outputs": [],
   "source": [
    "example1_1_count = get_count_of_digit('123456', \"1\")\n",
    "example1_2_count = get_count_of_digit('123456', \"2\")"
   ]
  },
  {
   "cell_type": "code",
   "execution_count": 19,
   "metadata": {},
   "outputs": [
    {
     "data": {
      "text/plain": [
       "(1, 1)"
      ]
     },
     "execution_count": 19,
     "metadata": {},
     "output_type": "execute_result"
    }
   ],
   "source": [
    "example1_1_count, example1_2_count"
   ]
  },
  {
   "cell_type": "code",
   "execution_count": 20,
   "metadata": {},
   "outputs": [
    {
     "data": {
      "text/plain": [
       "1"
      ]
     },
     "execution_count": 20,
     "metadata": {},
     "output_type": "execute_result"
    }
   ],
   "source": [
    "example1_1_count * example1_2_count"
   ]
  },
  {
   "cell_type": "code",
   "execution_count": 21,
   "metadata": {},
   "outputs": [],
   "source": [
    "def get_checksum(input_str, width, height):\n",
    "    layers = get_layers(input_str, width, height)\n",
    "    \n",
    "    layer_fewest_0s = get_layer_with_fewest_0s(layers)\n",
    "    \n",
    "    count_1s = get_count_of_digit(layer_fewest_0s, \"1\")\n",
    "    count_2s = get_count_of_digit(layer_fewest_0s, \"2\")\n",
    "    \n",
    "    return count_1s * count_2s"
   ]
  },
  {
   "cell_type": "code",
   "execution_count": 22,
   "metadata": {},
   "outputs": [
    {
     "data": {
      "text/plain": [
       "1"
      ]
     },
     "execution_count": 22,
     "metadata": {},
     "output_type": "execute_result"
    }
   ],
   "source": [
    "get_checksum(example1_input, example1_width, example1_height)"
   ]
  },
  {
   "cell_type": "markdown",
   "metadata": {},
   "source": [
    "Ok, let's use the real input"
   ]
  },
  {
   "cell_type": "code",
   "execution_count": 23,
   "metadata": {},
   "outputs": [],
   "source": [
    "file_obj = open(\"input.txt\", \"r\")\n",
    "content = file_obj.read()\n",
    "file_obj.close()"
   ]
  },
  {
   "cell_type": "code",
   "execution_count": 24,
   "metadata": {},
   "outputs": [
    {
     "data": {
      "text/plain": [
       "'222222022022200222221110022202222222222222222222222122222222222122202022222222222221212220122221120222222122222222220222220222222222220222222222222222222222222222202222222100222202222222222222222222222122222222222022222222222222222222222221022221022222222222222222220222221222222222222222222222222222222222222122201222222021222212222222222222222222222222222222222022202222222222222221212220122220022222222022222222221212220222222222221222202222222222222222222121221222222210022202222222222222222222222122222222222022222122222222222221202220022222221222222022222222222222221222212222222222212222222222222222122021220222220020022202222222222222222222222022222222222122222222222222222222222221122222020222222122222222220222220222102222222222212222222222222222222022202222222220122200222222222222222222222022222222222222222022222222222222212220122220121222222222222222222202220222002222220222202222222222222222022021212222222022222211222222222222222222222222222222222022222222222222222220212220122222121222222122222222222212222222202222220222202222222222222222222122210222220211022211222222222222222222222122222222222222202022222222222221212220222222021222222122222222220222220222112222221222212222222222222222122122220222220120222210222222222222222222222022222222122022202222222222222221222222022222120222222222222222221212221222022222221222202222222222222222222222212222222102222200222222222222222222222122222222022122222122222222222021202220122220221222222022222222222202220222212222221222222222222222222222122222202222220202222211222222222222222222222122222222222122212022222222222022212220222222122222222122222222220212220222022222220222202222222220222222222220212222221220022222222222222222222222222122222222022022222122222222222122212221222220020222222222222222222202220222202222220222212222222220222222122222202222201000022200222222222222222222222222222222022122212122222222222120212221022220021222222122222222222202222222102222222222202222222221222222022222211222202111122210222222222222222222222022222222022022202222222222222221222222122221020222222222222222222202222222122222222222202222222220222222122222202222222221222211222222222222222222222222222222122222222022222222222022222222222220122222222122222222220222221222122222220222202222222222222222122222221222222011222222222222222222222222222122222222022222202022222222222120222220222222220222222122222222212202221222002222220122212222222222222222022120201222200021222222222222222222222222222122222222122222202222222222222201202222222220021222222022222222212222221222022222221022202221222220222222122120210222220210222210222222222222222222222222222222222022202222222222222202202222122222221222222222222222210212220222022222220222202222222222222222022022210222211120022211222222222222222222222022222222122222202022222222222022202221022221122222222122222222210212221222002222221222202220222221222222122121212222202011222221222222222222222222222222222222122222222222222222220221202222222220020222222222222222212212221222202222221022212220222221222222222021200222201101122211222222222222222222222222222222022022212022222222220202212220122222120222222222222222200202221222102222222022222222222221222222022220222222211001222211222222222222222222222222222222122022202222222222221112202221122220222222222020222222212202221222222222201022222220222221222222222021220222211021122201222122222222222222222022222222022222212122222222220121202222122222222222222121222222220202220222222222220022202221222221222222022120200222200122122211222222222222222222222222222222022222222122222222221110212220122200221222222222222222221222222222212222210222212221222221222222222120212222200000222210222122222222222222222122222222122022202222222222222101212222022222221222222022222222222212222222102222222022222222222222222222222022221222202202222200222122222222222222222222222222122122212122222222220022202220122221222222222120222222200212221222122222202122202222222220222222222022210222222002222210022022222222222222222222222222022222202122222222221122212221022201020222222121222222202212222222012222210022222222222222222222122121200222200202122221022022222222222222222222222222222022212022222222220111222220022222020222222021222222210202220222002222211022212210222221222222022221221222212020022212122022222222222222222022222222022222202222222222222000202222022220220222222021222222200222222222112222220222202220222222222222222122200222200011022211122222222222222222222022222222122222202022222222222002202220022221222222222222222222220202221222222222200122222211222220222222022020112222200210222201122122222222222222222022222220222122212022222222221001202221022201120222222020222222211222221222212222200022202220222221222222222120110222210212022221122122222222222222222222222220122022222222222222220221212221222222020022222120222222210222220222112222221022222201222221222222222020010222202102122200122022222222222222222222222221222222212022222222221221222222122202120122222221222222212222222222012222220222212221222221222222122122001222211001222222222022222222222222222222222221222222202122222222220112212220022222222022222120222212221212220222002222222222212212222222222222122120122222202211022220222222222022222222222022222221222222212222222222221121212221022220220122222022222222212212220222202222200222102212222220222222122122000222211001122221022022222222222222222222222222222222212122222222221210212220122210122120222120222212221222222222022222211122222222222221222222122121102222202111022221122222222222222222222122222222022122222022222222220221212220022200220220022022222202200222222222212222200222122212222220222222122220121222221201222201222222222022222222222122222222222122222022222222022100222221022212122122022221222222222222222222202222212022222201222222222222222020112222220000022201222122222222222222222122222221022022212022222222220220202221122220021021222020222222200212220222202222201022122211222200222222022222020222212201222200222222222022222222221122222221222222212022222222222212212221222211121021122221222202221212221222212222211122222222222202222222122221101222202021022222022222222122222220220122222222222022202022222222222122212222222211022020222120222212200212221222112222201022112202222221222222122122022222201001122211222222222022222220220022222220122222222222222222022000202221122212121220222022222212201202222222112222202222102210222222222222222021201222201121222201222022222222222220221022222220022222202022222222222221222221222220221021022021222222001212222222002222222022122112212220222222122221101222212022122201022122222022222221222122222222022122222222222222222122212221222202122021022122222222021212221222012222201102112221202200222222022221121222210200222221222122222022222222221222222221022222212022222222220100222221122222120021002221222222121222221222102222202122102222212221222222022122212222201211122210220022222022222220220222222222022222002122222222122010222220102222222222202021222202210202220222022222222112102100202221222222022222121222210022122201122202222222222220221222222221022022212122222222120212212221102220120020102221222212212222221222022222221012202000222210222222022122120222211011222212122022222222222221220122222222122222112122222222122101212220102212020122012221222202021212220222002222201002200222202212222222222120121222221100222202022212222222222221220022222220022122112122212222221201212222102211122221112221222212020202220222022222200212021211212200222222222022210222200211222220022212222012222222220022222220122222222222222222121102212201012212120222002022222202000222222222102222211202111220222222222222222220100222220121022210001202222012222221222222222221122222102022202222020202222201002221121120202222222222112212220222112222220222101000212212222222022222002222202120122211020212222212222220220222222220222122122122212222022000202221022221222021212022222202020202221222102222222002222111012212222222022221222222222101122211201102222222222222220022220221122222112222212202122011222200112201220020112222222212010222221222102222220022211101122200222222122020200222211112222220010122222002222220222022220222222022112022202222120211222200022202221220222220202212011202222222002222212102111101002211222222122121112222200001022220121002222102222221222222222221022222022022212212022110212220012212122122102122202202201222220222111222200022012010112210222222222120221222222110222210022222222112222220221022222220222222222222212212021210222202222210020022212022202202221222221222001222200102010021102221222222222020220222222120022220112022222122222220220222222220222222020022212212022121222221222221120222022021202212110212221222102222210212102121002210222222122122102222211011222202012012022222222220221122220221122122112022202202021012222222212201121221212121212222020202220222100222212002022220012211222222022121201222211002022211120102122222222220221022221220022222012122202202021100222201112211220121022120222202210222221022210222212122022021222200222222222221102222212100122212002222022122222222222122220222022022001122202212222212202202022221222022002220222200221222220222211222200202122221022201222222222122000222210122220222121112022002222221221022220221022122021222202212222202212201122211221222212021202221200212220022212222212112002000202211222222222022022222221001020221012022222122222222222122222220122222122122222202021200201202102212021120102022212212012002222022000222210202200111112201222222022220120222202110221220121022122012222220220122221220222022112122222212222102211200122220221122112220202211101022221022011222210122000001002220222222222021210222210112021201101012122102222201220222221220022222112122202212220221221211102211222020012122202222012002222122020222221102110112102221222222122122211222202202120212112222122022222210222022222222022202022022222212122200211202112220122121002021212221220022221222102222220222120122202200222222022222211222221111022212221012022222222202220222221221122002121222212212020200221201212200220222222022212220220112220022222222202022111121112221222222122021020222210111220201102202022122222211200222220221122022120222202210222010202212022210022122100220222201000222222022200222202012002010202212222222222221121222200002020220221212022002222200200122222222022212211122202221021212212222112210120020221222202212010102222222002222210202011100222012222222222121020212220012121200120222122002222212221122221220122122022222202221022201212201002220022120020120222220110112222022221222212202201210012002222222022121111202221221120222011212022122222220220222021221222002020222212202122201222211022201222220002122212202100012220122002222201222211200112012222222222122010222200012022221110122222222222200220222120222022002121022212212220112200211022210022021122122212212201112221022020222211112002210002222222222222022202222212202121200122002222212220202211222222221022201002122222202220221201201022210022020000221222221001002222022120222200122002101022202222222122221222222220201021221021212222222221211222222020220022010200222222200020102202220012202022120222021202211211212221222202222202220202210102112222222222222002202222001220210110112122002221211210022221222122022222122202220020221210221222221021120120220212200000122221222222222220202010102022100222222222021200202211110122220102012022222220200211222220222122120210022202220122120210210002221020020101022202220011012221022112222221200110001022110222222222222201222202001020202110002022202222201220022020220222000111022212220120200210201012221220122210222202212020012220122022222211021020221122220222222122121211202222220221220101012222002221220221122020220022102212012202200020220220201212212122221211221202202120122220122110222211001001002222212222222122022121222201021121220001102022112220210211222220220022111212112222202220221212222202211122121111122222222100102221222102222212011011122022122222202122222120202221201122210112012122102220211221022221220022210112212202222120010210210202210121220112122202200222102220122112222202002221200202020222212022220100211210122020222010112222112222200212022121222222022202002220200221021201212202201120220001222202002010102222122002222202011102202222110221222122211210201212001022202021222122222220222200122221221122002111112222212222002202220122222220022222120102210022202221022020222212000112202122212222222222120020202212002121222001022122002221210222122022222122022100212211210202101202222012212121122002022002011022002220122100222211222010000222201222200222101001201222200122201021202122102220222211222221222222020212002220202102020201222222212222222120220022011122122220022221221200020100201202010122202022211110222200202022201121022022012221220202222121220222122021202222210200212212211112212020222100220202110221202220122100202222110100021202011020201022101002201200010220201112122122112221220221222020020222012222012202211021021201200212210021021000120122221022122221122010221220022101011022210022202222201121212222102120000012022022012222221200022221022122012221202200202212210200210102211120221210122112112111212222221011220200202110002102012222212222000100221220002022210120222122112221202201122220220022012212102222201012122200200202212120221212122002001022122221121120200222101111011012122120222222121211221221002222210201202022012220102221222022121022200002022221210212122221201222211121221120221012012101212222020221221200120212020222222121200222121111210210102122122202002022212221001222022222020122001101112201200100000221202202211011022221222022012121202220022001222200000001221222111120200122200002200200221121022100012102122222211222222120120222221102112222200111212220212002202201021122222222120021022222120021220210000200102212221122221222000001211202201221111001222022112221022120022101220022121202102212212110111211210022211002022001220002120000102222122010221220120110202102120220211122001220202221000120101102102122012221100222122002022222021012002200221210010200222002201001120022122012121010212222021002200212121110022022201122202122222022220212120020110010022122202220222102022111120122221002212211200202110210200202212012222110022002002102020220122120222220220101011222012221210122111222210212201221210100022022102222110102022102122122000210002200222021112201221012220000122212221202112101112221020122212212001222022122200222200122102101200200211022201222222212000221200112212220121222021222112211222001222220221122221011121100122002202202012220122200220202022201022122221122201022012200221202122221212100002012102020111110102111121122111100102221212001200212120112210102122201020122102121120222020111202220120001111022201021220222020212202220002021200200202022102221212102002212222122002122022221211002020210120211202211221211220002212110221220120212212222000201022122011222211122101111211220122021110011012112002221211211002220220122100210102200202212021000000022201100121200221112220120212222120011211202011102020112000221212222102020210221120120020110202222112222122200012210022022021021022220211222110201122210202102122201122112222011202221022112210222122111112012201012122011200022010020210112220212011121222011201010220112012100012111020000121022202001102120101022110120102011122021112100101210010110102002102000210\\n'"
      ]
     },
     "execution_count": 24,
     "metadata": {},
     "output_type": "execute_result"
    }
   ],
   "source": [
    "content"
   ]
  },
  {
   "cell_type": "code",
   "execution_count": 25,
   "metadata": {},
   "outputs": [],
   "source": [
    "content = content.strip()"
   ]
  },
  {
   "cell_type": "code",
   "execution_count": 26,
   "metadata": {},
   "outputs": [
    {
     "data": {
      "text/plain": [
       "1206"
      ]
     },
     "execution_count": 26,
     "metadata": {},
     "output_type": "execute_result"
    }
   ],
   "source": [
    "get_checksum(content, 25, 6)"
   ]
  },
  {
   "cell_type": "markdown",
   "metadata": {},
   "source": [
    "That was correct"
   ]
  },
  {
   "cell_type": "markdown",
   "metadata": {},
   "source": [
    "# Part 2 Input"
   ]
  },
  {
   "cell_type": "markdown",
   "metadata": {},
   "source": [
    "```\n",
    "--- Part Two ---\n",
    "Now you're ready to decode the image. The image is rendered by stacking the layers and aligning the pixels with the same positions in each layer. The digits indicate the color of the corresponding pixel: 0 is black, 1 is white, and 2 is transparent.\n",
    "\n",
    "The layers are rendered with the first layer in front and the last layer in back. So, if a given position has a transparent pixel in the first and second layers, a black pixel in the third layer, and a white pixel in the fourth layer, the final image would have a black pixel at that position.\n",
    "```"
   ]
  },
  {
   "cell_type": "markdown",
   "metadata": {},
   "source": [
    "Transparent, transparent, black, white --> black"
   ]
  },
  {
   "cell_type": "markdown",
   "metadata": {},
   "source": [
    "```\n",
    "For example, given an image 2 pixels wide and 2 pixels tall, the image data 0222112222120000 corresponds to the following image layers:\n",
    "\n",
    "Layer 1: 02\n",
    "         22\n",
    "\n",
    "Layer 2: 11\n",
    "         22\n",
    "\n",
    "Layer 3: 22\n",
    "         12\n",
    "\n",
    "Layer 4: 00\n",
    "         00\n",
    "```"
   ]
  },
  {
   "cell_type": "markdown",
   "metadata": {},
   "source": [
    "```\n",
    "Then, the full image can be found by determining the top visible pixel in each position:\n",
    "\n",
    "The top-left pixel is black because the top layer is 0.\n",
    "The top-right pixel is white because the top layer is 2 (transparent), but the second layer is 1.\n",
    "The bottom-left pixel is white because the top two layers are 2, but the third layer is 1.\n",
    "The bottom-right pixel is black because the only visible pixel in that position is 0 (from layer 4).\n",
    "\n",
    "So, the final image looks like this:\n",
    "\n",
    "01\n",
    "10\n",
    "```"
   ]
  },
  {
   "cell_type": "markdown",
   "metadata": {},
   "source": [
    "```\n",
    "What message is produced after decoding your image?\n",
    "```"
   ]
  },
  {
   "cell_type": "markdown",
   "metadata": {},
   "source": [
    "So, I'm assuming that the 0s and 1s will make a picture that I am supposed to visually interpret"
   ]
  },
  {
   "cell_type": "code",
   "execution_count": 27,
   "metadata": {},
   "outputs": [],
   "source": [
    "example2_input = \"0222112222120000\"\n",
    "example2_width = 2\n",
    "example2_height = 2\n",
    "\n",
    "example2_layers = get_layers(example2_input, example2_width, example2_height)"
   ]
  },
  {
   "cell_type": "markdown",
   "metadata": {},
   "source": [
    "I think I will keep each layer as a single string, rather than a matrix, then just worry about printing the pixels out as a dot matrix at the end"
   ]
  },
  {
   "cell_type": "code",
   "execution_count": 28,
   "metadata": {},
   "outputs": [],
   "source": [
    "example2_layer_size = example2_width * example2_height"
   ]
  },
  {
   "cell_type": "code",
   "execution_count": 29,
   "metadata": {},
   "outputs": [],
   "source": [
    "example2_top_layer = \"\""
   ]
  },
  {
   "cell_type": "code",
   "execution_count": 30,
   "metadata": {},
   "outputs": [],
   "source": [
    "for i in range(example2_layer_size):\n",
    "    for layer in example2_layers:\n",
    "        # if the value is 2, keep going\n",
    "        if layer[i] != \"2\":\n",
    "            # if the value is not 2, append it to the string and break out\n",
    "            # of the inner loop\n",
    "            example2_top_layer += layer[i]\n",
    "            break"
   ]
  },
  {
   "cell_type": "code",
   "execution_count": 31,
   "metadata": {},
   "outputs": [
    {
     "data": {
      "text/plain": [
       "'0110'"
      ]
     },
     "execution_count": 31,
     "metadata": {},
     "output_type": "execute_result"
    }
   ],
   "source": [
    "example2_top_layer"
   ]
  },
  {
   "cell_type": "code",
   "execution_count": 32,
   "metadata": {},
   "outputs": [],
   "source": [
    "def get_top_pixel_layer(input_str, width, height):\n",
    "    layer_size = width * height\n",
    "    layers = get_layers(input_str, width, height)\n",
    "\n",
    "    top_layer = \"\"\n",
    "    for i in range(layer_size):\n",
    "        for layer in layers:\n",
    "            # if the value is 2 (transparent), keep going\n",
    "            if layer[i] != \"2\":\n",
    "                # if the value is not 2, append it to the string and\n",
    "                # break out of the inner loop\n",
    "                top_layer += layer[i]\n",
    "                break\n",
    "    return top_layer"
   ]
  },
  {
   "cell_type": "code",
   "execution_count": 33,
   "metadata": {},
   "outputs": [
    {
     "data": {
      "text/plain": [
       "'0110'"
      ]
     },
     "execution_count": 33,
     "metadata": {},
     "output_type": "execute_result"
    }
   ],
   "source": [
    "example2_top_layer = get_top_pixel_layer(example2_input, example2_width, example2_height)\n",
    "example2_top_layer"
   ]
  },
  {
   "cell_type": "markdown",
   "metadata": {},
   "source": [
    "Now we just need to print it out"
   ]
  },
  {
   "cell_type": "markdown",
   "metadata": {},
   "source": [
    "Let's make up another example that is not 2x2.  So, maybe the string \"011011\", with width 2 and height 3\n",
    "\n",
    "The first row `[0:2]`, second row is `[2:4]`, third row is `[4:6]`\n",
    "\n",
    "In other words the first row is 0 * width to 1 * width\n",
    "\n",
    "Second row is 1 * width to 2 * width\n",
    "\n",
    "Third row is 2 * width to 3 * width\n",
    "\n",
    "The full range is 0, 1, 2 which is range(3) which is range(height)"
   ]
  },
  {
   "cell_type": "code",
   "execution_count": 34,
   "metadata": {},
   "outputs": [
    {
     "name": "stdout",
     "output_type": "stream",
     "text": [
      "01\n",
      "10\n"
     ]
    }
   ],
   "source": [
    "for i in range(example2_height):\n",
    "    start = i * example2_width\n",
    "    end = (i + 1) * example2_width\n",
    "    print(example2_top_layer[start:end])"
   ]
  },
  {
   "cell_type": "code",
   "execution_count": 35,
   "metadata": {},
   "outputs": [],
   "source": [
    "def print_top_layer(top_layer, width, height):\n",
    "    for i in range(height):\n",
    "        start = i * width\n",
    "        end = (i + 1) * height\n",
    "        print(top_layer[start:end])"
   ]
  },
  {
   "cell_type": "code",
   "execution_count": 36,
   "metadata": {},
   "outputs": [
    {
     "name": "stdout",
     "output_type": "stream",
     "text": [
      "01\n",
      "10\n"
     ]
    }
   ],
   "source": [
    "print_top_layer(example2_top_layer, example2_width, example2_height)"
   ]
  },
  {
   "cell_type": "markdown",
   "metadata": {},
   "source": [
    "Let's try it on the full input"
   ]
  },
  {
   "cell_type": "code",
   "execution_count": 37,
   "metadata": {},
   "outputs": [],
   "source": [
    "top_layer = get_top_pixel_layer(content, 25, 6)"
   ]
  },
  {
   "cell_type": "code",
   "execution_count": 38,
   "metadata": {},
   "outputs": [
    {
     "data": {
      "text/plain": [
       "'111100011011100011001110010000000101001010010100101110000010100101000010010100000001011100101101110010000100101010010010100001111001100100100111010000'"
      ]
     },
     "execution_count": 38,
     "metadata": {},
     "output_type": "execute_result"
    }
   ],
   "source": [
    "top_layer"
   ]
  },
  {
   "cell_type": "code",
   "execution_count": 42,
   "metadata": {},
   "outputs": [
    {
     "name": "stdout",
     "output_type": "stream",
     "text": [
      "111100\n",
      "\n",
      "\n",
      "\n",
      "\n",
      "\n"
     ]
    }
   ],
   "source": [
    "print_top_layer(top_layer, 25, 6)"
   ]
  },
  {
   "cell_type": "markdown",
   "metadata": {},
   "source": [
    "???????"
   ]
  },
  {
   "cell_type": "markdown",
   "metadata": {},
   "source": [
    "I don't understand what is happening, why it only seems to have printed the first 6 digits.  I'm goint to restart the notebook kernel I guess?"
   ]
  },
  {
   "cell_type": "code",
   "execution_count": 39,
   "metadata": {},
   "outputs": [
    {
     "name": "stdout",
     "output_type": "stream",
     "text": [
      "111100\n",
      "\n",
      "\n",
      "\n",
      "\n",
      "\n"
     ]
    }
   ],
   "source": [
    "print_top_layer(top_layer, 25, 6)"
   ]
  },
  {
   "cell_type": "markdown",
   "metadata": {},
   "source": [
    "No, it did the same thing again..."
   ]
  },
  {
   "cell_type": "code",
   "execution_count": 40,
   "metadata": {},
   "outputs": [
    {
     "data": {
      "text/plain": [
       "'111100011011100011001110010000000101001010010100101110000010100101000010010100000001011100101101110010000100101010010010100001111001100100100111010000'"
      ]
     },
     "execution_count": 40,
     "metadata": {},
     "output_type": "execute_result"
    }
   ],
   "source": [
    "top_layer"
   ]
  },
  {
   "cell_type": "code",
   "execution_count": 41,
   "metadata": {},
   "outputs": [
    {
     "data": {
      "text/plain": [
       "'1111000110111000110011100'"
      ]
     },
     "execution_count": 41,
     "metadata": {},
     "output_type": "execute_result"
    }
   ],
   "source": [
    "top_layer[0:25]"
   ]
  },
  {
   "cell_type": "code",
   "execution_count": 42,
   "metadata": {},
   "outputs": [
    {
     "data": {
      "text/plain": [
       "'1000000010100101001010010'"
      ]
     },
     "execution_count": 42,
     "metadata": {},
     "output_type": "execute_result"
    }
   ],
   "source": [
    "top_layer[25:50]"
   ]
  },
  {
   "cell_type": "code",
   "execution_count": 43,
   "metadata": {},
   "outputs": [
    {
     "data": {
      "text/plain": [
       "'1110000010100101000010010'"
      ]
     },
     "execution_count": 43,
     "metadata": {},
     "output_type": "execute_result"
    }
   ],
   "source": [
    "top_layer[50:75]"
   ]
  },
  {
   "cell_type": "code",
   "execution_count": 44,
   "metadata": {},
   "outputs": [
    {
     "data": {
      "text/plain": [
       "'1000000010111001011011100'"
      ]
     },
     "execution_count": 44,
     "metadata": {},
     "output_type": "execute_result"
    }
   ],
   "source": [
    "top_layer[75:100]"
   ]
  },
  {
   "cell_type": "code",
   "execution_count": 45,
   "metadata": {},
   "outputs": [
    {
     "data": {
      "text/plain": [
       "'1000010010101001001010000'"
      ]
     },
     "execution_count": 45,
     "metadata": {},
     "output_type": "execute_result"
    }
   ],
   "source": [
    "top_layer[100:125]"
   ]
  },
  {
   "cell_type": "code",
   "execution_count": 46,
   "metadata": {},
   "outputs": [
    {
     "data": {
      "text/plain": [
       "'1111001100100100111010000'"
      ]
     },
     "execution_count": 46,
     "metadata": {},
     "output_type": "execute_result"
    }
   ],
   "source": [
    "top_layer[125:150]"
   ]
  },
  {
   "cell_type": "markdown",
   "metadata": {},
   "source": [
    "I see my mistake, I am calculating the end index with height instead of width, so the end comes before the start"
   ]
  },
  {
   "cell_type": "code",
   "execution_count": 47,
   "metadata": {},
   "outputs": [],
   "source": [
    "def print_top_layer(top_layer, width, height):\n",
    "    for i in range(height):\n",
    "        start = i * width\n",
    "        end = (i + 1) * width\n",
    "        print(top_layer[start:end])"
   ]
  },
  {
   "cell_type": "code",
   "execution_count": 48,
   "metadata": {},
   "outputs": [
    {
     "name": "stdout",
     "output_type": "stream",
     "text": [
      "1111000110111000110011100\n",
      "1000000010100101001010010\n",
      "1110000010100101000010010\n",
      "1000000010111001011011100\n",
      "1000010010101001001010000\n",
      "1111001100100100111010000\n"
     ]
    }
   ],
   "source": [
    "print_top_layer(top_layer, 25, 6)"
   ]
  },
  {
   "cell_type": "markdown",
   "metadata": {},
   "source": [
    "...I don't know how to interpret this format.  I'm going to try to replace the 1s with spaces"
   ]
  },
  {
   "cell_type": "code",
   "execution_count": 49,
   "metadata": {},
   "outputs": [],
   "source": [
    "top_layer_whitespace = str[\"X\" if x == \"0\" else \" \" for x in top_layer])"
   ]
  },
  {
   "cell_type": "code",
   "execution_count": 50,
   "metadata": {},
   "outputs": [
    {
     "data": {
      "text/plain": [
       "\"[' ', ' ', ' ', ' ', 'X', 'X', 'X', ' ', ' ', 'X', ' ', ' ', ' ', 'X', 'X', 'X', ' ', ' ', 'X', 'X', ' ', ' ', ' ', 'X', 'X', ' ', 'X', 'X', 'X', 'X', 'X', 'X', 'X', ' ', 'X', ' ', 'X', 'X', ' ', 'X', ' ', 'X', 'X', ' ', 'X', ' ', 'X', 'X', ' ', 'X', ' ', ' ', ' ', 'X', 'X', 'X', 'X', 'X', ' ', 'X', ' ', 'X', 'X', ' ', 'X', ' ', 'X', 'X', 'X', 'X', ' ', 'X', 'X', ' ', 'X', ' ', 'X', 'X', 'X', 'X', 'X', 'X', 'X', ' ', 'X', ' ', ' ', ' ', 'X', 'X', ' ', 'X', ' ', ' ', 'X', ' ', ' ', ' ', 'X', 'X', ' ', 'X', 'X', 'X', 'X', ' ', 'X', 'X', ' ', 'X', ' ', 'X', ' ', 'X', 'X', ' ', 'X', 'X', ' ', 'X', ' ', 'X', 'X', 'X', 'X', ' ', ' ', ' ', ' ', 'X', 'X', ' ', ' ', 'X', 'X', ' ', 'X', 'X', ' ', 'X', 'X', ' ', ' ', ' ', 'X', ' ', 'X', 'X', 'X', 'X']\""
      ]
     },
     "execution_count": 50,
     "metadata": {},
     "output_type": "execute_result"
    }
   ],
   "source": [
    "top_layer_whitespace"
   ]
  },
  {
   "cell_type": "code",
   "execution_count": 51,
   "metadata": {},
   "outputs": [],
   "source": [
    "top_layer_whitespace = \"\".join([\"X\" if x == \"0\" else \" \" for x in top_layer])"
   ]
  },
  {
   "cell_type": "code",
   "execution_count": 52,
   "metadata": {},
   "outputs": [
    {
     "data": {
      "text/plain": [
       "'    XXX  X   XXX  XX   XX XXXXXXX X XX X XX X XX X   XXXXX X XX X XXXX XX X XXXXXXX X   XX X  X   XX XXXX XX X X XX XX X XXXX    XX  XX XX XX   X XXXX'"
      ]
     },
     "execution_count": 52,
     "metadata": {},
     "output_type": "execute_result"
    }
   ],
   "source": [
    "top_layer_whitespace"
   ]
  },
  {
   "cell_type": "code",
   "execution_count": 53,
   "metadata": {},
   "outputs": [
    {
     "name": "stdout",
     "output_type": "stream",
     "text": [
      "    XXX  X   XXX  XX   XX\n",
      " XXXXXXX X XX X XX X XX X\n",
      "   XXXXX X XX X XXXX XX X\n",
      " XXXXXXX X   XX X  X   XX\n",
      " XXXX XX X X XX XX X XXXX\n",
      "    XX  XX XX XX   X XXXX\n"
     ]
    }
   ],
   "source": [
    "print_top_layer(top_layer_whitespace, 25, 6)"
   ]
  },
  {
   "cell_type": "markdown",
   "metadata": {},
   "source": [
    "I think these are letters, each of which is 5 characters wide?  Seems like I should try replacing the 0s with whitespace even though they are supposedly \"black\""
   ]
  },
  {
   "cell_type": "code",
   "execution_count": 54,
   "metadata": {},
   "outputs": [],
   "source": [
    "top_layer_trying_again = \"\".join([\"X\" if x==\"1\" else \" \" for x in top_layer])"
   ]
  },
  {
   "cell_type": "code",
   "execution_count": 55,
   "metadata": {},
   "outputs": [
    {
     "data": {
      "text/plain": [
       "'XXXX   XX XXX   XX  XXX  X       X X  X X  X X  X XXX     X X  X X    X  X X       X XXX  X XX XXX  X    X  X X X  X  X X    XXXX  XX  X  X  XXX X    '"
      ]
     },
     "execution_count": 55,
     "metadata": {},
     "output_type": "execute_result"
    }
   ],
   "source": [
    "top_layer_trying_again"
   ]
  },
  {
   "cell_type": "code",
   "execution_count": 56,
   "metadata": {},
   "outputs": [
    {
     "name": "stdout",
     "output_type": "stream",
     "text": [
      "XXXX   XX XXX   XX  XXX  \n",
      "X       X X  X X  X X  X \n",
      "XXX     X X  X X    X  X \n",
      "X       X XXX  X XX XXX  \n",
      "X    X  X X X  X  X X    \n",
      "XXXX  XX  X  X  XXX X    \n"
     ]
    }
   ],
   "source": [
    "print_top_layer(top_layer_trying_again, 25, 6)"
   ]
  },
  {
   "cell_type": "markdown",
   "metadata": {},
   "source": [
    "E, J, R, G, P\n",
    "\n",
    "My font/display settings did not make that easy!"
   ]
  },
  {
   "cell_type": "code",
   "execution_count": null,
   "metadata": {},
   "outputs": [],
   "source": []
  }
 ],
 "metadata": {
  "kernelspec": {
   "display_name": "Python 3",
   "language": "python",
   "name": "python3"
  },
  "language_info": {
   "codemirror_mode": {
    "name": "ipython",
    "version": 3
   },
   "file_extension": ".py",
   "mimetype": "text/x-python",
   "name": "python",
   "nbconvert_exporter": "python",
   "pygments_lexer": "ipython3",
   "version": "3.7.3"
  }
 },
 "nbformat": 4,
 "nbformat_minor": 4
}

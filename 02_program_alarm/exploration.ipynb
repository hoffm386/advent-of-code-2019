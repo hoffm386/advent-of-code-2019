{
 "cells": [
  {
   "cell_type": "markdown",
   "metadata": {},
   "source": [
    "## Part 1 Prompt\n",
    "\n",
    "--- Day 2: 1202 Program Alarm ---\n",
    "On the way to your gravity assist around the Moon, your ship computer beeps angrily about a \"1202 program alarm\". On the radio, an Elf is already explaining how to handle the situation: \"Don't worry, that's perfectly norma--\" The ship computer bursts into flames.\n",
    "\n",
    "You notify the Elves that the computer's magic smoke seems to have escaped. \"That computer ran Intcode programs like the gravity assist program it was working on; surely there are enough spare parts up there to build a new Intcode computer!\"\n",
    "\n",
    "An Intcode program is a list of integers separated by commas (like 1,0,0,3,99). To run one, start by looking at the first integer (called position 0). Here, you will find an opcode - either 1, 2, or 99. The opcode indicates what to do; for example, 99 means that the program is finished and should immediately halt. Encountering an unknown opcode means something went wrong.\n",
    "\n",
    "Opcode 1 adds together numbers read from two positions and stores the result in a third position. The three integers immediately after the opcode tell you these three positions - the first two indicate the positions from which you should read the input values, and the third indicates the position at which the output should be stored.\n",
    "\n",
    "For example, if your Intcode computer encounters 1,10,20,30, it should read the values at positions 10 and 20, add those values, and then overwrite the value at position 30 with their sum.\n",
    "\n",
    "Opcode 2 works exactly like opcode 1, except it multiplies the two inputs instead of adding them. Again, the three integers after the opcode indicate where the inputs and outputs are, not their values.\n",
    "\n",
    "Once you're done processing an opcode, move to the next one by stepping forward 4 positions.\n",
    "\n",
    "For example, suppose you have the following program:\n",
    "\n",
    "1,9,10,3,2,3,11,0,99,30,40,50\n",
    "For the purposes of illustration, here is the same program split into multiple lines:\n",
    "\n",
    "1,9,10,3,\n",
    "2,3,11,0,\n",
    "99,\n",
    "30,40,50\n",
    "The first four integers, 1,9,10,3, are at positions 0, 1, 2, and 3. Together, they represent the first opcode (1, addition), the positions of the two inputs (9 and 10), and the position of the output (3). To handle this opcode, you first need to get the values at the input positions: position 9 contains 30, and position 10 contains 40. Add these numbers together to get 70. Then, store this value at the output position; here, the output position (3) is at position 3, so it overwrites itself. Afterward, the program looks like this:\n",
    "\n",
    "1,9,10,70,\n",
    "2,3,11,0,\n",
    "99,\n",
    "30,40,50\n",
    "Step forward 4 positions to reach the next opcode, 2. This opcode works just like the previous, but it multiplies instead of adding. The inputs are at positions 3 and 11; these positions contain 70 and 50 respectively. Multiplying these produces 3500; this is stored at position 0:\n",
    "\n",
    "3500,9,10,70,\n",
    "2,3,11,0,\n",
    "99,\n",
    "30,40,50\n",
    "Stepping forward 4 more positions arrives at opcode 99, halting the program.\n",
    "\n",
    "Here are the initial and final states of a few more small programs:\n",
    "\n",
    "1,0,0,0,99 becomes 2,0,0,0,99 (1 + 1 = 2).\n",
    "2,3,0,3,99 becomes 2,3,0,6,99 (3 * 2 = 6).\n",
    "2,4,4,5,99,0 becomes 2,4,4,5,99,9801 (99 * 99 = 9801).\n",
    "1,1,1,4,99,5,6,0,99 becomes 30,1,1,4,2,5,6,0,99.\n",
    "Once you have a working computer, the first step is to restore the gravity assist program (your puzzle input) to the \"1202 program alarm\" state it had just before the last computer caught fire. To do this, before running the program, replace position 1 with the value 12 and replace position 2 with the value 2. What value is left at position 0 after the program halts?"
   ]
  },
  {
   "cell_type": "code",
   "execution_count": 1,
   "metadata": {},
   "outputs": [],
   "source": [
    "input_line_1 = \"1,9,10,3\""
   ]
  },
  {
   "cell_type": "code",
   "execution_count": 2,
   "metadata": {},
   "outputs": [
    {
     "data": {
      "text/plain": [
       "[1, 9, 10, 3]"
      ]
     },
     "execution_count": 2,
     "metadata": {},
     "output_type": "execute_result"
    }
   ],
   "source": [
    "input_line_1_codes = [int(x) for x in input_line_1.split(\",\")]\n",
    "input_line_1_codes"
   ]
  },
  {
   "cell_type": "code",
   "execution_count": 3,
   "metadata": {},
   "outputs": [
    {
     "name": "stdout",
     "output_type": "stream",
     "text": [
      "[1, 9, 10, 19]\n"
     ]
    }
   ],
   "source": [
    "if input_line_1_codes[0] == 1:\n",
    "    input_int_1 = input_line_1_codes[1]\n",
    "    input_int_2 = input_line_1_codes[2]\n",
    "    output_int = input_int_1 + input_int_2\n",
    "    output_codes = input_line_1_codes[:-1]\n",
    "    output_codes.append(output_int)\n",
    "    print(output_codes)"
   ]
  },
  {
   "cell_type": "code",
   "execution_count": 4,
   "metadata": {},
   "outputs": [
    {
     "data": {
      "text/plain": [
       "'1,9,10,19'"
      ]
     },
     "execution_count": 4,
     "metadata": {},
     "output_type": "execute_result"
    }
   ],
   "source": [
    "output_line_1 = \",\".join([str(x) for x in output_codes])\n",
    "output_line_1"
   ]
  },
  {
   "cell_type": "markdown",
   "metadata": {},
   "source": [
    "Oh, dangit, it doesn't always replace the next one, the number itself tells you where to replace.  That's much more annoying"
   ]
  },
  {
   "cell_type": "code",
   "execution_count": 5,
   "metadata": {},
   "outputs": [],
   "source": [
    "program = \"1,9,10,3,2,3,11,0,99,30,40,50\""
   ]
  },
  {
   "cell_type": "code",
   "execution_count": 6,
   "metadata": {},
   "outputs": [
    {
     "data": {
      "text/plain": [
       "[1, 9, 10, 3, 2, 3, 11, 0, 99, 30, 40, 50]"
      ]
     },
     "execution_count": 6,
     "metadata": {},
     "output_type": "execute_result"
    }
   ],
   "source": [
    "program_codes = [int(x) for x in program.split(\",\")]\n",
    "program_codes"
   ]
  },
  {
   "cell_type": "code",
   "execution_count": 7,
   "metadata": {},
   "outputs": [
    {
     "name": "stdout",
     "output_type": "stream",
     "text": [
      "Position 3 is now set to 70\n",
      "Position 0 is now set to 3500\n"
     ]
    }
   ],
   "source": [
    "current_position = 0\n",
    "while True:\n",
    "    opcode = program_codes[current_position]\n",
    "    if opcode == 99:\n",
    "        break\n",
    "    else:\n",
    "        input_1_index = program_codes[current_position+1]\n",
    "        input_2_index = program_codes[current_position+2]\n",
    "        \n",
    "        input_1 = program_codes[input_1_index]\n",
    "        input_2 = program_codes[input_2_index]\n",
    "        \n",
    "        destination_index = program_codes[current_position+3]\n",
    "        if opcode == 1:\n",
    "            output = input_1 + input_2\n",
    "        elif opcode == 2:\n",
    "            output = input_1 * input_2\n",
    "        else:\n",
    "            print(\"Something went wrong, got opcode\", opcode)\n",
    "            break\n",
    "        print(\"Position\", destination_index, \"is now set to\", output)\n",
    "        program_codes[destination_index] = output\n",
    "        current_position = current_position + 4"
   ]
  },
  {
   "cell_type": "code",
   "execution_count": 8,
   "metadata": {},
   "outputs": [
    {
     "data": {
      "text/plain": [
       "[3500, 9, 10, 70, 2, 3, 11, 0, 99, 30, 40, 50]"
      ]
     },
     "execution_count": 8,
     "metadata": {},
     "output_type": "execute_result"
    }
   ],
   "source": [
    "program_codes"
   ]
  },
  {
   "cell_type": "code",
   "execution_count": 9,
   "metadata": {},
   "outputs": [],
   "source": [
    "def run_program(program):\n",
    "    # split the string into a bunch of ints\n",
    "    program_codes = [int(x) for x in program.split(\",\")]\n",
    "    \n",
    "    # loop through codes in 4-code \"programs\"\n",
    "    current_position = 0\n",
    "    while True:\n",
    "        opcode = program_codes[current_position]\n",
    "        if opcode == 99:\n",
    "            break\n",
    "        else:\n",
    "            # for inputs, first we have to get their index, then we have\n",
    "            # to get the values at that index\n",
    "            input_1_index = program_codes[current_position+1]\n",
    "            input_2_index = program_codes[current_position+2]\n",
    "\n",
    "            input_1 = program_codes[input_1_index]\n",
    "            input_2 = program_codes[input_2_index]\n",
    "\n",
    "            # for output, we only need the index, since we are overwriting\n",
    "            # whatever is there\n",
    "            destination_index = program_codes[current_position+3]\n",
    "            \n",
    "            # compute the output\n",
    "            if opcode == 1:\n",
    "                output = input_1 + input_2\n",
    "            elif opcode == 2:\n",
    "                output = input_1 * input_2\n",
    "            else:\n",
    "                print(\"Something went wrong, got opcode\", opcode)\n",
    "                break\n",
    "            \n",
    "            # set the destination index to the output\n",
    "            print(\"Position\", destination_index, \"is now set to\", output)\n",
    "            program_codes[destination_index] = output\n",
    "            \n",
    "            # move to the next \"program\"\n",
    "            current_position = current_position + 4\n",
    "            \n",
    "    print(\"Final program codes:\", \",\".join([str(x) for x in program_codes]))\n",
    "    "
   ]
  },
  {
   "cell_type": "code",
   "execution_count": 10,
   "metadata": {},
   "outputs": [
    {
     "name": "stdout",
     "output_type": "stream",
     "text": [
      "Position 3 is now set to 70\n",
      "Position 0 is now set to 3500\n",
      "Final program codes: 3500,9,10,70,2,3,11,0,99,30,40,50\n"
     ]
    }
   ],
   "source": [
    "run_program(\"1,9,10,3,2,3,11,0,99,30,40,50\")"
   ]
  },
  {
   "cell_type": "code",
   "execution_count": 11,
   "metadata": {},
   "outputs": [
    {
     "name": "stdout",
     "output_type": "stream",
     "text": [
      "Position 0 is now set to 2\n",
      "Final program codes: 2,0,0,0,99\n"
     ]
    }
   ],
   "source": [
    "run_program(\"1,0,0,0,99\")"
   ]
  },
  {
   "cell_type": "code",
   "execution_count": 12,
   "metadata": {},
   "outputs": [
    {
     "name": "stdout",
     "output_type": "stream",
     "text": [
      "Position 3 is now set to 6\n",
      "Final program codes: 2,3,0,6,99\n"
     ]
    }
   ],
   "source": [
    "run_program(\"2,3,0,3,99\")"
   ]
  },
  {
   "cell_type": "code",
   "execution_count": 13,
   "metadata": {},
   "outputs": [
    {
     "name": "stdout",
     "output_type": "stream",
     "text": [
      "Position 5 is now set to 9801\n",
      "Final program codes: 2,4,4,5,99,9801\n"
     ]
    }
   ],
   "source": [
    "run_program(\"2,4,4,5,99,0\")"
   ]
  },
  {
   "cell_type": "code",
   "execution_count": 14,
   "metadata": {},
   "outputs": [
    {
     "name": "stdout",
     "output_type": "stream",
     "text": [
      "Position 4 is now set to 2\n",
      "Position 0 is now set to 30\n",
      "Final program codes: 30,1,1,4,2,5,6,0,99\n"
     ]
    }
   ],
   "source": [
    "run_program(\"1,1,1,4,99,5,6,0,99\")"
   ]
  },
  {
   "cell_type": "code",
   "execution_count": 15,
   "metadata": {},
   "outputs": [
    {
     "data": {
      "text/plain": [
       "'1,0,0,3,1,1,2,3,1,3,4,3,1,5,0,3,2,13,1,19,1,9,19,23,2,23,13,27,1,27,9,31,2,31,6,35,1,5,35,39,1,10,39,43,2,43,6,47,1,10,47,51,2,6,51,55,1,5,55,59,1,59,9,63,1,13,63,67,2,6,67,71,1,5,71,75,2,6,75,79,2,79,6,83,1,13,83,87,1,9,87,91,1,9,91,95,1,5,95,99,1,5,99,103,2,13,103,107,1,6,107,111,1,9,111,115,2,6,115,119,1,13,119,123,1,123,6,127,1,127,5,131,2,10,131,135,2,135,10,139,1,13,139,143,1,10,143,147,1,2,147,151,1,6,151,0,99,2,14,0,0\\n'"
      ]
     },
     "execution_count": 15,
     "metadata": {},
     "output_type": "execute_result"
    }
   ],
   "source": [
    "part1_input_file = open(\"input.txt\", \"r\")\n",
    "part1_input = part1_input_file.readline()\n",
    "part1_input"
   ]
  },
  {
   "cell_type": "markdown",
   "metadata": {},
   "source": [
    "before running the program, replace position 1 with the value 12 and replace position 2 with the value 2."
   ]
  },
  {
   "cell_type": "code",
   "execution_count": 16,
   "metadata": {},
   "outputs": [
    {
     "data": {
      "text/plain": [
       "'1,12,2,3,1,1,2,3,1,3,4,3,1,5,0,3,2,13,1,19,1,9,19,23,2,23,13,27,1,27,9,31,2,31,6,35,1,5,35,39,1,10,39,43,2,43,6,47,1,10,47,51,2,6,51,55,1,5,55,59,1,59,9,63,1,13,63,67,2,6,67,71,1,5,71,75,2,6,75,79,2,79,6,83,1,13,83,87,1,9,87,91,1,9,91,95,1,5,95,99,1,5,99,103,2,13,103,107,1,6,107,111,1,9,111,115,2,6,115,119,1,13,119,123,1,123,6,127,1,127,5,131,2,10,131,135,2,135,10,139,1,13,139,143,1,10,143,147,1,2,147,151,1,6,151,0,99,2,14,0,0'"
      ]
     },
     "execution_count": 16,
     "metadata": {},
     "output_type": "execute_result"
    }
   ],
   "source": [
    "part1_input = part1_input.strip()\n",
    "part1_input_codes = [int(x) for x in part1_input.split(\",\")]\n",
    "part1_input_codes[1] = 12\n",
    "part1_input_codes[2] = 2\n",
    "part1_input = \",\".join([str(x) for x in part1_input_codes])\n",
    "part1_input"
   ]
  },
  {
   "cell_type": "code",
   "execution_count": 17,
   "metadata": {},
   "outputs": [
    {
     "name": "stdout",
     "output_type": "stream",
     "text": [
      "Position 3 is now set to 3\n",
      "Position 3 is now set to 14\n",
      "Position 3 is now set to 15\n",
      "Position 3 is now set to 2\n",
      "Position 19 is now set to 60\n",
      "Position 23 is now set to 63\n",
      "Position 27 is now set to 315\n",
      "Position 31 is now set to 318\n",
      "Position 35 is now set to 636\n",
      "Position 39 is now set to 637\n",
      "Position 43 is now set to 641\n",
      "Position 47 is now set to 1282\n",
      "Position 51 is now set to 1286\n",
      "Position 55 is now set to 2572\n",
      "Position 59 is now set to 2573\n",
      "Position 63 is now set to 2576\n",
      "Position 67 is now set to 2581\n",
      "Position 71 is now set to 5162\n",
      "Position 75 is now set to 5163\n",
      "Position 79 is now set to 10326\n",
      "Position 83 is now set to 20652\n",
      "Position 87 is now set to 20657\n",
      "Position 91 is now set to 20660\n",
      "Position 95 is now set to 20663\n",
      "Position 99 is now set to 20664\n",
      "Position 103 is now set to 20665\n",
      "Position 107 is now set to 103325\n",
      "Position 111 is now set to 103327\n",
      "Position 115 is now set to 103330\n",
      "Position 119 is now set to 206660\n",
      "Position 123 is now set to 206665\n",
      "Position 127 is now set to 206667\n",
      "Position 131 is now set to 206668\n",
      "Position 135 is now set to 826672\n",
      "Position 139 is now set to 3306688\n",
      "Position 143 is now set to 3306693\n",
      "Position 147 is now set to 3306697\n",
      "Position 151 is now set to 3306699\n",
      "Position 0 is now set to 3306701\n",
      "Final program codes: 3306701,12,2,2,1,1,2,3,1,3,4,3,1,5,0,3,2,13,1,60,1,9,19,63,2,23,13,315,1,27,9,318,2,31,6,636,1,5,35,637,1,10,39,641,2,43,6,1282,1,10,47,1286,2,6,51,2572,1,5,55,2573,1,59,9,2576,1,13,63,2581,2,6,67,5162,1,5,71,5163,2,6,75,10326,2,79,6,20652,1,13,83,20657,1,9,87,20660,1,9,91,20663,1,5,95,20664,1,5,99,20665,2,13,103,103325,1,6,107,103327,1,9,111,103330,2,6,115,206660,1,13,119,206665,1,123,6,206667,1,127,5,206668,2,10,131,826672,2,135,10,3306688,1,13,139,3306693,1,10,143,3306697,1,2,147,3306699,1,6,151,0,99,2,14,0,0\n"
     ]
    }
   ],
   "source": [
    "run_program(part1_input)"
   ]
  },
  {
   "cell_type": "markdown",
   "metadata": {},
   "source": [
    "## Part 2 Prompt\n",
    "\n",
    "--- Part Two ---\n",
    "\"Good, the new computer seems to be working correctly! Keep it nearby during this mission - you'll probably use it again. Real Intcode computers support many more features than your new one, but we'll let you know what they are as you need them.\"\n",
    "\n",
    "\"However, your current priority should be to complete your gravity assist around the Moon. For this mission to succeed, we should settle on some terminology for the parts you've already built.\"\n",
    "\n",
    "Intcode programs are given as a list of integers; these values are used as the initial state for the computer's memory. When you run an Intcode program, make sure to start by initializing memory to the program's values. A position in memory is called an address (for example, the first value in memory is at \"address 0\").\n",
    "\n",
    "Opcodes (like 1, 2, or 99) mark the beginning of an instruction. The values used immediately after an opcode, if any, are called the instruction's parameters. For example, in the instruction 1,2,3,4, 1 is the opcode; 2, 3, and 4 are the parameters. The instruction 99 contains only an opcode and has no parameters.\n",
    "\n",
    "The address of the current instruction is called the instruction pointer; it starts at 0. After an instruction finishes, the instruction pointer increases by the number of values in the instruction; until you add more instructions to the computer, this is always 4 (1 opcode + 3 parameters) for the add and multiply instructions. (The halt instruction would increase the instruction pointer by 1, but it halts the program instead.)\n",
    "\n",
    "\"With terminology out of the way, we're ready to proceed. To complete the gravity assist, you need to determine what pair of inputs produces the output 19690720.\"\n",
    "\n",
    "The inputs should still be provided to the program by replacing the values at addresses 1 and 2, just like before. In this program, the value placed in address 1 is called the noun, and the value placed in address 2 is called the verb. Each of the two input values will be between 0 and 99, inclusive.\n",
    "\n",
    "Once the program has halted, its output is available at address 0, also just like before. Each time you try a pair of inputs, make sure you first reset the computer's memory to the values in the program (your puzzle input) - in other words, don't reuse memory from a previous attempt.\n",
    "\n",
    "Find the input noun and verb that cause the program to produce the output 19690720. What is 100 * noun + verb? (For example, if noun=12 and verb=2, the answer would be 1202.)"
   ]
  },
  {
   "cell_type": "markdown",
   "metadata": {},
   "source": [
    "## My Thoughts"
   ]
  },
  {
   "cell_type": "markdown",
   "metadata": {},
   "source": [
    "It seems like I can (and maybe am supposed to) just brute-force this?  Like, try each permutation of (0-99) and (0-99), making sure that I quit if there is an invalid code"
   ]
  },
  {
   "cell_type": "markdown",
   "metadata": {},
   "source": [
    "I'm going to do this very inefficiently but very cautiously, by making a deep copy every time"
   ]
  },
  {
   "cell_type": "code",
   "execution_count": 18,
   "metadata": {},
   "outputs": [],
   "source": [
    "target = 19690720"
   ]
  },
  {
   "cell_type": "code",
   "execution_count": 19,
   "metadata": {},
   "outputs": [
    {
     "data": {
      "text/plain": [
       "'1,12,2,3,1,1,2,3,1,3,4,3,1,5,0,3,2,13,1,19,1,9,19,23,2,23,13,27,1,27,9,31,2,31,6,35,1,5,35,39,1,10,39,43,2,43,6,47,1,10,47,51,2,6,51,55,1,5,55,59,1,59,9,63,1,13,63,67,2,6,67,71,1,5,71,75,2,6,75,79,2,79,6,83,1,13,83,87,1,9,87,91,1,9,91,95,1,5,95,99,1,5,99,103,2,13,103,107,1,6,107,111,1,9,111,115,2,6,115,119,1,13,119,123,1,123,6,127,1,127,5,131,2,10,131,135,2,135,10,139,1,13,139,143,1,10,143,147,1,2,147,151,1,6,151,0,99,2,14,0,0'"
      ]
     },
     "execution_count": 19,
     "metadata": {},
     "output_type": "execute_result"
    }
   ],
   "source": [
    "part1_input"
   ]
  },
  {
   "cell_type": "code",
   "execution_count": 20,
   "metadata": {},
   "outputs": [],
   "source": [
    "def run_list_program(program_codes):\n",
    "    # loop through codes in 4-code \"programs\"\n",
    "    current_position = 0\n",
    "    while True:\n",
    "        opcode = program_codes[current_position]\n",
    "        if opcode == 99:\n",
    "            break\n",
    "        else:\n",
    "            # for inputs, first we have to get their index, then we have\n",
    "            # to get the values at that index\n",
    "            input_1_index = program_codes[current_position+1]\n",
    "            input_2_index = program_codes[current_position+2]\n",
    "\n",
    "            input_1 = program_codes[input_1_index]\n",
    "            input_2 = program_codes[input_2_index]\n",
    "\n",
    "            # for output, we only need the index, since we are overwriting\n",
    "            # whatever is there\n",
    "            destination_index = program_codes[current_position+3]\n",
    "            \n",
    "            # compute the output\n",
    "            if opcode == 1:\n",
    "                output = input_1 + input_2\n",
    "            elif opcode == 2:\n",
    "                output = input_1 * input_2\n",
    "            else:\n",
    "                print(\"Something went wrong, got opcode\", opcode)\n",
    "                break\n",
    "            \n",
    "            # set the destination index to the output\n",
    "#             print(\"Position\", destination_index, \"is now set to\", output)\n",
    "            program_codes[destination_index] = output\n",
    "            \n",
    "            # move to the next \"program\"\n",
    "            current_position = current_position + 4"
   ]
  },
  {
   "cell_type": "code",
   "execution_count": 21,
   "metadata": {},
   "outputs": [
    {
     "name": "stdout",
     "output_type": "stream",
     "text": [
      "Found noun 76 and verb 21\n"
     ]
    }
   ],
   "source": [
    "all_number_permutations = [(noun, verb) for noun in range(100) for verb in range(100)]\n",
    "\n",
    "part1_input_list = [int(x) for x in part1_input.split(\",\")]\n",
    "\n",
    "for noun, verb in all_number_permutations:\n",
    "    current_input_attempt = part1_input_list[:]\n",
    "    current_input_attempt[1] = noun\n",
    "    current_input_attempt[2] = verb\n",
    "    \n",
    "    run_list_program(current_input_attempt)\n",
    "    if current_input_attempt[0] == target:\n",
    "        print(\"Found noun\", noun, \"and verb\", verb)\n",
    "        break"
   ]
  },
  {
   "cell_type": "markdown",
   "metadata": {},
   "source": [
    "100 * noun + verb"
   ]
  },
  {
   "cell_type": "code",
   "execution_count": 22,
   "metadata": {},
   "outputs": [
    {
     "data": {
      "text/plain": [
       "7621"
      ]
     },
     "execution_count": 22,
     "metadata": {},
     "output_type": "execute_result"
    }
   ],
   "source": [
    "100 * 76 + 21"
   ]
  },
  {
   "cell_type": "code",
   "execution_count": null,
   "metadata": {},
   "outputs": [],
   "source": []
  }
 ],
 "metadata": {
  "kernelspec": {
   "display_name": "Python 3",
   "language": "python",
   "name": "python3"
  },
  "language_info": {
   "codemirror_mode": {
    "name": "ipython",
    "version": 3
   },
   "file_extension": ".py",
   "mimetype": "text/x-python",
   "name": "python",
   "nbconvert_exporter": "python",
   "pygments_lexer": "ipython3",
   "version": "3.8.0"
  }
 },
 "nbformat": 4,
 "nbformat_minor": 4
}

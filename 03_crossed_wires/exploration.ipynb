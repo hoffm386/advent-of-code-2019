{
 "cells": [
  {
   "cell_type": "markdown",
   "metadata": {},
   "source": [
    "# Part 1 Prompt"
   ]
  },
  {
   "cell_type": "raw",
   "metadata": {},
   "source": [
    "--- Day 3: Crossed Wires ---\n",
    "The gravity assist was successful, and you're well on your way to the Venus refuelling station. During the rush back on Earth, the fuel management system wasn't completely installed, so that's next on the priority list.\n",
    "\n",
    "Opening the front panel reveals a jumble of wires. Specifically, two wires are connected to a central port and extend outward on a grid. You trace the path each wire takes as it leaves the central port, one wire per line of text (your puzzle input).\n",
    "\n",
    "The wires twist and turn, but the two wires occasionally cross paths. To fix the circuit, you need to find the intersection point closest to the central port. Because the wires are on a grid, use the Manhattan distance for this measurement. While the wires do technically cross right at the central port where they both start, this point does not count, nor does a wire count as crossing with itself.\n",
    "\n",
    "For example, if the first wire's path is R8,U5,L5,D3, then starting from the central port (o), it goes right 8, up 5, left 5, and finally down 3:"
   ]
  },
  {
   "cell_type": "raw",
   "metadata": {},
   "source": [
    "...........\n",
    "...........\n",
    "...........\n",
    "....+----+.\n",
    "....|....|.\n",
    "....|....|.\n",
    "....|....|.\n",
    ".........|.\n",
    ".o-------+.\n",
    "..........."
   ]
  },
  {
   "cell_type": "raw",
   "metadata": {},
   "source": [
    "Then, if the second wire's path is U7,R6,D4,L4, it goes up 7, right 6, down 4, and left 4:"
   ]
  },
  {
   "cell_type": "raw",
   "metadata": {},
   "source": [
    "...........\n",
    ".+-----+...\n",
    ".|.....|...\n",
    ".|..+--X-+.\n",
    ".|..|..|.|.\n",
    ".|.-X--+.|.\n",
    ".|..|....|.\n",
    ".|.......|.\n",
    ".o-------+.\n",
    "..........."
   ]
  },
  {
   "cell_type": "raw",
   "metadata": {},
   "source": [
    "These wires cross at two locations (marked X), but the lower-left one is closer to the central port: its distance is 3 + 3 = 6.\n",
    "\n",
    "Here are a few more examples:\n",
    "\n",
    "R75,D30,R83,U83,L12,D49,R71,U7,L72\n",
    "U62,R66,U55,R34,D71,R55,D58,R83 = distance 159\n",
    "R98,U47,R26,D63,R33,U87,L62,D20,R33,U53,R51\n",
    "U98,R91,D20,R16,D67,R40,U7,R15,U6,R7 = distance 135\n",
    "\n",
    "What is the Manhattan distance from the central port to the closest intersection?"
   ]
  },
  {
   "cell_type": "markdown",
   "metadata": {},
   "source": [
    "Ok, my idea is to make a data structure of \"nodes\", where each node contains a position (relative to the central port) and a list of wires that have crossed that position.\n",
    "\n",
    "If no wire has passed through that position, there is no need for that node to be in the data structure.\n",
    "\n",
    "Each time you add a new node, make sure you check whether it is in the data structure already.\n",
    "\n",
    "Then you can either keep track of the intersection nodes as you add them, or iterate over the data structure and find all the wires that have crossed there.\n",
    "\n",
    "It's kind of overkill for it to have a list of wires, rather than just a single wire, but I imagine the next problem will have more than two wires, so this is extensible"
   ]
  },
  {
   "cell_type": "markdown",
   "metadata": {},
   "source": [
    "### Representing the first example in \"nodes\""
   ]
  },
  {
   "cell_type": "code",
   "execution_count": 1,
   "metadata": {},
   "outputs": [],
   "source": [
    "first_wire_path = \"R8,U5,L5,D3\"\n",
    "first_moves_list = first_wire_path.split(\",\")"
   ]
  },
  {
   "cell_type": "code",
   "execution_count": 2,
   "metadata": {},
   "outputs": [
    {
     "name": "stdout",
     "output_type": "stream",
     "text": [
      "[1, 0]\n",
      "[2, 0]\n",
      "[3, 0]\n",
      "[4, 0]\n",
      "[5, 0]\n",
      "[6, 0]\n",
      "[7, 0]\n",
      "[8, 0]\n",
      "Just executed R8\n",
      "[8, 1]\n",
      "[8, 2]\n",
      "[8, 3]\n",
      "[8, 4]\n",
      "[8, 5]\n",
      "Just executed U5\n",
      "[7, 5]\n",
      "[6, 5]\n",
      "[5, 5]\n",
      "[4, 5]\n",
      "[3, 5]\n",
      "Just executed L5\n",
      "[3, 4]\n",
      "[3, 3]\n",
      "[3, 2]\n",
      "Just executed D3\n"
     ]
    }
   ],
   "source": [
    "first_wire_location = [0,0]\n",
    "for move in first_moves_list:\n",
    "    direction = move[0]\n",
    "    magnitude = int(move[1])\n",
    "    if direction == \"U\":\n",
    "        for _ in range(magnitude):\n",
    "            first_wire_location[1] += 1\n",
    "            print(first_wire_location)\n",
    "    elif direction == \"D\":\n",
    "        for _ in range(magnitude):\n",
    "            first_wire_location[1] -= 1\n",
    "            print(first_wire_location)\n",
    "    elif direction == \"L\":\n",
    "        for _ in range(magnitude):\n",
    "            first_wire_location[0] -= 1\n",
    "            print(first_wire_location)\n",
    "    elif direction == \"R\":\n",
    "        for _ in range(magnitude):\n",
    "            first_wire_location[0] += 1\n",
    "            print(first_wire_location)\n",
    "    else:\n",
    "        print(\"Error, encountered unknown move\", move)\n",
    "    print(\"Just executed\", move)"
   ]
  },
  {
   "cell_type": "markdown",
   "metadata": {},
   "source": [
    "Cool, that list looks correct, now let's put it into a dictionary.  Key must be immutable, so convert `[x, y]` to tuple `(x, y)` as the key, then the value can be a list of wires.  For now hard code the first wire as `W1` and the second as `W2`"
   ]
  },
  {
   "cell_type": "code",
   "execution_count": 3,
   "metadata": {},
   "outputs": [],
   "source": [
    "wire_locations = {}"
   ]
  },
  {
   "cell_type": "code",
   "execution_count": 4,
   "metadata": {},
   "outputs": [
    {
     "name": "stdout",
     "output_type": "stream",
     "text": [
      "Just executed R8\n",
      "Just executed U5\n",
      "Just executed L5\n",
      "Just executed D3\n"
     ]
    }
   ],
   "source": [
    "wire_location = [0,0]\n",
    "wire_name = \"W1\"\n",
    "for move in first_moves_list:\n",
    "    direction = move[0]\n",
    "    magnitude = int(move[1])\n",
    "    if direction == \"U\":\n",
    "        for _ in range(magnitude):\n",
    "            wire_location[1] += 1\n",
    "            wire_locations[tuple(wire_location)] = [wire_name]\n",
    "    elif direction == \"D\":\n",
    "        for _ in range(magnitude):\n",
    "            wire_location[1] -= 1\n",
    "            wire_locations[tuple(wire_location)] = [wire_name]\n",
    "    elif direction == \"L\":\n",
    "        for _ in range(magnitude):\n",
    "            wire_location[0] -= 1\n",
    "            wire_locations[tuple(wire_location)] = [wire_name]\n",
    "    elif direction == \"R\":\n",
    "        for _ in range(magnitude):\n",
    "            wire_location[0] += 1\n",
    "            wire_locations[tuple(wire_location)] = [wire_name]\n",
    "    else:\n",
    "        print(\"Error, encountered unknown move\", move)\n",
    "    print(\"Just executed\", move)"
   ]
  },
  {
   "cell_type": "code",
   "execution_count": 5,
   "metadata": {},
   "outputs": [
    {
     "data": {
      "text/plain": [
       "{(1, 0): ['W1'],\n",
       " (2, 0): ['W1'],\n",
       " (3, 0): ['W1'],\n",
       " (4, 0): ['W1'],\n",
       " (5, 0): ['W1'],\n",
       " (6, 0): ['W1'],\n",
       " (7, 0): ['W1'],\n",
       " (8, 0): ['W1'],\n",
       " (8, 1): ['W1'],\n",
       " (8, 2): ['W1'],\n",
       " (8, 3): ['W1'],\n",
       " (8, 4): ['W1'],\n",
       " (8, 5): ['W1'],\n",
       " (7, 5): ['W1'],\n",
       " (6, 5): ['W1'],\n",
       " (5, 5): ['W1'],\n",
       " (4, 5): ['W1'],\n",
       " (3, 5): ['W1'],\n",
       " (3, 4): ['W1'],\n",
       " (3, 3): ['W1'],\n",
       " (3, 2): ['W1']}"
      ]
     },
     "execution_count": 5,
     "metadata": {},
     "output_type": "execute_result"
    }
   ],
   "source": [
    "wire_locations"
   ]
  },
  {
   "cell_type": "markdown",
   "metadata": {},
   "source": [
    "Looks good, now let's make it work for both wires"
   ]
  },
  {
   "cell_type": "code",
   "execution_count": 6,
   "metadata": {},
   "outputs": [],
   "source": [
    "wire_locations = {}"
   ]
  },
  {
   "cell_type": "code",
   "execution_count": 32,
   "metadata": {},
   "outputs": [],
   "source": [
    "def insert_or_update(wire_locations, wire_location, wire_name):\n",
    "    # only immutable types can be dict keys\n",
    "    location_tuple = tuple(wire_location)\n",
    "    if location_tuple in wire_locations:\n",
    "        wire_locations[location_tuple].add(wire_name)\n",
    "    else:\n",
    "        wire_locations[location_tuple] = {wire_name,}"
   ]
  },
  {
   "cell_type": "code",
   "execution_count": 30,
   "metadata": {},
   "outputs": [],
   "source": [
    "def add_wire_locations(wire_locations, moves_list, wire_name):\n",
    "    wire_location = [0,0]\n",
    "    for move in moves_list:\n",
    "        direction = move[0]\n",
    "        magnitude = int(move[1:])\n",
    "        if direction == \"U\":\n",
    "            for _ in range(magnitude):\n",
    "                wire_location[1] += 1\n",
    "                insert_or_update(wire_locations, wire_location, wire_name)\n",
    "        elif direction == \"D\":\n",
    "            for _ in range(magnitude):\n",
    "                wire_location[1] -= 1\n",
    "                insert_or_update(wire_locations, wire_location, wire_name)\n",
    "        elif direction == \"L\":\n",
    "            for _ in range(magnitude):\n",
    "                wire_location[0] -= 1\n",
    "                insert_or_update(wire_locations, wire_location, wire_name)\n",
    "        elif direction == \"R\":\n",
    "            for _ in range(magnitude):\n",
    "                wire_location[0] += 1\n",
    "                insert_or_update(wire_locations, wire_location, wire_name)\n",
    "        else:\n",
    "            print(\"Error, encountered unknown move\", move)\n",
    "#         print(\"Just executed\", move)"
   ]
  },
  {
   "cell_type": "code",
   "execution_count": 9,
   "metadata": {},
   "outputs": [
    {
     "name": "stdout",
     "output_type": "stream",
     "text": [
      "Just executed R8\n",
      "Just executed U5\n",
      "Just executed L5\n",
      "Just executed D3\n"
     ]
    }
   ],
   "source": [
    "add_wire_locations(wire_locations, first_moves_list, \"W1\")"
   ]
  },
  {
   "cell_type": "code",
   "execution_count": 10,
   "metadata": {},
   "outputs": [
    {
     "data": {
      "text/plain": [
       "{(1, 0): ['W1'],\n",
       " (2, 0): ['W1'],\n",
       " (3, 0): ['W1'],\n",
       " (4, 0): ['W1'],\n",
       " (5, 0): ['W1'],\n",
       " (6, 0): ['W1'],\n",
       " (7, 0): ['W1'],\n",
       " (8, 0): ['W1'],\n",
       " (8, 1): ['W1'],\n",
       " (8, 2): ['W1'],\n",
       " (8, 3): ['W1'],\n",
       " (8, 4): ['W1'],\n",
       " (8, 5): ['W1'],\n",
       " (7, 5): ['W1'],\n",
       " (6, 5): ['W1'],\n",
       " (5, 5): ['W1'],\n",
       " (4, 5): ['W1'],\n",
       " (3, 5): ['W1'],\n",
       " (3, 4): ['W1'],\n",
       " (3, 3): ['W1'],\n",
       " (3, 2): ['W1']}"
      ]
     },
     "execution_count": 10,
     "metadata": {},
     "output_type": "execute_result"
    }
   ],
   "source": [
    "wire_locations"
   ]
  },
  {
   "cell_type": "code",
   "execution_count": 11,
   "metadata": {},
   "outputs": [],
   "source": [
    "second_wire_path = \"U7,R6,D4,L4\"\n",
    "second_moves_list = second_wire_path.split(\",\")"
   ]
  },
  {
   "cell_type": "code",
   "execution_count": 12,
   "metadata": {},
   "outputs": [
    {
     "name": "stdout",
     "output_type": "stream",
     "text": [
      "Just executed U7\n",
      "Just executed R6\n",
      "Just executed D4\n",
      "Just executed L4\n"
     ]
    }
   ],
   "source": [
    "add_wire_locations(wire_locations, second_moves_list, \"W2\")"
   ]
  },
  {
   "cell_type": "code",
   "execution_count": 13,
   "metadata": {},
   "outputs": [
    {
     "data": {
      "text/plain": [
       "{(1, 0): ['W1'],\n",
       " (2, 0): ['W1'],\n",
       " (3, 0): ['W1'],\n",
       " (4, 0): ['W1'],\n",
       " (5, 0): ['W1'],\n",
       " (6, 0): ['W1'],\n",
       " (7, 0): ['W1'],\n",
       " (8, 0): ['W1'],\n",
       " (8, 1): ['W1'],\n",
       " (8, 2): ['W1'],\n",
       " (8, 3): ['W1'],\n",
       " (8, 4): ['W1'],\n",
       " (8, 5): ['W1'],\n",
       " (7, 5): ['W1'],\n",
       " (6, 5): ['W1', 'W2'],\n",
       " (5, 5): ['W1'],\n",
       " (4, 5): ['W1'],\n",
       " (3, 5): ['W1'],\n",
       " (3, 4): ['W1'],\n",
       " (3, 3): ['W1', 'W2'],\n",
       " (3, 2): ['W1'],\n",
       " (0, 1): ['W2'],\n",
       " (0, 2): ['W2'],\n",
       " (0, 3): ['W2'],\n",
       " (0, 4): ['W2'],\n",
       " (0, 5): ['W2'],\n",
       " (0, 6): ['W2'],\n",
       " (0, 7): ['W2'],\n",
       " (1, 7): ['W2'],\n",
       " (2, 7): ['W2'],\n",
       " (3, 7): ['W2'],\n",
       " (4, 7): ['W2'],\n",
       " (5, 7): ['W2'],\n",
       " (6, 7): ['W2'],\n",
       " (6, 6): ['W2'],\n",
       " (6, 4): ['W2'],\n",
       " (6, 3): ['W2'],\n",
       " (5, 3): ['W2'],\n",
       " (4, 3): ['W2'],\n",
       " (2, 3): ['W2']}"
      ]
     },
     "execution_count": 13,
     "metadata": {},
     "output_type": "execute_result"
    }
   ],
   "source": [
    "wire_locations"
   ]
  },
  {
   "cell_type": "code",
   "execution_count": 28,
   "metadata": {},
   "outputs": [],
   "source": [
    "def locate_intersections(wire_locations):\n",
    "    intersections = {}\n",
    "    for location, wires in wire_locations.items():\n",
    "        if len(wires) > 1:\n",
    "            # assuming we don't always move up and to the right, we need to find the\n",
    "            # magnitude, ignoring the sign\n",
    "            manhattan_distance = abs(location[0]) + abs(location[1])\n",
    "            \n",
    "            # assuming they can't have a tie, or that ties don't matter\n",
    "            intersections[manhattan_distance] = location\n",
    "            print(\"Found an intersection at\", location, \"with Manhattan distance\", manhattan_distance)\n",
    "    return intersections"
   ]
  },
  {
   "cell_type": "code",
   "execution_count": 19,
   "metadata": {},
   "outputs": [
    {
     "name": "stdout",
     "output_type": "stream",
     "text": [
      "Found an intersection at (6, 5) with Manhattan distance 11\n",
      "Found an intersection at (3, 3) with Manhattan distance 6\n"
     ]
    }
   ],
   "source": [
    "intersections = locate_intersections(wire_locations)"
   ]
  },
  {
   "cell_type": "code",
   "execution_count": 21,
   "metadata": {},
   "outputs": [],
   "source": [
    "shortest = min(intersections.keys())"
   ]
  },
  {
   "cell_type": "code",
   "execution_count": 22,
   "metadata": {},
   "outputs": [
    {
     "data": {
      "text/plain": [
       "6"
      ]
     },
     "execution_count": 22,
     "metadata": {},
     "output_type": "execute_result"
    }
   ],
   "source": [
    "shortest"
   ]
  },
  {
   "cell_type": "markdown",
   "metadata": {},
   "source": [
    "Okay, let's make this a function that works end-to-end"
   ]
  },
  {
   "cell_type": "code",
   "execution_count": 23,
   "metadata": {},
   "outputs": [],
   "source": [
    "def find_nearest_intersection_distance(path_1, path_2):\n",
    "    first_moves_list = path_1.split(\",\")\n",
    "    second_moves_list = path_2.split(\",\")\n",
    "    \n",
    "    wire_locations = {}\n",
    "    add_wire_locations(wire_locations, first_moves_list, \"W1\")\n",
    "    add_wire_locations(wire_locations, second_moves_list, \"W2\")\n",
    "    \n",
    "    intersections = locate_intersections(wire_locations)\n",
    "    shortest = min(intersections.keys())\n",
    "    return shortest"
   ]
  },
  {
   "cell_type": "code",
   "execution_count": 24,
   "metadata": {},
   "outputs": [
    {
     "name": "stdout",
     "output_type": "stream",
     "text": [
      "Just executed R8\n",
      "Just executed U5\n",
      "Just executed L5\n",
      "Just executed D3\n",
      "Just executed U7\n",
      "Just executed R6\n",
      "Just executed D4\n",
      "Just executed L4\n",
      "Found an intersection at (6, 5) with Manhattan distance 11\n",
      "Found an intersection at (3, 3) with Manhattan distance 6\n"
     ]
    },
    {
     "data": {
      "text/plain": [
       "6"
      ]
     },
     "execution_count": 24,
     "metadata": {},
     "output_type": "execute_result"
    }
   ],
   "source": [
    "find_nearest_intersection_distance(\"R8,U5,L5,D3\", \"U7,R6,D4,L4\")"
   ]
  },
  {
   "cell_type": "markdown",
   "metadata": {},
   "source": [
    "(Muting the print-outs now)"
   ]
  },
  {
   "cell_type": "code",
   "execution_count": 27,
   "metadata": {},
   "outputs": [
    {
     "data": {
      "text/plain": [
       "15"
      ]
     },
     "execution_count": 27,
     "metadata": {},
     "output_type": "execute_result"
    }
   ],
   "source": [
    "find_nearest_intersection_distance(\"R75,D30,R83,U83,L12,D49,R71,U7,L72\", \"U62,R66,U55,R34,D71,R55,D58,R83\")"
   ]
  },
  {
   "cell_type": "markdown",
   "metadata": {},
   "source": [
    "Dang it, looks like I need the print-outs to diagnose what's going wrong, the answer should be 159"
   ]
  },
  {
   "cell_type": "code",
   "execution_count": 29,
   "metadata": {},
   "outputs": [
    {
     "name": "stdout",
     "output_type": "stream",
     "text": [
      "Found an intersection at (15, -1) with Manhattan distance 16\n",
      "Found an intersection at (15, 1) with Manhattan distance 16\n",
      "Found an intersection at (14, 4) with Manhattan distance 18\n",
      "Found an intersection at (14, 3) with Manhattan distance 17\n",
      "Found an intersection at (14, 2) with Manhattan distance 16\n",
      "Found an intersection at (14, 1) with Manhattan distance 15\n"
     ]
    },
    {
     "data": {
      "text/plain": [
       "15"
      ]
     },
     "execution_count": 29,
     "metadata": {},
     "output_type": "execute_result"
    }
   ],
   "source": [
    "find_nearest_intersection_distance(\"R75,D30,R83,U83,L12,D49,R71,U7,L72\", \"U62,R66,U55,R34,D71,R55,D58,R83\")"
   ]
  },
  {
   "cell_type": "markdown",
   "metadata": {},
   "source": [
    "Lol I'm only grabbing the 1th digit, I need to grab all of the digits"
   ]
  },
  {
   "cell_type": "code",
   "execution_count": 31,
   "metadata": {},
   "outputs": [
    {
     "name": "stdout",
     "output_type": "stream",
     "text": [
      "Found an intersection at (158, -12) with Manhattan distance 170\n",
      "Found an intersection at (158, 4) with Manhattan distance 162\n",
      "Found an intersection at (158, 11) with Manhattan distance 169\n",
      "Found an intersection at (146, 46) with Manhattan distance 192\n",
      "Found an intersection at (146, 11) with Manhattan distance 157\n",
      "Found an intersection at (155, 4) with Manhattan distance 159\n",
      "Found an intersection at (155, 11) with Manhattan distance 166\n"
     ]
    },
    {
     "data": {
      "text/plain": [
       "157"
      ]
     },
     "execution_count": 31,
     "metadata": {},
     "output_type": "execute_result"
    }
   ],
   "source": [
    "find_nearest_intersection_distance(\"R75,D30,R83,U83,L12,D49,R71,U7,L72\", \"U62,R66,U55,R34,D71,R55,D58,R83\")"
   ]
  },
  {
   "cell_type": "markdown",
   "metadata": {},
   "source": [
    "Oh, I think I'm including self-intersections, which I am not supposed to do.  Better make the list of wires into a set of wires"
   ]
  },
  {
   "cell_type": "code",
   "execution_count": 33,
   "metadata": {},
   "outputs": [
    {
     "name": "stdout",
     "output_type": "stream",
     "text": [
      "Found an intersection at (158, -12) with Manhattan distance 170\n",
      "Found an intersection at (146, 46) with Manhattan distance 192\n",
      "Found an intersection at (155, 4) with Manhattan distance 159\n",
      "Found an intersection at (155, 11) with Manhattan distance 166\n"
     ]
    },
    {
     "data": {
      "text/plain": [
       "159"
      ]
     },
     "execution_count": 33,
     "metadata": {},
     "output_type": "execute_result"
    }
   ],
   "source": [
    "find_nearest_intersection_distance(\"R75,D30,R83,U83,L12,D49,R71,U7,L72\", \"U62,R66,U55,R34,D71,R55,D58,R83\")"
   ]
  },
  {
   "cell_type": "markdown",
   "metadata": {},
   "source": [
    "Okay, let's try the last sample input!"
   ]
  },
  {
   "cell_type": "code",
   "execution_count": 34,
   "metadata": {},
   "outputs": [
    {
     "name": "stdout",
     "output_type": "stream",
     "text": [
      "Found an intersection at (107, 47) with Manhattan distance 154\n",
      "Found an intersection at (124, 11) with Manhattan distance 135\n",
      "Found an intersection at (157, 18) with Manhattan distance 175\n",
      "Found an intersection at (107, 71) with Manhattan distance 178\n",
      "Found an intersection at (107, 51) with Manhattan distance 158\n"
     ]
    },
    {
     "data": {
      "text/plain": [
       "135"
      ]
     },
     "execution_count": 34,
     "metadata": {},
     "output_type": "execute_result"
    }
   ],
   "source": [
    "find_nearest_intersection_distance(\"R98,U47,R26,D63,R33,U87,L62,D20,R33,U53,R51\", \"U98,R91,D20,R16,D67,R40,U7,R15,U6,R7\")"
   ]
  },
  {
   "cell_type": "markdown",
   "metadata": {},
   "source": [
    "Looks good, let's try the full input"
   ]
  },
  {
   "cell_type": "code",
   "execution_count": 35,
   "metadata": {},
   "outputs": [],
   "source": [
    "file_obj = open(\"input.txt\", \"r\")\n",
    "string_1 = file_obj.readline()\n",
    "string_2 = file_obj.readline()\n",
    "file_obj.close()"
   ]
  },
  {
   "cell_type": "code",
   "execution_count": 36,
   "metadata": {},
   "outputs": [
    {
     "data": {
      "text/plain": [
       "'R991,U557,R554,U998,L861,D301,L891,U180,L280,D103,R828,D58,R373,D278,L352,D583,L465,D301,R384,D638,L648,D413,L511,U596,L701,U463,L664,U905,L374,D372,L269,U868,R494,U294,R661,U604,L629,U763,R771,U96,R222,U227,L97,D793,L924,U781,L295,D427,R205,D387,L455,D904,R254,D34,R341,U268,L344,D656,L715,U439,R158,U237,R199,U729,L428,D125,R487,D506,R486,D496,R932,D918,R603,U836,R258,U15,L120,U528,L102,D42,R385,U905,L472,D351,R506,U860,L331,D415,R963,D733,R108,D527,L634,U502,L553,D623,R973,U209,L632,D588,R264,U553,L768,D689,L708,D432,R247,U993,L146,U656,R710,U47,R783,U643,R954,U888,L84,U202,R495,U66,R414,U993,R100,D557,L326,D645,R975,U266,R143,U730,L491,D96,L161,U165,R97,D379,R930,D613,R178,D635,R192,U957,L450,U149,R911,U220,L914,U659,L67,D825,L904,U137,L392,U333,L317,U310,R298,D240,R646,U588,R746,U861,L958,D892,L200,U463,R246,D870,R687,U815,R969,U864,L972,U254,L120,D418,L567,D128,R934,D217,R764,U128,R146,U467,R690,U166,R996,D603,R144,D362,R885,D118,L882,U612,R270,U917,L599,D66,L749,D498,L346,D920,L222,U439,R822,U891,R458,U15,R831,U92,L164,D615,L439,U178,R409,D463,L452,U633,L683,U186,R402,D609,L38,D699,L679,D74,R125,D145,R424,U961,L353,U43,R794,D519,L359,D494,R812,D770,L657,U154,L137,U549,L193,D816,R333,U650,R49,D459,R414,U72,R313,U231,R370,U680,L27,D221,L355,U342,L597,U748,R821,D280,L307,U505,L160,U982,L527,D516,L245,U158,R565,D797,R99,D695,L712,U155,L23,U964,L266,U623,L317,U445,R689,U150,L41,U536,R638,D200,R763,D260,L234,U217,L881,D576,L223,U39,L808,D125,R950,U341,L405\\n'"
      ]
     },
     "execution_count": 36,
     "metadata": {},
     "output_type": "execute_result"
    }
   ],
   "source": [
    "string_1"
   ]
  },
  {
   "cell_type": "code",
   "execution_count": 37,
   "metadata": {},
   "outputs": [],
   "source": [
    "string_1 = string_1.strip()\n",
    "string_2 = string_2.strip()"
   ]
  },
  {
   "cell_type": "code",
   "execution_count": 38,
   "metadata": {},
   "outputs": [
    {
     "name": "stdout",
     "output_type": "stream",
     "text": [
      "Found an intersection at (232, -527) with Manhattan distance 759\n",
      "Found an intersection at (-100, -527) with Manhattan distance 627\n",
      "Found an intersection at (-878, -508) with Manhattan distance 1386\n",
      "Found an intersection at (-878, -494) with Manhattan distance 1372\n",
      "Found an intersection at (-993, -344) with Manhattan distance 1337\n",
      "Found an intersection at (-1006, -344) with Manhattan distance 1350\n",
      "Found an intersection at (-1180, -344) with Manhattan distance 1524\n"
     ]
    },
    {
     "data": {
      "text/plain": [
       "627"
      ]
     },
     "execution_count": 38,
     "metadata": {},
     "output_type": "execute_result"
    }
   ],
   "source": [
    "find_nearest_intersection_distance(string_1, string_2)"
   ]
  },
  {
   "cell_type": "markdown",
   "metadata": {},
   "source": [
    "That was correct, excellent"
   ]
  },
  {
   "cell_type": "markdown",
   "metadata": {},
   "source": [
    "# Part 2"
   ]
  },
  {
   "cell_type": "raw",
   "metadata": {},
   "source": [
    "--- Part Two ---\n",
    "It turns out that this circuit is very timing-sensitive; you actually need to minimize the signal delay.\n",
    "\n",
    "To do this, calculate the number of steps each wire takes to reach each intersection; choose the intersection where the sum of both wires' steps is lowest. If a wire visits a position on the grid multiple times, use the steps value from the first time it visits that position when calculating the total value of a specific intersection.\n",
    "\n",
    "The number of steps a wire takes is the total number of grid squares the wire has entered to get to that location, including the intersection being considered. Again consider the example from above:"
   ]
  },
  {
   "cell_type": "raw",
   "metadata": {},
   "source": [
    "...........\n",
    ".+-----+...\n",
    ".|.....|...\n",
    ".|..+--X-+.\n",
    ".|..|..|.|.\n",
    ".|.-X--+.|.\n",
    ".|..|....|.\n",
    ".|.......|.\n",
    ".o-------+.\n",
    "..........."
   ]
  },
  {
   "cell_type": "raw",
   "metadata": {},
   "source": [
    "In the above example, the intersection closest to the central port is reached after 8+5+5+2 = 20 steps by the first wire and 7+6+4+3 = 20 steps by the second wire for a total of 20+20 = 40 steps.\n",
    "\n",
    "However, the top-right intersection is better: the first wire takes only 8+5+2 = 15 and the second wire takes only 7+6+2 = 15, a total of 15+15 = 30 steps."
   ]
  },
  {
   "cell_type": "raw",
   "metadata": {},
   "source": [
    "Here are the best steps for the extra examples from above:\n",
    "\n",
    "R75,D30,R83,U83,L12,D49,R71,U7,L72\n",
    "U62,R66,U55,R34,D71,R55,D58,R83 = 610 steps\n",
    "\n",
    "R98,U47,R26,D63,R33,U87,L62,D20,R33,U53,R51\n",
    "U98,R91,D20,R16,D67,R40,U7,R15,U6,R7 = 410 steps\n",
    "\n",
    "What is the fewest combined steps the wires must take to reach an intersection?"
   ]
  },
  {
   "cell_type": "markdown",
   "metadata": {},
   "source": [
    "Ah, I guessed wrong, they don't actually have more than two wires.  They are reformatting the problem so it's about distance traversed rather than location"
   ]
  },
  {
   "cell_type": "markdown",
   "metadata": {},
   "source": [
    "I think we still want to have a dictionary of visited locations, but we need to store the distance it took each wire to get to that location rather than just the name of the wire.  So maybe the values are sets containing `(string, distance)` tuples, instead of sets just containing strings?\n",
    "\n",
    "No, I don't think it's particularly useful to rely on the set construct any more.  We need specific logic that will only add the wire name and distance, if that wire name is not already there.  The wire distance is hashable but not important, if the wire has already reached this location before, since we are looking for the shortest distance.\n",
    "\n",
    "My instinct is to make some kind of custom class for this but I think that is silly, I can manage with dictionaries and tuples for now lol"
   ]
  },
  {
   "cell_type": "markdown",
   "metadata": {},
   "source": [
    "New version of `insert_or_update` for the new structure:"
   ]
  },
  {
   "cell_type": "code",
   "execution_count": 41,
   "metadata": {},
   "outputs": [],
   "source": [
    "def insert_or_update_with_distance(wire_locations, wire_location, wire_name, wire_distance):\n",
    "    # only immutable types can be dict keys\n",
    "    location_tuple = tuple(wire_location)\n",
    "    if location_tuple in wire_locations:\n",
    "        distance_tuple_list = wire_locations[location_tuple]\n",
    "        if len(distance_tuple_list) > 1:\n",
    "            print(\"Something went wrong, found wires\", distance_tuple_list, \"in location\", location_tuple)\n",
    "            return\n",
    "\n",
    "        distance_tuple = distance_tuple_list[0]\n",
    "        # if the current wire is already listed, the shortest path has already been found\n",
    "        if distance_tuple[0] != wire_name:\n",
    "            distance_tuple_list.append((wire_name, wire_distance))\n",
    "    else:\n",
    "        wire_locations[location_tuple] = [(wire_name, wire_distance)]"
   ]
  },
  {
   "cell_type": "code",
   "execution_count": 42,
   "metadata": {},
   "outputs": [],
   "source": [
    "def add_wire_locations_with_distance(wire_locations, moves_list, wire_name):\n",
    "    wire_location = [0,0]\n",
    "    total_distance = 0\n",
    "    for move in moves_list:\n",
    "        direction = move[0]\n",
    "        magnitude = int(move[1:])\n",
    "        if direction == \"U\":\n",
    "            for _ in range(magnitude):\n",
    "                wire_location[1] += 1\n",
    "                total_distance += 1\n",
    "                insert_or_update_with_distance(wire_locations, wire_location, wire_name, total_distance)\n",
    "        elif direction == \"D\":\n",
    "            for _ in range(magnitude):\n",
    "                wire_location[1] -= 1\n",
    "                total_distance += 1\n",
    "                insert_or_update_with_distance(wire_locations, wire_location, wire_name, total_distance)\n",
    "        elif direction == \"L\":\n",
    "            for _ in range(magnitude):\n",
    "                wire_location[0] -= 1\n",
    "                total_distance += 1\n",
    "                insert_or_update_with_distance(wire_locations, wire_location, wire_name, total_distance)\n",
    "        elif direction == \"R\":\n",
    "            for _ in range(magnitude):\n",
    "                wire_location[0] += 1\n",
    "                total_distance += 1\n",
    "                insert_or_update_with_distance(wire_locations, wire_location, wire_name, total_distance)\n",
    "        else:\n",
    "            print(\"Error, encountered unknown move\", move)\n",
    "#         print(\"Just executed\", move)"
   ]
  },
  {
   "cell_type": "code",
   "execution_count": 43,
   "metadata": {},
   "outputs": [],
   "source": [
    "def locate_intersections_with_distance(wire_locations):\n",
    "    intersections = {}\n",
    "    for location, distance_tuples in wire_locations.items():\n",
    "        if len(distance_tuples) > 1:\n",
    "            total_distance = distance_tuples[0][1] + distance_tuples[1][1]\n",
    "            \n",
    "            # assuming they can't have a tie, or that ties don't matter\n",
    "            intersections[total_distance] = location\n",
    "            print(\"Found an intersection at\", location, \"with wire distance\", total_distance)\n",
    "    return intersections"
   ]
  },
  {
   "cell_type": "code",
   "execution_count": 44,
   "metadata": {},
   "outputs": [],
   "source": [
    "def find_nearest_intersection_by_wire_distance(path_1, path_2):\n",
    "    first_moves_list = path_1.split(\",\")\n",
    "    second_moves_list = path_2.split(\",\")\n",
    "    \n",
    "    wire_locations = {}\n",
    "    add_wire_locations_with_distance(wire_locations, first_moves_list, \"W1\")\n",
    "    add_wire_locations_with_distance(wire_locations, second_moves_list, \"W2\")\n",
    "    \n",
    "    intersections = locate_intersections_with_distance(wire_locations)\n",
    "    shortest = min(intersections.keys())\n",
    "    return shortest"
   ]
  },
  {
   "cell_type": "code",
   "execution_count": 45,
   "metadata": {},
   "outputs": [
    {
     "name": "stdout",
     "output_type": "stream",
     "text": [
      "Found an intersection at (6, 5) with wire distance 30\n",
      "Found an intersection at (3, 3) with wire distance 40\n"
     ]
    },
    {
     "data": {
      "text/plain": [
       "30"
      ]
     },
     "execution_count": 45,
     "metadata": {},
     "output_type": "execute_result"
    }
   ],
   "source": [
    "find_nearest_intersection_by_wire_distance(\"R8,U5,L5,D3\", \"U7,R6,D4,L4\")"
   ]
  },
  {
   "cell_type": "markdown",
   "metadata": {},
   "source": [
    "That worked a little too well, let's see if it passes the other tests"
   ]
  },
  {
   "cell_type": "code",
   "execution_count": 46,
   "metadata": {},
   "outputs": [
    {
     "name": "stdout",
     "output_type": "stream",
     "text": [
      "Found an intersection at (158, -12) with wire distance 610\n",
      "Found an intersection at (146, 46) with wire distance 624\n",
      "Found an intersection at (155, 4) with wire distance 726\n",
      "Found an intersection at (155, 11) with wire distance 850\n"
     ]
    },
    {
     "data": {
      "text/plain": [
       "610"
      ]
     },
     "execution_count": 46,
     "metadata": {},
     "output_type": "execute_result"
    }
   ],
   "source": [
    "find_nearest_intersection_by_wire_distance(\"R75,D30,R83,U83,L12,D49,R71,U7,L72\", \"U62,R66,U55,R34,D71,R55,D58,R83\")"
   ]
  },
  {
   "cell_type": "markdown",
   "metadata": {},
   "source": [
    "Also worked"
   ]
  },
  {
   "cell_type": "code",
   "execution_count": 47,
   "metadata": {},
   "outputs": [
    {
     "name": "stdout",
     "output_type": "stream",
     "text": [
      "Found an intersection at (107, 47) with wire distance 410\n",
      "Found an intersection at (124, 11) with wire distance 516\n",
      "Found an intersection at (157, 18) with wire distance 650\n",
      "Found an intersection at (107, 71) with wire distance 636\n",
      "Found an intersection at (107, 51) with wire distance 700\n"
     ]
    },
    {
     "data": {
      "text/plain": [
       "410"
      ]
     },
     "execution_count": 47,
     "metadata": {},
     "output_type": "execute_result"
    }
   ],
   "source": [
    "find_nearest_intersection_by_wire_distance(\"R98,U47,R26,D63,R33,U87,L62,D20,R33,U53,R51\", \"U98,R91,D20,R16,D67,R40,U7,R15,U6,R7\")"
   ]
  },
  {
   "cell_type": "markdown",
   "metadata": {},
   "source": [
    "Huh, let's try the full input"
   ]
  },
  {
   "cell_type": "code",
   "execution_count": 48,
   "metadata": {},
   "outputs": [],
   "source": [
    "file_obj = open(\"input.txt\", \"r\")\n",
    "string_1 = file_obj.readline()\n",
    "string_2 = file_obj.readline()\n",
    "file_obj.close()\n",
    "\n",
    "string_1 = string_1.strip()\n",
    "string_2 = string_2.strip()"
   ]
  },
  {
   "cell_type": "code",
   "execution_count": 49,
   "metadata": {},
   "outputs": [
    {
     "name": "stdout",
     "output_type": "stream",
     "text": [
      "Found an intersection at (232, -527) with wire distance 13190\n",
      "Found an intersection at (-100, -527) with wire distance 20404\n",
      "Found an intersection at (-878, -508) with wire distance 13596\n",
      "Found an intersection at (-878, -494) with wire distance 21230\n",
      "Found an intersection at (-993, -344) with wire distance 13596\n",
      "Found an intersection at (-1006, -344) with wire distance 21230\n",
      "Found an intersection at (-1180, -344) with wire distance 20458\n"
     ]
    },
    {
     "data": {
      "text/plain": [
       "13190"
      ]
     },
     "execution_count": 49,
     "metadata": {},
     "output_type": "execute_result"
    }
   ],
   "source": [
    "find_nearest_intersection_by_wire_distance(string_1, string_2)"
   ]
  },
  {
   "cell_type": "markdown",
   "metadata": {},
   "source": [
    "Ok cool, there weren't any weird things I didn't think of!"
   ]
  },
  {
   "cell_type": "code",
   "execution_count": null,
   "metadata": {},
   "outputs": [],
   "source": []
  }
 ],
 "metadata": {
  "kernelspec": {
   "display_name": "Python 3",
   "language": "python",
   "name": "python3"
  },
  "language_info": {
   "codemirror_mode": {
    "name": "ipython",
    "version": 3
   },
   "file_extension": ".py",
   "mimetype": "text/x-python",
   "name": "python",
   "nbconvert_exporter": "python",
   "pygments_lexer": "ipython3",
   "version": "3.7.3"
  }
 },
 "nbformat": 4,
 "nbformat_minor": 4
}

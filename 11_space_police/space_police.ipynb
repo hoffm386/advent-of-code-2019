{
 "cells": [
  {
   "cell_type": "markdown",
   "metadata": {},
   "source": [
    "# Part 1 Prompt\n",
    "\n",
    "```\n",
    "--- Day 11: Space Police ---\n",
    "On the way to Jupiter, you're pulled over by the Space Police.\n",
    "\n",
    "\"Attention, unmarked spacecraft! You are in violation of Space Law! All spacecraft must have a clearly visible registration identifier! You have 24 hours to comply or be sent to Space Jail!\"\n",
    "\n",
    "Not wanting to be sent to Space Jail, you radio back to the Elves on Earth for help. Although it takes almost three hours for their reply signal to reach you, they send instructions for how to power up the emergency hull painting robot and even provide a small Intcode program (your puzzle input) that will cause it to paint your ship appropriately.\n",
    "\n",
    "There's just one problem: you don't have an emergency hull painting robot.\n",
    "\n",
    "You'll need to build a new emergency hull painting robot. The robot needs to be able to move around on the grid of square panels on the side of your ship, detect the color of its current panel, and paint its current panel black or white. (All of the panels are currently black.)\n",
    "```"
   ]
  },
  {
   "cell_type": "markdown",
   "metadata": {},
   "source": [
    "I thought we were done with Intcode..."
   ]
  },
  {
   "cell_type": "markdown",
   "metadata": {},
   "source": [
    "```\n",
    "The Intcode program will serve as the brain of the robot. The program uses input instructions to access the robot's camera: provide 0 if the robot is over a black panel or 1 if the robot is over a white panel. Then, the program will output two values:\n",
    "\n",
    " - First, it will output a value indicating the color to paint the panel the robot is over: 0 means to paint the panel black, and 1 means to paint the panel white.\n",
    " - Second, it will output a value indicating the direction the robot should turn: 0 means it should turn left 90 degrees, and 1 means it should turn right 90 degrees.\n",
    "\n",
    "After the robot turns, it should always move forward exactly one panel. The robot starts facing up.\n",
    "\n",
    "The robot will continue running for a while like this and halt when it is finished drawing. Do not restart the Intcode computer inside the robot during this process.\n",
    "```"
   ]
  },
  {
   "cell_type": "markdown",
   "metadata": {},
   "source": [
    "```\n",
    "For example, suppose the robot is about to start running. Drawing black panels as ., white panels as #, and the robot pointing the direction it is facing (< ^ > v), the initial state and region near the robot looks like this:\n",
    "\n",
    ".....\n",
    ".....\n",
    "..^..\n",
    ".....\n",
    ".....\n",
    "```"
   ]
  },
  {
   "cell_type": "markdown",
   "metadata": {},
   "source": [
    "```\n",
    "The panel under the robot (not visible here because a ^ is shown instead) is also black, and so any input instructions at this point should be provided 0. Suppose the robot eventually outputs 1 (paint white) and then 0 (turn left). After taking these actions and moving forward one panel, the region now looks like this:\n",
    "\n",
    ".....\n",
    ".....\n",
    ".<#..\n",
    ".....\n",
    ".....\n",
    "Input instructions should still be provided 0. Next, the robot might output 0 (paint black) and then 0 (turn left):\n",
    "\n",
    ".....\n",
    ".....\n",
    "..#..\n",
    ".v...\n",
    ".....\n",
    "```"
   ]
  },
  {
   "cell_type": "markdown",
   "metadata": {},
   "source": [
    "```\n",
    "After more outputs (1,0, 1,0):\n",
    "\n",
    ".....\n",
    ".....\n",
    "..^..\n",
    ".##..\n",
    ".....\n",
    "The robot is now back where it started, but because it is now on a white panel, input instructions should be provided 1. After several more outputs (0,1, 1,0, 1,0), the area looks like this:\n",
    "\n",
    ".....\n",
    "..<#.\n",
    "...#.\n",
    ".##..\n",
    ".....\n",
    "```"
   ]
  },
  {
   "cell_type": "markdown",
   "metadata": {},
   "source": [
    "```\n",
    "Before you deploy the robot, you should probably have an estimate of the area it will cover: specifically, you need to know the number of panels it paints at least once, regardless of color. In the example above, the robot painted 6 panels at least once. (It painted its starting panel twice, but that panel is still only counted once; it also never painted the panel it ended on.)\n",
    "\n",
    "Build a new emergency hull painting robot and run the Intcode program on it. How many panels does it paint at least once?\n",
    "```"
   ]
  },
  {
   "cell_type": "markdown",
   "metadata": {},
   "source": [
    "So, before I do anything else, I should get the Intcode computer into a reusable format.  Copying everything into the `intcode_computer.py` file"
   ]
  },
  {
   "cell_type": "code",
   "execution_count": 1,
   "metadata": {},
   "outputs": [],
   "source": [
    "%load_ext autoreload"
   ]
  },
  {
   "cell_type": "code",
   "execution_count": 2,
   "metadata": {},
   "outputs": [],
   "source": [
    "%autoreload 2"
   ]
  },
  {
   "cell_type": "code",
   "execution_count": 3,
   "metadata": {},
   "outputs": [],
   "source": [
    "from intcode_computer import run_intcode_program"
   ]
  },
  {
   "cell_type": "code",
   "execution_count": 4,
   "metadata": {},
   "outputs": [],
   "source": [
    "file_obj = open(\"input.txt\", \"r\")\n",
    "input_str = file_obj.read()\n",
    "file_obj.close()"
   ]
  },
  {
   "cell_type": "code",
   "execution_count": 5,
   "metadata": {},
   "outputs": [],
   "source": [
    "input_str = input_str.strip()"
   ]
  },
  {
   "cell_type": "code",
   "execution_count": 6,
   "metadata": {},
   "outputs": [
    {
     "data": {
      "text/plain": [
       "'3,8,1005,8,318,1106,0,11,0,0,0,104,1,104,0,3,8,1002,8,-1,10,101,1,10,10,4,10,1008,8,0,10,4,10,102,1,8,29,1006,0,99,1006,0,81,1006,0,29,3,8,102,-1,8,10,1001,10,1,10,4,10,108,1,8,10,4,10,1001,8,0,59,3,8,102,-1,8,10,101,1,10,10,4,10,1008,8,1,10,4,10,102,1,8,82,1,1103,3,10,2,104,14,10,3,8,102,-1,8,10,101,1,10,10,4,10,108,1,8,10,4,10,102,1,8,111,1,108,2,10,2,1101,7,10,1,1,8,10,1,1009,5,10,3,8,1002,8,-1,10,101,1,10,10,4,10,108,0,8,10,4,10,102,1,8,149,3,8,1002,8,-1,10,101,1,10,10,4,10,1008,8,1,10,4,10,101,0,8,172,3,8,1002,8,-1,10,1001,10,1,10,4,10,108,0,8,10,4,10,1001,8,0,193,1006,0,39,2,103,4,10,2,1103,20,10,3,8,1002,8,-1,10,1001,10,1,10,4,10,1008,8,0,10,4,10,102,1,8,227,1,1106,8,10,2,109,15,10,2,106,14,10,3,8,102,-1,8,10,101,1,10,10,4,10,1008,8,1,10,4,10,101,0,8,261,3,8,102,-1,8,10,1001,10,1,10,4,10,1008,8,0,10,4,10,102,1,8,283,1,1109,9,10,2,1109,5,10,2,1,2,10,1006,0,79,101,1,9,9,1007,9,1087,10,1005,10,15,99,109,640,104,0,104,1,21101,936333124392,0,1,21101,0,335,0,1106,0,439,21102,1,824663880596,1,21102,346,1,0,1105,1,439,3,10,104,0,104,1,3,10,104,0,104,0,3,10,104,0,104,1,3,10,104,0,104,1,3,10,104,0,104,0,3,10,104,0,104,1,21102,1,179519553539,1,21101,393,0,0,1106,0,439,21102,46266515623,1,1,21101,0,404,0,1106,0,439,3,10,104,0,104,0,3,10,104,0,104,0,21101,0,983925826324,1,21101,0,427,0,1106,0,439,21101,988220642048,0,1,21102,1,438,0,1105,1,439,99,109,2,21201,-1,0,1,21102,1,40,2,21101,0,470,3,21101,460,0,0,1106,0,503,109,-2,2105,1,0,0,1,0,0,1,109,2,3,10,204,-1,1001,465,466,481,4,0,1001,465,1,465,108,4,465,10,1006,10,497,1101,0,0,465,109,-2,2106,0,0,0,109,4,2102,1,-1,502,1207,-3,0,10,1006,10,520,21101,0,0,-3,22102,1,-3,1,21202,-2,1,2,21102,1,1,3,21102,1,539,0,1105,1,544,109,-4,2106,0,0,109,5,1207,-3,1,10,1006,10,567,2207,-4,-2,10,1006,10,567,21202,-4,1,-4,1106,0,635,21202,-4,1,1,21201,-3,-1,2,21202,-2,2,3,21102,1,586,0,1105,1,544,21202,1,1,-4,21102,1,1,-1,2207,-4,-2,10,1006,10,605,21101,0,0,-1,22202,-2,-1,-2,2107,0,-3,10,1006,10,627,21202,-1,1,1,21102,1,627,0,105,1,502,21202,-2,-1,-2,22201,-4,-2,-4,109,-5,2106,0,0'"
      ]
     },
     "execution_count": 6,
     "metadata": {},
     "output_type": "execute_result"
    }
   ],
   "source": [
    "input_str"
   ]
  },
  {
   "cell_type": "code",
   "execution_count": 7,
   "metadata": {},
   "outputs": [
    {
     "name": "stdout",
     "output_type": "stream",
     "text": [
      "**********Opcode 3 and param modes  ***************\n"
     ]
    },
    {
     "name": "stdin",
     "output_type": "stream",
     "text": [
      "Enter a number:  0\n"
     ]
    },
    {
     "name": "stdout",
     "output_type": "stream",
     "text": [
      "**********Opcode 5 and param modes 10 ***************\n",
      "**********Opcode 6 and param modes 11 ***************\n",
      "**********Opcode 4 and param modes 1 ***************\n",
      "1\n",
      "**********Opcode 4 and param modes 1 ***************\n",
      "0\n",
      "**********Opcode 3 and param modes  ***************\n"
     ]
    },
    {
     "name": "stdin",
     "output_type": "stream",
     "text": [
      "Enter a number:  0\n"
     ]
    },
    {
     "name": "stdout",
     "output_type": "stream",
     "text": [
      "**********Opcode 2 and param modes 10 ***************\n",
      "**********Opcode 1 and param modes 1 ***************\n",
      "**********Opcode 4 and param modes  ***************\n",
      "1\n",
      "**********Opcode 8 and param modes 10 ***************\n",
      "**********Opcode 4 and param modes  ***************\n",
      "1\n",
      "**********Opcode 2 and param modes 1 ***************\n",
      "**********Opcode 6 and param modes 10 ***************\n",
      "**********Opcode 6 and param modes 10 ***************\n",
      "**********Opcode 6 and param modes 10 ***************\n",
      "**********Opcode 3 and param modes  ***************\n"
     ]
    },
    {
     "name": "stdin",
     "output_type": "stream",
     "text": [
      "Enter a number:  0\n"
     ]
    },
    {
     "name": "stdout",
     "output_type": "stream",
     "text": [
      "**********Opcode 2 and param modes 1 ***************\n",
      "**********Opcode 1 and param modes 10 ***************\n",
      "**********Opcode 4 and param modes  ***************\n",
      "1\n",
      "**********Opcode 8 and param modes 1 ***************\n",
      "**********Opcode 4 and param modes  ***************\n",
      "0\n",
      "**********Opcode 1 and param modes 10 ***************\n",
      "**********Opcode 3 and param modes  ***************\n"
     ]
    },
    {
     "name": "stdin",
     "output_type": "stream",
     "text": [
      "Enter a number:  0\n"
     ]
    },
    {
     "name": "stdout",
     "output_type": "stream",
     "text": [
      "**********Opcode 2 and param modes 1 ***************\n",
      "**********Opcode 1 and param modes 1 ***************\n",
      "**********Opcode 4 and param modes  ***************\n",
      "1\n",
      "**********Opcode 8 and param modes 10 ***************\n",
      "**********Opcode 4 and param modes  ***************\n",
      "0\n",
      "**********Opcode 2 and param modes 1 ***************\n",
      "**********Opcode 1 and param modes  ***************\n",
      "**********Opcode 2 and param modes  ***************\n",
      "**********Opcode 3 and param modes  ***************\n"
     ]
    },
    {
     "name": "stdin",
     "output_type": "stream",
     "text": [
      "Enter a number:  0\n"
     ]
    },
    {
     "name": "stdout",
     "output_type": "stream",
     "text": [
      "**********Opcode 2 and param modes 1 ***************\n",
      "**********Opcode 1 and param modes 1 ***************\n",
      "**********Opcode 4 and param modes  ***************\n",
      "1\n",
      "**********Opcode 8 and param modes 1 ***************\n",
      "**********Opcode 4 and param modes  ***************\n",
      "0\n",
      "**********Opcode 2 and param modes 1 ***************\n",
      "**********Opcode 1 and param modes  ***************\n",
      "**********Opcode 2 and param modes  ***************\n",
      "**********Opcode 1 and param modes  ***************\n",
      "**********Opcode 1 and param modes  ***************\n",
      "**********Opcode 3 and param modes  ***************\n"
     ]
    },
    {
     "name": "stdin",
     "output_type": "stream",
     "text": [
      "Enter a number:  1\n"
     ]
    },
    {
     "name": "stdout",
     "output_type": "stream",
     "text": [
      "**********Opcode 2 and param modes 10 ***************\n",
      "**********Opcode 1 and param modes 1 ***************\n",
      "**********Opcode 4 and param modes  ***************\n",
      "0\n",
      "**********Opcode 8 and param modes 1 ***************\n",
      "**********Opcode 4 and param modes  ***************\n",
      "0\n",
      "**********Opcode 2 and param modes 1 ***************\n",
      "**********Opcode 3 and param modes  ***************\n"
     ]
    },
    {
     "ename": "KeyboardInterrupt",
     "evalue": "",
     "output_type": "error",
     "traceback": [
      "\u001b[0;31m---------------------------------------------------------------------------\u001b[0m",
      "\u001b[0;31mKeyboardInterrupt\u001b[0m                         Traceback (most recent call last)",
      "\u001b[0;32m//anaconda3/lib/python3.7/site-packages/ipykernel/kernelbase.py\u001b[0m in \u001b[0;36m_input_request\u001b[0;34m(self, prompt, ident, parent, password)\u001b[0m\n\u001b[1;32m    884\u001b[0m             \u001b[0;32mtry\u001b[0m\u001b[0;34m:\u001b[0m\u001b[0;34m\u001b[0m\u001b[0;34m\u001b[0m\u001b[0m\n\u001b[0;32m--> 885\u001b[0;31m                 \u001b[0mident\u001b[0m\u001b[0;34m,\u001b[0m \u001b[0mreply\u001b[0m \u001b[0;34m=\u001b[0m \u001b[0mself\u001b[0m\u001b[0;34m.\u001b[0m\u001b[0msession\u001b[0m\u001b[0;34m.\u001b[0m\u001b[0mrecv\u001b[0m\u001b[0;34m(\u001b[0m\u001b[0mself\u001b[0m\u001b[0;34m.\u001b[0m\u001b[0mstdin_socket\u001b[0m\u001b[0;34m,\u001b[0m \u001b[0;36m0\u001b[0m\u001b[0;34m)\u001b[0m\u001b[0;34m\u001b[0m\u001b[0;34m\u001b[0m\u001b[0m\n\u001b[0m\u001b[1;32m    886\u001b[0m             \u001b[0;32mexcept\u001b[0m \u001b[0mException\u001b[0m\u001b[0;34m:\u001b[0m\u001b[0;34m\u001b[0m\u001b[0;34m\u001b[0m\u001b[0m\n",
      "\u001b[0;32m//anaconda3/lib/python3.7/site-packages/jupyter_client/session.py\u001b[0m in \u001b[0;36mrecv\u001b[0;34m(self, socket, mode, content, copy)\u001b[0m\n\u001b[1;32m    802\u001b[0m         \u001b[0;32mtry\u001b[0m\u001b[0;34m:\u001b[0m\u001b[0;34m\u001b[0m\u001b[0;34m\u001b[0m\u001b[0m\n\u001b[0;32m--> 803\u001b[0;31m             \u001b[0mmsg_list\u001b[0m \u001b[0;34m=\u001b[0m \u001b[0msocket\u001b[0m\u001b[0;34m.\u001b[0m\u001b[0mrecv_multipart\u001b[0m\u001b[0;34m(\u001b[0m\u001b[0mmode\u001b[0m\u001b[0;34m,\u001b[0m \u001b[0mcopy\u001b[0m\u001b[0;34m=\u001b[0m\u001b[0mcopy\u001b[0m\u001b[0;34m)\u001b[0m\u001b[0;34m\u001b[0m\u001b[0;34m\u001b[0m\u001b[0m\n\u001b[0m\u001b[1;32m    804\u001b[0m         \u001b[0;32mexcept\u001b[0m \u001b[0mzmq\u001b[0m\u001b[0;34m.\u001b[0m\u001b[0mZMQError\u001b[0m \u001b[0;32mas\u001b[0m \u001b[0me\u001b[0m\u001b[0;34m:\u001b[0m\u001b[0;34m\u001b[0m\u001b[0;34m\u001b[0m\u001b[0m\n",
      "\u001b[0;32m//anaconda3/lib/python3.7/site-packages/zmq/sugar/socket.py\u001b[0m in \u001b[0;36mrecv_multipart\u001b[0;34m(self, flags, copy, track)\u001b[0m\n\u001b[1;32m    469\u001b[0m         \"\"\"\n\u001b[0;32m--> 470\u001b[0;31m         \u001b[0mparts\u001b[0m \u001b[0;34m=\u001b[0m \u001b[0;34m[\u001b[0m\u001b[0mself\u001b[0m\u001b[0;34m.\u001b[0m\u001b[0mrecv\u001b[0m\u001b[0;34m(\u001b[0m\u001b[0mflags\u001b[0m\u001b[0;34m,\u001b[0m \u001b[0mcopy\u001b[0m\u001b[0;34m=\u001b[0m\u001b[0mcopy\u001b[0m\u001b[0;34m,\u001b[0m \u001b[0mtrack\u001b[0m\u001b[0;34m=\u001b[0m\u001b[0mtrack\u001b[0m\u001b[0;34m)\u001b[0m\u001b[0;34m]\u001b[0m\u001b[0;34m\u001b[0m\u001b[0;34m\u001b[0m\u001b[0m\n\u001b[0m\u001b[1;32m    471\u001b[0m         \u001b[0;31m# have first part already, only loop while more to receive\u001b[0m\u001b[0;34m\u001b[0m\u001b[0;34m\u001b[0m\u001b[0;34m\u001b[0m\u001b[0m\n",
      "\u001b[0;32mzmq/backend/cython/socket.pyx\u001b[0m in \u001b[0;36mzmq.backend.cython.socket.Socket.recv\u001b[0;34m()\u001b[0m\n",
      "\u001b[0;32mzmq/backend/cython/socket.pyx\u001b[0m in \u001b[0;36mzmq.backend.cython.socket.Socket.recv\u001b[0;34m()\u001b[0m\n",
      "\u001b[0;32mzmq/backend/cython/socket.pyx\u001b[0m in \u001b[0;36mzmq.backend.cython.socket._recv_copy\u001b[0;34m()\u001b[0m\n",
      "\u001b[0;32m//anaconda3/lib/python3.7/site-packages/zmq/backend/cython/checkrc.pxd\u001b[0m in \u001b[0;36mzmq.backend.cython.checkrc._check_rc\u001b[0;34m()\u001b[0m\n",
      "\u001b[0;31mKeyboardInterrupt\u001b[0m: ",
      "\nDuring handling of the above exception, another exception occurred:\n",
      "\u001b[0;31mKeyboardInterrupt\u001b[0m                         Traceback (most recent call last)",
      "\u001b[0;32m<ipython-input-7-d019bf126d00>\u001b[0m in \u001b[0;36m<module>\u001b[0;34m\u001b[0m\n\u001b[0;32m----> 1\u001b[0;31m \u001b[0mrun_intcode_program\u001b[0m\u001b[0;34m(\u001b[0m\u001b[0;34m[\u001b[0m\u001b[0mint\u001b[0m\u001b[0;34m(\u001b[0m\u001b[0mx\u001b[0m\u001b[0;34m)\u001b[0m \u001b[0;32mfor\u001b[0m \u001b[0mx\u001b[0m \u001b[0;32min\u001b[0m \u001b[0minput_str\u001b[0m\u001b[0;34m.\u001b[0m\u001b[0msplit\u001b[0m\u001b[0;34m(\u001b[0m\u001b[0;34m\",\"\u001b[0m\u001b[0;34m)\u001b[0m\u001b[0;34m]\u001b[0m\u001b[0;34m,\u001b[0m \u001b[0mverbose\u001b[0m\u001b[0;34m=\u001b[0m\u001b[0;32mTrue\u001b[0m\u001b[0;34m)\u001b[0m\u001b[0;34m\u001b[0m\u001b[0;34m\u001b[0m\u001b[0m\n\u001b[0m",
      "\u001b[0;32m~/Development/DS/advent-of-code-2019/11_space_police/intcode_computer.py\u001b[0m in \u001b[0;36mrun_intcode_program\u001b[0;34m(program_codes, verbose)\u001b[0m\n\u001b[1;32m    378\u001b[0m         \u001b[0;32melif\u001b[0m \u001b[0mopcode\u001b[0m \u001b[0;34m==\u001b[0m \u001b[0;36m3\u001b[0m\u001b[0;34m:\u001b[0m\u001b[0;34m\u001b[0m\u001b[0;34m\u001b[0m\u001b[0m\n\u001b[1;32m    379\u001b[0m             current_position, relative_base = run_opcode_3(\n\u001b[0;32m--> 380\u001b[0;31m                 program_codes, param_modes, current_position, relative_base)\n\u001b[0m\u001b[1;32m    381\u001b[0m         \u001b[0;32melif\u001b[0m \u001b[0mopcode\u001b[0m \u001b[0;34m==\u001b[0m \u001b[0;36m4\u001b[0m\u001b[0;34m:\u001b[0m\u001b[0;34m\u001b[0m\u001b[0;34m\u001b[0m\u001b[0m\n\u001b[1;32m    382\u001b[0m             current_position, relative_base = run_opcode_4(\n",
      "\u001b[0;32m~/Development/DS/advent-of-code-2019/11_space_police/intcode_computer.py\u001b[0m in \u001b[0;36mrun_opcode_3\u001b[0;34m(program_codes, param_modes, current_position, relative_base)\u001b[0m\n\u001b[1;32m    200\u001b[0m     \u001b[0mOpcode\u001b[0m \u001b[0;36m3\u001b[0m\u001b[0;34m:\u001b[0m \u001b[0mget\u001b[0m \u001b[0minput\u001b[0m \u001b[0;32mfrom\u001b[0m \u001b[0mthe\u001b[0m \u001b[0muser\u001b[0m\u001b[0;34m,\u001b[0m \u001b[0mset\u001b[0m \u001b[0mthe\u001b[0m \u001b[0mdestination\u001b[0m \u001b[0mindex\u001b[0m \u001b[0mto\u001b[0m \u001b[0mthe\u001b[0m \u001b[0mresult\u001b[0m\u001b[0;34m\u001b[0m\u001b[0;34m\u001b[0m\u001b[0m\n\u001b[1;32m    201\u001b[0m     \"\"\"\n\u001b[0;32m--> 202\u001b[0;31m     \u001b[0muser_input\u001b[0m \u001b[0;34m=\u001b[0m \u001b[0mint\u001b[0m\u001b[0;34m(\u001b[0m\u001b[0minput\u001b[0m\u001b[0;34m(\u001b[0m\u001b[0;34m\"Enter a number: \"\u001b[0m\u001b[0;34m)\u001b[0m\u001b[0;34m)\u001b[0m\u001b[0;34m\u001b[0m\u001b[0;34m\u001b[0m\u001b[0m\n\u001b[0m\u001b[1;32m    203\u001b[0m     destination_index = get_destination_index(\n\u001b[1;32m    204\u001b[0m         program_codes, param_modes, current_position, relative_base, 1)\n",
      "\u001b[0;32m//anaconda3/lib/python3.7/site-packages/ipykernel/kernelbase.py\u001b[0m in \u001b[0;36mraw_input\u001b[0;34m(self, prompt)\u001b[0m\n\u001b[1;32m    858\u001b[0m             \u001b[0mself\u001b[0m\u001b[0;34m.\u001b[0m\u001b[0m_parent_ident\u001b[0m\u001b[0;34m,\u001b[0m\u001b[0;34m\u001b[0m\u001b[0;34m\u001b[0m\u001b[0m\n\u001b[1;32m    859\u001b[0m             \u001b[0mself\u001b[0m\u001b[0;34m.\u001b[0m\u001b[0m_parent_header\u001b[0m\u001b[0;34m,\u001b[0m\u001b[0;34m\u001b[0m\u001b[0;34m\u001b[0m\u001b[0m\n\u001b[0;32m--> 860\u001b[0;31m             \u001b[0mpassword\u001b[0m\u001b[0;34m=\u001b[0m\u001b[0;32mFalse\u001b[0m\u001b[0;34m,\u001b[0m\u001b[0;34m\u001b[0m\u001b[0;34m\u001b[0m\u001b[0m\n\u001b[0m\u001b[1;32m    861\u001b[0m         )\n\u001b[1;32m    862\u001b[0m \u001b[0;34m\u001b[0m\u001b[0m\n",
      "\u001b[0;32m//anaconda3/lib/python3.7/site-packages/ipykernel/kernelbase.py\u001b[0m in \u001b[0;36m_input_request\u001b[0;34m(self, prompt, ident, parent, password)\u001b[0m\n\u001b[1;32m    888\u001b[0m             \u001b[0;32mexcept\u001b[0m \u001b[0mKeyboardInterrupt\u001b[0m\u001b[0;34m:\u001b[0m\u001b[0;34m\u001b[0m\u001b[0;34m\u001b[0m\u001b[0m\n\u001b[1;32m    889\u001b[0m                 \u001b[0;31m# re-raise KeyboardInterrupt, to truncate traceback\u001b[0m\u001b[0;34m\u001b[0m\u001b[0;34m\u001b[0m\u001b[0;34m\u001b[0m\u001b[0m\n\u001b[0;32m--> 890\u001b[0;31m                 \u001b[0;32mraise\u001b[0m \u001b[0mKeyboardInterrupt\u001b[0m\u001b[0;34m\u001b[0m\u001b[0;34m\u001b[0m\u001b[0m\n\u001b[0m\u001b[1;32m    891\u001b[0m             \u001b[0;32melse\u001b[0m\u001b[0;34m:\u001b[0m\u001b[0;34m\u001b[0m\u001b[0;34m\u001b[0m\u001b[0m\n\u001b[1;32m    892\u001b[0m                 \u001b[0;32mbreak\u001b[0m\u001b[0;34m\u001b[0m\u001b[0;34m\u001b[0m\u001b[0m\n",
      "\u001b[0;31mKeyboardInterrupt\u001b[0m: "
     ]
    }
   ],
   "source": [
    "run_intcode_program([int(x) for x in input_str.split(\",\")], verbose=True)"
   ]
  },
  {
   "cell_type": "markdown",
   "metadata": {},
   "source": [
    "```\n",
    "00000\n",
    "00000\n",
    "00^00\n",
    "00000\n",
    "00000\n",
    "\n",
    "00000\n",
    "00000\n",
    "0<100\n",
    "00000\n",
    "00000\n",
    "\n",
    "00000\n",
    "<1000\n",
    "01100\n",
    "00000\n",
    "00000\n",
    "\n",
    "00000\n",
    "11000\n",
    "v1100\n",
    "00000\n",
    "00000\n",
    "\n",
    "00000\n",
    "11000\n",
    "1>100\n",
    "00000\n",
    "00000\n",
    "```"
   ]
  },
  {
   "cell_type": "markdown",
   "metadata": {},
   "source": [
    "Okay, that seems like it is running reasonably.  But I need to rewrite the Intcode computer again so it works more like it did in the feedback loop one, so the inputs are not coming from the user typing"
   ]
  },
  {
   "cell_type": "code",
   "execution_count": 9,
   "metadata": {},
   "outputs": [],
   "source": [
    "from intcode_computer import *"
   ]
  },
  {
   "cell_type": "code",
   "execution_count": 13,
   "metadata": {},
   "outputs": [],
   "source": [
    "class PaintingRobot:\n",
    "    def __init__(self, program_codes):\n",
    "        # here eventually will be logic to keep track of the tiles and current position,\n",
    "        # but now it just always says 0 whenever opcode 3 asks\n",
    "        self.current_tile_color = 0\n",
    "        self.program_codes = program_codes\n",
    "        \n",
    "    def run_opcode_3(self, param_modes, current_position, relative_base):\n",
    "        \"\"\"\n",
    "        Opcode 3: get input from the user, set the destination index to the result\n",
    "        \"\"\"\n",
    "        user_input = self.current_tile_color\n",
    "        destination_index = get_destination_index(\n",
    "            self.program_codes, param_modes, current_position, relative_base, 1)\n",
    "\n",
    "        fill_with_zeroes_to_index(self.program_codes, destination_index)\n",
    "        self.program_codes[destination_index] = user_input\n",
    "\n",
    "        current_position += 2\n",
    "\n",
    "        return current_position, relative_base\n",
    "    \n",
    "    def run_intcode_program(self, verbose=False):\n",
    "        \"\"\"\n",
    "        Run the whole program\n",
    "\n",
    "        Args:\n",
    "            program_codes (list): a list of integers, representing the \"program\"\n",
    "            verbose (bool): True if the program should print a lot of logging\n",
    "                statements, False by default\n",
    "\n",
    "        Returns:\n",
    "            Nothing, although outputs will be printed for each instance of opcode 4\n",
    "        \"\"\"\n",
    "        # set up the pointers to both be 0 at the beginning\n",
    "        current_position = 0\n",
    "        relative_base = 0\n",
    "        while True:\n",
    "            # the first number represents the opcode and param modes for the instruction\n",
    "            opcode_and_param_modes = str(self.program_codes[current_position])\n",
    "            opcode = int(opcode_and_param_modes[-2:])\n",
    "            param_modes = opcode_and_param_modes[:-2]\n",
    "\n",
    "            if verbose:\n",
    "                print(\"**********Opcode\", opcode, \"and param modes\",\n",
    "                      param_modes, \"***************\")\n",
    "\n",
    "            # 99 means quit immediately\n",
    "            if opcode == 99:\n",
    "                break\n",
    "\n",
    "            # run the relevant function for the opcode.\n",
    "            # this would be a good candidate for a switch statement if the language\n",
    "            # supported them, but doesn't seem worthwhile to do a workaround\n",
    "            if opcode == 1:\n",
    "                current_position, relative_base = run_opcode_1(\n",
    "                    self.program_codes, param_modes, current_position, relative_base)\n",
    "            elif opcode == 2:\n",
    "                current_position, relative_base = run_opcode_2(\n",
    "                    self.program_codes, param_modes, current_position, relative_base)\n",
    "            elif opcode == 3:\n",
    "                current_position, relative_base = self.run_opcode_3(\n",
    "                    param_modes, current_position, relative_base)\n",
    "            elif opcode == 4:\n",
    "                current_position, relative_base = run_opcode_4(\n",
    "                    self.program_codes, param_modes, current_position, relative_base)\n",
    "            elif opcode == 5:\n",
    "                current_position, relative_base = run_opcode_5(\n",
    "                    self.program_codes, param_modes, current_position, relative_base)\n",
    "            elif opcode == 6:\n",
    "                current_position, relative_base = run_opcode_6(\n",
    "                    self.program_codes, param_modes, current_position, relative_base)\n",
    "            elif opcode == 7:\n",
    "                current_position, relative_base = run_opcode_7(\n",
    "                    self.program_codes, param_modes, current_position, relative_base)\n",
    "            elif opcode == 8:\n",
    "                current_position, relative_base = run_opcode_8(\n",
    "                    self.program_codes, param_modes, current_position, relative_base)\n",
    "            elif opcode == 9:\n",
    "                current_position, relative_base = run_opcode_9(\n",
    "                    self.program_codes, param_modes, current_position, relative_base)\n",
    "            else:\n",
    "                # this should never happen, but I want to avoid an infinite loop\n",
    "                print(\"Error, encountered opcode\", opcode)\n",
    "                break\n",
    "\n",
    "    "
   ]
  },
  {
   "cell_type": "code",
   "execution_count": 16,
   "metadata": {},
   "outputs": [],
   "source": [
    "robot = PaintingRobot([int(x) for x in input_str.split(\",\")])"
   ]
  },
  {
   "cell_type": "code",
   "execution_count": 18,
   "metadata": {},
   "outputs": [],
   "source": [
    "# robot.run_intcode_program()\n",
    "# ^ running this right now creates an infinite loop.  clearly the inputs actually matter"
   ]
  },
  {
   "cell_type": "code",
   "execution_count": 19,
   "metadata": {},
   "outputs": [],
   "source": [
    "panels = [\n",
    "    [0,0,0,0,0],\n",
    "    [0,0,0,0,0],\n",
    "    [0,0,0,0,0],\n",
    "    [0,0,0,0,0],\n",
    "    [0,0,0,0,0]\n",
    "]"
   ]
  },
  {
   "cell_type": "code",
   "execution_count": 20,
   "metadata": {},
   "outputs": [],
   "source": [
    "panel_position = (2, 2)\n",
    "robot_direction = \"up\""
   ]
  },
  {
   "cell_type": "code",
   "execution_count": 21,
   "metadata": {},
   "outputs": [
    {
     "data": {
      "text/plain": [
       "0"
      ]
     },
     "execution_count": 21,
     "metadata": {},
     "output_type": "execute_result"
    }
   ],
   "source": [
    "panels[panel_position[0]][panel_position[1]]"
   ]
  },
  {
   "cell_type": "code",
   "execution_count": 22,
   "metadata": {},
   "outputs": [],
   "source": [
    "panels[panel_position[0]][panel_position[1]] = 1"
   ]
  },
  {
   "cell_type": "code",
   "execution_count": 23,
   "metadata": {},
   "outputs": [
    {
     "data": {
      "text/plain": [
       "[[0, 0, 0, 0, 0],\n",
       " [0, 0, 0, 0, 0],\n",
       " [0, 0, 1, 0, 0],\n",
       " [0, 0, 0, 0, 0],\n",
       " [0, 0, 0, 0, 0]]"
      ]
     },
     "execution_count": 23,
     "metadata": {},
     "output_type": "execute_result"
    }
   ],
   "source": [
    "panels"
   ]
  },
  {
   "cell_type": "code",
   "execution_count": 24,
   "metadata": {},
   "outputs": [],
   "source": [
    "robot_row = 2\n",
    "robot_col = 1"
   ]
  },
  {
   "cell_type": "code",
   "execution_count": 25,
   "metadata": {},
   "outputs": [],
   "source": [
    "panels[robot_row][robot_col] = 1"
   ]
  },
  {
   "cell_type": "code",
   "execution_count": 26,
   "metadata": {},
   "outputs": [
    {
     "data": {
      "text/plain": [
       "[[0, 0, 0, 0, 0],\n",
       " [0, 0, 0, 0, 0],\n",
       " [0, 1, 1, 0, 0],\n",
       " [0, 0, 0, 0, 0],\n",
       " [0, 0, 0, 0, 0]]"
      ]
     },
     "execution_count": 26,
     "metadata": {},
     "output_type": "execute_result"
    }
   ],
   "source": [
    "panels"
   ]
  },
  {
   "cell_type": "code",
   "execution_count": 40,
   "metadata": {},
   "outputs": [],
   "source": [
    "class PaintingRobot:\n",
    "    def __init__(self, program_codes):\n",
    "\n",
    "        self.program_codes = program_codes\n",
    "        \n",
    "        # hard-coded based on the description\n",
    "        self.panel_colors = [\n",
    "            [0,0,0,0,0],\n",
    "            [0,0,0,0,0],\n",
    "            [0,0,0,0,0],\n",
    "            [0,0,0,0,0],\n",
    "            [0,0,0,0,0]\n",
    "        ]\n",
    "        self.panel_painted_times = [\n",
    "            [0,0,0,0,0],\n",
    "            [0,0,0,0,0],\n",
    "            [0,0,0,0,0],\n",
    "            [0,0,0,0,0],\n",
    "            [0,0,0,0,0]\n",
    "        ]\n",
    "\n",
    "        self.row = 2\n",
    "        self.col = 2\n",
    "        self.direction = \"up\"\n",
    "        # toggle back and forth in how to interpret output from opcode 4\n",
    "        self.paint_mode = True\n",
    "        \n",
    "        self.current_panel_color = self.panel_colors[self.row][self.col]\n",
    "        \n",
    "    def run_opcode_3(self, param_modes, current_position, relative_base):\n",
    "        \"\"\"\n",
    "        Opcode 3: get input from the current panel color, set the destination index to the result\n",
    "        \"\"\"\n",
    "        user_input = self.current_panel_color\n",
    "        destination_index = get_destination_index(\n",
    "            self.program_codes, param_modes, current_position, relative_base, 1)\n",
    "\n",
    "        fill_with_zeroes_to_index(self.program_codes, destination_index)\n",
    "        self.program_codes[destination_index] = user_input\n",
    "\n",
    "        current_position += 2\n",
    "\n",
    "        return current_position, relative_base\n",
    "    \n",
    "    def run_opcode_4(self, param_modes, current_position, relative_base):\n",
    "        \"\"\"\n",
    "        Opcode 4: color the panel or move, depending on whether we're in paint mode\n",
    "        \"\"\"\n",
    "        input_value = get_input_value(\n",
    "            self.program_codes, param_modes, current_position, relative_base, 1)\n",
    "        \n",
    "        if self.paint_mode:\n",
    "            self.panel_colors[self.row][self.col] = input_value\n",
    "            self.panel_painted_times[self.row][self.col] += 1\n",
    "            self.paint_mode = False\n",
    "            \n",
    "        else:\n",
    "            # first, turn\n",
    "            if input_value == 0:\n",
    "                # 0 means turn left 90 degrees\n",
    "                if self.direction == \"up\":\n",
    "                    self.direction = \"left\" \n",
    "                elif self.direction == \"left\":\n",
    "                    self.direction = \"down\"\n",
    "                elif self.direction == \"down\":\n",
    "                    self.direction = \"right\"\n",
    "                elif self.direction == \"right\":\n",
    "                    self.direction = \"up\"\n",
    "                else:\n",
    "                    print(\"Error, direction was\", self.direction)\n",
    "            elif input_value == 1:\n",
    "                # 1 means turn right 90 degrees\n",
    "                if self.direction == \"up\":\n",
    "                    self.direction = \"right\"\n",
    "                elif self.direction == \"right\":\n",
    "                    self.direction = \"down\"\n",
    "                elif self.direction == \"down\":\n",
    "                    self.direction = \"left\"\n",
    "                elif self.direction == \"left\":\n",
    "                    self.direction = \"up\"\n",
    "            else:\n",
    "                print(\"Error, input for moving mode was\", input_value)\n",
    "                    \n",
    "            # second, move forward based on new direction\n",
    "            if self.direction == \"left\":\n",
    "                self.col -= 1\n",
    "            elif self.direction == \"down\":\n",
    "                self.row += 1\n",
    "            elif self.direction == \"right\":\n",
    "                self.col += 1\n",
    "            elif self.direction == \"up\":\n",
    "                self.row -= 1\n",
    "            else:\n",
    "                print(\"Error, direction was\", self.direction)\n",
    "                \n",
    "            # third, update current panel color and flip back to paint mode\n",
    "            self.current_panel_color = self.panel_colors[self.row][self.col]\n",
    "            self.paint_mode = True\n",
    "\n",
    "            print(\"Just moved to row\", self.row, \", col\", self.col, \"facing\", self.direction)\n",
    "\n",
    "        current_position += 2\n",
    "\n",
    "        return current_position, relative_base\n",
    "    \n",
    "    def run_intcode_program(self, verbose=False):\n",
    "        \"\"\"\n",
    "        Run the whole program\n",
    "\n",
    "        Args:\n",
    "            program_codes (list): a list of integers, representing the \"program\"\n",
    "            verbose (bool): True if the program should print a lot of logging\n",
    "                statements, False by default\n",
    "\n",
    "        Returns:\n",
    "            Nothing, although outputs will be printed for each instance of opcode 4\n",
    "        \"\"\"\n",
    "        # set up the pointers to both be 0 at the beginning\n",
    "        current_position = 0\n",
    "        relative_base = 0\n",
    "        while True:\n",
    "            # the first number represents the opcode and param modes for the instruction\n",
    "            opcode_and_param_modes = str(self.program_codes[current_position])\n",
    "            opcode = int(opcode_and_param_modes[-2:])\n",
    "            param_modes = opcode_and_param_modes[:-2]\n",
    "\n",
    "            if verbose:\n",
    "                print(\"**********Opcode\", opcode, \"and param modes\",\n",
    "                      param_modes, \"***************\")\n",
    "\n",
    "            # 99 means quit immediately\n",
    "            if opcode == 99:\n",
    "                break\n",
    "\n",
    "            # run the relevant function for the opcode.\n",
    "            # this would be a good candidate for a switch statement if the language\n",
    "            # supported them, but doesn't seem worthwhile to do a workaround\n",
    "            if opcode == 1:\n",
    "                current_position, relative_base = run_opcode_1(\n",
    "                    self.program_codes, param_modes, current_position, relative_base)\n",
    "            elif opcode == 2:\n",
    "                current_position, relative_base = run_opcode_2(\n",
    "                    self.program_codes, param_modes, current_position, relative_base)\n",
    "            elif opcode == 3:\n",
    "                current_position, relative_base = self.run_opcode_3(\n",
    "                    param_modes, current_position, relative_base)\n",
    "            elif opcode == 4:\n",
    "                current_position, relative_base = self.run_opcode_4(\n",
    "                    param_modes, current_position, relative_base)\n",
    "            elif opcode == 5:\n",
    "                current_position, relative_base = run_opcode_5(\n",
    "                    self.program_codes, param_modes, current_position, relative_base)\n",
    "            elif opcode == 6:\n",
    "                current_position, relative_base = run_opcode_6(\n",
    "                    self.program_codes, param_modes, current_position, relative_base)\n",
    "            elif opcode == 7:\n",
    "                current_position, relative_base = run_opcode_7(\n",
    "                    self.program_codes, param_modes, current_position, relative_base)\n",
    "            elif opcode == 8:\n",
    "                current_position, relative_base = run_opcode_8(\n",
    "                    self.program_codes, param_modes, current_position, relative_base)\n",
    "            elif opcode == 9:\n",
    "                current_position, relative_base = run_opcode_9(\n",
    "                    self.program_codes, param_modes, current_position, relative_base)\n",
    "            else:\n",
    "                # this should never happen, but I want to avoid an infinite loop\n",
    "                print(\"Error, encountered opcode\", opcode)\n",
    "                break"
   ]
  },
  {
   "cell_type": "code",
   "execution_count": 41,
   "metadata": {},
   "outputs": [],
   "source": [
    "robot = PaintingRobot([int(x) for x in input_str.split(\",\")])"
   ]
  },
  {
   "cell_type": "code",
   "execution_count": 42,
   "metadata": {},
   "outputs": [
    {
     "name": "stdout",
     "output_type": "stream",
     "text": [
      "Just moved to row 2 , col 1 facing left\n",
      "Just moved to row 1 , col 1 facing up\n",
      "Just moved to row 1 , col 0 facing left\n",
      "Just moved to row 2 , col 0 facing down\n",
      "Just moved to row 2 , col 1 facing right\n",
      "Just moved to row 1 , col 1 facing up\n",
      "Just moved to row 1 , col 2 facing right\n",
      "Just moved to row 2 , col 2 facing down\n",
      "Just moved to row 2 , col 3 facing right\n",
      "Just moved to row 1 , col 3 facing up\n",
      "Just moved to row 1 , col 4 facing right\n",
      "Just moved to row 2 , col 4 facing down\n",
      "Just moved to row 2 , col 3 facing left\n",
      "Just moved to row 3 , col 3 facing down\n",
      "Just moved to row 3 , col 2 facing left\n",
      "Just moved to row 4 , col 2 facing down\n",
      "Just moved to row 4 , col 3 facing right\n"
     ]
    },
    {
     "ename": "IndexError",
     "evalue": "list index out of range",
     "output_type": "error",
     "traceback": [
      "\u001b[0;31m---------------------------------------------------------------------------\u001b[0m",
      "\u001b[0;31mIndexError\u001b[0m                                Traceback (most recent call last)",
      "\u001b[0;32m<ipython-input-42-f29e2b2fec25>\u001b[0m in \u001b[0;36m<module>\u001b[0;34m\u001b[0m\n\u001b[0;32m----> 1\u001b[0;31m \u001b[0mrobot\u001b[0m\u001b[0;34m.\u001b[0m\u001b[0mrun_intcode_program\u001b[0m\u001b[0;34m(\u001b[0m\u001b[0;34m)\u001b[0m\u001b[0;34m\u001b[0m\u001b[0;34m\u001b[0m\u001b[0m\n\u001b[0m",
      "\u001b[0;32m<ipython-input-40-16c0c8c9ea3d>\u001b[0m in \u001b[0;36mrun_intcode_program\u001b[0;34m(self, verbose)\u001b[0m\n\u001b[1;32m    147\u001b[0m             \u001b[0;32melif\u001b[0m \u001b[0mopcode\u001b[0m \u001b[0;34m==\u001b[0m \u001b[0;36m4\u001b[0m\u001b[0;34m:\u001b[0m\u001b[0;34m\u001b[0m\u001b[0;34m\u001b[0m\u001b[0m\n\u001b[1;32m    148\u001b[0m                 current_position, relative_base = self.run_opcode_4(\n\u001b[0;32m--> 149\u001b[0;31m                     param_modes, current_position, relative_base)\n\u001b[0m\u001b[1;32m    150\u001b[0m             \u001b[0;32melif\u001b[0m \u001b[0mopcode\u001b[0m \u001b[0;34m==\u001b[0m \u001b[0;36m5\u001b[0m\u001b[0;34m:\u001b[0m\u001b[0;34m\u001b[0m\u001b[0;34m\u001b[0m\u001b[0m\n\u001b[1;32m    151\u001b[0m                 current_position, relative_base = run_opcode_5(\n",
      "\u001b[0;32m<ipython-input-40-16c0c8c9ea3d>\u001b[0m in \u001b[0;36mrun_opcode_4\u001b[0;34m(self, param_modes, current_position, relative_base)\u001b[0m\n\u001b[1;32m     95\u001b[0m \u001b[0;34m\u001b[0m\u001b[0m\n\u001b[1;32m     96\u001b[0m             \u001b[0;31m# third, update current panel color and flip back to paint mode\u001b[0m\u001b[0;34m\u001b[0m\u001b[0;34m\u001b[0m\u001b[0;34m\u001b[0m\u001b[0m\n\u001b[0;32m---> 97\u001b[0;31m             \u001b[0mself\u001b[0m\u001b[0;34m.\u001b[0m\u001b[0mcurrent_panel_color\u001b[0m \u001b[0;34m=\u001b[0m \u001b[0mself\u001b[0m\u001b[0;34m.\u001b[0m\u001b[0mpanel_colors\u001b[0m\u001b[0;34m[\u001b[0m\u001b[0mself\u001b[0m\u001b[0;34m.\u001b[0m\u001b[0mrow\u001b[0m\u001b[0;34m]\u001b[0m\u001b[0;34m[\u001b[0m\u001b[0mself\u001b[0m\u001b[0;34m.\u001b[0m\u001b[0mcol\u001b[0m\u001b[0;34m]\u001b[0m\u001b[0;34m\u001b[0m\u001b[0;34m\u001b[0m\u001b[0m\n\u001b[0m\u001b[1;32m     98\u001b[0m             \u001b[0mself\u001b[0m\u001b[0;34m.\u001b[0m\u001b[0mpaint_mode\u001b[0m \u001b[0;34m=\u001b[0m \u001b[0;32mTrue\u001b[0m\u001b[0;34m\u001b[0m\u001b[0;34m\u001b[0m\u001b[0m\n\u001b[1;32m     99\u001b[0m \u001b[0;34m\u001b[0m\u001b[0m\n",
      "\u001b[0;31mIndexError\u001b[0m: list index out of range"
     ]
    }
   ],
   "source": [
    "robot.run_intcode_program()"
   ]
  },
  {
   "cell_type": "markdown",
   "metadata": {},
   "source": [
    "So, I don't see anything wrong with my logic...it seems like the prompt is being tricky and saying that the 5 by 5 grid is the \"region\" around the painting robot, but there's no reason it has to be limited to those bounds"
   ]
  },
  {
   "cell_type": "markdown",
   "metadata": {},
   "source": [
    "Let's arbitrarily make the grid 10x as big"
   ]
  },
  {
   "cell_type": "code",
   "execution_count": 49,
   "metadata": {},
   "outputs": [],
   "source": [
    "class PaintingRobot:\n",
    "    def __init__(self, program_codes, num_rows, num_cols, verbose=False):\n",
    "\n",
    "        self.program_codes = program_codes\n",
    "        self.verbose = verbose\n",
    "        \n",
    "        # initialize the panel grid dynamically\n",
    "        # (may need to change this to dynamically add rows/cols in the future)\n",
    "        self.panel_colors = [[0 for col in range(num_cols)] for row in range(num_rows)]\n",
    "        self.panel_painted_times = [[0 for col in range(num_cols)] for row in range(num_rows)]\n",
    "        \n",
    "        self.row = num_rows // 2\n",
    "        self.col = num_cols // 2\n",
    "        self.direction = \"up\"\n",
    "        # toggle back and forth in how to interpret output from opcode 4\n",
    "        self.paint_mode = True\n",
    "        \n",
    "        self.current_panel_color = self.panel_colors[self.row][self.col]\n",
    "        \n",
    "    def run_opcode_3(self, param_modes, current_position, relative_base):\n",
    "        \"\"\"\n",
    "        Opcode 3: get input from the current panel color, set the destination index to the result\n",
    "        \"\"\"\n",
    "        user_input = self.current_panel_color\n",
    "        destination_index = get_destination_index(\n",
    "            self.program_codes, param_modes, current_position, relative_base, 1)\n",
    "\n",
    "        fill_with_zeroes_to_index(self.program_codes, destination_index)\n",
    "        self.program_codes[destination_index] = user_input\n",
    "\n",
    "        current_position += 2\n",
    "\n",
    "        return current_position, relative_base\n",
    "    \n",
    "    def run_opcode_4(self, param_modes, current_position, relative_base):\n",
    "        \"\"\"\n",
    "        Opcode 4: color the panel or move, depending on whether we're in paint mode\n",
    "        \"\"\"\n",
    "        input_value = get_input_value(\n",
    "            self.program_codes, param_modes, current_position, relative_base, 1)\n",
    "        \n",
    "        if self.paint_mode:\n",
    "            self.panel_colors[self.row][self.col] = input_value\n",
    "            self.panel_painted_times[self.row][self.col] += 1\n",
    "            self.paint_mode = False\n",
    "            \n",
    "        else:\n",
    "            # first, turn\n",
    "            if input_value == 0:\n",
    "                # 0 means turn left 90 degrees\n",
    "                if self.direction == \"up\":\n",
    "                    self.direction = \"left\" \n",
    "                elif self.direction == \"left\":\n",
    "                    self.direction = \"down\"\n",
    "                elif self.direction == \"down\":\n",
    "                    self.direction = \"right\"\n",
    "                elif self.direction == \"right\":\n",
    "                    self.direction = \"up\"\n",
    "                else:\n",
    "                    print(\"Error, direction was\", self.direction)\n",
    "            elif input_value == 1:\n",
    "                # 1 means turn right 90 degrees\n",
    "                if self.direction == \"up\":\n",
    "                    self.direction = \"right\"\n",
    "                elif self.direction == \"right\":\n",
    "                    self.direction = \"down\"\n",
    "                elif self.direction == \"down\":\n",
    "                    self.direction = \"left\"\n",
    "                elif self.direction == \"left\":\n",
    "                    self.direction = \"up\"\n",
    "            else:\n",
    "                print(\"Error, input for moving mode was\", input_value)\n",
    "                    \n",
    "            # second, move forward based on new direction\n",
    "            if self.direction == \"left\":\n",
    "                self.col -= 1\n",
    "            elif self.direction == \"down\":\n",
    "                self.row += 1\n",
    "            elif self.direction == \"right\":\n",
    "                self.col += 1\n",
    "            elif self.direction == \"up\":\n",
    "                self.row -= 1\n",
    "            else:\n",
    "                print(\"Error, direction was\", self.direction)\n",
    "                \n",
    "            # third, update current panel color and flip back to paint mode\n",
    "            self.current_panel_color = self.panel_colors[self.row][self.col]\n",
    "            self.paint_mode = True\n",
    "            \n",
    "            if self.verbose:\n",
    "                print(\"Just moved to row\", self.row, \", col\", self.col, \"facing\", self.direction)\n",
    "\n",
    "        current_position += 2\n",
    "\n",
    "        return current_position, relative_base\n",
    "    \n",
    "    def run_intcode_program(self, verbose=False):\n",
    "        \"\"\"\n",
    "        Run the whole program\n",
    "\n",
    "        Args:\n",
    "            program_codes (list): a list of integers, representing the \"program\"\n",
    "            verbose (bool): True if the program should print a lot of logging\n",
    "                statements, False by default\n",
    "\n",
    "        Returns:\n",
    "            Nothing, although outputs will be printed for each instance of opcode 4\n",
    "        \"\"\"\n",
    "        # set up the pointers to both be 0 at the beginning\n",
    "        current_position = 0\n",
    "        relative_base = 0\n",
    "        while True:\n",
    "            # the first number represents the opcode and param modes for the instruction\n",
    "            opcode_and_param_modes = str(self.program_codes[current_position])\n",
    "            opcode = int(opcode_and_param_modes[-2:])\n",
    "            param_modes = opcode_and_param_modes[:-2]\n",
    "\n",
    "            if verbose:\n",
    "                print(\"**********Opcode\", opcode, \"and param modes\",\n",
    "                      param_modes, \"***************\")\n",
    "\n",
    "            # 99 means quit immediately\n",
    "            if opcode == 99:\n",
    "                break\n",
    "\n",
    "            # run the relevant function for the opcode.\n",
    "            # this would be a good candidate for a switch statement if the language\n",
    "            # supported them, but doesn't seem worthwhile to do a workaround\n",
    "            if opcode == 1:\n",
    "                current_position, relative_base = run_opcode_1(\n",
    "                    self.program_codes, param_modes, current_position, relative_base)\n",
    "            elif opcode == 2:\n",
    "                current_position, relative_base = run_opcode_2(\n",
    "                    self.program_codes, param_modes, current_position, relative_base)\n",
    "            elif opcode == 3:\n",
    "                current_position, relative_base = self.run_opcode_3(\n",
    "                    param_modes, current_position, relative_base)\n",
    "            elif opcode == 4:\n",
    "                current_position, relative_base = self.run_opcode_4(\n",
    "                    param_modes, current_position, relative_base)\n",
    "            elif opcode == 5:\n",
    "                current_position, relative_base = run_opcode_5(\n",
    "                    self.program_codes, param_modes, current_position, relative_base)\n",
    "            elif opcode == 6:\n",
    "                current_position, relative_base = run_opcode_6(\n",
    "                    self.program_codes, param_modes, current_position, relative_base)\n",
    "            elif opcode == 7:\n",
    "                current_position, relative_base = run_opcode_7(\n",
    "                    self.program_codes, param_modes, current_position, relative_base)\n",
    "            elif opcode == 8:\n",
    "                current_position, relative_base = run_opcode_8(\n",
    "                    self.program_codes, param_modes, current_position, relative_base)\n",
    "            elif opcode == 9:\n",
    "                current_position, relative_base = run_opcode_9(\n",
    "                    self.program_codes, param_modes, current_position, relative_base)\n",
    "            else:\n",
    "                # this should never happen, but I want to avoid an infinite loop\n",
    "                print(\"Error, encountered opcode\", opcode)\n",
    "                break"
   ]
  },
  {
   "cell_type": "code",
   "execution_count": 50,
   "metadata": {},
   "outputs": [],
   "source": [
    "robot = PaintingRobot([int(x) for x in input_str.split(\",\")], 50, 50)"
   ]
  },
  {
   "cell_type": "code",
   "execution_count": 51,
   "metadata": {},
   "outputs": [
    {
     "ename": "IndexError",
     "evalue": "list index out of range",
     "output_type": "error",
     "traceback": [
      "\u001b[0;31m---------------------------------------------------------------------------\u001b[0m",
      "\u001b[0;31mIndexError\u001b[0m                                Traceback (most recent call last)",
      "\u001b[0;32m<ipython-input-51-f29e2b2fec25>\u001b[0m in \u001b[0;36m<module>\u001b[0;34m\u001b[0m\n\u001b[0;32m----> 1\u001b[0;31m \u001b[0mrobot\u001b[0m\u001b[0;34m.\u001b[0m\u001b[0mrun_intcode_program\u001b[0m\u001b[0;34m(\u001b[0m\u001b[0;34m)\u001b[0m\u001b[0;34m\u001b[0m\u001b[0;34m\u001b[0m\u001b[0m\n\u001b[0m",
      "\u001b[0;32m<ipython-input-49-617887ddf23e>\u001b[0m in \u001b[0;36mrun_intcode_program\u001b[0;34m(self, verbose)\u001b[0m\n\u001b[1;32m    138\u001b[0m             \u001b[0;32melif\u001b[0m \u001b[0mopcode\u001b[0m \u001b[0;34m==\u001b[0m \u001b[0;36m4\u001b[0m\u001b[0;34m:\u001b[0m\u001b[0;34m\u001b[0m\u001b[0;34m\u001b[0m\u001b[0m\n\u001b[1;32m    139\u001b[0m                 current_position, relative_base = self.run_opcode_4(\n\u001b[0;32m--> 140\u001b[0;31m                     param_modes, current_position, relative_base)\n\u001b[0m\u001b[1;32m    141\u001b[0m             \u001b[0;32melif\u001b[0m \u001b[0mopcode\u001b[0m \u001b[0;34m==\u001b[0m \u001b[0;36m5\u001b[0m\u001b[0;34m:\u001b[0m\u001b[0;34m\u001b[0m\u001b[0;34m\u001b[0m\u001b[0m\n\u001b[1;32m    142\u001b[0m                 current_position, relative_base = run_opcode_5(\n",
      "\u001b[0;32m<ipython-input-49-617887ddf23e>\u001b[0m in \u001b[0;36mrun_opcode_4\u001b[0;34m(self, param_modes, current_position, relative_base)\u001b[0m\n\u001b[1;32m     85\u001b[0m \u001b[0;34m\u001b[0m\u001b[0m\n\u001b[1;32m     86\u001b[0m             \u001b[0;31m# third, update current panel color and flip back to paint mode\u001b[0m\u001b[0;34m\u001b[0m\u001b[0;34m\u001b[0m\u001b[0;34m\u001b[0m\u001b[0m\n\u001b[0;32m---> 87\u001b[0;31m             \u001b[0mself\u001b[0m\u001b[0;34m.\u001b[0m\u001b[0mcurrent_panel_color\u001b[0m \u001b[0;34m=\u001b[0m \u001b[0mself\u001b[0m\u001b[0;34m.\u001b[0m\u001b[0mpanel_colors\u001b[0m\u001b[0;34m[\u001b[0m\u001b[0mself\u001b[0m\u001b[0;34m.\u001b[0m\u001b[0mrow\u001b[0m\u001b[0;34m]\u001b[0m\u001b[0;34m[\u001b[0m\u001b[0mself\u001b[0m\u001b[0;34m.\u001b[0m\u001b[0mcol\u001b[0m\u001b[0;34m]\u001b[0m\u001b[0;34m\u001b[0m\u001b[0;34m\u001b[0m\u001b[0m\n\u001b[0m\u001b[1;32m     88\u001b[0m             \u001b[0mself\u001b[0m\u001b[0;34m.\u001b[0m\u001b[0mpaint_mode\u001b[0m \u001b[0;34m=\u001b[0m \u001b[0;32mTrue\u001b[0m\u001b[0;34m\u001b[0m\u001b[0;34m\u001b[0m\u001b[0m\n\u001b[1;32m     89\u001b[0m \u001b[0;34m\u001b[0m\u001b[0m\n",
      "\u001b[0;31mIndexError\u001b[0m: list index out of range"
     ]
    }
   ],
   "source": [
    "robot.run_intcode_program()"
   ]
  },
  {
   "cell_type": "markdown",
   "metadata": {},
   "source": [
    "Not big enough, let's make it 1000 by 1000"
   ]
  },
  {
   "cell_type": "code",
   "execution_count": 52,
   "metadata": {},
   "outputs": [],
   "source": [
    "robot = PaintingRobot([int(x) for x in input_str.split(\",\")], 1000, 1000)"
   ]
  },
  {
   "cell_type": "code",
   "execution_count": 53,
   "metadata": {},
   "outputs": [],
   "source": [
    "robot.run_intcode_program()"
   ]
  },
  {
   "cell_type": "markdown",
   "metadata": {},
   "source": [
    "It ran!"
   ]
  },
  {
   "cell_type": "code",
   "execution_count": 56,
   "metadata": {},
   "outputs": [],
   "source": [
    "# robot.panel_painted_times\n",
    "# ^ running this decided to print out as 1 million lines and slowed down the browser substantially"
   ]
  },
  {
   "cell_type": "code",
   "execution_count": 58,
   "metadata": {},
   "outputs": [
    {
     "data": {
      "text/plain": [
       "2093"
      ]
     },
     "execution_count": 58,
     "metadata": {},
     "output_type": "execute_result"
    }
   ],
   "source": [
    "painted_panel_count = 0\n",
    "for row in robot.panel_painted_times:\n",
    "    for panel_count in row:\n",
    "        if panel_count > 0:\n",
    "            painted_panel_count += 1\n",
    "painted_panel_count"
   ]
  },
  {
   "cell_type": "markdown",
   "metadata": {},
   "source": [
    "Yeah maybe 1 million panels was overkill lol"
   ]
  },
  {
   "cell_type": "markdown",
   "metadata": {},
   "source": [
    "That was correct"
   ]
  },
  {
   "cell_type": "markdown",
   "metadata": {},
   "source": [
    "# Part 2 Prompt\n",
    "```\n",
    "--- Part Two ---\n",
    "You're not sure what it's trying to paint, but it's definitely not a registration identifier. The Space Police are getting impatient.\n",
    "\n",
    "Checking your external ship cameras again, you notice a white panel marked \"emergency hull painting robot starting panel\". The rest of the panels are still black, but it looks like the robot was expecting to start on a white panel, not a black one.\n",
    "\n",
    "Based on the Space Law Space Brochure that the Space Police attached to one of your windows, a valid registration identifier is always eight capital letters. After starting the robot on a single white panel instead, what registration identifier does it paint on your hull?\n",
    "```"
   ]
  },
  {
   "cell_type": "markdown",
   "metadata": {},
   "source": [
    "So, first let's modify the code of the painting robot so it sets the starting panel as white"
   ]
  },
  {
   "cell_type": "code",
   "execution_count": 59,
   "metadata": {},
   "outputs": [],
   "source": [
    "class PaintingRobot:\n",
    "    def __init__(self, program_codes, num_rows, num_cols, verbose=False):\n",
    "\n",
    "        self.program_codes = program_codes\n",
    "        self.verbose = verbose\n",
    "        \n",
    "        # initialize the panel grid dynamically\n",
    "        # (may need to change this to dynamically add rows/cols in the future)\n",
    "        self.panel_colors = [[0 for col in range(num_cols)] for row in range(num_rows)]\n",
    "        self.panel_painted_times = [[0 for col in range(num_cols)] for row in range(num_rows)]\n",
    "        \n",
    "        self.row = num_rows // 2\n",
    "        self.col = num_cols // 2\n",
    "        # set the starting point to be white\n",
    "        self.panel_colors[self.row][self.col] = 1\n",
    "        self.direction = \"up\"\n",
    "        # toggle back and forth in how to interpret output from opcode 4\n",
    "        self.paint_mode = True\n",
    "        \n",
    "        self.current_panel_color = self.panel_colors[self.row][self.col]\n",
    "        \n",
    "    def run_opcode_3(self, param_modes, current_position, relative_base):\n",
    "        \"\"\"\n",
    "        Opcode 3: get input from the current panel color, set the destination index to the result\n",
    "        \"\"\"\n",
    "        user_input = self.current_panel_color\n",
    "        destination_index = get_destination_index(\n",
    "            self.program_codes, param_modes, current_position, relative_base, 1)\n",
    "\n",
    "        fill_with_zeroes_to_index(self.program_codes, destination_index)\n",
    "        self.program_codes[destination_index] = user_input\n",
    "\n",
    "        current_position += 2\n",
    "\n",
    "        return current_position, relative_base\n",
    "    \n",
    "    def run_opcode_4(self, param_modes, current_position, relative_base):\n",
    "        \"\"\"\n",
    "        Opcode 4: color the panel or move, depending on whether we're in paint mode\n",
    "        \"\"\"\n",
    "        input_value = get_input_value(\n",
    "            self.program_codes, param_modes, current_position, relative_base, 1)\n",
    "        \n",
    "        if self.paint_mode:\n",
    "            self.panel_colors[self.row][self.col] = input_value\n",
    "            self.panel_painted_times[self.row][self.col] += 1\n",
    "            self.paint_mode = False\n",
    "            \n",
    "        else:\n",
    "            # first, turn\n",
    "            if input_value == 0:\n",
    "                # 0 means turn left 90 degrees\n",
    "                if self.direction == \"up\":\n",
    "                    self.direction = \"left\" \n",
    "                elif self.direction == \"left\":\n",
    "                    self.direction = \"down\"\n",
    "                elif self.direction == \"down\":\n",
    "                    self.direction = \"right\"\n",
    "                elif self.direction == \"right\":\n",
    "                    self.direction = \"up\"\n",
    "                else:\n",
    "                    print(\"Error, direction was\", self.direction)\n",
    "            elif input_value == 1:\n",
    "                # 1 means turn right 90 degrees\n",
    "                if self.direction == \"up\":\n",
    "                    self.direction = \"right\"\n",
    "                elif self.direction == \"right\":\n",
    "                    self.direction = \"down\"\n",
    "                elif self.direction == \"down\":\n",
    "                    self.direction = \"left\"\n",
    "                elif self.direction == \"left\":\n",
    "                    self.direction = \"up\"\n",
    "            else:\n",
    "                print(\"Error, input for moving mode was\", input_value)\n",
    "                    \n",
    "            # second, move forward based on new direction\n",
    "            if self.direction == \"left\":\n",
    "                self.col -= 1\n",
    "            elif self.direction == \"down\":\n",
    "                self.row += 1\n",
    "            elif self.direction == \"right\":\n",
    "                self.col += 1\n",
    "            elif self.direction == \"up\":\n",
    "                self.row -= 1\n",
    "            else:\n",
    "                print(\"Error, direction was\", self.direction)\n",
    "                \n",
    "            # third, update current panel color and flip back to paint mode\n",
    "            self.current_panel_color = self.panel_colors[self.row][self.col]\n",
    "            self.paint_mode = True\n",
    "            \n",
    "            if self.verbose:\n",
    "                print(\"Just moved to row\", self.row, \", col\", self.col, \"facing\", self.direction)\n",
    "\n",
    "        current_position += 2\n",
    "\n",
    "        return current_position, relative_base\n",
    "    \n",
    "    def run_intcode_program(self, verbose=False):\n",
    "        \"\"\"\n",
    "        Run the whole program\n",
    "\n",
    "        Args:\n",
    "            program_codes (list): a list of integers, representing the \"program\"\n",
    "            verbose (bool): True if the program should print a lot of logging\n",
    "                statements, False by default\n",
    "\n",
    "        Returns:\n",
    "            Nothing, although outputs will be printed for each instance of opcode 4\n",
    "        \"\"\"\n",
    "        # set up the pointers to both be 0 at the beginning\n",
    "        current_position = 0\n",
    "        relative_base = 0\n",
    "        while True:\n",
    "            # the first number represents the opcode and param modes for the instruction\n",
    "            opcode_and_param_modes = str(self.program_codes[current_position])\n",
    "            opcode = int(opcode_and_param_modes[-2:])\n",
    "            param_modes = opcode_and_param_modes[:-2]\n",
    "\n",
    "            if verbose:\n",
    "                print(\"**********Opcode\", opcode, \"and param modes\",\n",
    "                      param_modes, \"***************\")\n",
    "\n",
    "            # 99 means quit immediately\n",
    "            if opcode == 99:\n",
    "                break\n",
    "\n",
    "            # run the relevant function for the opcode.\n",
    "            # this would be a good candidate for a switch statement if the language\n",
    "            # supported them, but doesn't seem worthwhile to do a workaround\n",
    "            if opcode == 1:\n",
    "                current_position, relative_base = run_opcode_1(\n",
    "                    self.program_codes, param_modes, current_position, relative_base)\n",
    "            elif opcode == 2:\n",
    "                current_position, relative_base = run_opcode_2(\n",
    "                    self.program_codes, param_modes, current_position, relative_base)\n",
    "            elif opcode == 3:\n",
    "                current_position, relative_base = self.run_opcode_3(\n",
    "                    param_modes, current_position, relative_base)\n",
    "            elif opcode == 4:\n",
    "                current_position, relative_base = self.run_opcode_4(\n",
    "                    param_modes, current_position, relative_base)\n",
    "            elif opcode == 5:\n",
    "                current_position, relative_base = run_opcode_5(\n",
    "                    self.program_codes, param_modes, current_position, relative_base)\n",
    "            elif opcode == 6:\n",
    "                current_position, relative_base = run_opcode_6(\n",
    "                    self.program_codes, param_modes, current_position, relative_base)\n",
    "            elif opcode == 7:\n",
    "                current_position, relative_base = run_opcode_7(\n",
    "                    self.program_codes, param_modes, current_position, relative_base)\n",
    "            elif opcode == 8:\n",
    "                current_position, relative_base = run_opcode_8(\n",
    "                    self.program_codes, param_modes, current_position, relative_base)\n",
    "            elif opcode == 9:\n",
    "                current_position, relative_base = run_opcode_9(\n",
    "                    self.program_codes, param_modes, current_position, relative_base)\n",
    "            else:\n",
    "                # this should never happen, but I want to avoid an infinite loop\n",
    "                print(\"Error, encountered opcode\", opcode)\n",
    "                break"
   ]
  },
  {
   "cell_type": "code",
   "execution_count": 60,
   "metadata": {},
   "outputs": [],
   "source": [
    "robot = PaintingRobot([int(x) for x in input_str.split(\",\")], 500, 500)\n",
    "robot.run_intcode_program()"
   ]
  },
  {
   "cell_type": "code",
   "execution_count": 65,
   "metadata": {},
   "outputs": [
    {
     "name": "stdout",
     "output_type": "stream",
     "text": [
      "00000000000000000000000000000000000000000000000000000000000000000000000000000000000000000000000000000000000000000000000000000000000000000000000000000000000000000000000000000000000000000000000000000000000000000000000000000000000000000000000000000000000111000011011100100101000000110100101110000000000000000000000000000000000000000000000000000000000000000000000000000000000000000000000000000000000000000000000000000000000000000000000000000000000000000000000000000000000000000000000000000000000000000000\n",
      "00000000000000000000000000000000000000000000000000000000000000000000000000000000000000000000000000000000000000000000000000000000000000000000000000000000000000000000000000000000000000000000000000000000000000000000000000000000000000000000000000000000000100100001010010101001000000010100101001000000000000000000000000000000000000000000000000000000000000000000000000000000000000000000000000000000000000000000000000000000000000000000000000000000000000000000000000000000000000000000000000000000000000000000\n",
      "00000000000000000000000000000000000000000000000000000000000000000000000000000000000000000000000000000000000000000000000000000000000000000000000000000000000000000000000000000000000000000000000000000000000000000000000000000000000000000000000000000000000111000001010010110001000000010100101001000000000000000000000000000000000000000000000000000000000000000000000000000000000000000000000000000000000000000000000000000000000000000000000000000000000000000000000000000000000000000000000000000000000000000000\n",
      "00000000000000000000000000000000000000000000000000000000000000000000000000000000000000000000000000000000000000000000000000000000000000000000000000000000000000000000000000000000000000000000000000000000000000000000000000000000000000000000000000000000000100100001011100101001000000010100101110000000000000000000000000000000000000000000000000000000000000000000000000000000000000000000000000000000000000000000000000000000000000000000000000000000000000000000000000000000000000000000000000000000000000000000\n",
      "00000000000000000000000000000000000000000000000000000000000000000000000000000000000000000000000000000000000000000000000000000000000000000000000000000000000000000000000000000000000000000000000000000000000000000000000000000000000000000000000000000000000100101001010100101001000010010100101000000000000000000000000000000000000000000000000000000000000000000000000000000000000000000000000000000000000000000000000000000000000000000000000000000000000000000000000000000000000000000000000000000000000000000000\n",
      "00000000000000000000000000000000000000000000000000000000000000000000000000000000000000000000000000000000000000000000000000000000000000000000000000000000000000000000000000000000000000000000000000000000000000000000000000000000000000000000000000000000000111000110010010100101111001100011001000000000000000000000000000000000000000000000000000000000000000000000000000000000000000000000000000000000000000000000000000000000000000000000000000000000000000000000000000000000000000000000000000000000000000000000\n"
     ]
    }
   ],
   "source": [
    "for row in robot.panel_colors:\n",
    "    # 0 is falsey, let's only print the row if it has anything in it\n",
    "    if any(row):\n",
    "        print(\"\".join([str(col) for col in row]))"
   ]
  },
  {
   "cell_type": "markdown",
   "metadata": {},
   "source": [
    "So, it looks like the eight capital letters are represented by these six lines"
   ]
  },
  {
   "cell_type": "code",
   "execution_count": 66,
   "metadata": {},
   "outputs": [
    {
     "data": {
      "text/plain": [
       "251"
      ]
     },
     "execution_count": 66,
     "metadata": {},
     "output_type": "execute_result"
    }
   ],
   "source": [
    "len(\"00000000000000000000000000000000000000000000000000000000000000000000000000000000000000000000000000000000000000000000000000000000000000000000000000000000000000000000000000000000000000000000000000000000000000000000000000000000000000000000000000000000000\")"
   ]
  },
  {
   "cell_type": "code",
   "execution_count": 68,
   "metadata": {},
   "outputs": [
    {
     "name": "stdout",
     "output_type": "stream",
     "text": [
      "111000011011100100101000000110100101110000000000000000000000000000000000000000000000000000000000000000000000000000000000000000000000000000000000000000000000000000000000000000000000000000000000000000000000000000000000000000000000000000000000000000000\n",
      "100100001010010101001000000010100101001000000000000000000000000000000000000000000000000000000000000000000000000000000000000000000000000000000000000000000000000000000000000000000000000000000000000000000000000000000000000000000000000000000000000000000\n",
      "111000001010010110001000000010100101001000000000000000000000000000000000000000000000000000000000000000000000000000000000000000000000000000000000000000000000000000000000000000000000000000000000000000000000000000000000000000000000000000000000000000000\n",
      "100100001011100101001000000010100101110000000000000000000000000000000000000000000000000000000000000000000000000000000000000000000000000000000000000000000000000000000000000000000000000000000000000000000000000000000000000000000000000000000000000000000\n",
      "100101001010100101001000010010100101000000000000000000000000000000000000000000000000000000000000000000000000000000000000000000000000000000000000000000000000000000000000000000000000000000000000000000000000000000000000000000000000000000000000000000000\n",
      "111000110010010100101111001100011001000000000000000000000000000000000000000000000000000000000000000000000000000000000000000000000000000000000000000000000000000000000000000000000000000000000000000000000000000000000000000000000000000000000000000000000\n"
     ]
    }
   ],
   "source": [
    "for row in robot.panel_colors:\n",
    "    # 0 is falsey, let's only print the row if it has anything in it\n",
    "    if any(row):\n",
    "        print(\"\".join([str(col) for col in row])[251:])"
   ]
  },
  {
   "cell_type": "code",
   "execution_count": 69,
   "metadata": {},
   "outputs": [
    {
     "data": {
      "text/plain": [
       "39"
      ]
     },
     "execution_count": 69,
     "metadata": {},
     "output_type": "execute_result"
    }
   ],
   "source": [
    "len(\"111000001010010110001000000010100101001\")"
   ]
  },
  {
   "cell_type": "code",
   "execution_count": 73,
   "metadata": {},
   "outputs": [
    {
     "name": "stdout",
     "output_type": "stream",
     "text": [
      "XXX    XX XXX  X  X X      XX X  X XXX \n",
      "X  X    X X  X X X  X       X X  X X  X\n",
      "XXX     X X  X XX   X       X X  X X  X\n",
      "X  X    X XXX  X X  X       X X  X XXX \n",
      "X  X X  X X X  X X  X    X  X X  X X   \n",
      "XXX   XX  X  X X  X XXXX  XX   XX  X   \n"
     ]
    }
   ],
   "source": [
    "for row in robot.panel_colors:\n",
    "    # 0 is falsey, let's only print the row if it has anything in it\n",
    "    if any(row):\n",
    "        row_str = \"\"\n",
    "        for col in row:\n",
    "            if col == 1:\n",
    "                row_str += \"X\"\n",
    "            else:\n",
    "                row_str += \" \"\n",
    "        print(row_str[251:251+39])"
   ]
  },
  {
   "cell_type": "markdown",
   "metadata": {},
   "source": [
    "BJRKLJUP"
   ]
  },
  {
   "cell_type": "code",
   "execution_count": null,
   "metadata": {},
   "outputs": [],
   "source": []
  }
 ],
 "metadata": {
  "kernelspec": {
   "display_name": "Python 3",
   "language": "python",
   "name": "python3"
  },
  "language_info": {
   "codemirror_mode": {
    "name": "ipython",
    "version": 3
   },
   "file_extension": ".py",
   "mimetype": "text/x-python",
   "name": "python",
   "nbconvert_exporter": "python",
   "pygments_lexer": "ipython3",
   "version": "3.7.3"
  }
 },
 "nbformat": 4,
 "nbformat_minor": 4
}
